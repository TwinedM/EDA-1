{
 "cells": [
  {
   "cell_type": "code",
   "execution_count": 1,
   "id": "818ba24b-39a0-4070-b7f5-89a4de012016",
   "metadata": {},
   "outputs": [
    {
     "data": {
      "text/html": [
       "        <script type=\"text/javascript\">\n",
       "        window.PlotlyConfig = {MathJaxConfig: 'local'};\n",
       "        if (window.MathJax && window.MathJax.Hub && window.MathJax.Hub.Config) {window.MathJax.Hub.Config({SVG: {font: \"STIX-Web\"}});}\n",
       "        if (typeof require !== 'undefined') {\n",
       "        require.undef(\"plotly\");\n",
       "        requirejs.config({\n",
       "            paths: {\n",
       "                'plotly': ['https://cdn.plot.ly/plotly-2.35.2.min']\n",
       "            }\n",
       "        });\n",
       "        require(['plotly'], function(Plotly) {\n",
       "            window._Plotly = Plotly;\n",
       "        });\n",
       "        }\n",
       "        </script>\n",
       "        "
      ]
     },
     "metadata": {},
     "output_type": "display_data"
    }
   ],
   "source": [
    "import pandas as pd\n",
    "import numpy as np\n",
    "%matplotlib inline\n",
    "from plotly import __version__\n",
    "from plotly.offline import download_plotlyjs, init_notebook_mode, plot, iplot\n",
    "import cufflinks as cf\n",
    "cf.go_offline()"
   ]
  },
  {
   "cell_type": "code",
   "execution_count": 2,
   "id": "92ac6407-4a55-4d74-9e5c-044baeac8160",
   "metadata": {},
   "outputs": [
    {
     "data": {
      "text/html": [
       "<div>\n",
       "<style scoped>\n",
       "    .dataframe tbody tr th:only-of-type {\n",
       "        vertical-align: middle;\n",
       "    }\n",
       "\n",
       "    .dataframe tbody tr th {\n",
       "        vertical-align: top;\n",
       "    }\n",
       "\n",
       "    .dataframe thead th {\n",
       "        text-align: right;\n",
       "    }\n",
       "</style>\n",
       "<table border=\"1\" class=\"dataframe\">\n",
       "  <thead>\n",
       "    <tr style=\"text-align: right;\">\n",
       "      <th></th>\n",
       "      <th>A</th>\n",
       "      <th>B</th>\n",
       "      <th>C</th>\n",
       "      <th>D</th>\n",
       "    </tr>\n",
       "  </thead>\n",
       "  <tbody>\n",
       "    <tr>\n",
       "      <th>0</th>\n",
       "      <td>0.299256</td>\n",
       "      <td>-1.713173</td>\n",
       "      <td>-1.345661</td>\n",
       "      <td>0.501857</td>\n",
       "    </tr>\n",
       "    <tr>\n",
       "      <th>1</th>\n",
       "      <td>-1.011042</td>\n",
       "      <td>0.164639</td>\n",
       "      <td>0.589528</td>\n",
       "      <td>1.078254</td>\n",
       "    </tr>\n",
       "    <tr>\n",
       "      <th>2</th>\n",
       "      <td>-0.518690</td>\n",
       "      <td>-0.346415</td>\n",
       "      <td>-2.265447</td>\n",
       "      <td>0.568797</td>\n",
       "    </tr>\n",
       "    <tr>\n",
       "      <th>3</th>\n",
       "      <td>-0.382822</td>\n",
       "      <td>-0.759575</td>\n",
       "      <td>-0.304060</td>\n",
       "      <td>0.203695</td>\n",
       "    </tr>\n",
       "    <tr>\n",
       "      <th>4</th>\n",
       "      <td>-0.309274</td>\n",
       "      <td>1.845791</td>\n",
       "      <td>-1.435221</td>\n",
       "      <td>0.784989</td>\n",
       "    </tr>\n",
       "  </tbody>\n",
       "</table>\n",
       "</div>"
      ],
      "text/plain": [
       "          A         B         C         D\n",
       "0  0.299256 -1.713173 -1.345661  0.501857\n",
       "1 -1.011042  0.164639  0.589528  1.078254\n",
       "2 -0.518690 -0.346415 -2.265447  0.568797\n",
       "3 -0.382822 -0.759575 -0.304060  0.203695\n",
       "4 -0.309274  1.845791 -1.435221  0.784989"
      ]
     },
     "execution_count": 2,
     "metadata": {},
     "output_type": "execute_result"
    }
   ],
   "source": [
    "df = pd.DataFrame(np.random.randn(100,4),columns='A B C D'.split())\n",
    "df.head()"
   ]
  },
  {
   "cell_type": "code",
   "execution_count": 3,
   "id": "ffa2e530-7512-4e5a-b2e1-91c48b66dd69",
   "metadata": {},
   "outputs": [],
   "source": [
    "df2 = pd.DataFrame({'Category':['A','B','C'],'Values':[32,43,50]})"
   ]
  },
  {
   "cell_type": "code",
   "execution_count": 4,
   "id": "8197c453-5f1c-48b5-9380-eaefd2de3fc3",
   "metadata": {},
   "outputs": [
    {
     "data": {
      "text/html": [
       "<div>\n",
       "<style scoped>\n",
       "    .dataframe tbody tr th:only-of-type {\n",
       "        vertical-align: middle;\n",
       "    }\n",
       "\n",
       "    .dataframe tbody tr th {\n",
       "        vertical-align: top;\n",
       "    }\n",
       "\n",
       "    .dataframe thead th {\n",
       "        text-align: right;\n",
       "    }\n",
       "</style>\n",
       "<table border=\"1\" class=\"dataframe\">\n",
       "  <thead>\n",
       "    <tr style=\"text-align: right;\">\n",
       "      <th></th>\n",
       "      <th>Category</th>\n",
       "      <th>Values</th>\n",
       "    </tr>\n",
       "  </thead>\n",
       "  <tbody>\n",
       "    <tr>\n",
       "      <th>0</th>\n",
       "      <td>A</td>\n",
       "      <td>32</td>\n",
       "    </tr>\n",
       "    <tr>\n",
       "      <th>1</th>\n",
       "      <td>B</td>\n",
       "      <td>43</td>\n",
       "    </tr>\n",
       "    <tr>\n",
       "      <th>2</th>\n",
       "      <td>C</td>\n",
       "      <td>50</td>\n",
       "    </tr>\n",
       "  </tbody>\n",
       "</table>\n",
       "</div>"
      ],
      "text/plain": [
       "  Category  Values\n",
       "0        A      32\n",
       "1        B      43\n",
       "2        C      50"
      ]
     },
     "execution_count": 4,
     "metadata": {},
     "output_type": "execute_result"
    }
   ],
   "source": [
    "df2.head()"
   ]
  },
  {
   "cell_type": "code",
   "execution_count": 5,
   "id": "e9a96d24-c0d6-44ec-a9a7-2cb26d1df37e",
   "metadata": {},
   "outputs": [
    {
     "data": {
      "application/vnd.plotly.v1+json": {
       "config": {
        "linkText": "Export to plot.ly",
        "plotlyServerURL": "https://plot.ly",
        "showLink": true
       },
       "data": [
        {
         "line": {
          "color": "rgba(255, 153, 51, 1.0)",
          "dash": "solid",
          "shape": "linear",
          "width": 1.3
         },
         "marker": {
          "size": 10,
          "symbol": "circle"
         },
         "mode": "markers",
         "name": "B",
         "text": "",
         "type": "scatter",
         "x": [
          0.29925552254576165,
          -1.011041779205554,
          -0.5186900863586638,
          -0.3828217817492648,
          -0.30927380397760446,
          0.6652818442678666,
          -0.22391389891936955,
          -0.24552960736839285,
          -1.9729621488923037,
          -0.1270387319252311,
          0.7747801811502151,
          0.09795908528664474,
          0.8929236677497698,
          0.20187969491046906,
          -0.8188495086655256,
          -0.12106198188240833,
          -0.6988584323192542,
          0.9050943018885463,
          0.49840793884265266,
          -0.9287052444313292,
          -0.4739277566927989,
          2.8207058994017054,
          -1.1300495739122436,
          1.7922738360878419,
          -0.3722204804935097,
          0.6196710190455824,
          0.42286628491220846,
          -0.08201217140566631,
          -0.822929168212544,
          2.2132431936258605,
          -0.07338177118678733,
          -0.7110858990763125,
          -0.2845400209239793,
          1.7102445886679856,
          -0.25360285658795656,
          1.373955494233924,
          0.1573245211525778,
          0.9179588000871358,
          1.4501656733343136,
          -0.3387058812164145,
          0.12752580527569551,
          0.09335592361703186,
          0.46755752620666796,
          -0.07728801968237105,
          -0.9010152681152521,
          -1.591414215809626,
          -1.539602646535873,
          -0.15053439886828743,
          -0.19059529732657582,
          0.28721444365992915,
          -0.42865126117404906,
          0.8253179141257997,
          -0.11172062284287053,
          0.6540991103515579,
          0.13745318590332364,
          1.7416753476030007,
          0.9540371329646546,
          0.5056558817518302,
          -0.90976828526663,
          0.9779440865005324,
          0.2226888697654056,
          -0.8123423017698557,
          0.8714764920706584,
          0.9597275072579795,
          1.3064080640044275,
          0.20089689763769625,
          0.6570047504187573,
          1.7712950311135016,
          0.758540342623224,
          -0.6999542696208285,
          -0.5296140031022785,
          -1.6278767145392647,
          0.52167480285576,
          -0.7262821978900574,
          0.43170230912564883,
          -1.9501271155499578,
          -0.15320748824202288,
          0.37342241042171925,
          0.02937078492454944,
          -0.7474020628442967,
          -0.8206850171791942,
          -0.9731997454172197,
          -0.8574662943143303,
          1.3631115358844874,
          -0.7325551730875081,
          0.32377382134675764,
          0.5837719300271894,
          -0.02981233759013717,
          0.07775300634035513,
          0.04632126687899852,
          0.8207828952495825,
          0.8663286865331438,
          -0.251598688319945,
          0.3853995691958181,
          0.8375831493796876,
          0.5066547754126097,
          0.8275361547809248,
          0.03135518353477385,
          0.4371432677710562,
          -1.0527954649016038
         ],
         "y": [
          -1.713173337968297,
          0.16463881583930215,
          -0.34641472283923375,
          -0.7595751733051315,
          1.8457908877737206,
          -0.21433429456110126,
          0.5124726487289849,
          1.437139990683677,
          0.6547777163218743,
          -0.013712678511071783,
          1.195708708470215,
          -0.19338978575811494,
          1.0102460462298848,
          -0.21334392761340226,
          0.19559412341150936,
          -0.8752839354002775,
          0.4096257270108291,
          -0.22866927545330804,
          -0.6069472783316819,
          0.12373879396409523,
          -1.2276604990058457,
          0.6010948363729458,
          0.4486512408929953,
          -0.49226693659304877,
          1.1159469633589956,
          -0.2133286556842512,
          -0.14082002882471792,
          1.0232543671980927,
          1.0487421873111291,
          -2.4058895957897612,
          -0.6263467808267238,
          -0.0535980194419228,
          -0.9697997059269032,
          -0.15393169598037867,
          -1.337531465339447,
          -1.8931093783678372,
          0.6531828644393675,
          0.1389289985343312,
          -1.2541133575089387,
          0.4075596248250558,
          0.28298950142601137,
          1.0159265252281,
          -0.5224631731621188,
          -0.732919324083606,
          0.953776621920564,
          -0.13175696682988694,
          0.4423720801760704,
          -2.0600703856891096,
          -0.2634038014696138,
          1.7969489763358557,
          -1.9328347947417628,
          0.12617300283094043,
          -0.06565066349539632,
          -0.255661121065549,
          -0.6753136577711945,
          -0.07234099887043406,
          0.7673623555981366,
          0.4959852463397566,
          -0.18199980527914109,
          0.389248533735029,
          -0.7478685197683522,
          0.012026132107050867,
          -1.8575220704136997,
          1.3694473521161734,
          -1.3884475997112322,
          0.01901705187140966,
          -1.0233698840410335,
          -0.7350923368030766,
          -0.18320340477385902,
          -0.3313476869735953,
          0.9446094346728854,
          0.13984453539392488,
          0.17647290803347712,
          -1.0722859198372872,
          -1.711183803392291,
          0.23813046063428772,
          0.18938486313991962,
          -1.0485551278432355,
          -0.4328810726807365,
          -0.7535732326589286,
          0.7408847778271608,
          -1.089504315225977,
          0.8192744630098808,
          -0.2562666205721067,
          0.007890140272847193,
          0.6257507665227129,
          -0.5629911840117975,
          -0.03906926625490238,
          0.148686082542415,
          0.2810631813885742,
          1.9243785137765812,
          0.17187484975152728,
          1.0688283176452438,
          -0.3163367926495648,
          1.9130406772984856,
          0.8787427413449688,
          -1.2205222953409034,
          -1.200783415119851,
          0.18552969644269862,
          -0.2549852401407603
         ]
        }
       ],
       "layout": {
        "autosize": true,
        "legend": {
         "bgcolor": "#F5F6F9",
         "font": {
          "color": "#4D5663"
         }
        },
        "paper_bgcolor": "#F5F6F9",
        "plot_bgcolor": "#F5F6F9",
        "template": {
         "data": {
          "bar": [
           {
            "error_x": {
             "color": "#2a3f5f"
            },
            "error_y": {
             "color": "#2a3f5f"
            },
            "marker": {
             "line": {
              "color": "#E5ECF6",
              "width": 0.5
             },
             "pattern": {
              "fillmode": "overlay",
              "size": 10,
              "solidity": 0.2
             }
            },
            "type": "bar"
           }
          ],
          "barpolar": [
           {
            "marker": {
             "line": {
              "color": "#E5ECF6",
              "width": 0.5
             },
             "pattern": {
              "fillmode": "overlay",
              "size": 10,
              "solidity": 0.2
             }
            },
            "type": "barpolar"
           }
          ],
          "carpet": [
           {
            "aaxis": {
             "endlinecolor": "#2a3f5f",
             "gridcolor": "white",
             "linecolor": "white",
             "minorgridcolor": "white",
             "startlinecolor": "#2a3f5f"
            },
            "baxis": {
             "endlinecolor": "#2a3f5f",
             "gridcolor": "white",
             "linecolor": "white",
             "minorgridcolor": "white",
             "startlinecolor": "#2a3f5f"
            },
            "type": "carpet"
           }
          ],
          "choropleth": [
           {
            "colorbar": {
             "outlinewidth": 0,
             "ticks": ""
            },
            "type": "choropleth"
           }
          ],
          "contour": [
           {
            "colorbar": {
             "outlinewidth": 0,
             "ticks": ""
            },
            "colorscale": [
             [
              0,
              "#0d0887"
             ],
             [
              0.1111111111111111,
              "#46039f"
             ],
             [
              0.2222222222222222,
              "#7201a8"
             ],
             [
              0.3333333333333333,
              "#9c179e"
             ],
             [
              0.4444444444444444,
              "#bd3786"
             ],
             [
              0.5555555555555556,
              "#d8576b"
             ],
             [
              0.6666666666666666,
              "#ed7953"
             ],
             [
              0.7777777777777778,
              "#fb9f3a"
             ],
             [
              0.8888888888888888,
              "#fdca26"
             ],
             [
              1,
              "#f0f921"
             ]
            ],
            "type": "contour"
           }
          ],
          "contourcarpet": [
           {
            "colorbar": {
             "outlinewidth": 0,
             "ticks": ""
            },
            "type": "contourcarpet"
           }
          ],
          "heatmap": [
           {
            "colorbar": {
             "outlinewidth": 0,
             "ticks": ""
            },
            "colorscale": [
             [
              0,
              "#0d0887"
             ],
             [
              0.1111111111111111,
              "#46039f"
             ],
             [
              0.2222222222222222,
              "#7201a8"
             ],
             [
              0.3333333333333333,
              "#9c179e"
             ],
             [
              0.4444444444444444,
              "#bd3786"
             ],
             [
              0.5555555555555556,
              "#d8576b"
             ],
             [
              0.6666666666666666,
              "#ed7953"
             ],
             [
              0.7777777777777778,
              "#fb9f3a"
             ],
             [
              0.8888888888888888,
              "#fdca26"
             ],
             [
              1,
              "#f0f921"
             ]
            ],
            "type": "heatmap"
           }
          ],
          "heatmapgl": [
           {
            "colorbar": {
             "outlinewidth": 0,
             "ticks": ""
            },
            "colorscale": [
             [
              0,
              "#0d0887"
             ],
             [
              0.1111111111111111,
              "#46039f"
             ],
             [
              0.2222222222222222,
              "#7201a8"
             ],
             [
              0.3333333333333333,
              "#9c179e"
             ],
             [
              0.4444444444444444,
              "#bd3786"
             ],
             [
              0.5555555555555556,
              "#d8576b"
             ],
             [
              0.6666666666666666,
              "#ed7953"
             ],
             [
              0.7777777777777778,
              "#fb9f3a"
             ],
             [
              0.8888888888888888,
              "#fdca26"
             ],
             [
              1,
              "#f0f921"
             ]
            ],
            "type": "heatmapgl"
           }
          ],
          "histogram": [
           {
            "marker": {
             "pattern": {
              "fillmode": "overlay",
              "size": 10,
              "solidity": 0.2
             }
            },
            "type": "histogram"
           }
          ],
          "histogram2d": [
           {
            "colorbar": {
             "outlinewidth": 0,
             "ticks": ""
            },
            "colorscale": [
             [
              0,
              "#0d0887"
             ],
             [
              0.1111111111111111,
              "#46039f"
             ],
             [
              0.2222222222222222,
              "#7201a8"
             ],
             [
              0.3333333333333333,
              "#9c179e"
             ],
             [
              0.4444444444444444,
              "#bd3786"
             ],
             [
              0.5555555555555556,
              "#d8576b"
             ],
             [
              0.6666666666666666,
              "#ed7953"
             ],
             [
              0.7777777777777778,
              "#fb9f3a"
             ],
             [
              0.8888888888888888,
              "#fdca26"
             ],
             [
              1,
              "#f0f921"
             ]
            ],
            "type": "histogram2d"
           }
          ],
          "histogram2dcontour": [
           {
            "colorbar": {
             "outlinewidth": 0,
             "ticks": ""
            },
            "colorscale": [
             [
              0,
              "#0d0887"
             ],
             [
              0.1111111111111111,
              "#46039f"
             ],
             [
              0.2222222222222222,
              "#7201a8"
             ],
             [
              0.3333333333333333,
              "#9c179e"
             ],
             [
              0.4444444444444444,
              "#bd3786"
             ],
             [
              0.5555555555555556,
              "#d8576b"
             ],
             [
              0.6666666666666666,
              "#ed7953"
             ],
             [
              0.7777777777777778,
              "#fb9f3a"
             ],
             [
              0.8888888888888888,
              "#fdca26"
             ],
             [
              1,
              "#f0f921"
             ]
            ],
            "type": "histogram2dcontour"
           }
          ],
          "mesh3d": [
           {
            "colorbar": {
             "outlinewidth": 0,
             "ticks": ""
            },
            "type": "mesh3d"
           }
          ],
          "parcoords": [
           {
            "line": {
             "colorbar": {
              "outlinewidth": 0,
              "ticks": ""
             }
            },
            "type": "parcoords"
           }
          ],
          "pie": [
           {
            "automargin": true,
            "type": "pie"
           }
          ],
          "scatter": [
           {
            "fillpattern": {
             "fillmode": "overlay",
             "size": 10,
             "solidity": 0.2
            },
            "type": "scatter"
           }
          ],
          "scatter3d": [
           {
            "line": {
             "colorbar": {
              "outlinewidth": 0,
              "ticks": ""
             }
            },
            "marker": {
             "colorbar": {
              "outlinewidth": 0,
              "ticks": ""
             }
            },
            "type": "scatter3d"
           }
          ],
          "scattercarpet": [
           {
            "marker": {
             "colorbar": {
              "outlinewidth": 0,
              "ticks": ""
             }
            },
            "type": "scattercarpet"
           }
          ],
          "scattergeo": [
           {
            "marker": {
             "colorbar": {
              "outlinewidth": 0,
              "ticks": ""
             }
            },
            "type": "scattergeo"
           }
          ],
          "scattergl": [
           {
            "marker": {
             "colorbar": {
              "outlinewidth": 0,
              "ticks": ""
             }
            },
            "type": "scattergl"
           }
          ],
          "scattermapbox": [
           {
            "marker": {
             "colorbar": {
              "outlinewidth": 0,
              "ticks": ""
             }
            },
            "type": "scattermapbox"
           }
          ],
          "scatterpolar": [
           {
            "marker": {
             "colorbar": {
              "outlinewidth": 0,
              "ticks": ""
             }
            },
            "type": "scatterpolar"
           }
          ],
          "scatterpolargl": [
           {
            "marker": {
             "colorbar": {
              "outlinewidth": 0,
              "ticks": ""
             }
            },
            "type": "scatterpolargl"
           }
          ],
          "scatterternary": [
           {
            "marker": {
             "colorbar": {
              "outlinewidth": 0,
              "ticks": ""
             }
            },
            "type": "scatterternary"
           }
          ],
          "surface": [
           {
            "colorbar": {
             "outlinewidth": 0,
             "ticks": ""
            },
            "colorscale": [
             [
              0,
              "#0d0887"
             ],
             [
              0.1111111111111111,
              "#46039f"
             ],
             [
              0.2222222222222222,
              "#7201a8"
             ],
             [
              0.3333333333333333,
              "#9c179e"
             ],
             [
              0.4444444444444444,
              "#bd3786"
             ],
             [
              0.5555555555555556,
              "#d8576b"
             ],
             [
              0.6666666666666666,
              "#ed7953"
             ],
             [
              0.7777777777777778,
              "#fb9f3a"
             ],
             [
              0.8888888888888888,
              "#fdca26"
             ],
             [
              1,
              "#f0f921"
             ]
            ],
            "type": "surface"
           }
          ],
          "table": [
           {
            "cells": {
             "fill": {
              "color": "#EBF0F8"
             },
             "line": {
              "color": "white"
             }
            },
            "header": {
             "fill": {
              "color": "#C8D4E3"
             },
             "line": {
              "color": "white"
             }
            },
            "type": "table"
           }
          ]
         },
         "layout": {
          "annotationdefaults": {
           "arrowcolor": "#2a3f5f",
           "arrowhead": 0,
           "arrowwidth": 1
          },
          "autotypenumbers": "strict",
          "coloraxis": {
           "colorbar": {
            "outlinewidth": 0,
            "ticks": ""
           }
          },
          "colorscale": {
           "diverging": [
            [
             0,
             "#8e0152"
            ],
            [
             0.1,
             "#c51b7d"
            ],
            [
             0.2,
             "#de77ae"
            ],
            [
             0.3,
             "#f1b6da"
            ],
            [
             0.4,
             "#fde0ef"
            ],
            [
             0.5,
             "#f7f7f7"
            ],
            [
             0.6,
             "#e6f5d0"
            ],
            [
             0.7,
             "#b8e186"
            ],
            [
             0.8,
             "#7fbc41"
            ],
            [
             0.9,
             "#4d9221"
            ],
            [
             1,
             "#276419"
            ]
           ],
           "sequential": [
            [
             0,
             "#0d0887"
            ],
            [
             0.1111111111111111,
             "#46039f"
            ],
            [
             0.2222222222222222,
             "#7201a8"
            ],
            [
             0.3333333333333333,
             "#9c179e"
            ],
            [
             0.4444444444444444,
             "#bd3786"
            ],
            [
             0.5555555555555556,
             "#d8576b"
            ],
            [
             0.6666666666666666,
             "#ed7953"
            ],
            [
             0.7777777777777778,
             "#fb9f3a"
            ],
            [
             0.8888888888888888,
             "#fdca26"
            ],
            [
             1,
             "#f0f921"
            ]
           ],
           "sequentialminus": [
            [
             0,
             "#0d0887"
            ],
            [
             0.1111111111111111,
             "#46039f"
            ],
            [
             0.2222222222222222,
             "#7201a8"
            ],
            [
             0.3333333333333333,
             "#9c179e"
            ],
            [
             0.4444444444444444,
             "#bd3786"
            ],
            [
             0.5555555555555556,
             "#d8576b"
            ],
            [
             0.6666666666666666,
             "#ed7953"
            ],
            [
             0.7777777777777778,
             "#fb9f3a"
            ],
            [
             0.8888888888888888,
             "#fdca26"
            ],
            [
             1,
             "#f0f921"
            ]
           ]
          },
          "colorway": [
           "#636efa",
           "#EF553B",
           "#00cc96",
           "#ab63fa",
           "#FFA15A",
           "#19d3f3",
           "#FF6692",
           "#B6E880",
           "#FF97FF",
           "#FECB52"
          ],
          "font": {
           "color": "#2a3f5f"
          },
          "geo": {
           "bgcolor": "white",
           "lakecolor": "white",
           "landcolor": "#E5ECF6",
           "showlakes": true,
           "showland": true,
           "subunitcolor": "white"
          },
          "hoverlabel": {
           "align": "left"
          },
          "hovermode": "closest",
          "mapbox": {
           "style": "light"
          },
          "paper_bgcolor": "white",
          "plot_bgcolor": "#E5ECF6",
          "polar": {
           "angularaxis": {
            "gridcolor": "white",
            "linecolor": "white",
            "ticks": ""
           },
           "bgcolor": "#E5ECF6",
           "radialaxis": {
            "gridcolor": "white",
            "linecolor": "white",
            "ticks": ""
           }
          },
          "scene": {
           "xaxis": {
            "backgroundcolor": "#E5ECF6",
            "gridcolor": "white",
            "gridwidth": 2,
            "linecolor": "white",
            "showbackground": true,
            "ticks": "",
            "zerolinecolor": "white"
           },
           "yaxis": {
            "backgroundcolor": "#E5ECF6",
            "gridcolor": "white",
            "gridwidth": 2,
            "linecolor": "white",
            "showbackground": true,
            "ticks": "",
            "zerolinecolor": "white"
           },
           "zaxis": {
            "backgroundcolor": "#E5ECF6",
            "gridcolor": "white",
            "gridwidth": 2,
            "linecolor": "white",
            "showbackground": true,
            "ticks": "",
            "zerolinecolor": "white"
           }
          },
          "shapedefaults": {
           "line": {
            "color": "#2a3f5f"
           }
          },
          "ternary": {
           "aaxis": {
            "gridcolor": "white",
            "linecolor": "white",
            "ticks": ""
           },
           "baxis": {
            "gridcolor": "white",
            "linecolor": "white",
            "ticks": ""
           },
           "bgcolor": "#E5ECF6",
           "caxis": {
            "gridcolor": "white",
            "linecolor": "white",
            "ticks": ""
           }
          },
          "title": {
           "x": 0.05
          },
          "xaxis": {
           "automargin": true,
           "gridcolor": "white",
           "linecolor": "white",
           "ticks": "",
           "title": {
            "standoff": 15
           },
           "zerolinecolor": "white",
           "zerolinewidth": 2
          },
          "yaxis": {
           "automargin": true,
           "gridcolor": "white",
           "linecolor": "white",
           "ticks": "",
           "title": {
            "standoff": 15
           },
           "zerolinecolor": "white",
           "zerolinewidth": 2
          }
         }
        },
        "title": {
         "font": {
          "color": "#4D5663"
         }
        },
        "xaxis": {
         "autorange": true,
         "gridcolor": "#E1E5ED",
         "range": [
          -2.319666708289564,
          3.1674104587989658
         ],
         "showgrid": true,
         "tickfont": {
          "color": "#4D5663"
         },
         "title": {
          "font": {
           "color": "#4D5663"
          },
          "text": ""
         },
         "type": "linear",
         "zerolinecolor": "#E1E5ED"
        },
        "yaxis": {
         "autorange": true,
         "gridcolor": "#E1E5ED",
         "range": [
          -2.8476059079696054,
          2.3660948259564254
         ],
         "showgrid": true,
         "tickfont": {
          "color": "#4D5663"
         },
         "title": {
          "font": {
           "color": "#4D5663"
          },
          "text": ""
         },
         "type": "linear",
         "zerolinecolor": "#E1E5ED"
        }
       }
      },
      "image/png": "[encoded data removed]",
      "text/html": [
       "<div>                            <div id=\"b56a8916-f1d6-4dc7-b867-24a3d23023da\" class=\"plotly-graph-div\" style=\"height:525px; width:100%;\"></div>            <script type=\"text/javascript\">                require([\"plotly\"], function(Plotly) {                    window.PLOTLYENV=window.PLOTLYENV || {};\n",
       "                    window.PLOTLYENV.BASE_URL='https://plot.ly';                                    if (document.getElementById(\"b56a8916-f1d6-4dc7-b867-24a3d23023da\")) {                    Plotly.newPlot(                        \"b56a8916-f1d6-4dc7-b867-24a3d23023da\",                        [{\"line\":{\"color\":\"rgba(255, 153, 51, 1.0)\",\"dash\":\"solid\",\"shape\":\"linear\",\"width\":1.3},\"marker\":{\"size\":10,\"symbol\":\"circle\"},\"mode\":\"markers\",\"name\":\"B\",\"text\":\"\",\"x\":[0.29925552254576165,-1.011041779205554,-0.5186900863586638,-0.3828217817492648,-0.30927380397760446,0.6652818442678666,-0.22391389891936955,-0.24552960736839285,-1.9729621488923037,-0.1270387319252311,0.7747801811502151,0.09795908528664474,0.8929236677497698,0.20187969491046906,-0.8188495086655256,-0.12106198188240833,-0.6988584323192542,0.9050943018885463,0.49840793884265266,-0.9287052444313292,-0.4739277566927989,2.8207058994017054,-1.1300495739122436,1.7922738360878419,-0.3722204804935097,0.6196710190455824,0.42286628491220846,-0.08201217140566631,-0.822929168212544,2.2132431936258605,-0.07338177118678733,-0.7110858990763125,-0.2845400209239793,1.7102445886679856,-0.25360285658795656,1.373955494233924,0.1573245211525778,0.9179588000871358,1.4501656733343136,-0.3387058812164145,0.12752580527569551,0.09335592361703186,0.46755752620666796,-0.07728801968237105,-0.9010152681152521,-1.591414215809626,-1.539602646535873,-0.15053439886828743,-0.19059529732657582,0.28721444365992915,-0.42865126117404906,0.8253179141257997,-0.11172062284287053,0.6540991103515579,0.13745318590332364,1.7416753476030007,0.9540371329646546,0.5056558817518302,-0.90976828526663,0.9779440865005324,0.2226888697654056,-0.8123423017698557,0.8714764920706584,0.9597275072579795,1.3064080640044275,0.20089689763769625,0.6570047504187573,1.7712950311135016,0.758540342623224,-0.6999542696208285,-0.5296140031022785,-1.6278767145392647,0.52167480285576,-0.7262821978900574,0.43170230912564883,-1.9501271155499578,-0.15320748824202288,0.37342241042171925,0.02937078492454944,-0.7474020628442967,-0.8206850171791942,-0.9731997454172197,-0.8574662943143303,1.3631115358844874,-0.7325551730875081,0.32377382134675764,0.5837719300271894,-0.02981233759013717,0.07775300634035513,0.04632126687899852,0.8207828952495825,0.8663286865331438,-0.251598688319945,0.3853995691958181,0.8375831493796876,0.5066547754126097,0.8275361547809248,0.03135518353477385,0.4371432677710562,-1.0527954649016038],\"y\":[-1.713173337968297,0.16463881583930215,-0.34641472283923375,-0.7595751733051315,1.8457908877737206,-0.21433429456110126,0.5124726487289849,1.437139990683677,0.6547777163218743,-0.013712678511071783,1.195708708470215,-0.19338978575811494,1.0102460462298848,-0.21334392761340226,0.19559412341150936,-0.8752839354002775,0.4096257270108291,-0.22866927545330804,-0.6069472783316819,0.12373879396409523,-1.2276604990058457,0.6010948363729458,0.4486512408929953,-0.49226693659304877,1.1159469633589956,-0.2133286556842512,-0.14082002882471792,1.0232543671980927,1.0487421873111291,-2.4058895957897612,-0.6263467808267238,-0.0535980194419228,-0.9697997059269032,-0.15393169598037867,-1.337531465339447,-1.8931093783678372,0.6531828644393675,0.1389289985343312,-1.2541133575089387,0.4075596248250558,0.28298950142601137,1.0159265252281,-0.5224631731621188,-0.732919324083606,0.953776621920564,-0.13175696682988694,0.4423720801760704,-2.0600703856891096,-0.2634038014696138,1.7969489763358557,-1.9328347947417628,0.12617300283094043,-0.06565066349539632,-0.255661121065549,-0.6753136577711945,-0.07234099887043406,0.7673623555981366,0.4959852463397566,-0.18199980527914109,0.389248533735029,-0.7478685197683522,0.012026132107050867,-1.8575220704136997,1.3694473521161734,-1.3884475997112322,0.01901705187140966,-1.0233698840410335,-0.7350923368030766,-0.18320340477385902,-0.3313476869735953,0.9446094346728854,0.13984453539392488,0.17647290803347712,-1.0722859198372872,-1.711183803392291,0.23813046063428772,0.18938486313991962,-1.0485551278432355,-0.4328810726807365,-0.7535732326589286,0.7408847778271608,-1.089504315225977,0.8192744630098808,-0.2562666205721067,0.007890140272847193,0.6257507665227129,-0.5629911840117975,-0.03906926625490238,0.148686082542415,0.2810631813885742,1.9243785137765812,0.17187484975152728,1.0688283176452438,-0.3163367926495648,1.9130406772984856,0.8787427413449688,-1.2205222953409034,-1.200783415119851,0.18552969644269862,-0.2549852401407603],\"type\":\"scatter\"}],                        {\"legend\":{\"bgcolor\":\"#F5F6F9\",\"font\":{\"color\":\"#4D5663\"}},\"paper_bgcolor\":\"#F5F6F9\",\"plot_bgcolor\":\"#F5F6F9\",\"template\":{\"data\":{\"barpolar\":[{\"marker\":{\"line\":{\"color\":\"#E5ECF6\",\"width\":0.5},\"pattern\":{\"fillmode\":\"overlay\",\"size\":10,\"solidity\":0.2}},\"type\":\"barpolar\"}],\"bar\":[{\"error_x\":{\"color\":\"#2a3f5f\"},\"error_y\":{\"color\":\"#2a3f5f\"},\"marker\":{\"line\":{\"color\":\"#E5ECF6\",\"width\":0.5},\"pattern\":{\"fillmode\":\"overlay\",\"size\":10,\"solidity\":0.2}},\"type\":\"bar\"}],\"carpet\":[{\"aaxis\":{\"endlinecolor\":\"#2a3f5f\",\"gridcolor\":\"white\",\"linecolor\":\"white\",\"minorgridcolor\":\"white\",\"startlinecolor\":\"#2a3f5f\"},\"baxis\":{\"endlinecolor\":\"#2a3f5f\",\"gridcolor\":\"white\",\"linecolor\":\"white\",\"minorgridcolor\":\"white\",\"startlinecolor\":\"#2a3f5f\"},\"type\":\"carpet\"}],\"choropleth\":[{\"colorbar\":{\"outlinewidth\":0,\"ticks\":\"\"},\"type\":\"choropleth\"}],\"contourcarpet\":[{\"colorbar\":{\"outlinewidth\":0,\"ticks\":\"\"},\"type\":\"contourcarpet\"}],\"contour\":[{\"colorbar\":{\"outlinewidth\":0,\"ticks\":\"\"},\"colorscale\":[[0.0,\"#0d0887\"],[0.1111111111111111,\"#46039f\"],[0.2222222222222222,\"#7201a8\"],[0.3333333333333333,\"#9c179e\"],[0.4444444444444444,\"#bd3786\"],[0.5555555555555556,\"#d8576b\"],[0.6666666666666666,\"#ed7953\"],[0.7777777777777778,\"#fb9f3a\"],[0.8888888888888888,\"#fdca26\"],[1.0,\"#f0f921\"]],\"type\":\"contour\"}],\"heatmapgl\":[{\"colorbar\":{\"outlinewidth\":0,\"ticks\":\"\"},\"colorscale\":[[0.0,\"#0d0887\"],[0.1111111111111111,\"#46039f\"],[0.2222222222222222,\"#7201a8\"],[0.3333333333333333,\"#9c179e\"],[0.4444444444444444,\"#bd3786\"],[0.5555555555555556,\"#d8576b\"],[0.6666666666666666,\"#ed7953\"],[0.7777777777777778,\"#fb9f3a\"],[0.8888888888888888,\"#fdca26\"],[1.0,\"#f0f921\"]],\"type\":\"heatmapgl\"}],\"heatmap\":[{\"colorbar\":{\"outlinewidth\":0,\"ticks\":\"\"},\"colorscale\":[[0.0,\"#0d0887\"],[0.1111111111111111,\"#46039f\"],[0.2222222222222222,\"#7201a8\"],[0.3333333333333333,\"#9c179e\"],[0.4444444444444444,\"#bd3786\"],[0.5555555555555556,\"#d8576b\"],[0.6666666666666666,\"#ed7953\"],[0.7777777777777778,\"#fb9f3a\"],[0.8888888888888888,\"#fdca26\"],[1.0,\"#f0f921\"]],\"type\":\"heatmap\"}],\"histogram2dcontour\":[{\"colorbar\":{\"outlinewidth\":0,\"ticks\":\"\"},\"colorscale\":[[0.0,\"#0d0887\"],[0.1111111111111111,\"#46039f\"],[0.2222222222222222,\"#7201a8\"],[0.3333333333333333,\"#9c179e\"],[0.4444444444444444,\"#bd3786\"],[0.5555555555555556,\"#d8576b\"],[0.6666666666666666,\"#ed7953\"],[0.7777777777777778,\"#fb9f3a\"],[0.8888888888888888,\"#fdca26\"],[1.0,\"#f0f921\"]],\"type\":\"histogram2dcontour\"}],\"histogram2d\":[{\"colorbar\":{\"outlinewidth\":0,\"ticks\":\"\"},\"colorscale\":[[0.0,\"#0d0887\"],[0.1111111111111111,\"#46039f\"],[0.2222222222222222,\"#7201a8\"],[0.3333333333333333,\"#9c179e\"],[0.4444444444444444,\"#bd3786\"],[0.5555555555555556,\"#d8576b\"],[0.6666666666666666,\"#ed7953\"],[0.7777777777777778,\"#fb9f3a\"],[0.8888888888888888,\"#fdca26\"],[1.0,\"#f0f921\"]],\"type\":\"histogram2d\"}],\"histogram\":[{\"marker\":{\"pattern\":{\"fillmode\":\"overlay\",\"size\":10,\"solidity\":0.2}},\"type\":\"histogram\"}],\"mesh3d\":[{\"colorbar\":{\"outlinewidth\":0,\"ticks\":\"\"},\"type\":\"mesh3d\"}],\"parcoords\":[{\"line\":{\"colorbar\":{\"outlinewidth\":0,\"ticks\":\"\"}},\"type\":\"parcoords\"}],\"pie\":[{\"automargin\":true,\"type\":\"pie\"}],\"scatter3d\":[{\"line\":{\"colorbar\":{\"outlinewidth\":0,\"ticks\":\"\"}},\"marker\":{\"colorbar\":{\"outlinewidth\":0,\"ticks\":\"\"}},\"type\":\"scatter3d\"}],\"scattercarpet\":[{\"marker\":{\"colorbar\":{\"outlinewidth\":0,\"ticks\":\"\"}},\"type\":\"scattercarpet\"}],\"scattergeo\":[{\"marker\":{\"colorbar\":{\"outlinewidth\":0,\"ticks\":\"\"}},\"type\":\"scattergeo\"}],\"scattergl\":[{\"marker\":{\"colorbar\":{\"outlinewidth\":0,\"ticks\":\"\"}},\"type\":\"scattergl\"}],\"scattermapbox\":[{\"marker\":{\"colorbar\":{\"outlinewidth\":0,\"ticks\":\"\"}},\"type\":\"scattermapbox\"}],\"scatterpolargl\":[{\"marker\":{\"colorbar\":{\"outlinewidth\":0,\"ticks\":\"\"}},\"type\":\"scatterpolargl\"}],\"scatterpolar\":[{\"marker\":{\"colorbar\":{\"outlinewidth\":0,\"ticks\":\"\"}},\"type\":\"scatterpolar\"}],\"scatter\":[{\"fillpattern\":{\"fillmode\":\"overlay\",\"size\":10,\"solidity\":0.2},\"type\":\"scatter\"}],\"scatterternary\":[{\"marker\":{\"colorbar\":{\"outlinewidth\":0,\"ticks\":\"\"}},\"type\":\"scatterternary\"}],\"surface\":[{\"colorbar\":{\"outlinewidth\":0,\"ticks\":\"\"},\"colorscale\":[[0.0,\"#0d0887\"],[0.1111111111111111,\"#46039f\"],[0.2222222222222222,\"#7201a8\"],[0.3333333333333333,\"#9c179e\"],[0.4444444444444444,\"#bd3786\"],[0.5555555555555556,\"#d8576b\"],[0.6666666666666666,\"#ed7953\"],[0.7777777777777778,\"#fb9f3a\"],[0.8888888888888888,\"#fdca26\"],[1.0,\"#f0f921\"]],\"type\":\"surface\"}],\"table\":[{\"cells\":{\"fill\":{\"color\":\"#EBF0F8\"},\"line\":{\"color\":\"white\"}},\"header\":{\"fill\":{\"color\":\"#C8D4E3\"},\"line\":{\"color\":\"white\"}},\"type\":\"table\"}]},\"layout\":{\"annotationdefaults\":{\"arrowcolor\":\"#2a3f5f\",\"arrowhead\":0,\"arrowwidth\":1},\"autotypenumbers\":\"strict\",\"coloraxis\":{\"colorbar\":{\"outlinewidth\":0,\"ticks\":\"\"}},\"colorscale\":{\"diverging\":[[0,\"#8e0152\"],[0.1,\"#c51b7d\"],[0.2,\"#de77ae\"],[0.3,\"#f1b6da\"],[0.4,\"#fde0ef\"],[0.5,\"#f7f7f7\"],[0.6,\"#e6f5d0\"],[0.7,\"#b8e186\"],[0.8,\"#7fbc41\"],[0.9,\"#4d9221\"],[1,\"#276419\"]],\"sequential\":[[0.0,\"#0d0887\"],[0.1111111111111111,\"#46039f\"],[0.2222222222222222,\"#7201a8\"],[0.3333333333333333,\"#9c179e\"],[0.4444444444444444,\"#bd3786\"],[0.5555555555555556,\"#d8576b\"],[0.6666666666666666,\"#ed7953\"],[0.7777777777777778,\"#fb9f3a\"],[0.8888888888888888,\"#fdca26\"],[1.0,\"#f0f921\"]],\"sequentialminus\":[[0.0,\"#0d0887\"],[0.1111111111111111,\"#46039f\"],[0.2222222222222222,\"#7201a8\"],[0.3333333333333333,\"#9c179e\"],[0.4444444444444444,\"#bd3786\"],[0.5555555555555556,\"#d8576b\"],[0.6666666666666666,\"#ed7953\"],[0.7777777777777778,\"#fb9f3a\"],[0.8888888888888888,\"#fdca26\"],[1.0,\"#f0f921\"]]},\"colorway\":[\"#636efa\",\"#EF553B\",\"#00cc96\",\"#ab63fa\",\"#FFA15A\",\"#19d3f3\",\"#FF6692\",\"#B6E880\",\"#FF97FF\",\"#FECB52\"],\"font\":{\"color\":\"#2a3f5f\"},\"geo\":{\"bgcolor\":\"white\",\"lakecolor\":\"white\",\"landcolor\":\"#E5ECF6\",\"showlakes\":true,\"showland\":true,\"subunitcolor\":\"white\"},\"hoverlabel\":{\"align\":\"left\"},\"hovermode\":\"closest\",\"mapbox\":{\"style\":\"light\"},\"paper_bgcolor\":\"white\",\"plot_bgcolor\":\"#E5ECF6\",\"polar\":{\"angularaxis\":{\"gridcolor\":\"white\",\"linecolor\":\"white\",\"ticks\":\"\"},\"bgcolor\":\"#E5ECF6\",\"radialaxis\":{\"gridcolor\":\"white\",\"linecolor\":\"white\",\"ticks\":\"\"}},\"scene\":{\"xaxis\":{\"backgroundcolor\":\"#E5ECF6\",\"gridcolor\":\"white\",\"gridwidth\":2,\"linecolor\":\"white\",\"showbackground\":true,\"ticks\":\"\",\"zerolinecolor\":\"white\"},\"yaxis\":{\"backgroundcolor\":\"#E5ECF6\",\"gridcolor\":\"white\",\"gridwidth\":2,\"linecolor\":\"white\",\"showbackground\":true,\"ticks\":\"\",\"zerolinecolor\":\"white\"},\"zaxis\":{\"backgroundcolor\":\"#E5ECF6\",\"gridcolor\":\"white\",\"gridwidth\":2,\"linecolor\":\"white\",\"showbackground\":true,\"ticks\":\"\",\"zerolinecolor\":\"white\"}},\"shapedefaults\":{\"line\":{\"color\":\"#2a3f5f\"}},\"ternary\":{\"aaxis\":{\"gridcolor\":\"white\",\"linecolor\":\"white\",\"ticks\":\"\"},\"baxis\":{\"gridcolor\":\"white\",\"linecolor\":\"white\",\"ticks\":\"\"},\"bgcolor\":\"#E5ECF6\",\"caxis\":{\"gridcolor\":\"white\",\"linecolor\":\"white\",\"ticks\":\"\"}},\"title\":{\"x\":0.05},\"xaxis\":{\"automargin\":true,\"gridcolor\":\"white\",\"linecolor\":\"white\",\"ticks\":\"\",\"title\":{\"standoff\":15},\"zerolinecolor\":\"white\",\"zerolinewidth\":2},\"yaxis\":{\"automargin\":true,\"gridcolor\":\"white\",\"linecolor\":\"white\",\"ticks\":\"\",\"title\":{\"standoff\":15},\"zerolinecolor\":\"white\",\"zerolinewidth\":2}}},\"title\":{\"font\":{\"color\":\"#4D5663\"}},\"xaxis\":{\"gridcolor\":\"#E1E5ED\",\"showgrid\":true,\"tickfont\":{\"color\":\"#4D5663\"},\"title\":{\"font\":{\"color\":\"#4D5663\"},\"text\":\"\"},\"zerolinecolor\":\"#E1E5ED\"},\"yaxis\":{\"gridcolor\":\"#E1E5ED\",\"showgrid\":true,\"tickfont\":{\"color\":\"#4D5663\"},\"title\":{\"font\":{\"color\":\"#4D5663\"},\"text\":\"\"},\"zerolinecolor\":\"#E1E5ED\"}},                        {\"showLink\": true, \"linkText\": \"Export to plot.ly\", \"plotlyServerURL\": \"https://plot.ly\", \"responsive\": true}                    ).then(function(){\n",
       "                            \n",
       "var gd = document.getElementById('b56a8916-f1d6-4dc7-b867-24a3d23023da');\n",
       "var x = new MutationObserver(function (mutations, observer) {{\n",
       "        var display = window.getComputedStyle(gd).display;\n",
       "        if (!display || display === 'none') {{\n",
       "            console.log([gd, 'removed!']);\n",
       "            Plotly.purge(gd);\n",
       "            observer.disconnect();\n",
       "        }}\n",
       "}});\n",
       "\n",
       "// Listen for the removal of the full notebook cells\n",
       "var notebookContainer = gd.closest('#notebook-container');\n",
       "if (notebookContainer) {{\n",
       "    x.observe(notebookContainer, {childList: true});\n",
       "}}\n",
       "\n",
       "// Listen for the clearing of the current output cell\n",
       "var outputEl = gd.closest('.output');\n",
       "if (outputEl) {{\n",
       "    x.observe(outputEl, {childList: true});\n",
       "}}\n",
       "\n",
       "                        })                };                });            </script>        </div>"
      ]
     },
     "metadata": {},
     "output_type": "display_data"
    }
   ],
   "source": [
    "df.iplot(kind='scatter',x='A',y='B',mode='markers',size=10)"
   ]
  },
  {
   "cell_type": "code",
   "execution_count": 7,
   "id": "5209fd7f-8075-4a44-bf00-c014507818c1",
   "metadata": {},
   "outputs": [
    {
     "data": {
      "application/vnd.plotly.v1+json": {
       "config": {
        "linkText": "Export to plot.ly",
        "plotlyServerURL": "https://plot.ly",
        "showLink": true
       },
       "data": [
        {
         "marker": {
          "color": "rgba(255, 153, 51, 0.6)",
          "line": {
           "color": "rgba(255, 153, 51, 1.0)",
           "width": 1
          }
         },
         "name": "Values",
         "orientation": "v",
         "text": "",
         "type": "bar",
         "x": [
          "A",
          "B",
          "C"
         ],
         "y": [
          32,
          43,
          50
         ]
        }
       ],
       "layout": {
        "autosize": true,
        "legend": {
         "bgcolor": "#F5F6F9",
         "font": {
          "color": "#4D5663"
         }
        },
        "paper_bgcolor": "#F5F6F9",
        "plot_bgcolor": "#F5F6F9",
        "template": {
         "data": {
          "bar": [
           {
            "error_x": {
             "color": "#2a3f5f"
            },
            "error_y": {
             "color": "#2a3f5f"
            },
            "marker": {
             "line": {
              "color": "#E5ECF6",
              "width": 0.5
             },
             "pattern": {
              "fillmode": "overlay",
              "size": 10,
              "solidity": 0.2
             }
            },
            "type": "bar"
           }
          ],
          "barpolar": [
           {
            "marker": {
             "line": {
              "color": "#E5ECF6",
              "width": 0.5
             },
             "pattern": {
              "fillmode": "overlay",
              "size": 10,
              "solidity": 0.2
             }
            },
            "type": "barpolar"
           }
          ],
          "carpet": [
           {
            "aaxis": {
             "endlinecolor": "#2a3f5f",
             "gridcolor": "white",
             "linecolor": "white",
             "minorgridcolor": "white",
             "startlinecolor": "#2a3f5f"
            },
            "baxis": {
             "endlinecolor": "#2a3f5f",
             "gridcolor": "white",
             "linecolor": "white",
             "minorgridcolor": "white",
             "startlinecolor": "#2a3f5f"
            },
            "type": "carpet"
           }
          ],
          "choropleth": [
           {
            "colorbar": {
             "outlinewidth": 0,
             "ticks": ""
            },
            "type": "choropleth"
           }
          ],
          "contour": [
           {
            "colorbar": {
             "outlinewidth": 0,
             "ticks": ""
            },
            "colorscale": [
             [
              0,
              "#0d0887"
             ],
             [
              0.1111111111111111,
              "#46039f"
             ],
             [
              0.2222222222222222,
              "#7201a8"
             ],
             [
              0.3333333333333333,
              "#9c179e"
             ],
             [
              0.4444444444444444,
              "#bd3786"
             ],
             [
              0.5555555555555556,
              "#d8576b"
             ],
             [
              0.6666666666666666,
              "#ed7953"
             ],
             [
              0.7777777777777778,
              "#fb9f3a"
             ],
             [
              0.8888888888888888,
              "#fdca26"
             ],
             [
              1,
              "#f0f921"
             ]
            ],
            "type": "contour"
           }
          ],
          "contourcarpet": [
           {
            "colorbar": {
             "outlinewidth": 0,
             "ticks": ""
            },
            "type": "contourcarpet"
           }
          ],
          "heatmap": [
           {
            "colorbar": {
             "outlinewidth": 0,
             "ticks": ""
            },
            "colorscale": [
             [
              0,
              "#0d0887"
             ],
             [
              0.1111111111111111,
              "#46039f"
             ],
             [
              0.2222222222222222,
              "#7201a8"
             ],
             [
              0.3333333333333333,
              "#9c179e"
             ],
             [
              0.4444444444444444,
              "#bd3786"
             ],
             [
              0.5555555555555556,
              "#d8576b"
             ],
             [
              0.6666666666666666,
              "#ed7953"
             ],
             [
              0.7777777777777778,
              "#fb9f3a"
             ],
             [
              0.8888888888888888,
              "#fdca26"
             ],
             [
              1,
              "#f0f921"
             ]
            ],
            "type": "heatmap"
           }
          ],
          "heatmapgl": [
           {
            "colorbar": {
             "outlinewidth": 0,
             "ticks": ""
            },
            "colorscale": [
             [
              0,
              "#0d0887"
             ],
             [
              0.1111111111111111,
              "#46039f"
             ],
             [
              0.2222222222222222,
              "#7201a8"
             ],
             [
              0.3333333333333333,
              "#9c179e"
             ],
             [
              0.4444444444444444,
              "#bd3786"
             ],
             [
              0.5555555555555556,
              "#d8576b"
             ],
             [
              0.6666666666666666,
              "#ed7953"
             ],
             [
              0.7777777777777778,
              "#fb9f3a"
             ],
             [
              0.8888888888888888,
              "#fdca26"
             ],
             [
              1,
              "#f0f921"
             ]
            ],
            "type": "heatmapgl"
           }
          ],
          "histogram": [
           {
            "marker": {
             "pattern": {
              "fillmode": "overlay",
              "size": 10,
              "solidity": 0.2
             }
            },
            "type": "histogram"
           }
          ],
          "histogram2d": [
           {
            "colorbar": {
             "outlinewidth": 0,
             "ticks": ""
            },
            "colorscale": [
             [
              0,
              "#0d0887"
             ],
             [
              0.1111111111111111,
              "#46039f"
             ],
             [
              0.2222222222222222,
              "#7201a8"
             ],
             [
              0.3333333333333333,
              "#9c179e"
             ],
             [
              0.4444444444444444,
              "#bd3786"
             ],
             [
              0.5555555555555556,
              "#d8576b"
             ],
             [
              0.6666666666666666,
              "#ed7953"
             ],
             [
              0.7777777777777778,
              "#fb9f3a"
             ],
             [
              0.8888888888888888,
              "#fdca26"
             ],
             [
              1,
              "#f0f921"
             ]
            ],
            "type": "histogram2d"
           }
          ],
          "histogram2dcontour": [
           {
            "colorbar": {
             "outlinewidth": 0,
             "ticks": ""
            },
            "colorscale": [
             [
              0,
              "#0d0887"
             ],
             [
              0.1111111111111111,
              "#46039f"
             ],
             [
              0.2222222222222222,
              "#7201a8"
             ],
             [
              0.3333333333333333,
              "#9c179e"
             ],
             [
              0.4444444444444444,
              "#bd3786"
             ],
             [
              0.5555555555555556,
              "#d8576b"
             ],
             [
              0.6666666666666666,
              "#ed7953"
             ],
             [
              0.7777777777777778,
              "#fb9f3a"
             ],
             [
              0.8888888888888888,
              "#fdca26"
             ],
             [
              1,
              "#f0f921"
             ]
            ],
            "type": "histogram2dcontour"
           }
          ],
          "mesh3d": [
           {
            "colorbar": {
             "outlinewidth": 0,
             "ticks": ""
            },
            "type": "mesh3d"
           }
          ],
          "parcoords": [
           {
            "line": {
             "colorbar": {
              "outlinewidth": 0,
              "ticks": ""
             }
            },
            "type": "parcoords"
           }
          ],
          "pie": [
           {
            "automargin": true,
            "type": "pie"
           }
          ],
          "scatter": [
           {
            "fillpattern": {
             "fillmode": "overlay",
             "size": 10,
             "solidity": 0.2
            },
            "type": "scatter"
           }
          ],
          "scatter3d": [
           {
            "line": {
             "colorbar": {
              "outlinewidth": 0,
              "ticks": ""
             }
            },
            "marker": {
             "colorbar": {
              "outlinewidth": 0,
              "ticks": ""
             }
            },
            "type": "scatter3d"
           }
          ],
          "scattercarpet": [
           {
            "marker": {
             "colorbar": {
              "outlinewidth": 0,
              "ticks": ""
             }
            },
            "type": "scattercarpet"
           }
          ],
          "scattergeo": [
           {
            "marker": {
             "colorbar": {
              "outlinewidth": 0,
              "ticks": ""
             }
            },
            "type": "scattergeo"
           }
          ],
          "scattergl": [
           {
            "marker": {
             "colorbar": {
              "outlinewidth": 0,
              "ticks": ""
             }
            },
            "type": "scattergl"
           }
          ],
          "scattermapbox": [
           {
            "marker": {
             "colorbar": {
              "outlinewidth": 0,
              "ticks": ""
             }
            },
            "type": "scattermapbox"
           }
          ],
          "scatterpolar": [
           {
            "marker": {
             "colorbar": {
              "outlinewidth": 0,
              "ticks": ""
             }
            },
            "type": "scatterpolar"
           }
          ],
          "scatterpolargl": [
           {
            "marker": {
             "colorbar": {
              "outlinewidth": 0,
              "ticks": ""
             }
            },
            "type": "scatterpolargl"
           }
          ],
          "scatterternary": [
           {
            "marker": {
             "colorbar": {
              "outlinewidth": 0,
              "ticks": ""
             }
            },
            "type": "scatterternary"
           }
          ],
          "surface": [
           {
            "colorbar": {
             "outlinewidth": 0,
             "ticks": ""
            },
            "colorscale": [
             [
              0,
              "#0d0887"
             ],
             [
              0.1111111111111111,
              "#46039f"
             ],
             [
              0.2222222222222222,
              "#7201a8"
             ],
             [
              0.3333333333333333,
              "#9c179e"
             ],
             [
              0.4444444444444444,
              "#bd3786"
             ],
             [
              0.5555555555555556,
              "#d8576b"
             ],
             [
              0.6666666666666666,
              "#ed7953"
             ],
             [
              0.7777777777777778,
              "#fb9f3a"
             ],
             [
              0.8888888888888888,
              "#fdca26"
             ],
             [
              1,
              "#f0f921"
             ]
            ],
            "type": "surface"
           }
          ],
          "table": [
           {
            "cells": {
             "fill": {
              "color": "#EBF0F8"
             },
             "line": {
              "color": "white"
             }
            },
            "header": {
             "fill": {
              "color": "#C8D4E3"
             },
             "line": {
              "color": "white"
             }
            },
            "type": "table"
           }
          ]
         },
         "layout": {
          "annotationdefaults": {
           "arrowcolor": "#2a3f5f",
           "arrowhead": 0,
           "arrowwidth": 1
          },
          "autotypenumbers": "strict",
          "coloraxis": {
           "colorbar": {
            "outlinewidth": 0,
            "ticks": ""
           }
          },
          "colorscale": {
           "diverging": [
            [
             0,
             "#8e0152"
            ],
            [
             0.1,
             "#c51b7d"
            ],
            [
             0.2,
             "#de77ae"
            ],
            [
             0.3,
             "#f1b6da"
            ],
            [
             0.4,
             "#fde0ef"
            ],
            [
             0.5,
             "#f7f7f7"
            ],
            [
             0.6,
             "#e6f5d0"
            ],
            [
             0.7,
             "#b8e186"
            ],
            [
             0.8,
             "#7fbc41"
            ],
            [
             0.9,
             "#4d9221"
            ],
            [
             1,
             "#276419"
            ]
           ],
           "sequential": [
            [
             0,
             "#0d0887"
            ],
            [
             0.1111111111111111,
             "#46039f"
            ],
            [
             0.2222222222222222,
             "#7201a8"
            ],
            [
             0.3333333333333333,
             "#9c179e"
            ],
            [
             0.4444444444444444,
             "#bd3786"
            ],
            [
             0.5555555555555556,
             "#d8576b"
            ],
            [
             0.6666666666666666,
             "#ed7953"
            ],
            [
             0.7777777777777778,
             "#fb9f3a"
            ],
            [
             0.8888888888888888,
             "#fdca26"
            ],
            [
             1,
             "#f0f921"
            ]
           ],
           "sequentialminus": [
            [
             0,
             "#0d0887"
            ],
            [
             0.1111111111111111,
             "#46039f"
            ],
            [
             0.2222222222222222,
             "#7201a8"
            ],
            [
             0.3333333333333333,
             "#9c179e"
            ],
            [
             0.4444444444444444,
             "#bd3786"
            ],
            [
             0.5555555555555556,
             "#d8576b"
            ],
            [
             0.6666666666666666,
             "#ed7953"
            ],
            [
             0.7777777777777778,
             "#fb9f3a"
            ],
            [
             0.8888888888888888,
             "#fdca26"
            ],
            [
             1,
             "#f0f921"
            ]
           ]
          },
          "colorway": [
           "#636efa",
           "#EF553B",
           "#00cc96",
           "#ab63fa",
           "#FFA15A",
           "#19d3f3",
           "#FF6692",
           "#B6E880",
           "#FF97FF",
           "#FECB52"
          ],
          "font": {
           "color": "#2a3f5f"
          },
          "geo": {
           "bgcolor": "white",
           "lakecolor": "white",
           "landcolor": "#E5ECF6",
           "showlakes": true,
           "showland": true,
           "subunitcolor": "white"
          },
          "hoverlabel": {
           "align": "left"
          },
          "hovermode": "closest",
          "mapbox": {
           "style": "light"
          },
          "paper_bgcolor": "white",
          "plot_bgcolor": "#E5ECF6",
          "polar": {
           "angularaxis": {
            "gridcolor": "white",
            "linecolor": "white",
            "ticks": ""
           },
           "bgcolor": "#E5ECF6",
           "radialaxis": {
            "gridcolor": "white",
            "linecolor": "white",
            "ticks": ""
           }
          },
          "scene": {
           "xaxis": {
            "backgroundcolor": "#E5ECF6",
            "gridcolor": "white",
            "gridwidth": 2,
            "linecolor": "white",
            "showbackground": true,
            "ticks": "",
            "zerolinecolor": "white"
           },
           "yaxis": {
            "backgroundcolor": "#E5ECF6",
            "gridcolor": "white",
            "gridwidth": 2,
            "linecolor": "white",
            "showbackground": true,
            "ticks": "",
            "zerolinecolor": "white"
           },
           "zaxis": {
            "backgroundcolor": "#E5ECF6",
            "gridcolor": "white",
            "gridwidth": 2,
            "linecolor": "white",
            "showbackground": true,
            "ticks": "",
            "zerolinecolor": "white"
           }
          },
          "shapedefaults": {
           "line": {
            "color": "#2a3f5f"
           }
          },
          "ternary": {
           "aaxis": {
            "gridcolor": "white",
            "linecolor": "white",
            "ticks": ""
           },
           "baxis": {
            "gridcolor": "white",
            "linecolor": "white",
            "ticks": ""
           },
           "bgcolor": "#E5ECF6",
           "caxis": {
            "gridcolor": "white",
            "linecolor": "white",
            "ticks": ""
           }
          },
          "title": {
           "x": 0.05
          },
          "xaxis": {
           "automargin": true,
           "gridcolor": "white",
           "linecolor": "white",
           "ticks": "",
           "title": {
            "standoff": 15
           },
           "zerolinecolor": "white",
           "zerolinewidth": 2
          },
          "yaxis": {
           "automargin": true,
           "gridcolor": "white",
           "linecolor": "white",
           "ticks": "",
           "title": {
            "standoff": 15
           },
           "zerolinecolor": "white",
           "zerolinewidth": 2
          }
         }
        },
        "title": {
         "font": {
          "color": "#4D5663"
         }
        },
        "xaxis": {
         "autorange": true,
         "gridcolor": "#E1E5ED",
         "range": [
          -0.5,
          2.5
         ],
         "showgrid": true,
         "tickfont": {
          "color": "#4D5663"
         },
         "title": {
          "font": {
           "color": "#4D5663"
          },
          "text": ""
         },
         "type": "category",
         "zerolinecolor": "#E1E5ED"
        },
        "yaxis": {
         "autorange": true,
         "gridcolor": "#E1E5ED",
         "range": [
          0,
          52.63157894736842
         ],
         "showgrid": true,
         "tickfont": {
          "color": "#4D5663"
         },
         "title": {
          "font": {
           "color": "#4D5663"
          },
          "text": ""
         },
         "type": "linear",
         "zerolinecolor": "#E1E5ED"
        }
       }
      },
      "image/png": "[encoded data removed]",
      "text/html": [
       "<div>                            <div id=\"b491accf-0159-449e-bb71-5f2ae4cc40f8\" class=\"plotly-graph-div\" style=\"height:525px; width:100%;\"></div>            <script type=\"text/javascript\">                require([\"plotly\"], function(Plotly) {                    window.PLOTLYENV=window.PLOTLYENV || {};\n",
       "                    window.PLOTLYENV.BASE_URL='https://plot.ly';                                    if (document.getElementById(\"b491accf-0159-449e-bb71-5f2ae4cc40f8\")) {                    Plotly.newPlot(                        \"b491accf-0159-449e-bb71-5f2ae4cc40f8\",                        [{\"marker\":{\"color\":\"rgba(255, 153, 51, 0.6)\",\"line\":{\"color\":\"rgba(255, 153, 51, 1.0)\",\"width\":1}},\"name\":\"Values\",\"orientation\":\"v\",\"text\":\"\",\"x\":[\"A\",\"B\",\"C\"],\"y\":[32,43,50],\"type\":\"bar\"}],                        {\"legend\":{\"bgcolor\":\"#F5F6F9\",\"font\":{\"color\":\"#4D5663\"}},\"paper_bgcolor\":\"#F5F6F9\",\"plot_bgcolor\":\"#F5F6F9\",\"template\":{\"data\":{\"barpolar\":[{\"marker\":{\"line\":{\"color\":\"#E5ECF6\",\"width\":0.5},\"pattern\":{\"fillmode\":\"overlay\",\"size\":10,\"solidity\":0.2}},\"type\":\"barpolar\"}],\"bar\":[{\"error_x\":{\"color\":\"#2a3f5f\"},\"error_y\":{\"color\":\"#2a3f5f\"},\"marker\":{\"line\":{\"color\":\"#E5ECF6\",\"width\":0.5},\"pattern\":{\"fillmode\":\"overlay\",\"size\":10,\"solidity\":0.2}},\"type\":\"bar\"}],\"carpet\":[{\"aaxis\":{\"endlinecolor\":\"#2a3f5f\",\"gridcolor\":\"white\",\"linecolor\":\"white\",\"minorgridcolor\":\"white\",\"startlinecolor\":\"#2a3f5f\"},\"baxis\":{\"endlinecolor\":\"#2a3f5f\",\"gridcolor\":\"white\",\"linecolor\":\"white\",\"minorgridcolor\":\"white\",\"startlinecolor\":\"#2a3f5f\"},\"type\":\"carpet\"}],\"choropleth\":[{\"colorbar\":{\"outlinewidth\":0,\"ticks\":\"\"},\"type\":\"choropleth\"}],\"contourcarpet\":[{\"colorbar\":{\"outlinewidth\":0,\"ticks\":\"\"},\"type\":\"contourcarpet\"}],\"contour\":[{\"colorbar\":{\"outlinewidth\":0,\"ticks\":\"\"},\"colorscale\":[[0.0,\"#0d0887\"],[0.1111111111111111,\"#46039f\"],[0.2222222222222222,\"#7201a8\"],[0.3333333333333333,\"#9c179e\"],[0.4444444444444444,\"#bd3786\"],[0.5555555555555556,\"#d8576b\"],[0.6666666666666666,\"#ed7953\"],[0.7777777777777778,\"#fb9f3a\"],[0.8888888888888888,\"#fdca26\"],[1.0,\"#f0f921\"]],\"type\":\"contour\"}],\"heatmapgl\":[{\"colorbar\":{\"outlinewidth\":0,\"ticks\":\"\"},\"colorscale\":[[0.0,\"#0d0887\"],[0.1111111111111111,\"#46039f\"],[0.2222222222222222,\"#7201a8\"],[0.3333333333333333,\"#9c179e\"],[0.4444444444444444,\"#bd3786\"],[0.5555555555555556,\"#d8576b\"],[0.6666666666666666,\"#ed7953\"],[0.7777777777777778,\"#fb9f3a\"],[0.8888888888888888,\"#fdca26\"],[1.0,\"#f0f921\"]],\"type\":\"heatmapgl\"}],\"heatmap\":[{\"colorbar\":{\"outlinewidth\":0,\"ticks\":\"\"},\"colorscale\":[[0.0,\"#0d0887\"],[0.1111111111111111,\"#46039f\"],[0.2222222222222222,\"#7201a8\"],[0.3333333333333333,\"#9c179e\"],[0.4444444444444444,\"#bd3786\"],[0.5555555555555556,\"#d8576b\"],[0.6666666666666666,\"#ed7953\"],[0.7777777777777778,\"#fb9f3a\"],[0.8888888888888888,\"#fdca26\"],[1.0,\"#f0f921\"]],\"type\":\"heatmap\"}],\"histogram2dcontour\":[{\"colorbar\":{\"outlinewidth\":0,\"ticks\":\"\"},\"colorscale\":[[0.0,\"#0d0887\"],[0.1111111111111111,\"#46039f\"],[0.2222222222222222,\"#7201a8\"],[0.3333333333333333,\"#9c179e\"],[0.4444444444444444,\"#bd3786\"],[0.5555555555555556,\"#d8576b\"],[0.6666666666666666,\"#ed7953\"],[0.7777777777777778,\"#fb9f3a\"],[0.8888888888888888,\"#fdca26\"],[1.0,\"#f0f921\"]],\"type\":\"histogram2dcontour\"}],\"histogram2d\":[{\"colorbar\":{\"outlinewidth\":0,\"ticks\":\"\"},\"colorscale\":[[0.0,\"#0d0887\"],[0.1111111111111111,\"#46039f\"],[0.2222222222222222,\"#7201a8\"],[0.3333333333333333,\"#9c179e\"],[0.4444444444444444,\"#bd3786\"],[0.5555555555555556,\"#d8576b\"],[0.6666666666666666,\"#ed7953\"],[0.7777777777777778,\"#fb9f3a\"],[0.8888888888888888,\"#fdca26\"],[1.0,\"#f0f921\"]],\"type\":\"histogram2d\"}],\"histogram\":[{\"marker\":{\"pattern\":{\"fillmode\":\"overlay\",\"size\":10,\"solidity\":0.2}},\"type\":\"histogram\"}],\"mesh3d\":[{\"colorbar\":{\"outlinewidth\":0,\"ticks\":\"\"},\"type\":\"mesh3d\"}],\"parcoords\":[{\"line\":{\"colorbar\":{\"outlinewidth\":0,\"ticks\":\"\"}},\"type\":\"parcoords\"}],\"pie\":[{\"automargin\":true,\"type\":\"pie\"}],\"scatter3d\":[{\"line\":{\"colorbar\":{\"outlinewidth\":0,\"ticks\":\"\"}},\"marker\":{\"colorbar\":{\"outlinewidth\":0,\"ticks\":\"\"}},\"type\":\"scatter3d\"}],\"scattercarpet\":[{\"marker\":{\"colorbar\":{\"outlinewidth\":0,\"ticks\":\"\"}},\"type\":\"scattercarpet\"}],\"scattergeo\":[{\"marker\":{\"colorbar\":{\"outlinewidth\":0,\"ticks\":\"\"}},\"type\":\"scattergeo\"}],\"scattergl\":[{\"marker\":{\"colorbar\":{\"outlinewidth\":0,\"ticks\":\"\"}},\"type\":\"scattergl\"}],\"scattermapbox\":[{\"marker\":{\"colorbar\":{\"outlinewidth\":0,\"ticks\":\"\"}},\"type\":\"scattermapbox\"}],\"scatterpolargl\":[{\"marker\":{\"colorbar\":{\"outlinewidth\":0,\"ticks\":\"\"}},\"type\":\"scatterpolargl\"}],\"scatterpolar\":[{\"marker\":{\"colorbar\":{\"outlinewidth\":0,\"ticks\":\"\"}},\"type\":\"scatterpolar\"}],\"scatter\":[{\"fillpattern\":{\"fillmode\":\"overlay\",\"size\":10,\"solidity\":0.2},\"type\":\"scatter\"}],\"scatterternary\":[{\"marker\":{\"colorbar\":{\"outlinewidth\":0,\"ticks\":\"\"}},\"type\":\"scatterternary\"}],\"surface\":[{\"colorbar\":{\"outlinewidth\":0,\"ticks\":\"\"},\"colorscale\":[[0.0,\"#0d0887\"],[0.1111111111111111,\"#46039f\"],[0.2222222222222222,\"#7201a8\"],[0.3333333333333333,\"#9c179e\"],[0.4444444444444444,\"#bd3786\"],[0.5555555555555556,\"#d8576b\"],[0.6666666666666666,\"#ed7953\"],[0.7777777777777778,\"#fb9f3a\"],[0.8888888888888888,\"#fdca26\"],[1.0,\"#f0f921\"]],\"type\":\"surface\"}],\"table\":[{\"cells\":{\"fill\":{\"color\":\"#EBF0F8\"},\"line\":{\"color\":\"white\"}},\"header\":{\"fill\":{\"color\":\"#C8D4E3\"},\"line\":{\"color\":\"white\"}},\"type\":\"table\"}]},\"layout\":{\"annotationdefaults\":{\"arrowcolor\":\"#2a3f5f\",\"arrowhead\":0,\"arrowwidth\":1},\"autotypenumbers\":\"strict\",\"coloraxis\":{\"colorbar\":{\"outlinewidth\":0,\"ticks\":\"\"}},\"colorscale\":{\"diverging\":[[0,\"#8e0152\"],[0.1,\"#c51b7d\"],[0.2,\"#de77ae\"],[0.3,\"#f1b6da\"],[0.4,\"#fde0ef\"],[0.5,\"#f7f7f7\"],[0.6,\"#e6f5d0\"],[0.7,\"#b8e186\"],[0.8,\"#7fbc41\"],[0.9,\"#4d9221\"],[1,\"#276419\"]],\"sequential\":[[0.0,\"#0d0887\"],[0.1111111111111111,\"#46039f\"],[0.2222222222222222,\"#7201a8\"],[0.3333333333333333,\"#9c179e\"],[0.4444444444444444,\"#bd3786\"],[0.5555555555555556,\"#d8576b\"],[0.6666666666666666,\"#ed7953\"],[0.7777777777777778,\"#fb9f3a\"],[0.8888888888888888,\"#fdca26\"],[1.0,\"#f0f921\"]],\"sequentialminus\":[[0.0,\"#0d0887\"],[0.1111111111111111,\"#46039f\"],[0.2222222222222222,\"#7201a8\"],[0.3333333333333333,\"#9c179e\"],[0.4444444444444444,\"#bd3786\"],[0.5555555555555556,\"#d8576b\"],[0.6666666666666666,\"#ed7953\"],[0.7777777777777778,\"#fb9f3a\"],[0.8888888888888888,\"#fdca26\"],[1.0,\"#f0f921\"]]},\"colorway\":[\"#636efa\",\"#EF553B\",\"#00cc96\",\"#ab63fa\",\"#FFA15A\",\"#19d3f3\",\"#FF6692\",\"#B6E880\",\"#FF97FF\",\"#FECB52\"],\"font\":{\"color\":\"#2a3f5f\"},\"geo\":{\"bgcolor\":\"white\",\"lakecolor\":\"white\",\"landcolor\":\"#E5ECF6\",\"showlakes\":true,\"showland\":true,\"subunitcolor\":\"white\"},\"hoverlabel\":{\"align\":\"left\"},\"hovermode\":\"closest\",\"mapbox\":{\"style\":\"light\"},\"paper_bgcolor\":\"white\",\"plot_bgcolor\":\"#E5ECF6\",\"polar\":{\"angularaxis\":{\"gridcolor\":\"white\",\"linecolor\":\"white\",\"ticks\":\"\"},\"bgcolor\":\"#E5ECF6\",\"radialaxis\":{\"gridcolor\":\"white\",\"linecolor\":\"white\",\"ticks\":\"\"}},\"scene\":{\"xaxis\":{\"backgroundcolor\":\"#E5ECF6\",\"gridcolor\":\"white\",\"gridwidth\":2,\"linecolor\":\"white\",\"showbackground\":true,\"ticks\":\"\",\"zerolinecolor\":\"white\"},\"yaxis\":{\"backgroundcolor\":\"#E5ECF6\",\"gridcolor\":\"white\",\"gridwidth\":2,\"linecolor\":\"white\",\"showbackground\":true,\"ticks\":\"\",\"zerolinecolor\":\"white\"},\"zaxis\":{\"backgroundcolor\":\"#E5ECF6\",\"gridcolor\":\"white\",\"gridwidth\":2,\"linecolor\":\"white\",\"showbackground\":true,\"ticks\":\"\",\"zerolinecolor\":\"white\"}},\"shapedefaults\":{\"line\":{\"color\":\"#2a3f5f\"}},\"ternary\":{\"aaxis\":{\"gridcolor\":\"white\",\"linecolor\":\"white\",\"ticks\":\"\"},\"baxis\":{\"gridcolor\":\"white\",\"linecolor\":\"white\",\"ticks\":\"\"},\"bgcolor\":\"#E5ECF6\",\"caxis\":{\"gridcolor\":\"white\",\"linecolor\":\"white\",\"ticks\":\"\"}},\"title\":{\"x\":0.05},\"xaxis\":{\"automargin\":true,\"gridcolor\":\"white\",\"linecolor\":\"white\",\"ticks\":\"\",\"title\":{\"standoff\":15},\"zerolinecolor\":\"white\",\"zerolinewidth\":2},\"yaxis\":{\"automargin\":true,\"gridcolor\":\"white\",\"linecolor\":\"white\",\"ticks\":\"\",\"title\":{\"standoff\":15},\"zerolinecolor\":\"white\",\"zerolinewidth\":2}}},\"title\":{\"font\":{\"color\":\"#4D5663\"}},\"xaxis\":{\"gridcolor\":\"#E1E5ED\",\"showgrid\":true,\"tickfont\":{\"color\":\"#4D5663\"},\"title\":{\"font\":{\"color\":\"#4D5663\"},\"text\":\"\"},\"zerolinecolor\":\"#E1E5ED\"},\"yaxis\":{\"gridcolor\":\"#E1E5ED\",\"showgrid\":true,\"tickfont\":{\"color\":\"#4D5663\"},\"title\":{\"font\":{\"color\":\"#4D5663\"},\"text\":\"\"},\"zerolinecolor\":\"#E1E5ED\"}},                        {\"showLink\": true, \"linkText\": \"Export to plot.ly\", \"plotlyServerURL\": \"https://plot.ly\", \"responsive\": true}                    ).then(function(){\n",
       "                            \n",
       "var gd = document.getElementById('b491accf-0159-449e-bb71-5f2ae4cc40f8');\n",
       "var x = new MutationObserver(function (mutations, observer) {{\n",
       "        var display = window.getComputedStyle(gd).display;\n",
       "        if (!display || display === 'none') {{\n",
       "            console.log([gd, 'removed!']);\n",
       "            Plotly.purge(gd);\n",
       "            observer.disconnect();\n",
       "        }}\n",
       "}});\n",
       "\n",
       "// Listen for the removal of the full notebook cells\n",
       "var notebookContainer = gd.closest('#notebook-container');\n",
       "if (notebookContainer) {{\n",
       "    x.observe(notebookContainer, {childList: true});\n",
       "}}\n",
       "\n",
       "// Listen for the clearing of the current output cell\n",
       "var outputEl = gd.closest('.output');\n",
       "if (outputEl) {{\n",
       "    x.observe(outputEl, {childList: true});\n",
       "}}\n",
       "\n",
       "                        })                };                });            </script>        </div>"
      ]
     },
     "metadata": {},
     "output_type": "display_data"
    }
   ],
   "source": [
    "df2.iplot(kind='bar',x='Category',y='Values')"
   ]
  },
  {
   "cell_type": "code",
   "execution_count": 8,
   "id": "1068f255-97d9-4a9e-9c49-0c4c4552e6c0",
   "metadata": {},
   "outputs": [
    {
     "data": {
      "application/vnd.plotly.v1+json": {
       "config": {
        "linkText": "Export to plot.ly",
        "plotlyServerURL": "https://plot.ly",
        "showLink": true
       },
       "data": [
        {
         "marker": {
          "color": "rgba(255, 153, 51, 0.6)",
          "line": {
           "color": "rgba(255, 153, 51, 1.0)",
           "width": 1
          }
         },
         "name": "None",
         "orientation": "v",
         "text": "",
         "type": "bar",
         "x": [
          "A",
          "B",
          "C",
          "D"
         ],
         "y": [
          100,
          100,
          100,
          100
         ]
        }
       ],
       "layout": {
        "autosize": true,
        "legend": {
         "bgcolor": "#F5F6F9",
         "font": {
          "color": "#4D5663"
         }
        },
        "paper_bgcolor": "#F5F6F9",
        "plot_bgcolor": "#F5F6F9",
        "template": {
         "data": {
          "bar": [
           {
            "error_x": {
             "color": "#2a3f5f"
            },
            "error_y": {
             "color": "#2a3f5f"
            },
            "marker": {
             "line": {
              "color": "#E5ECF6",
              "width": 0.5
             },
             "pattern": {
              "fillmode": "overlay",
              "size": 10,
              "solidity": 0.2
             }
            },
            "type": "bar"
           }
          ],
          "barpolar": [
           {
            "marker": {
             "line": {
              "color": "#E5ECF6",
              "width": 0.5
             },
             "pattern": {
              "fillmode": "overlay",
              "size": 10,
              "solidity": 0.2
             }
            },
            "type": "barpolar"
           }
          ],
          "carpet": [
           {
            "aaxis": {
             "endlinecolor": "#2a3f5f",
             "gridcolor": "white",
             "linecolor": "white",
             "minorgridcolor": "white",
             "startlinecolor": "#2a3f5f"
            },
            "baxis": {
             "endlinecolor": "#2a3f5f",
             "gridcolor": "white",
             "linecolor": "white",
             "minorgridcolor": "white",
             "startlinecolor": "#2a3f5f"
            },
            "type": "carpet"
           }
          ],
          "choropleth": [
           {
            "colorbar": {
             "outlinewidth": 0,
             "ticks": ""
            },
            "type": "choropleth"
           }
          ],
          "contour": [
           {
            "colorbar": {
             "outlinewidth": 0,
             "ticks": ""
            },
            "colorscale": [
             [
              0,
              "#0d0887"
             ],
             [
              0.1111111111111111,
              "#46039f"
             ],
             [
              0.2222222222222222,
              "#7201a8"
             ],
             [
              0.3333333333333333,
              "#9c179e"
             ],
             [
              0.4444444444444444,
              "#bd3786"
             ],
             [
              0.5555555555555556,
              "#d8576b"
             ],
             [
              0.6666666666666666,
              "#ed7953"
             ],
             [
              0.7777777777777778,
              "#fb9f3a"
             ],
             [
              0.8888888888888888,
              "#fdca26"
             ],
             [
              1,
              "#f0f921"
             ]
            ],
            "type": "contour"
           }
          ],
          "contourcarpet": [
           {
            "colorbar": {
             "outlinewidth": 0,
             "ticks": ""
            },
            "type": "contourcarpet"
           }
          ],
          "heatmap": [
           {
            "colorbar": {
             "outlinewidth": 0,
             "ticks": ""
            },
            "colorscale": [
             [
              0,
              "#0d0887"
             ],
             [
              0.1111111111111111,
              "#46039f"
             ],
             [
              0.2222222222222222,
              "#7201a8"
             ],
             [
              0.3333333333333333,
              "#9c179e"
             ],
             [
              0.4444444444444444,
              "#bd3786"
             ],
             [
              0.5555555555555556,
              "#d8576b"
             ],
             [
              0.6666666666666666,
              "#ed7953"
             ],
             [
              0.7777777777777778,
              "#fb9f3a"
             ],
             [
              0.8888888888888888,
              "#fdca26"
             ],
             [
              1,
              "#f0f921"
             ]
            ],
            "type": "heatmap"
           }
          ],
          "heatmapgl": [
           {
            "colorbar": {
             "outlinewidth": 0,
             "ticks": ""
            },
            "colorscale": [
             [
              0,
              "#0d0887"
             ],
             [
              0.1111111111111111,
              "#46039f"
             ],
             [
              0.2222222222222222,
              "#7201a8"
             ],
             [
              0.3333333333333333,
              "#9c179e"
             ],
             [
              0.4444444444444444,
              "#bd3786"
             ],
             [
              0.5555555555555556,
              "#d8576b"
             ],
             [
              0.6666666666666666,
              "#ed7953"
             ],
             [
              0.7777777777777778,
              "#fb9f3a"
             ],
             [
              0.8888888888888888,
              "#fdca26"
             ],
             [
              1,
              "#f0f921"
             ]
            ],
            "type": "heatmapgl"
           }
          ],
          "histogram": [
           {
            "marker": {
             "pattern": {
              "fillmode": "overlay",
              "size": 10,
              "solidity": 0.2
             }
            },
            "type": "histogram"
           }
          ],
          "histogram2d": [
           {
            "colorbar": {
             "outlinewidth": 0,
             "ticks": ""
            },
            "colorscale": [
             [
              0,
              "#0d0887"
             ],
             [
              0.1111111111111111,
              "#46039f"
             ],
             [
              0.2222222222222222,
              "#7201a8"
             ],
             [
              0.3333333333333333,
              "#9c179e"
             ],
             [
              0.4444444444444444,
              "#bd3786"
             ],
             [
              0.5555555555555556,
              "#d8576b"
             ],
             [
              0.6666666666666666,
              "#ed7953"
             ],
             [
              0.7777777777777778,
              "#fb9f3a"
             ],
             [
              0.8888888888888888,
              "#fdca26"
             ],
             [
              1,
              "#f0f921"
             ]
            ],
            "type": "histogram2d"
           }
          ],
          "histogram2dcontour": [
           {
            "colorbar": {
             "outlinewidth": 0,
             "ticks": ""
            },
            "colorscale": [
             [
              0,
              "#0d0887"
             ],
             [
              0.1111111111111111,
              "#46039f"
             ],
             [
              0.2222222222222222,
              "#7201a8"
             ],
             [
              0.3333333333333333,
              "#9c179e"
             ],
             [
              0.4444444444444444,
              "#bd3786"
             ],
             [
              0.5555555555555556,
              "#d8576b"
             ],
             [
              0.6666666666666666,
              "#ed7953"
             ],
             [
              0.7777777777777778,
              "#fb9f3a"
             ],
             [
              0.8888888888888888,
              "#fdca26"
             ],
             [
              1,
              "#f0f921"
             ]
            ],
            "type": "histogram2dcontour"
           }
          ],
          "mesh3d": [
           {
            "colorbar": {
             "outlinewidth": 0,
             "ticks": ""
            },
            "type": "mesh3d"
           }
          ],
          "parcoords": [
           {
            "line": {
             "colorbar": {
              "outlinewidth": 0,
              "ticks": ""
             }
            },
            "type": "parcoords"
           }
          ],
          "pie": [
           {
            "automargin": true,
            "type": "pie"
           }
          ],
          "scatter": [
           {
            "fillpattern": {
             "fillmode": "overlay",
             "size": 10,
             "solidity": 0.2
            },
            "type": "scatter"
           }
          ],
          "scatter3d": [
           {
            "line": {
             "colorbar": {
              "outlinewidth": 0,
              "ticks": ""
             }
            },
            "marker": {
             "colorbar": {
              "outlinewidth": 0,
              "ticks": ""
             }
            },
            "type": "scatter3d"
           }
          ],
          "scattercarpet": [
           {
            "marker": {
             "colorbar": {
              "outlinewidth": 0,
              "ticks": ""
             }
            },
            "type": "scattercarpet"
           }
          ],
          "scattergeo": [
           {
            "marker": {
             "colorbar": {
              "outlinewidth": 0,
              "ticks": ""
             }
            },
            "type": "scattergeo"
           }
          ],
          "scattergl": [
           {
            "marker": {
             "colorbar": {
              "outlinewidth": 0,
              "ticks": ""
             }
            },
            "type": "scattergl"
           }
          ],
          "scattermapbox": [
           {
            "marker": {
             "colorbar": {
              "outlinewidth": 0,
              "ticks": ""
             }
            },
            "type": "scattermapbox"
           }
          ],
          "scatterpolar": [
           {
            "marker": {
             "colorbar": {
              "outlinewidth": 0,
              "ticks": ""
             }
            },
            "type": "scatterpolar"
           }
          ],
          "scatterpolargl": [
           {
            "marker": {
             "colorbar": {
              "outlinewidth": 0,
              "ticks": ""
             }
            },
            "type": "scatterpolargl"
           }
          ],
          "scatterternary": [
           {
            "marker": {
             "colorbar": {
              "outlinewidth": 0,
              "ticks": ""
             }
            },
            "type": "scatterternary"
           }
          ],
          "surface": [
           {
            "colorbar": {
             "outlinewidth": 0,
             "ticks": ""
            },
            "colorscale": [
             [
              0,
              "#0d0887"
             ],
             [
              0.1111111111111111,
              "#46039f"
             ],
             [
              0.2222222222222222,
              "#7201a8"
             ],
             [
              0.3333333333333333,
              "#9c179e"
             ],
             [
              0.4444444444444444,
              "#bd3786"
             ],
             [
              0.5555555555555556,
              "#d8576b"
             ],
             [
              0.6666666666666666,
              "#ed7953"
             ],
             [
              0.7777777777777778,
              "#fb9f3a"
             ],
             [
              0.8888888888888888,
              "#fdca26"
             ],
             [
              1,
              "#f0f921"
             ]
            ],
            "type": "surface"
           }
          ],
          "table": [
           {
            "cells": {
             "fill": {
              "color": "#EBF0F8"
             },
             "line": {
              "color": "white"
             }
            },
            "header": {
             "fill": {
              "color": "#C8D4E3"
             },
             "line": {
              "color": "white"
             }
            },
            "type": "table"
           }
          ]
         },
         "layout": {
          "annotationdefaults": {
           "arrowcolor": "#2a3f5f",
           "arrowhead": 0,
           "arrowwidth": 1
          },
          "autotypenumbers": "strict",
          "coloraxis": {
           "colorbar": {
            "outlinewidth": 0,
            "ticks": ""
           }
          },
          "colorscale": {
           "diverging": [
            [
             0,
             "#8e0152"
            ],
            [
             0.1,
             "#c51b7d"
            ],
            [
             0.2,
             "#de77ae"
            ],
            [
             0.3,
             "#f1b6da"
            ],
            [
             0.4,
             "#fde0ef"
            ],
            [
             0.5,
             "#f7f7f7"
            ],
            [
             0.6,
             "#e6f5d0"
            ],
            [
             0.7,
             "#b8e186"
            ],
            [
             0.8,
             "#7fbc41"
            ],
            [
             0.9,
             "#4d9221"
            ],
            [
             1,
             "#276419"
            ]
           ],
           "sequential": [
            [
             0,
             "#0d0887"
            ],
            [
             0.1111111111111111,
             "#46039f"
            ],
            [
             0.2222222222222222,
             "#7201a8"
            ],
            [
             0.3333333333333333,
             "#9c179e"
            ],
            [
             0.4444444444444444,
             "#bd3786"
            ],
            [
             0.5555555555555556,
             "#d8576b"
            ],
            [
             0.6666666666666666,
             "#ed7953"
            ],
            [
             0.7777777777777778,
             "#fb9f3a"
            ],
            [
             0.8888888888888888,
             "#fdca26"
            ],
            [
             1,
             "#f0f921"
            ]
           ],
           "sequentialminus": [
            [
             0,
             "#0d0887"
            ],
            [
             0.1111111111111111,
             "#46039f"
            ],
            [
             0.2222222222222222,
             "#7201a8"
            ],
            [
             0.3333333333333333,
             "#9c179e"
            ],
            [
             0.4444444444444444,
             "#bd3786"
            ],
            [
             0.5555555555555556,
             "#d8576b"
            ],
            [
             0.6666666666666666,
             "#ed7953"
            ],
            [
             0.7777777777777778,
             "#fb9f3a"
            ],
            [
             0.8888888888888888,
             "#fdca26"
            ],
            [
             1,
             "#f0f921"
            ]
           ]
          },
          "colorway": [
           "#636efa",
           "#EF553B",
           "#00cc96",
           "#ab63fa",
           "#FFA15A",
           "#19d3f3",
           "#FF6692",
           "#B6E880",
           "#FF97FF",
           "#FECB52"
          ],
          "font": {
           "color": "#2a3f5f"
          },
          "geo": {
           "bgcolor": "white",
           "lakecolor": "white",
           "landcolor": "#E5ECF6",
           "showlakes": true,
           "showland": true,
           "subunitcolor": "white"
          },
          "hoverlabel": {
           "align": "left"
          },
          "hovermode": "closest",
          "mapbox": {
           "style": "light"
          },
          "paper_bgcolor": "white",
          "plot_bgcolor": "#E5ECF6",
          "polar": {
           "angularaxis": {
            "gridcolor": "white",
            "linecolor": "white",
            "ticks": ""
           },
           "bgcolor": "#E5ECF6",
           "radialaxis": {
            "gridcolor": "white",
            "linecolor": "white",
            "ticks": ""
           }
          },
          "scene": {
           "xaxis": {
            "backgroundcolor": "#E5ECF6",
            "gridcolor": "white",
            "gridwidth": 2,
            "linecolor": "white",
            "showbackground": true,
            "ticks": "",
            "zerolinecolor": "white"
           },
           "yaxis": {
            "backgroundcolor": "#E5ECF6",
            "gridcolor": "white",
            "gridwidth": 2,
            "linecolor": "white",
            "showbackground": true,
            "ticks": "",
            "zerolinecolor": "white"
           },
           "zaxis": {
            "backgroundcolor": "#E5ECF6",
            "gridcolor": "white",
            "gridwidth": 2,
            "linecolor": "white",
            "showbackground": true,
            "ticks": "",
            "zerolinecolor": "white"
           }
          },
          "shapedefaults": {
           "line": {
            "color": "#2a3f5f"
           }
          },
          "ternary": {
           "aaxis": {
            "gridcolor": "white",
            "linecolor": "white",
            "ticks": ""
           },
           "baxis": {
            "gridcolor": "white",
            "linecolor": "white",
            "ticks": ""
           },
           "bgcolor": "#E5ECF6",
           "caxis": {
            "gridcolor": "white",
            "linecolor": "white",
            "ticks": ""
           }
          },
          "title": {
           "x": 0.05
          },
          "xaxis": {
           "automargin": true,
           "gridcolor": "white",
           "linecolor": "white",
           "ticks": "",
           "title": {
            "standoff": 15
           },
           "zerolinecolor": "white",
           "zerolinewidth": 2
          },
          "yaxis": {
           "automargin": true,
           "gridcolor": "white",
           "linecolor": "white",
           "ticks": "",
           "title": {
            "standoff": 15
           },
           "zerolinecolor": "white",
           "zerolinewidth": 2
          }
         }
        },
        "title": {
         "font": {
          "color": "#4D5663"
         }
        },
        "xaxis": {
         "autorange": true,
         "gridcolor": "#E1E5ED",
         "range": [
          -0.5,
          3.5
         ],
         "showgrid": true,
         "tickfont": {
          "color": "#4D5663"
         },
         "title": {
          "font": {
           "color": "#4D5663"
          },
          "text": ""
         },
         "type": "category",
         "zerolinecolor": "#E1E5ED"
        },
        "yaxis": {
         "autorange": true,
         "gridcolor": "#E1E5ED",
         "range": [
          0,
          105.26315789473684
         ],
         "showgrid": true,
         "tickfont": {
          "color": "#4D5663"
         },
         "title": {
          "font": {
           "color": "#4D5663"
          },
          "text": ""
         },
         "type": "linear",
         "zerolinecolor": "#E1E5ED"
        }
       }
      },
      "image/png": "[encoded data removed]",
      "text/html": [
       "<div>                            <div id=\"eeb91525-3402-4de1-84ba-a6ba881e7c7d\" class=\"plotly-graph-div\" style=\"height:525px; width:100%;\"></div>            <script type=\"text/javascript\">                require([\"plotly\"], function(Plotly) {                    window.PLOTLYENV=window.PLOTLYENV || {};\n",
       "                    window.PLOTLYENV.BASE_URL='https://plot.ly';                                    if (document.getElementById(\"eeb91525-3402-4de1-84ba-a6ba881e7c7d\")) {                    Plotly.newPlot(                        \"eeb91525-3402-4de1-84ba-a6ba881e7c7d\",                        [{\"marker\":{\"color\":\"rgba(255, 153, 51, 0.6)\",\"line\":{\"color\":\"rgba(255, 153, 51, 1.0)\",\"width\":1}},\"name\":\"None\",\"orientation\":\"v\",\"text\":\"\",\"x\":[\"A\",\"B\",\"C\",\"D\"],\"y\":[100,100,100,100],\"type\":\"bar\"}],                        {\"legend\":{\"bgcolor\":\"#F5F6F9\",\"font\":{\"color\":\"#4D5663\"}},\"paper_bgcolor\":\"#F5F6F9\",\"plot_bgcolor\":\"#F5F6F9\",\"template\":{\"data\":{\"barpolar\":[{\"marker\":{\"line\":{\"color\":\"#E5ECF6\",\"width\":0.5},\"pattern\":{\"fillmode\":\"overlay\",\"size\":10,\"solidity\":0.2}},\"type\":\"barpolar\"}],\"bar\":[{\"error_x\":{\"color\":\"#2a3f5f\"},\"error_y\":{\"color\":\"#2a3f5f\"},\"marker\":{\"line\":{\"color\":\"#E5ECF6\",\"width\":0.5},\"pattern\":{\"fillmode\":\"overlay\",\"size\":10,\"solidity\":0.2}},\"type\":\"bar\"}],\"carpet\":[{\"aaxis\":{\"endlinecolor\":\"#2a3f5f\",\"gridcolor\":\"white\",\"linecolor\":\"white\",\"minorgridcolor\":\"white\",\"startlinecolor\":\"#2a3f5f\"},\"baxis\":{\"endlinecolor\":\"#2a3f5f\",\"gridcolor\":\"white\",\"linecolor\":\"white\",\"minorgridcolor\":\"white\",\"startlinecolor\":\"#2a3f5f\"},\"type\":\"carpet\"}],\"choropleth\":[{\"colorbar\":{\"outlinewidth\":0,\"ticks\":\"\"},\"type\":\"choropleth\"}],\"contourcarpet\":[{\"colorbar\":{\"outlinewidth\":0,\"ticks\":\"\"},\"type\":\"contourcarpet\"}],\"contour\":[{\"colorbar\":{\"outlinewidth\":0,\"ticks\":\"\"},\"colorscale\":[[0.0,\"#0d0887\"],[0.1111111111111111,\"#46039f\"],[0.2222222222222222,\"#7201a8\"],[0.3333333333333333,\"#9c179e\"],[0.4444444444444444,\"#bd3786\"],[0.5555555555555556,\"#d8576b\"],[0.6666666666666666,\"#ed7953\"],[0.7777777777777778,\"#fb9f3a\"],[0.8888888888888888,\"#fdca26\"],[1.0,\"#f0f921\"]],\"type\":\"contour\"}],\"heatmapgl\":[{\"colorbar\":{\"outlinewidth\":0,\"ticks\":\"\"},\"colorscale\":[[0.0,\"#0d0887\"],[0.1111111111111111,\"#46039f\"],[0.2222222222222222,\"#7201a8\"],[0.3333333333333333,\"#9c179e\"],[0.4444444444444444,\"#bd3786\"],[0.5555555555555556,\"#d8576b\"],[0.6666666666666666,\"#ed7953\"],[0.7777777777777778,\"#fb9f3a\"],[0.8888888888888888,\"#fdca26\"],[1.0,\"#f0f921\"]],\"type\":\"heatmapgl\"}],\"heatmap\":[{\"colorbar\":{\"outlinewidth\":0,\"ticks\":\"\"},\"colorscale\":[[0.0,\"#0d0887\"],[0.1111111111111111,\"#46039f\"],[0.2222222222222222,\"#7201a8\"],[0.3333333333333333,\"#9c179e\"],[0.4444444444444444,\"#bd3786\"],[0.5555555555555556,\"#d8576b\"],[0.6666666666666666,\"#ed7953\"],[0.7777777777777778,\"#fb9f3a\"],[0.8888888888888888,\"#fdca26\"],[1.0,\"#f0f921\"]],\"type\":\"heatmap\"}],\"histogram2dcontour\":[{\"colorbar\":{\"outlinewidth\":0,\"ticks\":\"\"},\"colorscale\":[[0.0,\"#0d0887\"],[0.1111111111111111,\"#46039f\"],[0.2222222222222222,\"#7201a8\"],[0.3333333333333333,\"#9c179e\"],[0.4444444444444444,\"#bd3786\"],[0.5555555555555556,\"#d8576b\"],[0.6666666666666666,\"#ed7953\"],[0.7777777777777778,\"#fb9f3a\"],[0.8888888888888888,\"#fdca26\"],[1.0,\"#f0f921\"]],\"type\":\"histogram2dcontour\"}],\"histogram2d\":[{\"colorbar\":{\"outlinewidth\":0,\"ticks\":\"\"},\"colorscale\":[[0.0,\"#0d0887\"],[0.1111111111111111,\"#46039f\"],[0.2222222222222222,\"#7201a8\"],[0.3333333333333333,\"#9c179e\"],[0.4444444444444444,\"#bd3786\"],[0.5555555555555556,\"#d8576b\"],[0.6666666666666666,\"#ed7953\"],[0.7777777777777778,\"#fb9f3a\"],[0.8888888888888888,\"#fdca26\"],[1.0,\"#f0f921\"]],\"type\":\"histogram2d\"}],\"histogram\":[{\"marker\":{\"pattern\":{\"fillmode\":\"overlay\",\"size\":10,\"solidity\":0.2}},\"type\":\"histogram\"}],\"mesh3d\":[{\"colorbar\":{\"outlinewidth\":0,\"ticks\":\"\"},\"type\":\"mesh3d\"}],\"parcoords\":[{\"line\":{\"colorbar\":{\"outlinewidth\":0,\"ticks\":\"\"}},\"type\":\"parcoords\"}],\"pie\":[{\"automargin\":true,\"type\":\"pie\"}],\"scatter3d\":[{\"line\":{\"colorbar\":{\"outlinewidth\":0,\"ticks\":\"\"}},\"marker\":{\"colorbar\":{\"outlinewidth\":0,\"ticks\":\"\"}},\"type\":\"scatter3d\"}],\"scattercarpet\":[{\"marker\":{\"colorbar\":{\"outlinewidth\":0,\"ticks\":\"\"}},\"type\":\"scattercarpet\"}],\"scattergeo\":[{\"marker\":{\"colorbar\":{\"outlinewidth\":0,\"ticks\":\"\"}},\"type\":\"scattergeo\"}],\"scattergl\":[{\"marker\":{\"colorbar\":{\"outlinewidth\":0,\"ticks\":\"\"}},\"type\":\"scattergl\"}],\"scattermapbox\":[{\"marker\":{\"colorbar\":{\"outlinewidth\":0,\"ticks\":\"\"}},\"type\":\"scattermapbox\"}],\"scatterpolargl\":[{\"marker\":{\"colorbar\":{\"outlinewidth\":0,\"ticks\":\"\"}},\"type\":\"scatterpolargl\"}],\"scatterpolar\":[{\"marker\":{\"colorbar\":{\"outlinewidth\":0,\"ticks\":\"\"}},\"type\":\"scatterpolar\"}],\"scatter\":[{\"fillpattern\":{\"fillmode\":\"overlay\",\"size\":10,\"solidity\":0.2},\"type\":\"scatter\"}],\"scatterternary\":[{\"marker\":{\"colorbar\":{\"outlinewidth\":0,\"ticks\":\"\"}},\"type\":\"scatterternary\"}],\"surface\":[{\"colorbar\":{\"outlinewidth\":0,\"ticks\":\"\"},\"colorscale\":[[0.0,\"#0d0887\"],[0.1111111111111111,\"#46039f\"],[0.2222222222222222,\"#7201a8\"],[0.3333333333333333,\"#9c179e\"],[0.4444444444444444,\"#bd3786\"],[0.5555555555555556,\"#d8576b\"],[0.6666666666666666,\"#ed7953\"],[0.7777777777777778,\"#fb9f3a\"],[0.8888888888888888,\"#fdca26\"],[1.0,\"#f0f921\"]],\"type\":\"surface\"}],\"table\":[{\"cells\":{\"fill\":{\"color\":\"#EBF0F8\"},\"line\":{\"color\":\"white\"}},\"header\":{\"fill\":{\"color\":\"#C8D4E3\"},\"line\":{\"color\":\"white\"}},\"type\":\"table\"}]},\"layout\":{\"annotationdefaults\":{\"arrowcolor\":\"#2a3f5f\",\"arrowhead\":0,\"arrowwidth\":1},\"autotypenumbers\":\"strict\",\"coloraxis\":{\"colorbar\":{\"outlinewidth\":0,\"ticks\":\"\"}},\"colorscale\":{\"diverging\":[[0,\"#8e0152\"],[0.1,\"#c51b7d\"],[0.2,\"#de77ae\"],[0.3,\"#f1b6da\"],[0.4,\"#fde0ef\"],[0.5,\"#f7f7f7\"],[0.6,\"#e6f5d0\"],[0.7,\"#b8e186\"],[0.8,\"#7fbc41\"],[0.9,\"#4d9221\"],[1,\"#276419\"]],\"sequential\":[[0.0,\"#0d0887\"],[0.1111111111111111,\"#46039f\"],[0.2222222222222222,\"#7201a8\"],[0.3333333333333333,\"#9c179e\"],[0.4444444444444444,\"#bd3786\"],[0.5555555555555556,\"#d8576b\"],[0.6666666666666666,\"#ed7953\"],[0.7777777777777778,\"#fb9f3a\"],[0.8888888888888888,\"#fdca26\"],[1.0,\"#f0f921\"]],\"sequentialminus\":[[0.0,\"#0d0887\"],[0.1111111111111111,\"#46039f\"],[0.2222222222222222,\"#7201a8\"],[0.3333333333333333,\"#9c179e\"],[0.4444444444444444,\"#bd3786\"],[0.5555555555555556,\"#d8576b\"],[0.6666666666666666,\"#ed7953\"],[0.7777777777777778,\"#fb9f3a\"],[0.8888888888888888,\"#fdca26\"],[1.0,\"#f0f921\"]]},\"colorway\":[\"#636efa\",\"#EF553B\",\"#00cc96\",\"#ab63fa\",\"#FFA15A\",\"#19d3f3\",\"#FF6692\",\"#B6E880\",\"#FF97FF\",\"#FECB52\"],\"font\":{\"color\":\"#2a3f5f\"},\"geo\":{\"bgcolor\":\"white\",\"lakecolor\":\"white\",\"landcolor\":\"#E5ECF6\",\"showlakes\":true,\"showland\":true,\"subunitcolor\":\"white\"},\"hoverlabel\":{\"align\":\"left\"},\"hovermode\":\"closest\",\"mapbox\":{\"style\":\"light\"},\"paper_bgcolor\":\"white\",\"plot_bgcolor\":\"#E5ECF6\",\"polar\":{\"angularaxis\":{\"gridcolor\":\"white\",\"linecolor\":\"white\",\"ticks\":\"\"},\"bgcolor\":\"#E5ECF6\",\"radialaxis\":{\"gridcolor\":\"white\",\"linecolor\":\"white\",\"ticks\":\"\"}},\"scene\":{\"xaxis\":{\"backgroundcolor\":\"#E5ECF6\",\"gridcolor\":\"white\",\"gridwidth\":2,\"linecolor\":\"white\",\"showbackground\":true,\"ticks\":\"\",\"zerolinecolor\":\"white\"},\"yaxis\":{\"backgroundcolor\":\"#E5ECF6\",\"gridcolor\":\"white\",\"gridwidth\":2,\"linecolor\":\"white\",\"showbackground\":true,\"ticks\":\"\",\"zerolinecolor\":\"white\"},\"zaxis\":{\"backgroundcolor\":\"#E5ECF6\",\"gridcolor\":\"white\",\"gridwidth\":2,\"linecolor\":\"white\",\"showbackground\":true,\"ticks\":\"\",\"zerolinecolor\":\"white\"}},\"shapedefaults\":{\"line\":{\"color\":\"#2a3f5f\"}},\"ternary\":{\"aaxis\":{\"gridcolor\":\"white\",\"linecolor\":\"white\",\"ticks\":\"\"},\"baxis\":{\"gridcolor\":\"white\",\"linecolor\":\"white\",\"ticks\":\"\"},\"bgcolor\":\"#E5ECF6\",\"caxis\":{\"gridcolor\":\"white\",\"linecolor\":\"white\",\"ticks\":\"\"}},\"title\":{\"x\":0.05},\"xaxis\":{\"automargin\":true,\"gridcolor\":\"white\",\"linecolor\":\"white\",\"ticks\":\"\",\"title\":{\"standoff\":15},\"zerolinecolor\":\"white\",\"zerolinewidth\":2},\"yaxis\":{\"automargin\":true,\"gridcolor\":\"white\",\"linecolor\":\"white\",\"ticks\":\"\",\"title\":{\"standoff\":15},\"zerolinecolor\":\"white\",\"zerolinewidth\":2}}},\"title\":{\"font\":{\"color\":\"#4D5663\"}},\"xaxis\":{\"gridcolor\":\"#E1E5ED\",\"showgrid\":true,\"tickfont\":{\"color\":\"#4D5663\"},\"title\":{\"font\":{\"color\":\"#4D5663\"},\"text\":\"\"},\"zerolinecolor\":\"#E1E5ED\"},\"yaxis\":{\"gridcolor\":\"#E1E5ED\",\"showgrid\":true,\"tickfont\":{\"color\":\"#4D5663\"},\"title\":{\"font\":{\"color\":\"#4D5663\"},\"text\":\"\"},\"zerolinecolor\":\"#E1E5ED\"}},                        {\"showLink\": true, \"linkText\": \"Export to plot.ly\", \"plotlyServerURL\": \"https://plot.ly\", \"responsive\": true}                    ).then(function(){\n",
       "                            \n",
       "var gd = document.getElementById('eeb91525-3402-4de1-84ba-a6ba881e7c7d');\n",
       "var x = new MutationObserver(function (mutations, observer) {{\n",
       "        var display = window.getComputedStyle(gd).display;\n",
       "        if (!display || display === 'none') {{\n",
       "            console.log([gd, 'removed!']);\n",
       "            Plotly.purge(gd);\n",
       "            observer.disconnect();\n",
       "        }}\n",
       "}});\n",
       "\n",
       "// Listen for the removal of the full notebook cells\n",
       "var notebookContainer = gd.closest('#notebook-container');\n",
       "if (notebookContainer) {{\n",
       "    x.observe(notebookContainer, {childList: true});\n",
       "}}\n",
       "\n",
       "// Listen for the clearing of the current output cell\n",
       "var outputEl = gd.closest('.output');\n",
       "if (outputEl) {{\n",
       "    x.observe(outputEl, {childList: true});\n",
       "}}\n",
       "\n",
       "                        })                };                });            </script>        </div>"
      ]
     },
     "metadata": {},
     "output_type": "display_data"
    }
   ],
   "source": [
    "df.count().iplot(kind='bar')"
   ]
  },
  {
   "cell_type": "code",
   "execution_count": 9,
   "id": "d609bada-0fd7-4a7c-aba6-ba19a2e3b553",
   "metadata": {},
   "outputs": [
    {
     "data": {
      "application/vnd.plotly.v1+json": {
       "config": {
        "linkText": "Export to plot.ly",
        "plotlyServerURL": "https://plot.ly",
        "showLink": true
       },
       "data": [
        {
         "boxpoints": false,
         "line": {
          "width": 1.3
         },
         "marker": {
          "color": "rgba(255, 153, 51, 1.0)"
         },
         "name": "A",
         "orientation": "v",
         "type": "box",
         "y": [
          0.29925552254576165,
          -1.011041779205554,
          -0.5186900863586638,
          -0.3828217817492648,
          -0.30927380397760446,
          0.6652818442678666,
          -0.22391389891936955,
          -0.24552960736839285,
          -1.9729621488923037,
          -0.1270387319252311,
          0.7747801811502151,
          0.09795908528664474,
          0.8929236677497698,
          0.20187969491046906,
          -0.8188495086655256,
          -0.12106198188240833,
          -0.6988584323192542,
          0.9050943018885463,
          0.49840793884265266,
          -0.9287052444313292,
          -0.4739277566927989,
          2.8207058994017054,
          -1.1300495739122436,
          1.7922738360878419,
          -0.3722204804935097,
          0.6196710190455824,
          0.42286628491220846,
          -0.08201217140566631,
          -0.822929168212544,
          2.2132431936258605,
          -0.07338177118678733,
          -0.7110858990763125,
          -0.2845400209239793,
          1.7102445886679856,
          -0.25360285658795656,
          1.373955494233924,
          0.1573245211525778,
          0.9179588000871358,
          1.4501656733343136,
          -0.3387058812164145,
          0.12752580527569551,
          0.09335592361703186,
          0.46755752620666796,
          -0.07728801968237105,
          -0.9010152681152521,
          -1.591414215809626,
          -1.539602646535873,
          -0.15053439886828743,
          -0.19059529732657582,
          0.28721444365992915,
          -0.42865126117404906,
          0.8253179141257997,
          -0.11172062284287053,
          0.6540991103515579,
          0.13745318590332364,
          1.7416753476030007,
          0.9540371329646546,
          0.5056558817518302,
          -0.90976828526663,
          0.9779440865005324,
          0.2226888697654056,
          -0.8123423017698557,
          0.8714764920706584,
          0.9597275072579795,
          1.3064080640044275,
          0.20089689763769625,
          0.6570047504187573,
          1.7712950311135016,
          0.758540342623224,
          -0.6999542696208285,
          -0.5296140031022785,
          -1.6278767145392647,
          0.52167480285576,
          -0.7262821978900574,
          0.43170230912564883,
          -1.9501271155499578,
          -0.15320748824202288,
          0.37342241042171925,
          0.02937078492454944,
          -0.7474020628442967,
          -0.8206850171791942,
          -0.9731997454172197,
          -0.8574662943143303,
          1.3631115358844874,
          -0.7325551730875081,
          0.32377382134675764,
          0.5837719300271894,
          -0.02981233759013717,
          0.07775300634035513,
          0.04632126687899852,
          0.8207828952495825,
          0.8663286865331438,
          -0.251598688319945,
          0.3853995691958181,
          0.8375831493796876,
          0.5066547754126097,
          0.8275361547809248,
          0.03135518353477385,
          0.4371432677710562,
          -1.0527954649016038
         ]
        },
        {
         "boxpoints": false,
         "line": {
          "width": 1.3
         },
         "marker": {
          "color": "rgba(55, 128, 191, 1.0)"
         },
         "name": "B",
         "orientation": "v",
         "type": "box",
         "y": [
          -1.713173337968297,
          0.16463881583930215,
          -0.34641472283923375,
          -0.7595751733051315,
          1.8457908877737206,
          -0.21433429456110126,
          0.5124726487289849,
          1.437139990683677,
          0.6547777163218743,
          -0.013712678511071783,
          1.195708708470215,
          -0.19338978575811494,
          1.0102460462298848,
          -0.21334392761340226,
          0.19559412341150936,
          -0.8752839354002775,
          0.4096257270108291,
          -0.22866927545330804,
          -0.6069472783316819,
          0.12373879396409523,
          -1.2276604990058457,
          0.6010948363729458,
          0.4486512408929953,
          -0.49226693659304877,
          1.1159469633589956,
          -0.2133286556842512,
          -0.14082002882471792,
          1.0232543671980927,
          1.0487421873111291,
          -2.4058895957897612,
          -0.6263467808267238,
          -0.0535980194419228,
          -0.9697997059269032,
          -0.15393169598037867,
          -1.337531465339447,
          -1.8931093783678372,
          0.6531828644393675,
          0.1389289985343312,
          -1.2541133575089387,
          0.4075596248250558,
          0.28298950142601137,
          1.0159265252281,
          -0.5224631731621188,
          -0.732919324083606,
          0.953776621920564,
          -0.13175696682988694,
          0.4423720801760704,
          -2.0600703856891096,
          -0.2634038014696138,
          1.7969489763358557,
          -1.9328347947417628,
          0.12617300283094043,
          -0.06565066349539632,
          -0.255661121065549,
          -0.6753136577711945,
          -0.07234099887043406,
          0.7673623555981366,
          0.4959852463397566,
          -0.18199980527914109,
          0.389248533735029,
          -0.7478685197683522,
          0.012026132107050867,
          -1.8575220704136997,
          1.3694473521161734,
          -1.3884475997112322,
          0.01901705187140966,
          -1.0233698840410335,
          -0.7350923368030766,
          -0.18320340477385902,
          -0.3313476869735953,
          0.9446094346728854,
          0.13984453539392488,
          0.17647290803347712,
          -1.0722859198372872,
          -1.711183803392291,
          0.23813046063428772,
          0.18938486313991962,
          -1.0485551278432355,
          -0.4328810726807365,
          -0.7535732326589286,
          0.7408847778271608,
          -1.089504315225977,
          0.8192744630098808,
          -0.2562666205721067,
          0.007890140272847193,
          0.6257507665227129,
          -0.5629911840117975,
          -0.03906926625490238,
          0.148686082542415,
          0.2810631813885742,
          1.9243785137765812,
          0.17187484975152728,
          1.0688283176452438,
          -0.3163367926495648,
          1.9130406772984856,
          0.8787427413449688,
          -1.2205222953409034,
          -1.200783415119851,
          0.18552969644269862,
          -0.2549852401407603
         ]
        },
        {
         "boxpoints": false,
         "line": {
          "width": 1.3
         },
         "marker": {
          "color": "rgba(50, 171, 96, 1.0)"
         },
         "name": "C",
         "orientation": "v",
         "type": "box",
         "y": [
          -1.3456606846294052,
          0.5895284155409911,
          -2.265446518321988,
          -0.3040595612451563,
          -1.4352207544271658,
          -0.900233739695578,
          0.2162329410392335,
          -0.8477553578869945,
          0.2199210890787251,
          0.029451150741701033,
          -2.1232035122256065,
          -0.7462854444893672,
          -0.06063410968953736,
          1.6985610322895328,
          -0.43729148945683866,
          0.05692436109507748,
          -1.8601493453303881,
          -0.0821997875255117,
          0.9154310436792841,
          -0.04630079631360709,
          1.4957572236847312,
          0.35774376913988176,
          1.3566638106896118,
          -0.3371424200641299,
          -0.609928733221454,
          0.2731175633992837,
          0.42852321505384566,
          -1.6866996078440353,
          -0.12465581181358817,
          0.5086419424337107,
          -1.227366268616366,
          0.23516570538076914,
          0.2603848247467958,
          -0.23941587472391318,
          0.03551607940517475,
          0.609387497857241,
          1.1003249486167004,
          -0.7362914284027954,
          0.059538871798452984,
          0.3888650743485843,
          -0.24389289870559744,
          1.13397444768638,
          0.8546797398974391,
          0.4201180657802193,
          -0.940622379712996,
          0.16391072978601387,
          -0.5110314596332228,
          -0.9884283249768397,
          -0.6081389626173525,
          -1.1340186063111575,
          0.35115508702523274,
          -0.6588447416539652,
          -1.342505089624679,
          -0.3869472070011788,
          -0.32639287152988083,
          -0.6499099996505723,
          -0.27366491962982475,
          -0.13612146575669448,
          0.8809269012902251,
          -1.1912491505326692,
          -0.24890064399062667,
          -0.2971728436040609,
          0.11836273075569706,
          -1.057972900788718,
          0.5146961907508886,
          0.20038098168860446,
          -0.5891722371838476,
          0.23244888139948644,
          0.21750620069341245,
          -0.5795740883100473,
          0.09018573850734177,
          0.853853240509046,
          1.9983666464685519,
          -1.8954822060989658,
          1.754852594725883,
          0.19084986352255978,
          -0.3845387497075328,
          -1.3009328500240576,
          0.2221088951254746,
          0.5984788054752173,
          0.14639374465444555,
          1.8882970920972084,
          -2.008401893338328,
          0.1386097248602371,
          0.7463479297934115,
          -0.8215597933432001,
          -1.1664854245190575,
          -0.3031386235822503,
          -0.36055129288817067,
          -0.40820099716418895,
          -0.5763988054209849,
          -0.683343180022325,
          -1.3024687462502815,
          -0.746834906444901,
          1.4597363890696786,
          0.6946900721683419,
          0.8739381406764574,
          0.6819793726595158,
          0.5083759650529504,
          1.344830395710999
         ]
        },
        {
         "boxpoints": false,
         "line": {
          "width": 1.3
         },
         "marker": {
          "color": "rgba(128, 0, 128, 1.0)"
         },
         "name": "D",
         "orientation": "v",
         "type": "box",
         "y": [
          0.5018574017192605,
          1.0782535393916226,
          0.568796709596952,
          0.2036950006341363,
          0.7849892146214591,
          0.48000959289378786,
          0.35986046736783805,
          -1.7852691538744756,
          -0.2996915848722144,
          1.1564475612125333,
          0.051074214076615394,
          0.7764321290143538,
          -1.1175759248652855,
          -0.24728856214895104,
          1.3263796290507757,
          -0.4285467267650269,
          1.2759321118878388,
          0.8037925173987338,
          0.7819492351647368,
          1.0758735654743308,
          0.7210606328024203,
          1.2186361220101716,
          2.1935562180463783,
          -0.49896896310831407,
          0.4013548560430032,
          0.31810165737317614,
          -0.27796953078475395,
          -1.8636293228563015,
          0.4454398176844966,
          1.195401658277943,
          -0.6855060852970423,
          0.47980609849661626,
          -1.5479540549228206,
          -1.4552426939733916,
          1.4267657816278758,
          -0.7138382584873416,
          0.018015418224353635,
          0.42110384749845214,
          1.4602094381806838,
          0.07530742660165404,
          -0.08961578610340556,
          -1.1639856851403072,
          -0.02043964563297272,
          -1.3641386341120363,
          -0.5835699836049469,
          -0.9351175483694667,
          -0.29919151126586724,
          0.7624712006312411,
          0.7795623114147803,
          1.721763603194762,
          -1.2383947221719818,
          -0.6427103737886317,
          0.75396647684985,
          -0.6493305403245406,
          -0.7078129681664773,
          -0.3494909468608757,
          1.4332248236304639,
          0.6142940980344876,
          1.8070893325778903,
          0.3719354406321682,
          0.8209978346959457,
          1.1666299159634204,
          1.455625270563245,
          -1.140093644273744,
          -1.0953246514602062,
          -0.6321257689543668,
          -0.4867141786339963,
          0.1963880824590929,
          -0.4395719045967569,
          0.2917038736535683,
          -0.4584554130364333,
          1.3629703496255239,
          -0.2894619174101874,
          -0.27767288153057923,
          0.5367489163509358,
          1.3273492637955242,
          1.0088329659389959,
          0.19882769884916407,
          -0.028662307732223887,
          0.40582195716123337,
          2.4817132056762805,
          -1.1251494514493936,
          -1.3785355854205101,
          0.5578289475062926,
          1.0691795038626253,
          -0.1256942625051536,
          0.6934436037097989,
          0.2637781887356134,
          -0.17709883287935585,
          -1.2182972741350941,
          0.19909941833152142,
          0.8349788934312267,
          -2.4793737612709754,
          -0.5213544012324818,
          0.5484162102334881,
          -0.784792661670148,
          -0.9136347038700877,
          0.8300695566817942,
          1.407054346021127,
          -1.141741760605707
         ]
        }
       ],
       "layout": {
        "autosize": true,
        "legend": {
         "bgcolor": "#F5F6F9",
         "font": {
          "color": "#4D5663"
         }
        },
        "paper_bgcolor": "#F5F6F9",
        "plot_bgcolor": "#F5F6F9",
        "template": {
         "data": {
          "bar": [
           {
            "error_x": {
             "color": "#2a3f5f"
            },
            "error_y": {
             "color": "#2a3f5f"
            },
            "marker": {
             "line": {
              "color": "#E5ECF6",
              "width": 0.5
             },
             "pattern": {
              "fillmode": "overlay",
              "size": 10,
              "solidity": 0.2
             }
            },
            "type": "bar"
           }
          ],
          "barpolar": [
           {
            "marker": {
             "line": {
              "color": "#E5ECF6",
              "width": 0.5
             },
             "pattern": {
              "fillmode": "overlay",
              "size": 10,
              "solidity": 0.2
             }
            },
            "type": "barpolar"
           }
          ],
          "carpet": [
           {
            "aaxis": {
             "endlinecolor": "#2a3f5f",
             "gridcolor": "white",
             "linecolor": "white",
             "minorgridcolor": "white",
             "startlinecolor": "#2a3f5f"
            },
            "baxis": {
             "endlinecolor": "#2a3f5f",
             "gridcolor": "white",
             "linecolor": "white",
             "minorgridcolor": "white",
             "startlinecolor": "#2a3f5f"
            },
            "type": "carpet"
           }
          ],
          "choropleth": [
           {
            "colorbar": {
             "outlinewidth": 0,
             "ticks": ""
            },
            "type": "choropleth"
           }
          ],
          "contour": [
           {
            "colorbar": {
             "outlinewidth": 0,
             "ticks": ""
            },
            "colorscale": [
             [
              0,
              "#0d0887"
             ],
             [
              0.1111111111111111,
              "#46039f"
             ],
             [
              0.2222222222222222,
              "#7201a8"
             ],
             [
              0.3333333333333333,
              "#9c179e"
             ],
             [
              0.4444444444444444,
              "#bd3786"
             ],
             [
              0.5555555555555556,
              "#d8576b"
             ],
             [
              0.6666666666666666,
              "#ed7953"
             ],
             [
              0.7777777777777778,
              "#fb9f3a"
             ],
             [
              0.8888888888888888,
              "#fdca26"
             ],
             [
              1,
              "#f0f921"
             ]
            ],
            "type": "contour"
           }
          ],
          "contourcarpet": [
           {
            "colorbar": {
             "outlinewidth": 0,
             "ticks": ""
            },
            "type": "contourcarpet"
           }
          ],
          "heatmap": [
           {
            "colorbar": {
             "outlinewidth": 0,
             "ticks": ""
            },
            "colorscale": [
             [
              0,
              "#0d0887"
             ],
             [
              0.1111111111111111,
              "#46039f"
             ],
             [
              0.2222222222222222,
              "#7201a8"
             ],
             [
              0.3333333333333333,
              "#9c179e"
             ],
             [
              0.4444444444444444,
              "#bd3786"
             ],
             [
              0.5555555555555556,
              "#d8576b"
             ],
             [
              0.6666666666666666,
              "#ed7953"
             ],
             [
              0.7777777777777778,
              "#fb9f3a"
             ],
             [
              0.8888888888888888,
              "#fdca26"
             ],
             [
              1,
              "#f0f921"
             ]
            ],
            "type": "heatmap"
           }
          ],
          "heatmapgl": [
           {
            "colorbar": {
             "outlinewidth": 0,
             "ticks": ""
            },
            "colorscale": [
             [
              0,
              "#0d0887"
             ],
             [
              0.1111111111111111,
              "#46039f"
             ],
             [
              0.2222222222222222,
              "#7201a8"
             ],
             [
              0.3333333333333333,
              "#9c179e"
             ],
             [
              0.4444444444444444,
              "#bd3786"
             ],
             [
              0.5555555555555556,
              "#d8576b"
             ],
             [
              0.6666666666666666,
              "#ed7953"
             ],
             [
              0.7777777777777778,
              "#fb9f3a"
             ],
             [
              0.8888888888888888,
              "#fdca26"
             ],
             [
              1,
              "#f0f921"
             ]
            ],
            "type": "heatmapgl"
           }
          ],
          "histogram": [
           {
            "marker": {
             "pattern": {
              "fillmode": "overlay",
              "size": 10,
              "solidity": 0.2
             }
            },
            "type": "histogram"
           }
          ],
          "histogram2d": [
           {
            "colorbar": {
             "outlinewidth": 0,
             "ticks": ""
            },
            "colorscale": [
             [
              0,
              "#0d0887"
             ],
             [
              0.1111111111111111,
              "#46039f"
             ],
             [
              0.2222222222222222,
              "#7201a8"
             ],
             [
              0.3333333333333333,
              "#9c179e"
             ],
             [
              0.4444444444444444,
              "#bd3786"
             ],
             [
              0.5555555555555556,
              "#d8576b"
             ],
             [
              0.6666666666666666,
              "#ed7953"
             ],
             [
              0.7777777777777778,
              "#fb9f3a"
             ],
             [
              0.8888888888888888,
              "#fdca26"
             ],
             [
              1,
              "#f0f921"
             ]
            ],
            "type": "histogram2d"
           }
          ],
          "histogram2dcontour": [
           {
            "colorbar": {
             "outlinewidth": 0,
             "ticks": ""
            },
            "colorscale": [
             [
              0,
              "#0d0887"
             ],
             [
              0.1111111111111111,
              "#46039f"
             ],
             [
              0.2222222222222222,
              "#7201a8"
             ],
             [
              0.3333333333333333,
              "#9c179e"
             ],
             [
              0.4444444444444444,
              "#bd3786"
             ],
             [
              0.5555555555555556,
              "#d8576b"
             ],
             [
              0.6666666666666666,
              "#ed7953"
             ],
             [
              0.7777777777777778,
              "#fb9f3a"
             ],
             [
              0.8888888888888888,
              "#fdca26"
             ],
             [
              1,
              "#f0f921"
             ]
            ],
            "type": "histogram2dcontour"
           }
          ],
          "mesh3d": [
           {
            "colorbar": {
             "outlinewidth": 0,
             "ticks": ""
            },
            "type": "mesh3d"
           }
          ],
          "parcoords": [
           {
            "line": {
             "colorbar": {
              "outlinewidth": 0,
              "ticks": ""
             }
            },
            "type": "parcoords"
           }
          ],
          "pie": [
           {
            "automargin": true,
            "type": "pie"
           }
          ],
          "scatter": [
           {
            "fillpattern": {
             "fillmode": "overlay",
             "size": 10,
             "solidity": 0.2
            },
            "type": "scatter"
           }
          ],
          "scatter3d": [
           {
            "line": {
             "colorbar": {
              "outlinewidth": 0,
              "ticks": ""
             }
            },
            "marker": {
             "colorbar": {
              "outlinewidth": 0,
              "ticks": ""
             }
            },
            "type": "scatter3d"
           }
          ],
          "scattercarpet": [
           {
            "marker": {
             "colorbar": {
              "outlinewidth": 0,
              "ticks": ""
             }
            },
            "type": "scattercarpet"
           }
          ],
          "scattergeo": [
           {
            "marker": {
             "colorbar": {
              "outlinewidth": 0,
              "ticks": ""
             }
            },
            "type": "scattergeo"
           }
          ],
          "scattergl": [
           {
            "marker": {
             "colorbar": {
              "outlinewidth": 0,
              "ticks": ""
             }
            },
            "type": "scattergl"
           }
          ],
          "scattermapbox": [
           {
            "marker": {
             "colorbar": {
              "outlinewidth": 0,
              "ticks": ""
             }
            },
            "type": "scattermapbox"
           }
          ],
          "scatterpolar": [
           {
            "marker": {
             "colorbar": {
              "outlinewidth": 0,
              "ticks": ""
             }
            },
            "type": "scatterpolar"
           }
          ],
          "scatterpolargl": [
           {
            "marker": {
             "colorbar": {
              "outlinewidth": 0,
              "ticks": ""
             }
            },
            "type": "scatterpolargl"
           }
          ],
          "scatterternary": [
           {
            "marker": {
             "colorbar": {
              "outlinewidth": 0,
              "ticks": ""
             }
            },
            "type": "scatterternary"
           }
          ],
          "surface": [
           {
            "colorbar": {
             "outlinewidth": 0,
             "ticks": ""
            },
            "colorscale": [
             [
              0,
              "#0d0887"
             ],
             [
              0.1111111111111111,
              "#46039f"
             ],
             [
              0.2222222222222222,
              "#7201a8"
             ],
             [
              0.3333333333333333,
              "#9c179e"
             ],
             [
              0.4444444444444444,
              "#bd3786"
             ],
             [
              0.5555555555555556,
              "#d8576b"
             ],
             [
              0.6666666666666666,
              "#ed7953"
             ],
             [
              0.7777777777777778,
              "#fb9f3a"
             ],
             [
              0.8888888888888888,
              "#fdca26"
             ],
             [
              1,
              "#f0f921"
             ]
            ],
            "type": "surface"
           }
          ],
          "table": [
           {
            "cells": {
             "fill": {
              "color": "#EBF0F8"
             },
             "line": {
              "color": "white"
             }
            },
            "header": {
             "fill": {
              "color": "#C8D4E3"
             },
             "line": {
              "color": "white"
             }
            },
            "type": "table"
           }
          ]
         },
         "layout": {
          "annotationdefaults": {
           "arrowcolor": "#2a3f5f",
           "arrowhead": 0,
           "arrowwidth": 1
          },
          "autotypenumbers": "strict",
          "coloraxis": {
           "colorbar": {
            "outlinewidth": 0,
            "ticks": ""
           }
          },
          "colorscale": {
           "diverging": [
            [
             0,
             "#8e0152"
            ],
            [
             0.1,
             "#c51b7d"
            ],
            [
             0.2,
             "#de77ae"
            ],
            [
             0.3,
             "#f1b6da"
            ],
            [
             0.4,
             "#fde0ef"
            ],
            [
             0.5,
             "#f7f7f7"
            ],
            [
             0.6,
             "#e6f5d0"
            ],
            [
             0.7,
             "#b8e186"
            ],
            [
             0.8,
             "#7fbc41"
            ],
            [
             0.9,
             "#4d9221"
            ],
            [
             1,
             "#276419"
            ]
           ],
           "sequential": [
            [
             0,
             "#0d0887"
            ],
            [
             0.1111111111111111,
             "#46039f"
            ],
            [
             0.2222222222222222,
             "#7201a8"
            ],
            [
             0.3333333333333333,
             "#9c179e"
            ],
            [
             0.4444444444444444,
             "#bd3786"
            ],
            [
             0.5555555555555556,
             "#d8576b"
            ],
            [
             0.6666666666666666,
             "#ed7953"
            ],
            [
             0.7777777777777778,
             "#fb9f3a"
            ],
            [
             0.8888888888888888,
             "#fdca26"
            ],
            [
             1,
             "#f0f921"
            ]
           ],
           "sequentialminus": [
            [
             0,
             "#0d0887"
            ],
            [
             0.1111111111111111,
             "#46039f"
            ],
            [
             0.2222222222222222,
             "#7201a8"
            ],
            [
             0.3333333333333333,
             "#9c179e"
            ],
            [
             0.4444444444444444,
             "#bd3786"
            ],
            [
             0.5555555555555556,
             "#d8576b"
            ],
            [
             0.6666666666666666,
             "#ed7953"
            ],
            [
             0.7777777777777778,
             "#fb9f3a"
            ],
            [
             0.8888888888888888,
             "#fdca26"
            ],
            [
             1,
             "#f0f921"
            ]
           ]
          },
          "colorway": [
           "#636efa",
           "#EF553B",
           "#00cc96",
           "#ab63fa",
           "#FFA15A",
           "#19d3f3",
           "#FF6692",
           "#B6E880",
           "#FF97FF",
           "#FECB52"
          ],
          "font": {
           "color": "#2a3f5f"
          },
          "geo": {
           "bgcolor": "white",
           "lakecolor": "white",
           "landcolor": "#E5ECF6",
           "showlakes": true,
           "showland": true,
           "subunitcolor": "white"
          },
          "hoverlabel": {
           "align": "left"
          },
          "hovermode": "closest",
          "mapbox": {
           "style": "light"
          },
          "paper_bgcolor": "white",
          "plot_bgcolor": "#E5ECF6",
          "polar": {
           "angularaxis": {
            "gridcolor": "white",
            "linecolor": "white",
            "ticks": ""
           },
           "bgcolor": "#E5ECF6",
           "radialaxis": {
            "gridcolor": "white",
            "linecolor": "white",
            "ticks": ""
           }
          },
          "scene": {
           "xaxis": {
            "backgroundcolor": "#E5ECF6",
            "gridcolor": "white",
            "gridwidth": 2,
            "linecolor": "white",
            "showbackground": true,
            "ticks": "",
            "zerolinecolor": "white"
           },
           "yaxis": {
            "backgroundcolor": "#E5ECF6",
            "gridcolor": "white",
            "gridwidth": 2,
            "linecolor": "white",
            "showbackground": true,
            "ticks": "",
            "zerolinecolor": "white"
           },
           "zaxis": {
            "backgroundcolor": "#E5ECF6",
            "gridcolor": "white",
            "gridwidth": 2,
            "linecolor": "white",
            "showbackground": true,
            "ticks": "",
            "zerolinecolor": "white"
           }
          },
          "shapedefaults": {
           "line": {
            "color": "#2a3f5f"
           }
          },
          "ternary": {
           "aaxis": {
            "gridcolor": "white",
            "linecolor": "white",
            "ticks": ""
           },
           "baxis": {
            "gridcolor": "white",
            "linecolor": "white",
            "ticks": ""
           },
           "bgcolor": "#E5ECF6",
           "caxis": {
            "gridcolor": "white",
            "linecolor": "white",
            "ticks": ""
           }
          },
          "title": {
           "x": 0.05
          },
          "xaxis": {
           "automargin": true,
           "gridcolor": "white",
           "linecolor": "white",
           "ticks": "",
           "title": {
            "standoff": 15
           },
           "zerolinecolor": "white",
           "zerolinewidth": 2
          },
          "yaxis": {
           "automargin": true,
           "gridcolor": "white",
           "linecolor": "white",
           "ticks": "",
           "title": {
            "standoff": 15
           },
           "zerolinecolor": "white",
           "zerolinewidth": 2
          }
         }
        },
        "title": {
         "font": {
          "color": "#4D5663"
         }
        },
        "xaxis": {
         "autorange": true,
         "gridcolor": "#E1E5ED",
         "range": [
          -0.5,
          3.5
         ],
         "showgrid": true,
         "tickfont": {
          "color": "#4D5663"
         },
         "title": {
          "font": {
           "color": "#4D5663"
          },
          "text": ""
         },
         "type": "category",
         "zerolinecolor": "#E1E5ED"
        },
        "yaxis": {
         "autorange": true,
         "gridcolor": "#E1E5ED",
         "range": [
          -2.7738226313083465,
          3.1151547694390764
         ],
         "showgrid": true,
         "tickfont": {
          "color": "#4D5663"
         },
         "title": {
          "font": {
           "color": "#4D5663"
          },
          "text": ""
         },
         "type": "linear",
         "zerolinecolor": "#E1E5ED"
        }
       }
      },
      "image/png": "[encoded data removed]",
      "text/html": [
       "<div>                            <div id=\"492f0110-85ef-40ec-b17e-90f1d7bb8973\" class=\"plotly-graph-div\" style=\"height:525px; width:100%;\"></div>            <script type=\"text/javascript\">                require([\"plotly\"], function(Plotly) {                    window.PLOTLYENV=window.PLOTLYENV || {};\n",
       "                    window.PLOTLYENV.BASE_URL='https://plot.ly';                                    if (document.getElementById(\"492f0110-85ef-40ec-b17e-90f1d7bb8973\")) {                    Plotly.newPlot(                        \"492f0110-85ef-40ec-b17e-90f1d7bb8973\",                        [{\"boxpoints\":false,\"line\":{\"width\":1.3},\"marker\":{\"color\":\"rgba(255, 153, 51, 1.0)\"},\"name\":\"A\",\"orientation\":\"v\",\"y\":[0.29925552254576165,-1.011041779205554,-0.5186900863586638,-0.3828217817492648,-0.30927380397760446,0.6652818442678666,-0.22391389891936955,-0.24552960736839285,-1.9729621488923037,-0.1270387319252311,0.7747801811502151,0.09795908528664474,0.8929236677497698,0.20187969491046906,-0.8188495086655256,-0.12106198188240833,-0.6988584323192542,0.9050943018885463,0.49840793884265266,-0.9287052444313292,-0.4739277566927989,2.8207058994017054,-1.1300495739122436,1.7922738360878419,-0.3722204804935097,0.6196710190455824,0.42286628491220846,-0.08201217140566631,-0.822929168212544,2.2132431936258605,-0.07338177118678733,-0.7110858990763125,-0.2845400209239793,1.7102445886679856,-0.25360285658795656,1.373955494233924,0.1573245211525778,0.9179588000871358,1.4501656733343136,-0.3387058812164145,0.12752580527569551,0.09335592361703186,0.46755752620666796,-0.07728801968237105,-0.9010152681152521,-1.591414215809626,-1.539602646535873,-0.15053439886828743,-0.19059529732657582,0.28721444365992915,-0.42865126117404906,0.8253179141257997,-0.11172062284287053,0.6540991103515579,0.13745318590332364,1.7416753476030007,0.9540371329646546,0.5056558817518302,-0.90976828526663,0.9779440865005324,0.2226888697654056,-0.8123423017698557,0.8714764920706584,0.9597275072579795,1.3064080640044275,0.20089689763769625,0.6570047504187573,1.7712950311135016,0.758540342623224,-0.6999542696208285,-0.5296140031022785,-1.6278767145392647,0.52167480285576,-0.7262821978900574,0.43170230912564883,-1.9501271155499578,-0.15320748824202288,0.37342241042171925,0.02937078492454944,-0.7474020628442967,-0.8206850171791942,-0.9731997454172197,-0.8574662943143303,1.3631115358844874,-0.7325551730875081,0.32377382134675764,0.5837719300271894,-0.02981233759013717,0.07775300634035513,0.04632126687899852,0.8207828952495825,0.8663286865331438,-0.251598688319945,0.3853995691958181,0.8375831493796876,0.5066547754126097,0.8275361547809248,0.03135518353477385,0.4371432677710562,-1.0527954649016038],\"type\":\"box\"},{\"boxpoints\":false,\"line\":{\"width\":1.3},\"marker\":{\"color\":\"rgba(55, 128, 191, 1.0)\"},\"name\":\"B\",\"orientation\":\"v\",\"y\":[-1.713173337968297,0.16463881583930215,-0.34641472283923375,-0.7595751733051315,1.8457908877737206,-0.21433429456110126,0.5124726487289849,1.437139990683677,0.6547777163218743,-0.013712678511071783,1.195708708470215,-0.19338978575811494,1.0102460462298848,-0.21334392761340226,0.19559412341150936,-0.8752839354002775,0.4096257270108291,-0.22866927545330804,-0.6069472783316819,0.12373879396409523,-1.2276604990058457,0.6010948363729458,0.4486512408929953,-0.49226693659304877,1.1159469633589956,-0.2133286556842512,-0.14082002882471792,1.0232543671980927,1.0487421873111291,-2.4058895957897612,-0.6263467808267238,-0.0535980194419228,-0.9697997059269032,-0.15393169598037867,-1.337531465339447,-1.8931093783678372,0.6531828644393675,0.1389289985343312,-1.2541133575089387,0.4075596248250558,0.28298950142601137,1.0159265252281,-0.5224631731621188,-0.732919324083606,0.953776621920564,-0.13175696682988694,0.4423720801760704,-2.0600703856891096,-0.2634038014696138,1.7969489763358557,-1.9328347947417628,0.12617300283094043,-0.06565066349539632,-0.255661121065549,-0.6753136577711945,-0.07234099887043406,0.7673623555981366,0.4959852463397566,-0.18199980527914109,0.389248533735029,-0.7478685197683522,0.012026132107050867,-1.8575220704136997,1.3694473521161734,-1.3884475997112322,0.01901705187140966,-1.0233698840410335,-0.7350923368030766,-0.18320340477385902,-0.3313476869735953,0.9446094346728854,0.13984453539392488,0.17647290803347712,-1.0722859198372872,-1.711183803392291,0.23813046063428772,0.18938486313991962,-1.0485551278432355,-0.4328810726807365,-0.7535732326589286,0.7408847778271608,-1.089504315225977,0.8192744630098808,-0.2562666205721067,0.007890140272847193,0.6257507665227129,-0.5629911840117975,-0.03906926625490238,0.148686082542415,0.2810631813885742,1.9243785137765812,0.17187484975152728,1.0688283176452438,-0.3163367926495648,1.9130406772984856,0.8787427413449688,-1.2205222953409034,-1.200783415119851,0.18552969644269862,-0.2549852401407603],\"type\":\"box\"},{\"boxpoints\":false,\"line\":{\"width\":1.3},\"marker\":{\"color\":\"rgba(50, 171, 96, 1.0)\"},\"name\":\"C\",\"orientation\":\"v\",\"y\":[-1.3456606846294052,0.5895284155409911,-2.265446518321988,-0.3040595612451563,-1.4352207544271658,-0.900233739695578,0.2162329410392335,-0.8477553578869945,0.2199210890787251,0.029451150741701033,-2.1232035122256065,-0.7462854444893672,-0.06063410968953736,1.6985610322895328,-0.43729148945683866,0.05692436109507748,-1.8601493453303881,-0.0821997875255117,0.9154310436792841,-0.04630079631360709,1.4957572236847312,0.35774376913988176,1.3566638106896118,-0.3371424200641299,-0.609928733221454,0.2731175633992837,0.42852321505384566,-1.6866996078440353,-0.12465581181358817,0.5086419424337107,-1.227366268616366,0.23516570538076914,0.2603848247467958,-0.23941587472391318,0.03551607940517475,0.609387497857241,1.1003249486167004,-0.7362914284027954,0.059538871798452984,0.3888650743485843,-0.24389289870559744,1.13397444768638,0.8546797398974391,0.4201180657802193,-0.940622379712996,0.16391072978601387,-0.5110314596332228,-0.9884283249768397,-0.6081389626173525,-1.1340186063111575,0.35115508702523274,-0.6588447416539652,-1.342505089624679,-0.3869472070011788,-0.32639287152988083,-0.6499099996505723,-0.27366491962982475,-0.13612146575669448,0.8809269012902251,-1.1912491505326692,-0.24890064399062667,-0.2971728436040609,0.11836273075569706,-1.057972900788718,0.5146961907508886,0.20038098168860446,-0.5891722371838476,0.23244888139948644,0.21750620069341245,-0.5795740883100473,0.09018573850734177,0.853853240509046,1.9983666464685519,-1.8954822060989658,1.754852594725883,0.19084986352255978,-0.3845387497075328,-1.3009328500240576,0.2221088951254746,0.5984788054752173,0.14639374465444555,1.8882970920972084,-2.008401893338328,0.1386097248602371,0.7463479297934115,-0.8215597933432001,-1.1664854245190575,-0.3031386235822503,-0.36055129288817067,-0.40820099716418895,-0.5763988054209849,-0.683343180022325,-1.3024687462502815,-0.746834906444901,1.4597363890696786,0.6946900721683419,0.8739381406764574,0.6819793726595158,0.5083759650529504,1.344830395710999],\"type\":\"box\"},{\"boxpoints\":false,\"line\":{\"width\":1.3},\"marker\":{\"color\":\"rgba(128, 0, 128, 1.0)\"},\"name\":\"D\",\"orientation\":\"v\",\"y\":[0.5018574017192605,1.0782535393916226,0.568796709596952,0.2036950006341363,0.7849892146214591,0.48000959289378786,0.35986046736783805,-1.7852691538744756,-0.2996915848722144,1.1564475612125333,0.051074214076615394,0.7764321290143538,-1.1175759248652855,-0.24728856214895104,1.3263796290507757,-0.4285467267650269,1.2759321118878388,0.8037925173987338,0.7819492351647368,1.0758735654743308,0.7210606328024203,1.2186361220101716,2.1935562180463783,-0.49896896310831407,0.4013548560430032,0.31810165737317614,-0.27796953078475395,-1.8636293228563015,0.4454398176844966,1.195401658277943,-0.6855060852970423,0.47980609849661626,-1.5479540549228206,-1.4552426939733916,1.4267657816278758,-0.7138382584873416,0.018015418224353635,0.42110384749845214,1.4602094381806838,0.07530742660165404,-0.08961578610340556,-1.1639856851403072,-0.02043964563297272,-1.3641386341120363,-0.5835699836049469,-0.9351175483694667,-0.29919151126586724,0.7624712006312411,0.7795623114147803,1.721763603194762,-1.2383947221719818,-0.6427103737886317,0.75396647684985,-0.6493305403245406,-0.7078129681664773,-0.3494909468608757,1.4332248236304639,0.6142940980344876,1.8070893325778903,0.3719354406321682,0.8209978346959457,1.1666299159634204,1.455625270563245,-1.140093644273744,-1.0953246514602062,-0.6321257689543668,-0.4867141786339963,0.1963880824590929,-0.4395719045967569,0.2917038736535683,-0.4584554130364333,1.3629703496255239,-0.2894619174101874,-0.27767288153057923,0.5367489163509358,1.3273492637955242,1.0088329659389959,0.19882769884916407,-0.028662307732223887,0.40582195716123337,2.4817132056762805,-1.1251494514493936,-1.3785355854205101,0.5578289475062926,1.0691795038626253,-0.1256942625051536,0.6934436037097989,0.2637781887356134,-0.17709883287935585,-1.2182972741350941,0.19909941833152142,0.8349788934312267,-2.4793737612709754,-0.5213544012324818,0.5484162102334881,-0.784792661670148,-0.9136347038700877,0.8300695566817942,1.407054346021127,-1.141741760605707],\"type\":\"box\"}],                        {\"legend\":{\"bgcolor\":\"#F5F6F9\",\"font\":{\"color\":\"#4D5663\"}},\"paper_bgcolor\":\"#F5F6F9\",\"plot_bgcolor\":\"#F5F6F9\",\"template\":{\"data\":{\"barpolar\":[{\"marker\":{\"line\":{\"color\":\"#E5ECF6\",\"width\":0.5},\"pattern\":{\"fillmode\":\"overlay\",\"size\":10,\"solidity\":0.2}},\"type\":\"barpolar\"}],\"bar\":[{\"error_x\":{\"color\":\"#2a3f5f\"},\"error_y\":{\"color\":\"#2a3f5f\"},\"marker\":{\"line\":{\"color\":\"#E5ECF6\",\"width\":0.5},\"pattern\":{\"fillmode\":\"overlay\",\"size\":10,\"solidity\":0.2}},\"type\":\"bar\"}],\"carpet\":[{\"aaxis\":{\"endlinecolor\":\"#2a3f5f\",\"gridcolor\":\"white\",\"linecolor\":\"white\",\"minorgridcolor\":\"white\",\"startlinecolor\":\"#2a3f5f\"},\"baxis\":{\"endlinecolor\":\"#2a3f5f\",\"gridcolor\":\"white\",\"linecolor\":\"white\",\"minorgridcolor\":\"white\",\"startlinecolor\":\"#2a3f5f\"},\"type\":\"carpet\"}],\"choropleth\":[{\"colorbar\":{\"outlinewidth\":0,\"ticks\":\"\"},\"type\":\"choropleth\"}],\"contourcarpet\":[{\"colorbar\":{\"outlinewidth\":0,\"ticks\":\"\"},\"type\":\"contourcarpet\"}],\"contour\":[{\"colorbar\":{\"outlinewidth\":0,\"ticks\":\"\"},\"colorscale\":[[0.0,\"#0d0887\"],[0.1111111111111111,\"#46039f\"],[0.2222222222222222,\"#7201a8\"],[0.3333333333333333,\"#9c179e\"],[0.4444444444444444,\"#bd3786\"],[0.5555555555555556,\"#d8576b\"],[0.6666666666666666,\"#ed7953\"],[0.7777777777777778,\"#fb9f3a\"],[0.8888888888888888,\"#fdca26\"],[1.0,\"#f0f921\"]],\"type\":\"contour\"}],\"heatmapgl\":[{\"colorbar\":{\"outlinewidth\":0,\"ticks\":\"\"},\"colorscale\":[[0.0,\"#0d0887\"],[0.1111111111111111,\"#46039f\"],[0.2222222222222222,\"#7201a8\"],[0.3333333333333333,\"#9c179e\"],[0.4444444444444444,\"#bd3786\"],[0.5555555555555556,\"#d8576b\"],[0.6666666666666666,\"#ed7953\"],[0.7777777777777778,\"#fb9f3a\"],[0.8888888888888888,\"#fdca26\"],[1.0,\"#f0f921\"]],\"type\":\"heatmapgl\"}],\"heatmap\":[{\"colorbar\":{\"outlinewidth\":0,\"ticks\":\"\"},\"colorscale\":[[0.0,\"#0d0887\"],[0.1111111111111111,\"#46039f\"],[0.2222222222222222,\"#7201a8\"],[0.3333333333333333,\"#9c179e\"],[0.4444444444444444,\"#bd3786\"],[0.5555555555555556,\"#d8576b\"],[0.6666666666666666,\"#ed7953\"],[0.7777777777777778,\"#fb9f3a\"],[0.8888888888888888,\"#fdca26\"],[1.0,\"#f0f921\"]],\"type\":\"heatmap\"}],\"histogram2dcontour\":[{\"colorbar\":{\"outlinewidth\":0,\"ticks\":\"\"},\"colorscale\":[[0.0,\"#0d0887\"],[0.1111111111111111,\"#46039f\"],[0.2222222222222222,\"#7201a8\"],[0.3333333333333333,\"#9c179e\"],[0.4444444444444444,\"#bd3786\"],[0.5555555555555556,\"#d8576b\"],[0.6666666666666666,\"#ed7953\"],[0.7777777777777778,\"#fb9f3a\"],[0.8888888888888888,\"#fdca26\"],[1.0,\"#f0f921\"]],\"type\":\"histogram2dcontour\"}],\"histogram2d\":[{\"colorbar\":{\"outlinewidth\":0,\"ticks\":\"\"},\"colorscale\":[[0.0,\"#0d0887\"],[0.1111111111111111,\"#46039f\"],[0.2222222222222222,\"#7201a8\"],[0.3333333333333333,\"#9c179e\"],[0.4444444444444444,\"#bd3786\"],[0.5555555555555556,\"#d8576b\"],[0.6666666666666666,\"#ed7953\"],[0.7777777777777778,\"#fb9f3a\"],[0.8888888888888888,\"#fdca26\"],[1.0,\"#f0f921\"]],\"type\":\"histogram2d\"}],\"histogram\":[{\"marker\":{\"pattern\":{\"fillmode\":\"overlay\",\"size\":10,\"solidity\":0.2}},\"type\":\"histogram\"}],\"mesh3d\":[{\"colorbar\":{\"outlinewidth\":0,\"ticks\":\"\"},\"type\":\"mesh3d\"}],\"parcoords\":[{\"line\":{\"colorbar\":{\"outlinewidth\":0,\"ticks\":\"\"}},\"type\":\"parcoords\"}],\"pie\":[{\"automargin\":true,\"type\":\"pie\"}],\"scatter3d\":[{\"line\":{\"colorbar\":{\"outlinewidth\":0,\"ticks\":\"\"}},\"marker\":{\"colorbar\":{\"outlinewidth\":0,\"ticks\":\"\"}},\"type\":\"scatter3d\"}],\"scattercarpet\":[{\"marker\":{\"colorbar\":{\"outlinewidth\":0,\"ticks\":\"\"}},\"type\":\"scattercarpet\"}],\"scattergeo\":[{\"marker\":{\"colorbar\":{\"outlinewidth\":0,\"ticks\":\"\"}},\"type\":\"scattergeo\"}],\"scattergl\":[{\"marker\":{\"colorbar\":{\"outlinewidth\":0,\"ticks\":\"\"}},\"type\":\"scattergl\"}],\"scattermapbox\":[{\"marker\":{\"colorbar\":{\"outlinewidth\":0,\"ticks\":\"\"}},\"type\":\"scattermapbox\"}],\"scatterpolargl\":[{\"marker\":{\"colorbar\":{\"outlinewidth\":0,\"ticks\":\"\"}},\"type\":\"scatterpolargl\"}],\"scatterpolar\":[{\"marker\":{\"colorbar\":{\"outlinewidth\":0,\"ticks\":\"\"}},\"type\":\"scatterpolar\"}],\"scatter\":[{\"fillpattern\":{\"fillmode\":\"overlay\",\"size\":10,\"solidity\":0.2},\"type\":\"scatter\"}],\"scatterternary\":[{\"marker\":{\"colorbar\":{\"outlinewidth\":0,\"ticks\":\"\"}},\"type\":\"scatterternary\"}],\"surface\":[{\"colorbar\":{\"outlinewidth\":0,\"ticks\":\"\"},\"colorscale\":[[0.0,\"#0d0887\"],[0.1111111111111111,\"#46039f\"],[0.2222222222222222,\"#7201a8\"],[0.3333333333333333,\"#9c179e\"],[0.4444444444444444,\"#bd3786\"],[0.5555555555555556,\"#d8576b\"],[0.6666666666666666,\"#ed7953\"],[0.7777777777777778,\"#fb9f3a\"],[0.8888888888888888,\"#fdca26\"],[1.0,\"#f0f921\"]],\"type\":\"surface\"}],\"table\":[{\"cells\":{\"fill\":{\"color\":\"#EBF0F8\"},\"line\":{\"color\":\"white\"}},\"header\":{\"fill\":{\"color\":\"#C8D4E3\"},\"line\":{\"color\":\"white\"}},\"type\":\"table\"}]},\"layout\":{\"annotationdefaults\":{\"arrowcolor\":\"#2a3f5f\",\"arrowhead\":0,\"arrowwidth\":1},\"autotypenumbers\":\"strict\",\"coloraxis\":{\"colorbar\":{\"outlinewidth\":0,\"ticks\":\"\"}},\"colorscale\":{\"diverging\":[[0,\"#8e0152\"],[0.1,\"#c51b7d\"],[0.2,\"#de77ae\"],[0.3,\"#f1b6da\"],[0.4,\"#fde0ef\"],[0.5,\"#f7f7f7\"],[0.6,\"#e6f5d0\"],[0.7,\"#b8e186\"],[0.8,\"#7fbc41\"],[0.9,\"#4d9221\"],[1,\"#276419\"]],\"sequential\":[[0.0,\"#0d0887\"],[0.1111111111111111,\"#46039f\"],[0.2222222222222222,\"#7201a8\"],[0.3333333333333333,\"#9c179e\"],[0.4444444444444444,\"#bd3786\"],[0.5555555555555556,\"#d8576b\"],[0.6666666666666666,\"#ed7953\"],[0.7777777777777778,\"#fb9f3a\"],[0.8888888888888888,\"#fdca26\"],[1.0,\"#f0f921\"]],\"sequentialminus\":[[0.0,\"#0d0887\"],[0.1111111111111111,\"#46039f\"],[0.2222222222222222,\"#7201a8\"],[0.3333333333333333,\"#9c179e\"],[0.4444444444444444,\"#bd3786\"],[0.5555555555555556,\"#d8576b\"],[0.6666666666666666,\"#ed7953\"],[0.7777777777777778,\"#fb9f3a\"],[0.8888888888888888,\"#fdca26\"],[1.0,\"#f0f921\"]]},\"colorway\":[\"#636efa\",\"#EF553B\",\"#00cc96\",\"#ab63fa\",\"#FFA15A\",\"#19d3f3\",\"#FF6692\",\"#B6E880\",\"#FF97FF\",\"#FECB52\"],\"font\":{\"color\":\"#2a3f5f\"},\"geo\":{\"bgcolor\":\"white\",\"lakecolor\":\"white\",\"landcolor\":\"#E5ECF6\",\"showlakes\":true,\"showland\":true,\"subunitcolor\":\"white\"},\"hoverlabel\":{\"align\":\"left\"},\"hovermode\":\"closest\",\"mapbox\":{\"style\":\"light\"},\"paper_bgcolor\":\"white\",\"plot_bgcolor\":\"#E5ECF6\",\"polar\":{\"angularaxis\":{\"gridcolor\":\"white\",\"linecolor\":\"white\",\"ticks\":\"\"},\"bgcolor\":\"#E5ECF6\",\"radialaxis\":{\"gridcolor\":\"white\",\"linecolor\":\"white\",\"ticks\":\"\"}},\"scene\":{\"xaxis\":{\"backgroundcolor\":\"#E5ECF6\",\"gridcolor\":\"white\",\"gridwidth\":2,\"linecolor\":\"white\",\"showbackground\":true,\"ticks\":\"\",\"zerolinecolor\":\"white\"},\"yaxis\":{\"backgroundcolor\":\"#E5ECF6\",\"gridcolor\":\"white\",\"gridwidth\":2,\"linecolor\":\"white\",\"showbackground\":true,\"ticks\":\"\",\"zerolinecolor\":\"white\"},\"zaxis\":{\"backgroundcolor\":\"#E5ECF6\",\"gridcolor\":\"white\",\"gridwidth\":2,\"linecolor\":\"white\",\"showbackground\":true,\"ticks\":\"\",\"zerolinecolor\":\"white\"}},\"shapedefaults\":{\"line\":{\"color\":\"#2a3f5f\"}},\"ternary\":{\"aaxis\":{\"gridcolor\":\"white\",\"linecolor\":\"white\",\"ticks\":\"\"},\"baxis\":{\"gridcolor\":\"white\",\"linecolor\":\"white\",\"ticks\":\"\"},\"bgcolor\":\"#E5ECF6\",\"caxis\":{\"gridcolor\":\"white\",\"linecolor\":\"white\",\"ticks\":\"\"}},\"title\":{\"x\":0.05},\"xaxis\":{\"automargin\":true,\"gridcolor\":\"white\",\"linecolor\":\"white\",\"ticks\":\"\",\"title\":{\"standoff\":15},\"zerolinecolor\":\"white\",\"zerolinewidth\":2},\"yaxis\":{\"automargin\":true,\"gridcolor\":\"white\",\"linecolor\":\"white\",\"ticks\":\"\",\"title\":{\"standoff\":15},\"zerolinecolor\":\"white\",\"zerolinewidth\":2}}},\"title\":{\"font\":{\"color\":\"#4D5663\"}},\"xaxis\":{\"gridcolor\":\"#E1E5ED\",\"showgrid\":true,\"tickfont\":{\"color\":\"#4D5663\"},\"title\":{\"font\":{\"color\":\"#4D5663\"},\"text\":\"\"},\"zerolinecolor\":\"#E1E5ED\"},\"yaxis\":{\"gridcolor\":\"#E1E5ED\",\"showgrid\":true,\"tickfont\":{\"color\":\"#4D5663\"},\"title\":{\"font\":{\"color\":\"#4D5663\"},\"text\":\"\"},\"zerolinecolor\":\"#E1E5ED\"}},                        {\"showLink\": true, \"linkText\": \"Export to plot.ly\", \"plotlyServerURL\": \"https://plot.ly\", \"responsive\": true}                    ).then(function(){\n",
       "                            \n",
       "var gd = document.getElementById('492f0110-85ef-40ec-b17e-90f1d7bb8973');\n",
       "var x = new MutationObserver(function (mutations, observer) {{\n",
       "        var display = window.getComputedStyle(gd).display;\n",
       "        if (!display || display === 'none') {{\n",
       "            console.log([gd, 'removed!']);\n",
       "            Plotly.purge(gd);\n",
       "            observer.disconnect();\n",
       "        }}\n",
       "}});\n",
       "\n",
       "// Listen for the removal of the full notebook cells\n",
       "var notebookContainer = gd.closest('#notebook-container');\n",
       "if (notebookContainer) {{\n",
       "    x.observe(notebookContainer, {childList: true});\n",
       "}}\n",
       "\n",
       "// Listen for the clearing of the current output cell\n",
       "var outputEl = gd.closest('.output');\n",
       "if (outputEl) {{\n",
       "    x.observe(outputEl, {childList: true});\n",
       "}}\n",
       "\n",
       "                        })                };                });            </script>        </div>"
      ]
     },
     "metadata": {},
     "output_type": "display_data"
    }
   ],
   "source": [
    "df.iplot(kind='box')"
   ]
  },
  {
   "cell_type": "code",
   "execution_count": 10,
   "id": "ce82c3ae-f80c-4f5d-af09-364df4ff2fb3",
   "metadata": {},
   "outputs": [
    {
     "data": {
      "application/vnd.plotly.v1+json": {
       "config": {
        "linkText": "Export to plot.ly",
        "plotlyServerURL": "https://plot.ly",
        "showLink": true
       },
       "data": [
        {
         "colorscale": [
          [
           0,
           "rgb(165,0,38)"
          ],
          [
           0.1,
           "rgb(215,48,39)"
          ],
          [
           0.2,
           "rgb(244,109,67)"
          ],
          [
           0.3,
           "rgb(253,174,97)"
          ],
          [
           0.4,
           "rgb(254,224,144)"
          ],
          [
           0.5,
           "rgb(255,255,191)"
          ],
          [
           0.6,
           "rgb(224,243,248)"
          ],
          [
           0.7,
           "rgb(171,217,233)"
          ],
          [
           0.8,
           "rgb(116,173,209)"
          ],
          [
           0.9,
           "rgb(69,117,180)"
          ],
          [
           1,
           "rgb(49,54,149)"
          ]
         ],
         "type": "surface",
         "x": [
          0,
          1,
          2,
          3,
          4
         ],
         "y": [
          "x",
          "y",
          "z"
         ],
         "z": [
          [
           1,
           2,
           3,
           4,
           5
          ],
          [
           10,
           20,
           30,
           20,
           10
          ],
          [
           5,
           4,
           3,
           2,
           1
          ]
         ]
        }
       ],
       "layout": {
        "autosize": true,
        "legend": {
         "bgcolor": "#F5F6F9",
         "font": {
          "color": "#4D5663"
         }
        },
        "paper_bgcolor": "#F5F6F9",
        "plot_bgcolor": "#F5F6F9",
        "scene": {
         "aspectmode": "auto",
         "aspectratio": {
          "x": 1,
          "y": 1,
          "z": 1
         }
        },
        "template": {
         "data": {
          "bar": [
           {
            "error_x": {
             "color": "#2a3f5f"
            },
            "error_y": {
             "color": "#2a3f5f"
            },
            "marker": {
             "line": {
              "color": "#E5ECF6",
              "width": 0.5
             },
             "pattern": {
              "fillmode": "overlay",
              "size": 10,
              "solidity": 0.2
             }
            },
            "type": "bar"
           }
          ],
          "barpolar": [
           {
            "marker": {
             "line": {
              "color": "#E5ECF6",
              "width": 0.5
             },
             "pattern": {
              "fillmode": "overlay",
              "size": 10,
              "solidity": 0.2
             }
            },
            "type": "barpolar"
           }
          ],
          "carpet": [
           {
            "aaxis": {
             "endlinecolor": "#2a3f5f",
             "gridcolor": "white",
             "linecolor": "white",
             "minorgridcolor": "white",
             "startlinecolor": "#2a3f5f"
            },
            "baxis": {
             "endlinecolor": "#2a3f5f",
             "gridcolor": "white",
             "linecolor": "white",
             "minorgridcolor": "white",
             "startlinecolor": "#2a3f5f"
            },
            "type": "carpet"
           }
          ],
          "choropleth": [
           {
            "colorbar": {
             "outlinewidth": 0,
             "ticks": ""
            },
            "type": "choropleth"
           }
          ],
          "contour": [
           {
            "colorbar": {
             "outlinewidth": 0,
             "ticks": ""
            },
            "colorscale": [
             [
              0,
              "#0d0887"
             ],
             [
              0.1111111111111111,
              "#46039f"
             ],
             [
              0.2222222222222222,
              "#7201a8"
             ],
             [
              0.3333333333333333,
              "#9c179e"
             ],
             [
              0.4444444444444444,
              "#bd3786"
             ],
             [
              0.5555555555555556,
              "#d8576b"
             ],
             [
              0.6666666666666666,
              "#ed7953"
             ],
             [
              0.7777777777777778,
              "#fb9f3a"
             ],
             [
              0.8888888888888888,
              "#fdca26"
             ],
             [
              1,
              "#f0f921"
             ]
            ],
            "type": "contour"
           }
          ],
          "contourcarpet": [
           {
            "colorbar": {
             "outlinewidth": 0,
             "ticks": ""
            },
            "type": "contourcarpet"
           }
          ],
          "heatmap": [
           {
            "colorbar": {
             "outlinewidth": 0,
             "ticks": ""
            },
            "colorscale": [
             [
              0,
              "#0d0887"
             ],
             [
              0.1111111111111111,
              "#46039f"
             ],
             [
              0.2222222222222222,
              "#7201a8"
             ],
             [
              0.3333333333333333,
              "#9c179e"
             ],
             [
              0.4444444444444444,
              "#bd3786"
             ],
             [
              0.5555555555555556,
              "#d8576b"
             ],
             [
              0.6666666666666666,
              "#ed7953"
             ],
             [
              0.7777777777777778,
              "#fb9f3a"
             ],
             [
              0.8888888888888888,
              "#fdca26"
             ],
             [
              1,
              "#f0f921"
             ]
            ],
            "type": "heatmap"
           }
          ],
          "heatmapgl": [
           {
            "colorbar": {
             "outlinewidth": 0,
             "ticks": ""
            },
            "colorscale": [
             [
              0,
              "#0d0887"
             ],
             [
              0.1111111111111111,
              "#46039f"
             ],
             [
              0.2222222222222222,
              "#7201a8"
             ],
             [
              0.3333333333333333,
              "#9c179e"
             ],
             [
              0.4444444444444444,
              "#bd3786"
             ],
             [
              0.5555555555555556,
              "#d8576b"
             ],
             [
              0.6666666666666666,
              "#ed7953"
             ],
             [
              0.7777777777777778,
              "#fb9f3a"
             ],
             [
              0.8888888888888888,
              "#fdca26"
             ],
             [
              1,
              "#f0f921"
             ]
            ],
            "type": "heatmapgl"
           }
          ],
          "histogram": [
           {
            "marker": {
             "pattern": {
              "fillmode": "overlay",
              "size": 10,
              "solidity": 0.2
             }
            },
            "type": "histogram"
           }
          ],
          "histogram2d": [
           {
            "colorbar": {
             "outlinewidth": 0,
             "ticks": ""
            },
            "colorscale": [
             [
              0,
              "#0d0887"
             ],
             [
              0.1111111111111111,
              "#46039f"
             ],
             [
              0.2222222222222222,
              "#7201a8"
             ],
             [
              0.3333333333333333,
              "#9c179e"
             ],
             [
              0.4444444444444444,
              "#bd3786"
             ],
             [
              0.5555555555555556,
              "#d8576b"
             ],
             [
              0.6666666666666666,
              "#ed7953"
             ],
             [
              0.7777777777777778,
              "#fb9f3a"
             ],
             [
              0.8888888888888888,
              "#fdca26"
             ],
             [
              1,
              "#f0f921"
             ]
            ],
            "type": "histogram2d"
           }
          ],
          "histogram2dcontour": [
           {
            "colorbar": {
             "outlinewidth": 0,
             "ticks": ""
            },
            "colorscale": [
             [
              0,
              "#0d0887"
             ],
             [
              0.1111111111111111,
              "#46039f"
             ],
             [
              0.2222222222222222,
              "#7201a8"
             ],
             [
              0.3333333333333333,
              "#9c179e"
             ],
             [
              0.4444444444444444,
              "#bd3786"
             ],
             [
              0.5555555555555556,
              "#d8576b"
             ],
             [
              0.6666666666666666,
              "#ed7953"
             ],
             [
              0.7777777777777778,
              "#fb9f3a"
             ],
             [
              0.8888888888888888,
              "#fdca26"
             ],
             [
              1,
              "#f0f921"
             ]
            ],
            "type": "histogram2dcontour"
           }
          ],
          "mesh3d": [
           {
            "colorbar": {
             "outlinewidth": 0,
             "ticks": ""
            },
            "type": "mesh3d"
           }
          ],
          "parcoords": [
           {
            "line": {
             "colorbar": {
              "outlinewidth": 0,
              "ticks": ""
             }
            },
            "type": "parcoords"
           }
          ],
          "pie": [
           {
            "automargin": true,
            "type": "pie"
           }
          ],
          "scatter": [
           {
            "fillpattern": {
             "fillmode": "overlay",
             "size": 10,
             "solidity": 0.2
            },
            "type": "scatter"
           }
          ],
          "scatter3d": [
           {
            "line": {
             "colorbar": {
              "outlinewidth": 0,
              "ticks": ""
             }
            },
            "marker": {
             "colorbar": {
              "outlinewidth": 0,
              "ticks": ""
             }
            },
            "type": "scatter3d"
           }
          ],
          "scattercarpet": [
           {
            "marker": {
             "colorbar": {
              "outlinewidth": 0,
              "ticks": ""
             }
            },
            "type": "scattercarpet"
           }
          ],
          "scattergeo": [
           {
            "marker": {
             "colorbar": {
              "outlinewidth": 0,
              "ticks": ""
             }
            },
            "type": "scattergeo"
           }
          ],
          "scattergl": [
           {
            "marker": {
             "colorbar": {
              "outlinewidth": 0,
              "ticks": ""
             }
            },
            "type": "scattergl"
           }
          ],
          "scattermapbox": [
           {
            "marker": {
             "colorbar": {
              "outlinewidth": 0,
              "ticks": ""
             }
            },
            "type": "scattermapbox"
           }
          ],
          "scatterpolar": [
           {
            "marker": {
             "colorbar": {
              "outlinewidth": 0,
              "ticks": ""
             }
            },
            "type": "scatterpolar"
           }
          ],
          "scatterpolargl": [
           {
            "marker": {
             "colorbar": {
              "outlinewidth": 0,
              "ticks": ""
             }
            },
            "type": "scatterpolargl"
           }
          ],
          "scatterternary": [
           {
            "marker": {
             "colorbar": {
              "outlinewidth": 0,
              "ticks": ""
             }
            },
            "type": "scatterternary"
           }
          ],
          "surface": [
           {
            "colorbar": {
             "outlinewidth": 0,
             "ticks": ""
            },
            "colorscale": [
             [
              0,
              "#0d0887"
             ],
             [
              0.1111111111111111,
              "#46039f"
             ],
             [
              0.2222222222222222,
              "#7201a8"
             ],
             [
              0.3333333333333333,
              "#9c179e"
             ],
             [
              0.4444444444444444,
              "#bd3786"
             ],
             [
              0.5555555555555556,
              "#d8576b"
             ],
             [
              0.6666666666666666,
              "#ed7953"
             ],
             [
              0.7777777777777778,
              "#fb9f3a"
             ],
             [
              0.8888888888888888,
              "#fdca26"
             ],
             [
              1,
              "#f0f921"
             ]
            ],
            "type": "surface"
           }
          ],
          "table": [
           {
            "cells": {
             "fill": {
              "color": "#EBF0F8"
             },
             "line": {
              "color": "white"
             }
            },
            "header": {
             "fill": {
              "color": "#C8D4E3"
             },
             "line": {
              "color": "white"
             }
            },
            "type": "table"
           }
          ]
         },
         "layout": {
          "annotationdefaults": {
           "arrowcolor": "#2a3f5f",
           "arrowhead": 0,
           "arrowwidth": 1
          },
          "autotypenumbers": "strict",
          "coloraxis": {
           "colorbar": {
            "outlinewidth": 0,
            "ticks": ""
           }
          },
          "colorscale": {
           "diverging": [
            [
             0,
             "#8e0152"
            ],
            [
             0.1,
             "#c51b7d"
            ],
            [
             0.2,
             "#de77ae"
            ],
            [
             0.3,
             "#f1b6da"
            ],
            [
             0.4,
             "#fde0ef"
            ],
            [
             0.5,
             "#f7f7f7"
            ],
            [
             0.6,
             "#e6f5d0"
            ],
            [
             0.7,
             "#b8e186"
            ],
            [
             0.8,
             "#7fbc41"
            ],
            [
             0.9,
             "#4d9221"
            ],
            [
             1,
             "#276419"
            ]
           ],
           "sequential": [
            [
             0,
             "#0d0887"
            ],
            [
             0.1111111111111111,
             "#46039f"
            ],
            [
             0.2222222222222222,
             "#7201a8"
            ],
            [
             0.3333333333333333,
             "#9c179e"
            ],
            [
             0.4444444444444444,
             "#bd3786"
            ],
            [
             0.5555555555555556,
             "#d8576b"
            ],
            [
             0.6666666666666666,
             "#ed7953"
            ],
            [
             0.7777777777777778,
             "#fb9f3a"
            ],
            [
             0.8888888888888888,
             "#fdca26"
            ],
            [
             1,
             "#f0f921"
            ]
           ],
           "sequentialminus": [
            [
             0,
             "#0d0887"
            ],
            [
             0.1111111111111111,
             "#46039f"
            ],
            [
             0.2222222222222222,
             "#7201a8"
            ],
            [
             0.3333333333333333,
             "#9c179e"
            ],
            [
             0.4444444444444444,
             "#bd3786"
            ],
            [
             0.5555555555555556,
             "#d8576b"
            ],
            [
             0.6666666666666666,
             "#ed7953"
            ],
            [
             0.7777777777777778,
             "#fb9f3a"
            ],
            [
             0.8888888888888888,
             "#fdca26"
            ],
            [
             1,
             "#f0f921"
            ]
           ]
          },
          "colorway": [
           "#636efa",
           "#EF553B",
           "#00cc96",
           "#ab63fa",
           "#FFA15A",
           "#19d3f3",
           "#FF6692",
           "#B6E880",
           "#FF97FF",
           "#FECB52"
          ],
          "font": {
           "color": "#2a3f5f"
          },
          "geo": {
           "bgcolor": "white",
           "lakecolor": "white",
           "landcolor": "#E5ECF6",
           "showlakes": true,
           "showland": true,
           "subunitcolor": "white"
          },
          "hoverlabel": {
           "align": "left"
          },
          "hovermode": "closest",
          "mapbox": {
           "style": "light"
          },
          "paper_bgcolor": "white",
          "plot_bgcolor": "#E5ECF6",
          "polar": {
           "angularaxis": {
            "gridcolor": "white",
            "linecolor": "white",
            "ticks": ""
           },
           "bgcolor": "#E5ECF6",
           "radialaxis": {
            "gridcolor": "white",
            "linecolor": "white",
            "ticks": ""
           }
          },
          "scene": {
           "xaxis": {
            "backgroundcolor": "#E5ECF6",
            "gridcolor": "white",
            "gridwidth": 2,
            "linecolor": "white",
            "showbackground": true,
            "ticks": "",
            "zerolinecolor": "white"
           },
           "yaxis": {
            "backgroundcolor": "#E5ECF6",
            "gridcolor": "white",
            "gridwidth": 2,
            "linecolor": "white",
            "showbackground": true,
            "ticks": "",
            "zerolinecolor": "white"
           },
           "zaxis": {
            "backgroundcolor": "#E5ECF6",
            "gridcolor": "white",
            "gridwidth": 2,
            "linecolor": "white",
            "showbackground": true,
            "ticks": "",
            "zerolinecolor": "white"
           }
          },
          "shapedefaults": {
           "line": {
            "color": "#2a3f5f"
           }
          },
          "ternary": {
           "aaxis": {
            "gridcolor": "white",
            "linecolor": "white",
            "ticks": ""
           },
           "baxis": {
            "gridcolor": "white",
            "linecolor": "white",
            "ticks": ""
           },
           "bgcolor": "#E5ECF6",
           "caxis": {
            "gridcolor": "white",
            "linecolor": "white",
            "ticks": ""
           }
          },
          "title": {
           "x": 0.05
          },
          "xaxis": {
           "automargin": true,
           "gridcolor": "white",
           "linecolor": "white",
           "ticks": "",
           "title": {
            "standoff": 15
           },
           "zerolinecolor": "white",
           "zerolinewidth": 2
          },
          "yaxis": {
           "automargin": true,
           "gridcolor": "white",
           "linecolor": "white",
           "ticks": "",
           "title": {
            "standoff": 15
           },
           "zerolinecolor": "white",
           "zerolinewidth": 2
          }
         }
        },
        "title": {
         "font": {
          "color": "#4D5663"
         }
        },
        "xaxis": {
         "gridcolor": "#E1E5ED",
         "showgrid": true,
         "tickfont": {
          "color": "#4D5663"
         },
         "title": {
          "font": {
           "color": "#4D5663"
          },
          "text": ""
         },
         "zerolinecolor": "#E1E5ED"
        },
        "yaxis": {
         "gridcolor": "#E1E5ED",
         "showgrid": true,
         "tickfont": {
          "color": "#4D5663"
         },
         "title": {
          "font": {
           "color": "#4D5663"
          },
          "text": ""
         },
         "zerolinecolor": "#E1E5ED"
        }
       }
      },
      "image/png": "[encoded data removed]",
      "text/html": [
       "<div>                            <div id=\"ff751644-bd3e-41a3-964d-18907d164132\" class=\"plotly-graph-div\" style=\"height:525px; width:100%;\"></div>            <script type=\"text/javascript\">                require([\"plotly\"], function(Plotly) {                    window.PLOTLYENV=window.PLOTLYENV || {};\n",
       "                    window.PLOTLYENV.BASE_URL='https://plot.ly';                                    if (document.getElementById(\"ff751644-bd3e-41a3-964d-18907d164132\")) {                    Plotly.newPlot(                        \"ff751644-bd3e-41a3-964d-18907d164132\",                        [{\"colorscale\":[[0.0,\"rgb(165,0,38)\"],[0.1,\"rgb(215,48,39)\"],[0.2,\"rgb(244,109,67)\"],[0.3,\"rgb(253,174,97)\"],[0.4,\"rgb(254,224,144)\"],[0.5,\"rgb(255,255,191)\"],[0.6,\"rgb(224,243,248)\"],[0.7,\"rgb(171,217,233)\"],[0.8,\"rgb(116,173,209)\"],[0.9,\"rgb(69,117,180)\"],[1.0,\"rgb(49,54,149)\"]],\"x\":[0,1,2,3,4],\"y\":[\"x\",\"y\",\"z\"],\"z\":[[1,2,3,4,5],[10,20,30,20,10],[5,4,3,2,1]],\"type\":\"surface\"}],                        {\"legend\":{\"bgcolor\":\"#F5F6F9\",\"font\":{\"color\":\"#4D5663\"}},\"paper_bgcolor\":\"#F5F6F9\",\"plot_bgcolor\":\"#F5F6F9\",\"template\":{\"data\":{\"barpolar\":[{\"marker\":{\"line\":{\"color\":\"#E5ECF6\",\"width\":0.5},\"pattern\":{\"fillmode\":\"overlay\",\"size\":10,\"solidity\":0.2}},\"type\":\"barpolar\"}],\"bar\":[{\"error_x\":{\"color\":\"#2a3f5f\"},\"error_y\":{\"color\":\"#2a3f5f\"},\"marker\":{\"line\":{\"color\":\"#E5ECF6\",\"width\":0.5},\"pattern\":{\"fillmode\":\"overlay\",\"size\":10,\"solidity\":0.2}},\"type\":\"bar\"}],\"carpet\":[{\"aaxis\":{\"endlinecolor\":\"#2a3f5f\",\"gridcolor\":\"white\",\"linecolor\":\"white\",\"minorgridcolor\":\"white\",\"startlinecolor\":\"#2a3f5f\"},\"baxis\":{\"endlinecolor\":\"#2a3f5f\",\"gridcolor\":\"white\",\"linecolor\":\"white\",\"minorgridcolor\":\"white\",\"startlinecolor\":\"#2a3f5f\"},\"type\":\"carpet\"}],\"choropleth\":[{\"colorbar\":{\"outlinewidth\":0,\"ticks\":\"\"},\"type\":\"choropleth\"}],\"contourcarpet\":[{\"colorbar\":{\"outlinewidth\":0,\"ticks\":\"\"},\"type\":\"contourcarpet\"}],\"contour\":[{\"colorbar\":{\"outlinewidth\":0,\"ticks\":\"\"},\"colorscale\":[[0.0,\"#0d0887\"],[0.1111111111111111,\"#46039f\"],[0.2222222222222222,\"#7201a8\"],[0.3333333333333333,\"#9c179e\"],[0.4444444444444444,\"#bd3786\"],[0.5555555555555556,\"#d8576b\"],[0.6666666666666666,\"#ed7953\"],[0.7777777777777778,\"#fb9f3a\"],[0.8888888888888888,\"#fdca26\"],[1.0,\"#f0f921\"]],\"type\":\"contour\"}],\"heatmapgl\":[{\"colorbar\":{\"outlinewidth\":0,\"ticks\":\"\"},\"colorscale\":[[0.0,\"#0d0887\"],[0.1111111111111111,\"#46039f\"],[0.2222222222222222,\"#7201a8\"],[0.3333333333333333,\"#9c179e\"],[0.4444444444444444,\"#bd3786\"],[0.5555555555555556,\"#d8576b\"],[0.6666666666666666,\"#ed7953\"],[0.7777777777777778,\"#fb9f3a\"],[0.8888888888888888,\"#fdca26\"],[1.0,\"#f0f921\"]],\"type\":\"heatmapgl\"}],\"heatmap\":[{\"colorbar\":{\"outlinewidth\":0,\"ticks\":\"\"},\"colorscale\":[[0.0,\"#0d0887\"],[0.1111111111111111,\"#46039f\"],[0.2222222222222222,\"#7201a8\"],[0.3333333333333333,\"#9c179e\"],[0.4444444444444444,\"#bd3786\"],[0.5555555555555556,\"#d8576b\"],[0.6666666666666666,\"#ed7953\"],[0.7777777777777778,\"#fb9f3a\"],[0.8888888888888888,\"#fdca26\"],[1.0,\"#f0f921\"]],\"type\":\"heatmap\"}],\"histogram2dcontour\":[{\"colorbar\":{\"outlinewidth\":0,\"ticks\":\"\"},\"colorscale\":[[0.0,\"#0d0887\"],[0.1111111111111111,\"#46039f\"],[0.2222222222222222,\"#7201a8\"],[0.3333333333333333,\"#9c179e\"],[0.4444444444444444,\"#bd3786\"],[0.5555555555555556,\"#d8576b\"],[0.6666666666666666,\"#ed7953\"],[0.7777777777777778,\"#fb9f3a\"],[0.8888888888888888,\"#fdca26\"],[1.0,\"#f0f921\"]],\"type\":\"histogram2dcontour\"}],\"histogram2d\":[{\"colorbar\":{\"outlinewidth\":0,\"ticks\":\"\"},\"colorscale\":[[0.0,\"#0d0887\"],[0.1111111111111111,\"#46039f\"],[0.2222222222222222,\"#7201a8\"],[0.3333333333333333,\"#9c179e\"],[0.4444444444444444,\"#bd3786\"],[0.5555555555555556,\"#d8576b\"],[0.6666666666666666,\"#ed7953\"],[0.7777777777777778,\"#fb9f3a\"],[0.8888888888888888,\"#fdca26\"],[1.0,\"#f0f921\"]],\"type\":\"histogram2d\"}],\"histogram\":[{\"marker\":{\"pattern\":{\"fillmode\":\"overlay\",\"size\":10,\"solidity\":0.2}},\"type\":\"histogram\"}],\"mesh3d\":[{\"colorbar\":{\"outlinewidth\":0,\"ticks\":\"\"},\"type\":\"mesh3d\"}],\"parcoords\":[{\"line\":{\"colorbar\":{\"outlinewidth\":0,\"ticks\":\"\"}},\"type\":\"parcoords\"}],\"pie\":[{\"automargin\":true,\"type\":\"pie\"}],\"scatter3d\":[{\"line\":{\"colorbar\":{\"outlinewidth\":0,\"ticks\":\"\"}},\"marker\":{\"colorbar\":{\"outlinewidth\":0,\"ticks\":\"\"}},\"type\":\"scatter3d\"}],\"scattercarpet\":[{\"marker\":{\"colorbar\":{\"outlinewidth\":0,\"ticks\":\"\"}},\"type\":\"scattercarpet\"}],\"scattergeo\":[{\"marker\":{\"colorbar\":{\"outlinewidth\":0,\"ticks\":\"\"}},\"type\":\"scattergeo\"}],\"scattergl\":[{\"marker\":{\"colorbar\":{\"outlinewidth\":0,\"ticks\":\"\"}},\"type\":\"scattergl\"}],\"scattermapbox\":[{\"marker\":{\"colorbar\":{\"outlinewidth\":0,\"ticks\":\"\"}},\"type\":\"scattermapbox\"}],\"scatterpolargl\":[{\"marker\":{\"colorbar\":{\"outlinewidth\":0,\"ticks\":\"\"}},\"type\":\"scatterpolargl\"}],\"scatterpolar\":[{\"marker\":{\"colorbar\":{\"outlinewidth\":0,\"ticks\":\"\"}},\"type\":\"scatterpolar\"}],\"scatter\":[{\"fillpattern\":{\"fillmode\":\"overlay\",\"size\":10,\"solidity\":0.2},\"type\":\"scatter\"}],\"scatterternary\":[{\"marker\":{\"colorbar\":{\"outlinewidth\":0,\"ticks\":\"\"}},\"type\":\"scatterternary\"}],\"surface\":[{\"colorbar\":{\"outlinewidth\":0,\"ticks\":\"\"},\"colorscale\":[[0.0,\"#0d0887\"],[0.1111111111111111,\"#46039f\"],[0.2222222222222222,\"#7201a8\"],[0.3333333333333333,\"#9c179e\"],[0.4444444444444444,\"#bd3786\"],[0.5555555555555556,\"#d8576b\"],[0.6666666666666666,\"#ed7953\"],[0.7777777777777778,\"#fb9f3a\"],[0.8888888888888888,\"#fdca26\"],[1.0,\"#f0f921\"]],\"type\":\"surface\"}],\"table\":[{\"cells\":{\"fill\":{\"color\":\"#EBF0F8\"},\"line\":{\"color\":\"white\"}},\"header\":{\"fill\":{\"color\":\"#C8D4E3\"},\"line\":{\"color\":\"white\"}},\"type\":\"table\"}]},\"layout\":{\"annotationdefaults\":{\"arrowcolor\":\"#2a3f5f\",\"arrowhead\":0,\"arrowwidth\":1},\"autotypenumbers\":\"strict\",\"coloraxis\":{\"colorbar\":{\"outlinewidth\":0,\"ticks\":\"\"}},\"colorscale\":{\"diverging\":[[0,\"#8e0152\"],[0.1,\"#c51b7d\"],[0.2,\"#de77ae\"],[0.3,\"#f1b6da\"],[0.4,\"#fde0ef\"],[0.5,\"#f7f7f7\"],[0.6,\"#e6f5d0\"],[0.7,\"#b8e186\"],[0.8,\"#7fbc41\"],[0.9,\"#4d9221\"],[1,\"#276419\"]],\"sequential\":[[0.0,\"#0d0887\"],[0.1111111111111111,\"#46039f\"],[0.2222222222222222,\"#7201a8\"],[0.3333333333333333,\"#9c179e\"],[0.4444444444444444,\"#bd3786\"],[0.5555555555555556,\"#d8576b\"],[0.6666666666666666,\"#ed7953\"],[0.7777777777777778,\"#fb9f3a\"],[0.8888888888888888,\"#fdca26\"],[1.0,\"#f0f921\"]],\"sequentialminus\":[[0.0,\"#0d0887\"],[0.1111111111111111,\"#46039f\"],[0.2222222222222222,\"#7201a8\"],[0.3333333333333333,\"#9c179e\"],[0.4444444444444444,\"#bd3786\"],[0.5555555555555556,\"#d8576b\"],[0.6666666666666666,\"#ed7953\"],[0.7777777777777778,\"#fb9f3a\"],[0.8888888888888888,\"#fdca26\"],[1.0,\"#f0f921\"]]},\"colorway\":[\"#636efa\",\"#EF553B\",\"#00cc96\",\"#ab63fa\",\"#FFA15A\",\"#19d3f3\",\"#FF6692\",\"#B6E880\",\"#FF97FF\",\"#FECB52\"],\"font\":{\"color\":\"#2a3f5f\"},\"geo\":{\"bgcolor\":\"white\",\"lakecolor\":\"white\",\"landcolor\":\"#E5ECF6\",\"showlakes\":true,\"showland\":true,\"subunitcolor\":\"white\"},\"hoverlabel\":{\"align\":\"left\"},\"hovermode\":\"closest\",\"mapbox\":{\"style\":\"light\"},\"paper_bgcolor\":\"white\",\"plot_bgcolor\":\"#E5ECF6\",\"polar\":{\"angularaxis\":{\"gridcolor\":\"white\",\"linecolor\":\"white\",\"ticks\":\"\"},\"bgcolor\":\"#E5ECF6\",\"radialaxis\":{\"gridcolor\":\"white\",\"linecolor\":\"white\",\"ticks\":\"\"}},\"scene\":{\"xaxis\":{\"backgroundcolor\":\"#E5ECF6\",\"gridcolor\":\"white\",\"gridwidth\":2,\"linecolor\":\"white\",\"showbackground\":true,\"ticks\":\"\",\"zerolinecolor\":\"white\"},\"yaxis\":{\"backgroundcolor\":\"#E5ECF6\",\"gridcolor\":\"white\",\"gridwidth\":2,\"linecolor\":\"white\",\"showbackground\":true,\"ticks\":\"\",\"zerolinecolor\":\"white\"},\"zaxis\":{\"backgroundcolor\":\"#E5ECF6\",\"gridcolor\":\"white\",\"gridwidth\":2,\"linecolor\":\"white\",\"showbackground\":true,\"ticks\":\"\",\"zerolinecolor\":\"white\"}},\"shapedefaults\":{\"line\":{\"color\":\"#2a3f5f\"}},\"ternary\":{\"aaxis\":{\"gridcolor\":\"white\",\"linecolor\":\"white\",\"ticks\":\"\"},\"baxis\":{\"gridcolor\":\"white\",\"linecolor\":\"white\",\"ticks\":\"\"},\"bgcolor\":\"#E5ECF6\",\"caxis\":{\"gridcolor\":\"white\",\"linecolor\":\"white\",\"ticks\":\"\"}},\"title\":{\"x\":0.05},\"xaxis\":{\"automargin\":true,\"gridcolor\":\"white\",\"linecolor\":\"white\",\"ticks\":\"\",\"title\":{\"standoff\":15},\"zerolinecolor\":\"white\",\"zerolinewidth\":2},\"yaxis\":{\"automargin\":true,\"gridcolor\":\"white\",\"linecolor\":\"white\",\"ticks\":\"\",\"title\":{\"standoff\":15},\"zerolinecolor\":\"white\",\"zerolinewidth\":2}}},\"title\":{\"font\":{\"color\":\"#4D5663\"}},\"xaxis\":{\"gridcolor\":\"#E1E5ED\",\"showgrid\":true,\"tickfont\":{\"color\":\"#4D5663\"},\"title\":{\"font\":{\"color\":\"#4D5663\"},\"text\":\"\"},\"zerolinecolor\":\"#E1E5ED\"},\"yaxis\":{\"gridcolor\":\"#E1E5ED\",\"showgrid\":true,\"tickfont\":{\"color\":\"#4D5663\"},\"title\":{\"font\":{\"color\":\"#4D5663\"},\"text\":\"\"},\"zerolinecolor\":\"#E1E5ED\"}},                        {\"showLink\": true, \"linkText\": \"Export to plot.ly\", \"plotlyServerURL\": \"https://plot.ly\", \"responsive\": true}                    ).then(function(){\n",
       "                            \n",
       "var gd = document.getElementById('ff751644-bd3e-41a3-964d-18907d164132');\n",
       "var x = new MutationObserver(function (mutations, observer) {{\n",
       "        var display = window.getComputedStyle(gd).display;\n",
       "        if (!display || display === 'none') {{\n",
       "            console.log([gd, 'removed!']);\n",
       "            Plotly.purge(gd);\n",
       "            observer.disconnect();\n",
       "        }}\n",
       "}});\n",
       "\n",
       "// Listen for the removal of the full notebook cells\n",
       "var notebookContainer = gd.closest('#notebook-container');\n",
       "if (notebookContainer) {{\n",
       "    x.observe(notebookContainer, {childList: true});\n",
       "}}\n",
       "\n",
       "// Listen for the clearing of the current output cell\n",
       "var outputEl = gd.closest('.output');\n",
       "if (outputEl) {{\n",
       "    x.observe(outputEl, {childList: true});\n",
       "}}\n",
       "\n",
       "                        })                };                });            </script>        </div>"
      ]
     },
     "metadata": {},
     "output_type": "display_data"
    }
   ],
   "source": [
    "df3 = pd.DataFrame({'x':[1,2,3,4,5],'y':[10,20,30,20,10],'z':[5,4,3,2,1]})\n",
    "df3.iplot(kind='surface',colorscale='rdylbu')"
   ]
  },
  {
   "cell_type": "code",
   "execution_count": 14,
   "id": "921c3caa-b424-41d7-b091-6287a324d323",
   "metadata": {},
   "outputs": [
    {
     "data": {
      "application/vnd.plotly.v1+json": {
       "config": {
        "linkText": "Export to plot.ly",
        "plotlyServerURL": "https://plot.ly",
        "showLink": true
       },
       "data": [
        {
         "histfunc": "count",
         "histnorm": "",
         "marker": {
          "color": "rgba(255, 153, 51, 1.0)",
          "line": {
           "color": "#4D5663",
           "width": 1.3
          }
         },
         "name": "A",
         "nbinsx": 25,
         "opacity": 0.8,
         "orientation": "v",
         "type": "histogram",
         "x": [
          0.29925552254576165,
          -1.011041779205554,
          -0.5186900863586638,
          -0.3828217817492648,
          -0.30927380397760446,
          0.6652818442678666,
          -0.22391389891936955,
          -0.24552960736839285,
          -1.9729621488923037,
          -0.1270387319252311,
          0.7747801811502151,
          0.09795908528664474,
          0.8929236677497698,
          0.20187969491046906,
          -0.8188495086655256,
          -0.12106198188240833,
          -0.6988584323192542,
          0.9050943018885463,
          0.49840793884265266,
          -0.9287052444313292,
          -0.4739277566927989,
          2.8207058994017054,
          -1.1300495739122436,
          1.7922738360878419,
          -0.3722204804935097,
          0.6196710190455824,
          0.42286628491220846,
          -0.08201217140566631,
          -0.822929168212544,
          2.2132431936258605,
          -0.07338177118678733,
          -0.7110858990763125,
          -0.2845400209239793,
          1.7102445886679856,
          -0.25360285658795656,
          1.373955494233924,
          0.1573245211525778,
          0.9179588000871358,
          1.4501656733343136,
          -0.3387058812164145,
          0.12752580527569551,
          0.09335592361703186,
          0.46755752620666796,
          -0.07728801968237105,
          -0.9010152681152521,
          -1.591414215809626,
          -1.539602646535873,
          -0.15053439886828743,
          -0.19059529732657582,
          0.28721444365992915,
          -0.42865126117404906,
          0.8253179141257997,
          -0.11172062284287053,
          0.6540991103515579,
          0.13745318590332364,
          1.7416753476030007,
          0.9540371329646546,
          0.5056558817518302,
          -0.90976828526663,
          0.9779440865005324,
          0.2226888697654056,
          -0.8123423017698557,
          0.8714764920706584,
          0.9597275072579795,
          1.3064080640044275,
          0.20089689763769625,
          0.6570047504187573,
          1.7712950311135016,
          0.758540342623224,
          -0.6999542696208285,
          -0.5296140031022785,
          -1.6278767145392647,
          0.52167480285576,
          -0.7262821978900574,
          0.43170230912564883,
          -1.9501271155499578,
          -0.15320748824202288,
          0.37342241042171925,
          0.02937078492454944,
          -0.7474020628442967,
          -0.8206850171791942,
          -0.9731997454172197,
          -0.8574662943143303,
          1.3631115358844874,
          -0.7325551730875081,
          0.32377382134675764,
          0.5837719300271894,
          -0.02981233759013717,
          0.07775300634035513,
          0.04632126687899852,
          0.8207828952495825,
          0.8663286865331438,
          -0.251598688319945,
          0.3853995691958181,
          0.8375831493796876,
          0.5066547754126097,
          0.8275361547809248,
          0.03135518353477385,
          0.4371432677710562,
          -1.0527954649016038
         ]
        }
       ],
       "layout": {
        "autosize": true,
        "barmode": "overlay",
        "legend": {
         "bgcolor": "#F5F6F9",
         "font": {
          "color": "#4D5663"
         }
        },
        "paper_bgcolor": "#F5F6F9",
        "plot_bgcolor": "#F5F6F9",
        "template": {
         "data": {
          "bar": [
           {
            "error_x": {
             "color": "#2a3f5f"
            },
            "error_y": {
             "color": "#2a3f5f"
            },
            "marker": {
             "line": {
              "color": "#E5ECF6",
              "width": 0.5
             },
             "pattern": {
              "fillmode": "overlay",
              "size": 10,
              "solidity": 0.2
             }
            },
            "type": "bar"
           }
          ],
          "barpolar": [
           {
            "marker": {
             "line": {
              "color": "#E5ECF6",
              "width": 0.5
             },
             "pattern": {
              "fillmode": "overlay",
              "size": 10,
              "solidity": 0.2
             }
            },
            "type": "barpolar"
           }
          ],
          "carpet": [
           {
            "aaxis": {
             "endlinecolor": "#2a3f5f",
             "gridcolor": "white",
             "linecolor": "white",
             "minorgridcolor": "white",
             "startlinecolor": "#2a3f5f"
            },
            "baxis": {
             "endlinecolor": "#2a3f5f",
             "gridcolor": "white",
             "linecolor": "white",
             "minorgridcolor": "white",
             "startlinecolor": "#2a3f5f"
            },
            "type": "carpet"
           }
          ],
          "choropleth": [
           {
            "colorbar": {
             "outlinewidth": 0,
             "ticks": ""
            },
            "type": "choropleth"
           }
          ],
          "contour": [
           {
            "colorbar": {
             "outlinewidth": 0,
             "ticks": ""
            },
            "colorscale": [
             [
              0,
              "#0d0887"
             ],
             [
              0.1111111111111111,
              "#46039f"
             ],
             [
              0.2222222222222222,
              "#7201a8"
             ],
             [
              0.3333333333333333,
              "#9c179e"
             ],
             [
              0.4444444444444444,
              "#bd3786"
             ],
             [
              0.5555555555555556,
              "#d8576b"
             ],
             [
              0.6666666666666666,
              "#ed7953"
             ],
             [
              0.7777777777777778,
              "#fb9f3a"
             ],
             [
              0.8888888888888888,
              "#fdca26"
             ],
             [
              1,
              "#f0f921"
             ]
            ],
            "type": "contour"
           }
          ],
          "contourcarpet": [
           {
            "colorbar": {
             "outlinewidth": 0,
             "ticks": ""
            },
            "type": "contourcarpet"
           }
          ],
          "heatmap": [
           {
            "colorbar": {
             "outlinewidth": 0,
             "ticks": ""
            },
            "colorscale": [
             [
              0,
              "#0d0887"
             ],
             [
              0.1111111111111111,
              "#46039f"
             ],
             [
              0.2222222222222222,
              "#7201a8"
             ],
             [
              0.3333333333333333,
              "#9c179e"
             ],
             [
              0.4444444444444444,
              "#bd3786"
             ],
             [
              0.5555555555555556,
              "#d8576b"
             ],
             [
              0.6666666666666666,
              "#ed7953"
             ],
             [
              0.7777777777777778,
              "#fb9f3a"
             ],
             [
              0.8888888888888888,
              "#fdca26"
             ],
             [
              1,
              "#f0f921"
             ]
            ],
            "type": "heatmap"
           }
          ],
          "heatmapgl": [
           {
            "colorbar": {
             "outlinewidth": 0,
             "ticks": ""
            },
            "colorscale": [
             [
              0,
              "#0d0887"
             ],
             [
              0.1111111111111111,
              "#46039f"
             ],
             [
              0.2222222222222222,
              "#7201a8"
             ],
             [
              0.3333333333333333,
              "#9c179e"
             ],
             [
              0.4444444444444444,
              "#bd3786"
             ],
             [
              0.5555555555555556,
              "#d8576b"
             ],
             [
              0.6666666666666666,
              "#ed7953"
             ],
             [
              0.7777777777777778,
              "#fb9f3a"
             ],
             [
              0.8888888888888888,
              "#fdca26"
             ],
             [
              1,
              "#f0f921"
             ]
            ],
            "type": "heatmapgl"
           }
          ],
          "histogram": [
           {
            "marker": {
             "pattern": {
              "fillmode": "overlay",
              "size": 10,
              "solidity": 0.2
             }
            },
            "type": "histogram"
           }
          ],
          "histogram2d": [
           {
            "colorbar": {
             "outlinewidth": 0,
             "ticks": ""
            },
            "colorscale": [
             [
              0,
              "#0d0887"
             ],
             [
              0.1111111111111111,
              "#46039f"
             ],
             [
              0.2222222222222222,
              "#7201a8"
             ],
             [
              0.3333333333333333,
              "#9c179e"
             ],
             [
              0.4444444444444444,
              "#bd3786"
             ],
             [
              0.5555555555555556,
              "#d8576b"
             ],
             [
              0.6666666666666666,
              "#ed7953"
             ],
             [
              0.7777777777777778,
              "#fb9f3a"
             ],
             [
              0.8888888888888888,
              "#fdca26"
             ],
             [
              1,
              "#f0f921"
             ]
            ],
            "type": "histogram2d"
           }
          ],
          "histogram2dcontour": [
           {
            "colorbar": {
             "outlinewidth": 0,
             "ticks": ""
            },
            "colorscale": [
             [
              0,
              "#0d0887"
             ],
             [
              0.1111111111111111,
              "#46039f"
             ],
             [
              0.2222222222222222,
              "#7201a8"
             ],
             [
              0.3333333333333333,
              "#9c179e"
             ],
             [
              0.4444444444444444,
              "#bd3786"
             ],
             [
              0.5555555555555556,
              "#d8576b"
             ],
             [
              0.6666666666666666,
              "#ed7953"
             ],
             [
              0.7777777777777778,
              "#fb9f3a"
             ],
             [
              0.8888888888888888,
              "#fdca26"
             ],
             [
              1,
              "#f0f921"
             ]
            ],
            "type": "histogram2dcontour"
           }
          ],
          "mesh3d": [
           {
            "colorbar": {
             "outlinewidth": 0,
             "ticks": ""
            },
            "type": "mesh3d"
           }
          ],
          "parcoords": [
           {
            "line": {
             "colorbar": {
              "outlinewidth": 0,
              "ticks": ""
             }
            },
            "type": "parcoords"
           }
          ],
          "pie": [
           {
            "automargin": true,
            "type": "pie"
           }
          ],
          "scatter": [
           {
            "fillpattern": {
             "fillmode": "overlay",
             "size": 10,
             "solidity": 0.2
            },
            "type": "scatter"
           }
          ],
          "scatter3d": [
           {
            "line": {
             "colorbar": {
              "outlinewidth": 0,
              "ticks": ""
             }
            },
            "marker": {
             "colorbar": {
              "outlinewidth": 0,
              "ticks": ""
             }
            },
            "type": "scatter3d"
           }
          ],
          "scattercarpet": [
           {
            "marker": {
             "colorbar": {
              "outlinewidth": 0,
              "ticks": ""
             }
            },
            "type": "scattercarpet"
           }
          ],
          "scattergeo": [
           {
            "marker": {
             "colorbar": {
              "outlinewidth": 0,
              "ticks": ""
             }
            },
            "type": "scattergeo"
           }
          ],
          "scattergl": [
           {
            "marker": {
             "colorbar": {
              "outlinewidth": 0,
              "ticks": ""
             }
            },
            "type": "scattergl"
           }
          ],
          "scattermapbox": [
           {
            "marker": {
             "colorbar": {
              "outlinewidth": 0,
              "ticks": ""
             }
            },
            "type": "scattermapbox"
           }
          ],
          "scatterpolar": [
           {
            "marker": {
             "colorbar": {
              "outlinewidth": 0,
              "ticks": ""
             }
            },
            "type": "scatterpolar"
           }
          ],
          "scatterpolargl": [
           {
            "marker": {
             "colorbar": {
              "outlinewidth": 0,
              "ticks": ""
             }
            },
            "type": "scatterpolargl"
           }
          ],
          "scatterternary": [
           {
            "marker": {
             "colorbar": {
              "outlinewidth": 0,
              "ticks": ""
             }
            },
            "type": "scatterternary"
           }
          ],
          "surface": [
           {
            "colorbar": {
             "outlinewidth": 0,
             "ticks": ""
            },
            "colorscale": [
             [
              0,
              "#0d0887"
             ],
             [
              0.1111111111111111,
              "#46039f"
             ],
             [
              0.2222222222222222,
              "#7201a8"
             ],
             [
              0.3333333333333333,
              "#9c179e"
             ],
             [
              0.4444444444444444,
              "#bd3786"
             ],
             [
              0.5555555555555556,
              "#d8576b"
             ],
             [
              0.6666666666666666,
              "#ed7953"
             ],
             [
              0.7777777777777778,
              "#fb9f3a"
             ],
             [
              0.8888888888888888,
              "#fdca26"
             ],
             [
              1,
              "#f0f921"
             ]
            ],
            "type": "surface"
           }
          ],
          "table": [
           {
            "cells": {
             "fill": {
              "color": "#EBF0F8"
             },
             "line": {
              "color": "white"
             }
            },
            "header": {
             "fill": {
              "color": "#C8D4E3"
             },
             "line": {
              "color": "white"
             }
            },
            "type": "table"
           }
          ]
         },
         "layout": {
          "annotationdefaults": {
           "arrowcolor": "#2a3f5f",
           "arrowhead": 0,
           "arrowwidth": 1
          },
          "autotypenumbers": "strict",
          "coloraxis": {
           "colorbar": {
            "outlinewidth": 0,
            "ticks": ""
           }
          },
          "colorscale": {
           "diverging": [
            [
             0,
             "#8e0152"
            ],
            [
             0.1,
             "#c51b7d"
            ],
            [
             0.2,
             "#de77ae"
            ],
            [
             0.3,
             "#f1b6da"
            ],
            [
             0.4,
             "#fde0ef"
            ],
            [
             0.5,
             "#f7f7f7"
            ],
            [
             0.6,
             "#e6f5d0"
            ],
            [
             0.7,
             "#b8e186"
            ],
            [
             0.8,
             "#7fbc41"
            ],
            [
             0.9,
             "#4d9221"
            ],
            [
             1,
             "#276419"
            ]
           ],
           "sequential": [
            [
             0,
             "#0d0887"
            ],
            [
             0.1111111111111111,
             "#46039f"
            ],
            [
             0.2222222222222222,
             "#7201a8"
            ],
            [
             0.3333333333333333,
             "#9c179e"
            ],
            [
             0.4444444444444444,
             "#bd3786"
            ],
            [
             0.5555555555555556,
             "#d8576b"
            ],
            [
             0.6666666666666666,
             "#ed7953"
            ],
            [
             0.7777777777777778,
             "#fb9f3a"
            ],
            [
             0.8888888888888888,
             "#fdca26"
            ],
            [
             1,
             "#f0f921"
            ]
           ],
           "sequentialminus": [
            [
             0,
             "#0d0887"
            ],
            [
             0.1111111111111111,
             "#46039f"
            ],
            [
             0.2222222222222222,
             "#7201a8"
            ],
            [
             0.3333333333333333,
             "#9c179e"
            ],
            [
             0.4444444444444444,
             "#bd3786"
            ],
            [
             0.5555555555555556,
             "#d8576b"
            ],
            [
             0.6666666666666666,
             "#ed7953"
            ],
            [
             0.7777777777777778,
             "#fb9f3a"
            ],
            [
             0.8888888888888888,
             "#fdca26"
            ],
            [
             1,
             "#f0f921"
            ]
           ]
          },
          "colorway": [
           "#636efa",
           "#EF553B",
           "#00cc96",
           "#ab63fa",
           "#FFA15A",
           "#19d3f3",
           "#FF6692",
           "#B6E880",
           "#FF97FF",
           "#FECB52"
          ],
          "font": {
           "color": "#2a3f5f"
          },
          "geo": {
           "bgcolor": "white",
           "lakecolor": "white",
           "landcolor": "#E5ECF6",
           "showlakes": true,
           "showland": true,
           "subunitcolor": "white"
          },
          "hoverlabel": {
           "align": "left"
          },
          "hovermode": "closest",
          "mapbox": {
           "style": "light"
          },
          "paper_bgcolor": "white",
          "plot_bgcolor": "#E5ECF6",
          "polar": {
           "angularaxis": {
            "gridcolor": "white",
            "linecolor": "white",
            "ticks": ""
           },
           "bgcolor": "#E5ECF6",
           "radialaxis": {
            "gridcolor": "white",
            "linecolor": "white",
            "ticks": ""
           }
          },
          "scene": {
           "xaxis": {
            "backgroundcolor": "#E5ECF6",
            "gridcolor": "white",
            "gridwidth": 2,
            "linecolor": "white",
            "showbackground": true,
            "ticks": "",
            "zerolinecolor": "white"
           },
           "yaxis": {
            "backgroundcolor": "#E5ECF6",
            "gridcolor": "white",
            "gridwidth": 2,
            "linecolor": "white",
            "showbackground": true,
            "ticks": "",
            "zerolinecolor": "white"
           },
           "zaxis": {
            "backgroundcolor": "#E5ECF6",
            "gridcolor": "white",
            "gridwidth": 2,
            "linecolor": "white",
            "showbackground": true,
            "ticks": "",
            "zerolinecolor": "white"
           }
          },
          "shapedefaults": {
           "line": {
            "color": "#2a3f5f"
           }
          },
          "ternary": {
           "aaxis": {
            "gridcolor": "white",
            "linecolor": "white",
            "ticks": ""
           },
           "baxis": {
            "gridcolor": "white",
            "linecolor": "white",
            "ticks": ""
           },
           "bgcolor": "#E5ECF6",
           "caxis": {
            "gridcolor": "white",
            "linecolor": "white",
            "ticks": ""
           }
          },
          "title": {
           "x": 0.05
          },
          "xaxis": {
           "automargin": true,
           "gridcolor": "white",
           "linecolor": "white",
           "ticks": "",
           "title": {
            "standoff": 15
           },
           "zerolinecolor": "white",
           "zerolinewidth": 2
          },
          "yaxis": {
           "automargin": true,
           "gridcolor": "white",
           "linecolor": "white",
           "ticks": "",
           "title": {
            "standoff": 15
           },
           "zerolinecolor": "white",
           "zerolinewidth": 2
          }
         }
        },
        "title": {
         "font": {
          "color": "#4D5663"
         }
        },
        "xaxis": {
         "autorange": true,
         "gridcolor": "#E1E5ED",
         "range": [
          -1.9999999999999998,
          3
         ],
         "showgrid": true,
         "tickfont": {
          "color": "#4D5663"
         },
         "title": {
          "font": {
           "color": "#4D5663"
          },
          "text": ""
         },
         "type": "linear",
         "zerolinecolor": "#E1E5ED"
        },
        "yaxis": {
         "autorange": true,
         "gridcolor": "#E1E5ED",
         "range": [
          0,
          12.631578947368421
         ],
         "showgrid": true,
         "tickfont": {
          "color": "#4D5663"
         },
         "title": {
          "font": {
           "color": "#4D5663"
          },
          "text": ""
         },
         "zerolinecolor": "#E1E5ED"
        }
       }
      },
      "image/png": "[encoded data removed]",
      "text/html": [
       "<div>                            <div id=\"f5903755-9b2e-4557-8120-51116a9c590b\" class=\"plotly-graph-div\" style=\"height:525px; width:100%;\"></div>            <script type=\"text/javascript\">                require([\"plotly\"], function(Plotly) {                    window.PLOTLYENV=window.PLOTLYENV || {};\n",
       "                    window.PLOTLYENV.BASE_URL='https://plot.ly';                                    if (document.getElementById(\"f5903755-9b2e-4557-8120-51116a9c590b\")) {                    Plotly.newPlot(                        \"f5903755-9b2e-4557-8120-51116a9c590b\",                        [{\"histfunc\":\"count\",\"histnorm\":\"\",\"marker\":{\"color\":\"rgba(255, 153, 51, 1.0)\",\"line\":{\"color\":\"#4D5663\",\"width\":1.3}},\"name\":\"A\",\"nbinsx\":25,\"opacity\":0.8,\"orientation\":\"v\",\"x\":[0.29925552254576165,-1.011041779205554,-0.5186900863586638,-0.3828217817492648,-0.30927380397760446,0.6652818442678666,-0.22391389891936955,-0.24552960736839285,-1.9729621488923037,-0.1270387319252311,0.7747801811502151,0.09795908528664474,0.8929236677497698,0.20187969491046906,-0.8188495086655256,-0.12106198188240833,-0.6988584323192542,0.9050943018885463,0.49840793884265266,-0.9287052444313292,-0.4739277566927989,2.8207058994017054,-1.1300495739122436,1.7922738360878419,-0.3722204804935097,0.6196710190455824,0.42286628491220846,-0.08201217140566631,-0.822929168212544,2.2132431936258605,-0.07338177118678733,-0.7110858990763125,-0.2845400209239793,1.7102445886679856,-0.25360285658795656,1.373955494233924,0.1573245211525778,0.9179588000871358,1.4501656733343136,-0.3387058812164145,0.12752580527569551,0.09335592361703186,0.46755752620666796,-0.07728801968237105,-0.9010152681152521,-1.591414215809626,-1.539602646535873,-0.15053439886828743,-0.19059529732657582,0.28721444365992915,-0.42865126117404906,0.8253179141257997,-0.11172062284287053,0.6540991103515579,0.13745318590332364,1.7416753476030007,0.9540371329646546,0.5056558817518302,-0.90976828526663,0.9779440865005324,0.2226888697654056,-0.8123423017698557,0.8714764920706584,0.9597275072579795,1.3064080640044275,0.20089689763769625,0.6570047504187573,1.7712950311135016,0.758540342623224,-0.6999542696208285,-0.5296140031022785,-1.6278767145392647,0.52167480285576,-0.7262821978900574,0.43170230912564883,-1.9501271155499578,-0.15320748824202288,0.37342241042171925,0.02937078492454944,-0.7474020628442967,-0.8206850171791942,-0.9731997454172197,-0.8574662943143303,1.3631115358844874,-0.7325551730875081,0.32377382134675764,0.5837719300271894,-0.02981233759013717,0.07775300634035513,0.04632126687899852,0.8207828952495825,0.8663286865331438,-0.251598688319945,0.3853995691958181,0.8375831493796876,0.5066547754126097,0.8275361547809248,0.03135518353477385,0.4371432677710562,-1.0527954649016038],\"type\":\"histogram\"}],                        {\"barmode\":\"overlay\",\"legend\":{\"bgcolor\":\"#F5F6F9\",\"font\":{\"color\":\"#4D5663\"}},\"paper_bgcolor\":\"#F5F6F9\",\"plot_bgcolor\":\"#F5F6F9\",\"template\":{\"data\":{\"barpolar\":[{\"marker\":{\"line\":{\"color\":\"#E5ECF6\",\"width\":0.5},\"pattern\":{\"fillmode\":\"overlay\",\"size\":10,\"solidity\":0.2}},\"type\":\"barpolar\"}],\"bar\":[{\"error_x\":{\"color\":\"#2a3f5f\"},\"error_y\":{\"color\":\"#2a3f5f\"},\"marker\":{\"line\":{\"color\":\"#E5ECF6\",\"width\":0.5},\"pattern\":{\"fillmode\":\"overlay\",\"size\":10,\"solidity\":0.2}},\"type\":\"bar\"}],\"carpet\":[{\"aaxis\":{\"endlinecolor\":\"#2a3f5f\",\"gridcolor\":\"white\",\"linecolor\":\"white\",\"minorgridcolor\":\"white\",\"startlinecolor\":\"#2a3f5f\"},\"baxis\":{\"endlinecolor\":\"#2a3f5f\",\"gridcolor\":\"white\",\"linecolor\":\"white\",\"minorgridcolor\":\"white\",\"startlinecolor\":\"#2a3f5f\"},\"type\":\"carpet\"}],\"choropleth\":[{\"colorbar\":{\"outlinewidth\":0,\"ticks\":\"\"},\"type\":\"choropleth\"}],\"contourcarpet\":[{\"colorbar\":{\"outlinewidth\":0,\"ticks\":\"\"},\"type\":\"contourcarpet\"}],\"contour\":[{\"colorbar\":{\"outlinewidth\":0,\"ticks\":\"\"},\"colorscale\":[[0.0,\"#0d0887\"],[0.1111111111111111,\"#46039f\"],[0.2222222222222222,\"#7201a8\"],[0.3333333333333333,\"#9c179e\"],[0.4444444444444444,\"#bd3786\"],[0.5555555555555556,\"#d8576b\"],[0.6666666666666666,\"#ed7953\"],[0.7777777777777778,\"#fb9f3a\"],[0.8888888888888888,\"#fdca26\"],[1.0,\"#f0f921\"]],\"type\":\"contour\"}],\"heatmapgl\":[{\"colorbar\":{\"outlinewidth\":0,\"ticks\":\"\"},\"colorscale\":[[0.0,\"#0d0887\"],[0.1111111111111111,\"#46039f\"],[0.2222222222222222,\"#7201a8\"],[0.3333333333333333,\"#9c179e\"],[0.4444444444444444,\"#bd3786\"],[0.5555555555555556,\"#d8576b\"],[0.6666666666666666,\"#ed7953\"],[0.7777777777777778,\"#fb9f3a\"],[0.8888888888888888,\"#fdca26\"],[1.0,\"#f0f921\"]],\"type\":\"heatmapgl\"}],\"heatmap\":[{\"colorbar\":{\"outlinewidth\":0,\"ticks\":\"\"},\"colorscale\":[[0.0,\"#0d0887\"],[0.1111111111111111,\"#46039f\"],[0.2222222222222222,\"#7201a8\"],[0.3333333333333333,\"#9c179e\"],[0.4444444444444444,\"#bd3786\"],[0.5555555555555556,\"#d8576b\"],[0.6666666666666666,\"#ed7953\"],[0.7777777777777778,\"#fb9f3a\"],[0.8888888888888888,\"#fdca26\"],[1.0,\"#f0f921\"]],\"type\":\"heatmap\"}],\"histogram2dcontour\":[{\"colorbar\":{\"outlinewidth\":0,\"ticks\":\"\"},\"colorscale\":[[0.0,\"#0d0887\"],[0.1111111111111111,\"#46039f\"],[0.2222222222222222,\"#7201a8\"],[0.3333333333333333,\"#9c179e\"],[0.4444444444444444,\"#bd3786\"],[0.5555555555555556,\"#d8576b\"],[0.6666666666666666,\"#ed7953\"],[0.7777777777777778,\"#fb9f3a\"],[0.8888888888888888,\"#fdca26\"],[1.0,\"#f0f921\"]],\"type\":\"histogram2dcontour\"}],\"histogram2d\":[{\"colorbar\":{\"outlinewidth\":0,\"ticks\":\"\"},\"colorscale\":[[0.0,\"#0d0887\"],[0.1111111111111111,\"#46039f\"],[0.2222222222222222,\"#7201a8\"],[0.3333333333333333,\"#9c179e\"],[0.4444444444444444,\"#bd3786\"],[0.5555555555555556,\"#d8576b\"],[0.6666666666666666,\"#ed7953\"],[0.7777777777777778,\"#fb9f3a\"],[0.8888888888888888,\"#fdca26\"],[1.0,\"#f0f921\"]],\"type\":\"histogram2d\"}],\"histogram\":[{\"marker\":{\"pattern\":{\"fillmode\":\"overlay\",\"size\":10,\"solidity\":0.2}},\"type\":\"histogram\"}],\"mesh3d\":[{\"colorbar\":{\"outlinewidth\":0,\"ticks\":\"\"},\"type\":\"mesh3d\"}],\"parcoords\":[{\"line\":{\"colorbar\":{\"outlinewidth\":0,\"ticks\":\"\"}},\"type\":\"parcoords\"}],\"pie\":[{\"automargin\":true,\"type\":\"pie\"}],\"scatter3d\":[{\"line\":{\"colorbar\":{\"outlinewidth\":0,\"ticks\":\"\"}},\"marker\":{\"colorbar\":{\"outlinewidth\":0,\"ticks\":\"\"}},\"type\":\"scatter3d\"}],\"scattercarpet\":[{\"marker\":{\"colorbar\":{\"outlinewidth\":0,\"ticks\":\"\"}},\"type\":\"scattercarpet\"}],\"scattergeo\":[{\"marker\":{\"colorbar\":{\"outlinewidth\":0,\"ticks\":\"\"}},\"type\":\"scattergeo\"}],\"scattergl\":[{\"marker\":{\"colorbar\":{\"outlinewidth\":0,\"ticks\":\"\"}},\"type\":\"scattergl\"}],\"scattermapbox\":[{\"marker\":{\"colorbar\":{\"outlinewidth\":0,\"ticks\":\"\"}},\"type\":\"scattermapbox\"}],\"scatterpolargl\":[{\"marker\":{\"colorbar\":{\"outlinewidth\":0,\"ticks\":\"\"}},\"type\":\"scatterpolargl\"}],\"scatterpolar\":[{\"marker\":{\"colorbar\":{\"outlinewidth\":0,\"ticks\":\"\"}},\"type\":\"scatterpolar\"}],\"scatter\":[{\"fillpattern\":{\"fillmode\":\"overlay\",\"size\":10,\"solidity\":0.2},\"type\":\"scatter\"}],\"scatterternary\":[{\"marker\":{\"colorbar\":{\"outlinewidth\":0,\"ticks\":\"\"}},\"type\":\"scatterternary\"}],\"surface\":[{\"colorbar\":{\"outlinewidth\":0,\"ticks\":\"\"},\"colorscale\":[[0.0,\"#0d0887\"],[0.1111111111111111,\"#46039f\"],[0.2222222222222222,\"#7201a8\"],[0.3333333333333333,\"#9c179e\"],[0.4444444444444444,\"#bd3786\"],[0.5555555555555556,\"#d8576b\"],[0.6666666666666666,\"#ed7953\"],[0.7777777777777778,\"#fb9f3a\"],[0.8888888888888888,\"#fdca26\"],[1.0,\"#f0f921\"]],\"type\":\"surface\"}],\"table\":[{\"cells\":{\"fill\":{\"color\":\"#EBF0F8\"},\"line\":{\"color\":\"white\"}},\"header\":{\"fill\":{\"color\":\"#C8D4E3\"},\"line\":{\"color\":\"white\"}},\"type\":\"table\"}]},\"layout\":{\"annotationdefaults\":{\"arrowcolor\":\"#2a3f5f\",\"arrowhead\":0,\"arrowwidth\":1},\"autotypenumbers\":\"strict\",\"coloraxis\":{\"colorbar\":{\"outlinewidth\":0,\"ticks\":\"\"}},\"colorscale\":{\"diverging\":[[0,\"#8e0152\"],[0.1,\"#c51b7d\"],[0.2,\"#de77ae\"],[0.3,\"#f1b6da\"],[0.4,\"#fde0ef\"],[0.5,\"#f7f7f7\"],[0.6,\"#e6f5d0\"],[0.7,\"#b8e186\"],[0.8,\"#7fbc41\"],[0.9,\"#4d9221\"],[1,\"#276419\"]],\"sequential\":[[0.0,\"#0d0887\"],[0.1111111111111111,\"#46039f\"],[0.2222222222222222,\"#7201a8\"],[0.3333333333333333,\"#9c179e\"],[0.4444444444444444,\"#bd3786\"],[0.5555555555555556,\"#d8576b\"],[0.6666666666666666,\"#ed7953\"],[0.7777777777777778,\"#fb9f3a\"],[0.8888888888888888,\"#fdca26\"],[1.0,\"#f0f921\"]],\"sequentialminus\":[[0.0,\"#0d0887\"],[0.1111111111111111,\"#46039f\"],[0.2222222222222222,\"#7201a8\"],[0.3333333333333333,\"#9c179e\"],[0.4444444444444444,\"#bd3786\"],[0.5555555555555556,\"#d8576b\"],[0.6666666666666666,\"#ed7953\"],[0.7777777777777778,\"#fb9f3a\"],[0.8888888888888888,\"#fdca26\"],[1.0,\"#f0f921\"]]},\"colorway\":[\"#636efa\",\"#EF553B\",\"#00cc96\",\"#ab63fa\",\"#FFA15A\",\"#19d3f3\",\"#FF6692\",\"#B6E880\",\"#FF97FF\",\"#FECB52\"],\"font\":{\"color\":\"#2a3f5f\"},\"geo\":{\"bgcolor\":\"white\",\"lakecolor\":\"white\",\"landcolor\":\"#E5ECF6\",\"showlakes\":true,\"showland\":true,\"subunitcolor\":\"white\"},\"hoverlabel\":{\"align\":\"left\"},\"hovermode\":\"closest\",\"mapbox\":{\"style\":\"light\"},\"paper_bgcolor\":\"white\",\"plot_bgcolor\":\"#E5ECF6\",\"polar\":{\"angularaxis\":{\"gridcolor\":\"white\",\"linecolor\":\"white\",\"ticks\":\"\"},\"bgcolor\":\"#E5ECF6\",\"radialaxis\":{\"gridcolor\":\"white\",\"linecolor\":\"white\",\"ticks\":\"\"}},\"scene\":{\"xaxis\":{\"backgroundcolor\":\"#E5ECF6\",\"gridcolor\":\"white\",\"gridwidth\":2,\"linecolor\":\"white\",\"showbackground\":true,\"ticks\":\"\",\"zerolinecolor\":\"white\"},\"yaxis\":{\"backgroundcolor\":\"#E5ECF6\",\"gridcolor\":\"white\",\"gridwidth\":2,\"linecolor\":\"white\",\"showbackground\":true,\"ticks\":\"\",\"zerolinecolor\":\"white\"},\"zaxis\":{\"backgroundcolor\":\"#E5ECF6\",\"gridcolor\":\"white\",\"gridwidth\":2,\"linecolor\":\"white\",\"showbackground\":true,\"ticks\":\"\",\"zerolinecolor\":\"white\"}},\"shapedefaults\":{\"line\":{\"color\":\"#2a3f5f\"}},\"ternary\":{\"aaxis\":{\"gridcolor\":\"white\",\"linecolor\":\"white\",\"ticks\":\"\"},\"baxis\":{\"gridcolor\":\"white\",\"linecolor\":\"white\",\"ticks\":\"\"},\"bgcolor\":\"#E5ECF6\",\"caxis\":{\"gridcolor\":\"white\",\"linecolor\":\"white\",\"ticks\":\"\"}},\"title\":{\"x\":0.05},\"xaxis\":{\"automargin\":true,\"gridcolor\":\"white\",\"linecolor\":\"white\",\"ticks\":\"\",\"title\":{\"standoff\":15},\"zerolinecolor\":\"white\",\"zerolinewidth\":2},\"yaxis\":{\"automargin\":true,\"gridcolor\":\"white\",\"linecolor\":\"white\",\"ticks\":\"\",\"title\":{\"standoff\":15},\"zerolinecolor\":\"white\",\"zerolinewidth\":2}}},\"title\":{\"font\":{\"color\":\"#4D5663\"}},\"xaxis\":{\"gridcolor\":\"#E1E5ED\",\"showgrid\":true,\"tickfont\":{\"color\":\"#4D5663\"},\"title\":{\"font\":{\"color\":\"#4D5663\"},\"text\":\"\"},\"zerolinecolor\":\"#E1E5ED\"},\"yaxis\":{\"gridcolor\":\"#E1E5ED\",\"showgrid\":true,\"tickfont\":{\"color\":\"#4D5663\"},\"title\":{\"font\":{\"color\":\"#4D5663\"},\"text\":\"\"},\"zerolinecolor\":\"#E1E5ED\"}},                        {\"showLink\": true, \"linkText\": \"Export to plot.ly\", \"plotlyServerURL\": \"https://plot.ly\", \"responsive\": true}                    ).then(function(){\n",
       "                            \n",
       "var gd = document.getElementById('f5903755-9b2e-4557-8120-51116a9c590b');\n",
       "var x = new MutationObserver(function (mutations, observer) {{\n",
       "        var display = window.getComputedStyle(gd).display;\n",
       "        if (!display || display === 'none') {{\n",
       "            console.log([gd, 'removed!']);\n",
       "            Plotly.purge(gd);\n",
       "            observer.disconnect();\n",
       "        }}\n",
       "}});\n",
       "\n",
       "// Listen for the removal of the full notebook cells\n",
       "var notebookContainer = gd.closest('#notebook-container');\n",
       "if (notebookContainer) {{\n",
       "    x.observe(notebookContainer, {childList: true});\n",
       "}}\n",
       "\n",
       "// Listen for the clearing of the current output cell\n",
       "var outputEl = gd.closest('.output');\n",
       "if (outputEl) {{\n",
       "    x.observe(outputEl, {childList: true});\n",
       "}}\n",
       "\n",
       "                        })                };                });            </script>        </div>"
      ]
     },
     "metadata": {},
     "output_type": "display_data"
    }
   ],
   "source": [
    "df['A'].iplot(kind='hist',bins=25)"
   ]
  },
  {
   "cell_type": "code",
   "execution_count": 16,
   "id": "1a805f9e-8528-4184-954c-29957046473d",
   "metadata": {},
   "outputs": [
    {
     "data": {
      "application/vnd.plotly.v1+json": {
       "config": {
        "linkText": "Export to plot.ly",
        "plotlyServerURL": "https://plot.ly",
        "showLink": true
       },
       "data": [
        {
         "marker": {
          "color": [
           "rgb(255, 153, 51)",
           "rgb(55, 128, 191)",
           "rgb(50, 171, 96)",
           "rgb(128, 0, 128)",
           "rgb(219, 64, 82)",
           "rgb(0, 128, 128)",
           "rgb(255, 255, 51)",
           "rgb(128, 128, 0)",
           "rgb(251, 128, 114)",
           "rgb(128, 177, 211)"
          ],
          "line": {
           "width": 1.3
          },
          "size": [
           33,
           78,
           12,
           58,
           31,
           44,
           70,
           45,
           70,
           65,
           15,
           47,
           63,
           104,
           54,
           66,
           21,
           63,
           86,
           64,
           100,
           73,
           96,
           57,
           50,
           71,
           75,
           25,
           62,
           77,
           36,
           70,
           71,
           59,
           65,
           79,
           90,
           47,
           66,
           74,
           59,
           91,
           85,
           74,
           43,
           68,
           53,
           41,
           50,
           38,
           73,
           49,
           33,
           56,
           57,
           49,
           58,
           61,
           85,
           37,
           59,
           58,
           67,
           40,
           77,
           69,
           51,
           70,
           70,
           51,
           67,
           85,
           112,
           20,
           106,
           69,
           56,
           34,
           70,
           79,
           68,
           109,
           18,
           68,
           82,
           45,
           37,
           58,
           56,
           55,
           51,
           49,
           34,
           47,
           99,
           81,
           85,
           81,
           77,
           96
          ],
          "symbol": "circle"
         },
         "mode": "markers",
         "text": "",
         "type": "scatter",
         "x": [
          0.29925552254576165,
          -1.011041779205554,
          -0.5186900863586638,
          -0.3828217817492648,
          -0.30927380397760446,
          0.6652818442678666,
          -0.22391389891936955,
          -0.24552960736839285,
          -1.9729621488923037,
          -0.1270387319252311,
          0.7747801811502151,
          0.09795908528664474,
          0.8929236677497698,
          0.20187969491046906,
          -0.8188495086655256,
          -0.12106198188240833,
          -0.6988584323192542,
          0.9050943018885463,
          0.49840793884265266,
          -0.9287052444313292,
          -0.4739277566927989,
          2.8207058994017054,
          -1.1300495739122436,
          1.7922738360878419,
          -0.3722204804935097,
          0.6196710190455824,
          0.42286628491220846,
          -0.08201217140566631,
          -0.822929168212544,
          2.2132431936258605,
          -0.07338177118678733,
          -0.7110858990763125,
          -0.2845400209239793,
          1.7102445886679856,
          -0.25360285658795656,
          1.373955494233924,
          0.1573245211525778,
          0.9179588000871358,
          1.4501656733343136,
          -0.3387058812164145,
          0.12752580527569551,
          0.09335592361703186,
          0.46755752620666796,
          -0.07728801968237105,
          -0.9010152681152521,
          -1.591414215809626,
          -1.539602646535873,
          -0.15053439886828743,
          -0.19059529732657582,
          0.28721444365992915,
          -0.42865126117404906,
          0.8253179141257997,
          -0.11172062284287053,
          0.6540991103515579,
          0.13745318590332364,
          1.7416753476030007,
          0.9540371329646546,
          0.5056558817518302,
          -0.90976828526663,
          0.9779440865005324,
          0.2226888697654056,
          -0.8123423017698557,
          0.8714764920706584,
          0.9597275072579795,
          1.3064080640044275,
          0.20089689763769625,
          0.6570047504187573,
          1.7712950311135016,
          0.758540342623224,
          -0.6999542696208285,
          -0.5296140031022785,
          -1.6278767145392647,
          0.52167480285576,
          -0.7262821978900574,
          0.43170230912564883,
          -1.9501271155499578,
          -0.15320748824202288,
          0.37342241042171925,
          0.02937078492454944,
          -0.7474020628442967,
          -0.8206850171791942,
          -0.9731997454172197,
          -0.8574662943143303,
          1.3631115358844874,
          -0.7325551730875081,
          0.32377382134675764,
          0.5837719300271894,
          -0.02981233759013717,
          0.07775300634035513,
          0.04632126687899852,
          0.8207828952495825,
          0.8663286865331438,
          -0.251598688319945,
          0.3853995691958181,
          0.8375831493796876,
          0.5066547754126097,
          0.8275361547809248,
          0.03135518353477385,
          0.4371432677710562,
          -1.0527954649016038
         ],
         "y": [
          -1.713173337968297,
          0.16463881583930215,
          -0.34641472283923375,
          -0.7595751733051315,
          1.8457908877737206,
          -0.21433429456110126,
          0.5124726487289849,
          1.437139990683677,
          0.6547777163218743,
          -0.013712678511071783,
          1.195708708470215,
          -0.19338978575811494,
          1.0102460462298848,
          -0.21334392761340226,
          0.19559412341150936,
          -0.8752839354002775,
          0.4096257270108291,
          -0.22866927545330804,
          -0.6069472783316819,
          0.12373879396409523,
          -1.2276604990058457,
          0.6010948363729458,
          0.4486512408929953,
          -0.49226693659304877,
          1.1159469633589956,
          -0.2133286556842512,
          -0.14082002882471792,
          1.0232543671980927,
          1.0487421873111291,
          -2.4058895957897612,
          -0.6263467808267238,
          -0.0535980194419228,
          -0.9697997059269032,
          -0.15393169598037867,
          -1.337531465339447,
          -1.8931093783678372,
          0.6531828644393675,
          0.1389289985343312,
          -1.2541133575089387,
          0.4075596248250558,
          0.28298950142601137,
          1.0159265252281,
          -0.5224631731621188,
          -0.732919324083606,
          0.953776621920564,
          -0.13175696682988694,
          0.4423720801760704,
          -2.0600703856891096,
          -0.2634038014696138,
          1.7969489763358557,
          -1.9328347947417628,
          0.12617300283094043,
          -0.06565066349539632,
          -0.255661121065549,
          -0.6753136577711945,
          -0.07234099887043406,
          0.7673623555981366,
          0.4959852463397566,
          -0.18199980527914109,
          0.389248533735029,
          -0.7478685197683522,
          0.012026132107050867,
          -1.8575220704136997,
          1.3694473521161734,
          -1.3884475997112322,
          0.01901705187140966,
          -1.0233698840410335,
          -0.7350923368030766,
          -0.18320340477385902,
          -0.3313476869735953,
          0.9446094346728854,
          0.13984453539392488,
          0.17647290803347712,
          -1.0722859198372872,
          -1.711183803392291,
          0.23813046063428772,
          0.18938486313991962,
          -1.0485551278432355,
          -0.4328810726807365,
          -0.7535732326589286,
          0.7408847778271608,
          -1.089504315225977,
          0.8192744630098808,
          -0.2562666205721067,
          0.007890140272847193,
          0.6257507665227129,
          -0.5629911840117975,
          -0.03906926625490238,
          0.148686082542415,
          0.2810631813885742,
          1.9243785137765812,
          0.17187484975152728,
          1.0688283176452438,
          -0.3163367926495648,
          1.9130406772984856,
          0.8787427413449688,
          -1.2205222953409034,
          -1.200783415119851,
          0.18552969644269862,
          -0.2549852401407603
         ]
        }
       ],
       "layout": {
        "autosize": true,
        "legend": {
         "bgcolor": "#F5F6F9",
         "font": {
          "color": "#4D5663"
         }
        },
        "paper_bgcolor": "#F5F6F9",
        "plot_bgcolor": "#F5F6F9",
        "template": {
         "data": {
          "bar": [
           {
            "error_x": {
             "color": "#2a3f5f"
            },
            "error_y": {
             "color": "#2a3f5f"
            },
            "marker": {
             "line": {
              "color": "#E5ECF6",
              "width": 0.5
             },
             "pattern": {
              "fillmode": "overlay",
              "size": 10,
              "solidity": 0.2
             }
            },
            "type": "bar"
           }
          ],
          "barpolar": [
           {
            "marker": {
             "line": {
              "color": "#E5ECF6",
              "width": 0.5
             },
             "pattern": {
              "fillmode": "overlay",
              "size": 10,
              "solidity": 0.2
             }
            },
            "type": "barpolar"
           }
          ],
          "carpet": [
           {
            "aaxis": {
             "endlinecolor": "#2a3f5f",
             "gridcolor": "white",
             "linecolor": "white",
             "minorgridcolor": "white",
             "startlinecolor": "#2a3f5f"
            },
            "baxis": {
             "endlinecolor": "#2a3f5f",
             "gridcolor": "white",
             "linecolor": "white",
             "minorgridcolor": "white",
             "startlinecolor": "#2a3f5f"
            },
            "type": "carpet"
           }
          ],
          "choropleth": [
           {
            "colorbar": {
             "outlinewidth": 0,
             "ticks": ""
            },
            "type": "choropleth"
           }
          ],
          "contour": [
           {
            "colorbar": {
             "outlinewidth": 0,
             "ticks": ""
            },
            "colorscale": [
             [
              0,
              "#0d0887"
             ],
             [
              0.1111111111111111,
              "#46039f"
             ],
             [
              0.2222222222222222,
              "#7201a8"
             ],
             [
              0.3333333333333333,
              "#9c179e"
             ],
             [
              0.4444444444444444,
              "#bd3786"
             ],
             [
              0.5555555555555556,
              "#d8576b"
             ],
             [
              0.6666666666666666,
              "#ed7953"
             ],
             [
              0.7777777777777778,
              "#fb9f3a"
             ],
             [
              0.8888888888888888,
              "#fdca26"
             ],
             [
              1,
              "#f0f921"
             ]
            ],
            "type": "contour"
           }
          ],
          "contourcarpet": [
           {
            "colorbar": {
             "outlinewidth": 0,
             "ticks": ""
            },
            "type": "contourcarpet"
           }
          ],
          "heatmap": [
           {
            "colorbar": {
             "outlinewidth": 0,
             "ticks": ""
            },
            "colorscale": [
             [
              0,
              "#0d0887"
             ],
             [
              0.1111111111111111,
              "#46039f"
             ],
             [
              0.2222222222222222,
              "#7201a8"
             ],
             [
              0.3333333333333333,
              "#9c179e"
             ],
             [
              0.4444444444444444,
              "#bd3786"
             ],
             [
              0.5555555555555556,
              "#d8576b"
             ],
             [
              0.6666666666666666,
              "#ed7953"
             ],
             [
              0.7777777777777778,
              "#fb9f3a"
             ],
             [
              0.8888888888888888,
              "#fdca26"
             ],
             [
              1,
              "#f0f921"
             ]
            ],
            "type": "heatmap"
           }
          ],
          "heatmapgl": [
           {
            "colorbar": {
             "outlinewidth": 0,
             "ticks": ""
            },
            "colorscale": [
             [
              0,
              "#0d0887"
             ],
             [
              0.1111111111111111,
              "#46039f"
             ],
             [
              0.2222222222222222,
              "#7201a8"
             ],
             [
              0.3333333333333333,
              "#9c179e"
             ],
             [
              0.4444444444444444,
              "#bd3786"
             ],
             [
              0.5555555555555556,
              "#d8576b"
             ],
             [
              0.6666666666666666,
              "#ed7953"
             ],
             [
              0.7777777777777778,
              "#fb9f3a"
             ],
             [
              0.8888888888888888,
              "#fdca26"
             ],
             [
              1,
              "#f0f921"
             ]
            ],
            "type": "heatmapgl"
           }
          ],
          "histogram": [
           {
            "marker": {
             "pattern": {
              "fillmode": "overlay",
              "size": 10,
              "solidity": 0.2
             }
            },
            "type": "histogram"
           }
          ],
          "histogram2d": [
           {
            "colorbar": {
             "outlinewidth": 0,
             "ticks": ""
            },
            "colorscale": [
             [
              0,
              "#0d0887"
             ],
             [
              0.1111111111111111,
              "#46039f"
             ],
             [
              0.2222222222222222,
              "#7201a8"
             ],
             [
              0.3333333333333333,
              "#9c179e"
             ],
             [
              0.4444444444444444,
              "#bd3786"
             ],
             [
              0.5555555555555556,
              "#d8576b"
             ],
             [
              0.6666666666666666,
              "#ed7953"
             ],
             [
              0.7777777777777778,
              "#fb9f3a"
             ],
             [
              0.8888888888888888,
              "#fdca26"
             ],
             [
              1,
              "#f0f921"
             ]
            ],
            "type": "histogram2d"
           }
          ],
          "histogram2dcontour": [
           {
            "colorbar": {
             "outlinewidth": 0,
             "ticks": ""
            },
            "colorscale": [
             [
              0,
              "#0d0887"
             ],
             [
              0.1111111111111111,
              "#46039f"
             ],
             [
              0.2222222222222222,
              "#7201a8"
             ],
             [
              0.3333333333333333,
              "#9c179e"
             ],
             [
              0.4444444444444444,
              "#bd3786"
             ],
             [
              0.5555555555555556,
              "#d8576b"
             ],
             [
              0.6666666666666666,
              "#ed7953"
             ],
             [
              0.7777777777777778,
              "#fb9f3a"
             ],
             [
              0.8888888888888888,
              "#fdca26"
             ],
             [
              1,
              "#f0f921"
             ]
            ],
            "type": "histogram2dcontour"
           }
          ],
          "mesh3d": [
           {
            "colorbar": {
             "outlinewidth": 0,
             "ticks": ""
            },
            "type": "mesh3d"
           }
          ],
          "parcoords": [
           {
            "line": {
             "colorbar": {
              "outlinewidth": 0,
              "ticks": ""
             }
            },
            "type": "parcoords"
           }
          ],
          "pie": [
           {
            "automargin": true,
            "type": "pie"
           }
          ],
          "scatter": [
           {
            "fillpattern": {
             "fillmode": "overlay",
             "size": 10,
             "solidity": 0.2
            },
            "type": "scatter"
           }
          ],
          "scatter3d": [
           {
            "line": {
             "colorbar": {
              "outlinewidth": 0,
              "ticks": ""
             }
            },
            "marker": {
             "colorbar": {
              "outlinewidth": 0,
              "ticks": ""
             }
            },
            "type": "scatter3d"
           }
          ],
          "scattercarpet": [
           {
            "marker": {
             "colorbar": {
              "outlinewidth": 0,
              "ticks": ""
             }
            },
            "type": "scattercarpet"
           }
          ],
          "scattergeo": [
           {
            "marker": {
             "colorbar": {
              "outlinewidth": 0,
              "ticks": ""
             }
            },
            "type": "scattergeo"
           }
          ],
          "scattergl": [
           {
            "marker": {
             "colorbar": {
              "outlinewidth": 0,
              "ticks": ""
             }
            },
            "type": "scattergl"
           }
          ],
          "scattermapbox": [
           {
            "marker": {
             "colorbar": {
              "outlinewidth": 0,
              "ticks": ""
             }
            },
            "type": "scattermapbox"
           }
          ],
          "scatterpolar": [
           {
            "marker": {
             "colorbar": {
              "outlinewidth": 0,
              "ticks": ""
             }
            },
            "type": "scatterpolar"
           }
          ],
          "scatterpolargl": [
           {
            "marker": {
             "colorbar": {
              "outlinewidth": 0,
              "ticks": ""
             }
            },
            "type": "scatterpolargl"
           }
          ],
          "scatterternary": [
           {
            "marker": {
             "colorbar": {
              "outlinewidth": 0,
              "ticks": ""
             }
            },
            "type": "scatterternary"
           }
          ],
          "surface": [
           {
            "colorbar": {
             "outlinewidth": 0,
             "ticks": ""
            },
            "colorscale": [
             [
              0,
              "#0d0887"
             ],
             [
              0.1111111111111111,
              "#46039f"
             ],
             [
              0.2222222222222222,
              "#7201a8"
             ],
             [
              0.3333333333333333,
              "#9c179e"
             ],
             [
              0.4444444444444444,
              "#bd3786"
             ],
             [
              0.5555555555555556,
              "#d8576b"
             ],
             [
              0.6666666666666666,
              "#ed7953"
             ],
             [
              0.7777777777777778,
              "#fb9f3a"
             ],
             [
              0.8888888888888888,
              "#fdca26"
             ],
             [
              1,
              "#f0f921"
             ]
            ],
            "type": "surface"
           }
          ],
          "table": [
           {
            "cells": {
             "fill": {
              "color": "#EBF0F8"
             },
             "line": {
              "color": "white"
             }
            },
            "header": {
             "fill": {
              "color": "#C8D4E3"
             },
             "line": {
              "color": "white"
             }
            },
            "type": "table"
           }
          ]
         },
         "layout": {
          "annotationdefaults": {
           "arrowcolor": "#2a3f5f",
           "arrowhead": 0,
           "arrowwidth": 1
          },
          "autotypenumbers": "strict",
          "coloraxis": {
           "colorbar": {
            "outlinewidth": 0,
            "ticks": ""
           }
          },
          "colorscale": {
           "diverging": [
            [
             0,
             "#8e0152"
            ],
            [
             0.1,
             "#c51b7d"
            ],
            [
             0.2,
             "#de77ae"
            ],
            [
             0.3,
             "#f1b6da"
            ],
            [
             0.4,
             "#fde0ef"
            ],
            [
             0.5,
             "#f7f7f7"
            ],
            [
             0.6,
             "#e6f5d0"
            ],
            [
             0.7,
             "#b8e186"
            ],
            [
             0.8,
             "#7fbc41"
            ],
            [
             0.9,
             "#4d9221"
            ],
            [
             1,
             "#276419"
            ]
           ],
           "sequential": [
            [
             0,
             "#0d0887"
            ],
            [
             0.1111111111111111,
             "#46039f"
            ],
            [
             0.2222222222222222,
             "#7201a8"
            ],
            [
             0.3333333333333333,
             "#9c179e"
            ],
            [
             0.4444444444444444,
             "#bd3786"
            ],
            [
             0.5555555555555556,
             "#d8576b"
            ],
            [
             0.6666666666666666,
             "#ed7953"
            ],
            [
             0.7777777777777778,
             "#fb9f3a"
            ],
            [
             0.8888888888888888,
             "#fdca26"
            ],
            [
             1,
             "#f0f921"
            ]
           ],
           "sequentialminus": [
            [
             0,
             "#0d0887"
            ],
            [
             0.1111111111111111,
             "#46039f"
            ],
            [
             0.2222222222222222,
             "#7201a8"
            ],
            [
             0.3333333333333333,
             "#9c179e"
            ],
            [
             0.4444444444444444,
             "#bd3786"
            ],
            [
             0.5555555555555556,
             "#d8576b"
            ],
            [
             0.6666666666666666,
             "#ed7953"
            ],
            [
             0.7777777777777778,
             "#fb9f3a"
            ],
            [
             0.8888888888888888,
             "#fdca26"
            ],
            [
             1,
             "#f0f921"
            ]
           ]
          },
          "colorway": [
           "#636efa",
           "#EF553B",
           "#00cc96",
           "#ab63fa",
           "#FFA15A",
           "#19d3f3",
           "#FF6692",
           "#B6E880",
           "#FF97FF",
           "#FECB52"
          ],
          "font": {
           "color": "#2a3f5f"
          },
          "geo": {
           "bgcolor": "white",
           "lakecolor": "white",
           "landcolor": "#E5ECF6",
           "showlakes": true,
           "showland": true,
           "subunitcolor": "white"
          },
          "hoverlabel": {
           "align": "left"
          },
          "hovermode": "closest",
          "mapbox": {
           "style": "light"
          },
          "paper_bgcolor": "white",
          "plot_bgcolor": "#E5ECF6",
          "polar": {
           "angularaxis": {
            "gridcolor": "white",
            "linecolor": "white",
            "ticks": ""
           },
           "bgcolor": "#E5ECF6",
           "radialaxis": {
            "gridcolor": "white",
            "linecolor": "white",
            "ticks": ""
           }
          },
          "scene": {
           "xaxis": {
            "backgroundcolor": "#E5ECF6",
            "gridcolor": "white",
            "gridwidth": 2,
            "linecolor": "white",
            "showbackground": true,
            "ticks": "",
            "zerolinecolor": "white"
           },
           "yaxis": {
            "backgroundcolor": "#E5ECF6",
            "gridcolor": "white",
            "gridwidth": 2,
            "linecolor": "white",
            "showbackground": true,
            "ticks": "",
            "zerolinecolor": "white"
           },
           "zaxis": {
            "backgroundcolor": "#E5ECF6",
            "gridcolor": "white",
            "gridwidth": 2,
            "linecolor": "white",
            "showbackground": true,
            "ticks": "",
            "zerolinecolor": "white"
           }
          },
          "shapedefaults": {
           "line": {
            "color": "#2a3f5f"
           }
          },
          "ternary": {
           "aaxis": {
            "gridcolor": "white",
            "linecolor": "white",
            "ticks": ""
           },
           "baxis": {
            "gridcolor": "white",
            "linecolor": "white",
            "ticks": ""
           },
           "bgcolor": "#E5ECF6",
           "caxis": {
            "gridcolor": "white",
            "linecolor": "white",
            "ticks": ""
           }
          },
          "title": {
           "x": 0.05
          },
          "xaxis": {
           "automargin": true,
           "gridcolor": "white",
           "linecolor": "white",
           "ticks": "",
           "title": {
            "standoff": 15
           },
           "zerolinecolor": "white",
           "zerolinewidth": 2
          },
          "yaxis": {
           "automargin": true,
           "gridcolor": "white",
           "linecolor": "white",
           "ticks": "",
           "title": {
            "standoff": 15
           },
           "zerolinecolor": "white",
           "zerolinewidth": 2
          }
         }
        },
        "title": {
         "font": {
          "color": "#4D5663"
         }
        },
        "xaxis": {
         "autorange": true,
         "gridcolor": "#E1E5ED",
         "range": [
          -2.6122454901301553,
          3.474344405487712
         ],
         "showgrid": true,
         "tickfont": {
          "color": "#4D5663"
         },
         "title": {
          "font": {
           "color": "#4D5663"
          },
          "text": ""
         },
         "type": "linear",
         "zerolinecolor": "#E1E5ED"
        },
        "yaxis": {
         "autorange": true,
         "gridcolor": "#E1E5ED",
         "range": [
          -9.762044088912026,
          9.495827690404282
         ],
         "showgrid": true,
         "tickfont": {
          "color": "#4D5663"
         },
         "title": {
          "font": {
           "color": "#4D5663"
          },
          "text": ""
         },
         "type": "linear",
         "zerolinecolor": "#E1E5ED"
        }
       }
      },
      "image/png": "[encoded data removed]",
      "text/html": [
       "<div>                            <div id=\"0be0646b-4169-4f51-bcaa-87cb017b7266\" class=\"plotly-graph-div\" style=\"height:525px; width:100%;\"></div>            <script type=\"text/javascript\">                require([\"plotly\"], function(Plotly) {                    window.PLOTLYENV=window.PLOTLYENV || {};\n",
       "                    window.PLOTLYENV.BASE_URL='https://plot.ly';                                    if (document.getElementById(\"0be0646b-4169-4f51-bcaa-87cb017b7266\")) {                    Plotly.newPlot(                        \"0be0646b-4169-4f51-bcaa-87cb017b7266\",                        [{\"marker\":{\"color\":[\"rgb(255, 153, 51)\",\"rgb(55, 128, 191)\",\"rgb(50, 171, 96)\",\"rgb(128, 0, 128)\",\"rgb(219, 64, 82)\",\"rgb(0, 128, 128)\",\"rgb(255, 255, 51)\",\"rgb(128, 128, 0)\",\"rgb(251, 128, 114)\",\"rgb(128, 177, 211)\"],\"line\":{\"width\":1.3},\"size\":[33,78,12,58,31,44,70,45,70,65,15,47,63,104,54,66,21,63,86,64,100,73,96,57,50,71,75,25,62,77,36,70,71,59,65,79,90,47,66,74,59,91,85,74,43,68,53,41,50,38,73,49,33,56,57,49,58,61,85,37,59,58,67,40,77,69,51,70,70,51,67,85,112,20,106,69,56,34,70,79,68,109,18,68,82,45,37,58,56,55,51,49,34,47,99,81,85,81,77,96],\"symbol\":\"circle\"},\"mode\":\"markers\",\"text\":\"\",\"x\":[0.29925552254576165,-1.011041779205554,-0.5186900863586638,-0.3828217817492648,-0.30927380397760446,0.6652818442678666,-0.22391389891936955,-0.24552960736839285,-1.9729621488923037,-0.1270387319252311,0.7747801811502151,0.09795908528664474,0.8929236677497698,0.20187969491046906,-0.8188495086655256,-0.12106198188240833,-0.6988584323192542,0.9050943018885463,0.49840793884265266,-0.9287052444313292,-0.4739277566927989,2.8207058994017054,-1.1300495739122436,1.7922738360878419,-0.3722204804935097,0.6196710190455824,0.42286628491220846,-0.08201217140566631,-0.822929168212544,2.2132431936258605,-0.07338177118678733,-0.7110858990763125,-0.2845400209239793,1.7102445886679856,-0.25360285658795656,1.373955494233924,0.1573245211525778,0.9179588000871358,1.4501656733343136,-0.3387058812164145,0.12752580527569551,0.09335592361703186,0.46755752620666796,-0.07728801968237105,-0.9010152681152521,-1.591414215809626,-1.539602646535873,-0.15053439886828743,-0.19059529732657582,0.28721444365992915,-0.42865126117404906,0.8253179141257997,-0.11172062284287053,0.6540991103515579,0.13745318590332364,1.7416753476030007,0.9540371329646546,0.5056558817518302,-0.90976828526663,0.9779440865005324,0.2226888697654056,-0.8123423017698557,0.8714764920706584,0.9597275072579795,1.3064080640044275,0.20089689763769625,0.6570047504187573,1.7712950311135016,0.758540342623224,-0.6999542696208285,-0.5296140031022785,-1.6278767145392647,0.52167480285576,-0.7262821978900574,0.43170230912564883,-1.9501271155499578,-0.15320748824202288,0.37342241042171925,0.02937078492454944,-0.7474020628442967,-0.8206850171791942,-0.9731997454172197,-0.8574662943143303,1.3631115358844874,-0.7325551730875081,0.32377382134675764,0.5837719300271894,-0.02981233759013717,0.07775300634035513,0.04632126687899852,0.8207828952495825,0.8663286865331438,-0.251598688319945,0.3853995691958181,0.8375831493796876,0.5066547754126097,0.8275361547809248,0.03135518353477385,0.4371432677710562,-1.0527954649016038],\"y\":[-1.713173337968297,0.16463881583930215,-0.34641472283923375,-0.7595751733051315,1.8457908877737206,-0.21433429456110126,0.5124726487289849,1.437139990683677,0.6547777163218743,-0.013712678511071783,1.195708708470215,-0.19338978575811494,1.0102460462298848,-0.21334392761340226,0.19559412341150936,-0.8752839354002775,0.4096257270108291,-0.22866927545330804,-0.6069472783316819,0.12373879396409523,-1.2276604990058457,0.6010948363729458,0.4486512408929953,-0.49226693659304877,1.1159469633589956,-0.2133286556842512,-0.14082002882471792,1.0232543671980927,1.0487421873111291,-2.4058895957897612,-0.6263467808267238,-0.0535980194419228,-0.9697997059269032,-0.15393169598037867,-1.337531465339447,-1.8931093783678372,0.6531828644393675,0.1389289985343312,-1.2541133575089387,0.4075596248250558,0.28298950142601137,1.0159265252281,-0.5224631731621188,-0.732919324083606,0.953776621920564,-0.13175696682988694,0.4423720801760704,-2.0600703856891096,-0.2634038014696138,1.7969489763358557,-1.9328347947417628,0.12617300283094043,-0.06565066349539632,-0.255661121065549,-0.6753136577711945,-0.07234099887043406,0.7673623555981366,0.4959852463397566,-0.18199980527914109,0.389248533735029,-0.7478685197683522,0.012026132107050867,-1.8575220704136997,1.3694473521161734,-1.3884475997112322,0.01901705187140966,-1.0233698840410335,-0.7350923368030766,-0.18320340477385902,-0.3313476869735953,0.9446094346728854,0.13984453539392488,0.17647290803347712,-1.0722859198372872,-1.711183803392291,0.23813046063428772,0.18938486313991962,-1.0485551278432355,-0.4328810726807365,-0.7535732326589286,0.7408847778271608,-1.089504315225977,0.8192744630098808,-0.2562666205721067,0.007890140272847193,0.6257507665227129,-0.5629911840117975,-0.03906926625490238,0.148686082542415,0.2810631813885742,1.9243785137765812,0.17187484975152728,1.0688283176452438,-0.3163367926495648,1.9130406772984856,0.8787427413449688,-1.2205222953409034,-1.200783415119851,0.18552969644269862,-0.2549852401407603],\"type\":\"scatter\"}],                        {\"legend\":{\"bgcolor\":\"#F5F6F9\",\"font\":{\"color\":\"#4D5663\"}},\"paper_bgcolor\":\"#F5F6F9\",\"plot_bgcolor\":\"#F5F6F9\",\"template\":{\"data\":{\"barpolar\":[{\"marker\":{\"line\":{\"color\":\"#E5ECF6\",\"width\":0.5},\"pattern\":{\"fillmode\":\"overlay\",\"size\":10,\"solidity\":0.2}},\"type\":\"barpolar\"}],\"bar\":[{\"error_x\":{\"color\":\"#2a3f5f\"},\"error_y\":{\"color\":\"#2a3f5f\"},\"marker\":{\"line\":{\"color\":\"#E5ECF6\",\"width\":0.5},\"pattern\":{\"fillmode\":\"overlay\",\"size\":10,\"solidity\":0.2}},\"type\":\"bar\"}],\"carpet\":[{\"aaxis\":{\"endlinecolor\":\"#2a3f5f\",\"gridcolor\":\"white\",\"linecolor\":\"white\",\"minorgridcolor\":\"white\",\"startlinecolor\":\"#2a3f5f\"},\"baxis\":{\"endlinecolor\":\"#2a3f5f\",\"gridcolor\":\"white\",\"linecolor\":\"white\",\"minorgridcolor\":\"white\",\"startlinecolor\":\"#2a3f5f\"},\"type\":\"carpet\"}],\"choropleth\":[{\"colorbar\":{\"outlinewidth\":0,\"ticks\":\"\"},\"type\":\"choropleth\"}],\"contourcarpet\":[{\"colorbar\":{\"outlinewidth\":0,\"ticks\":\"\"},\"type\":\"contourcarpet\"}],\"contour\":[{\"colorbar\":{\"outlinewidth\":0,\"ticks\":\"\"},\"colorscale\":[[0.0,\"#0d0887\"],[0.1111111111111111,\"#46039f\"],[0.2222222222222222,\"#7201a8\"],[0.3333333333333333,\"#9c179e\"],[0.4444444444444444,\"#bd3786\"],[0.5555555555555556,\"#d8576b\"],[0.6666666666666666,\"#ed7953\"],[0.7777777777777778,\"#fb9f3a\"],[0.8888888888888888,\"#fdca26\"],[1.0,\"#f0f921\"]],\"type\":\"contour\"}],\"heatmapgl\":[{\"colorbar\":{\"outlinewidth\":0,\"ticks\":\"\"},\"colorscale\":[[0.0,\"#0d0887\"],[0.1111111111111111,\"#46039f\"],[0.2222222222222222,\"#7201a8\"],[0.3333333333333333,\"#9c179e\"],[0.4444444444444444,\"#bd3786\"],[0.5555555555555556,\"#d8576b\"],[0.6666666666666666,\"#ed7953\"],[0.7777777777777778,\"#fb9f3a\"],[0.8888888888888888,\"#fdca26\"],[1.0,\"#f0f921\"]],\"type\":\"heatmapgl\"}],\"heatmap\":[{\"colorbar\":{\"outlinewidth\":0,\"ticks\":\"\"},\"colorscale\":[[0.0,\"#0d0887\"],[0.1111111111111111,\"#46039f\"],[0.2222222222222222,\"#7201a8\"],[0.3333333333333333,\"#9c179e\"],[0.4444444444444444,\"#bd3786\"],[0.5555555555555556,\"#d8576b\"],[0.6666666666666666,\"#ed7953\"],[0.7777777777777778,\"#fb9f3a\"],[0.8888888888888888,\"#fdca26\"],[1.0,\"#f0f921\"]],\"type\":\"heatmap\"}],\"histogram2dcontour\":[{\"colorbar\":{\"outlinewidth\":0,\"ticks\":\"\"},\"colorscale\":[[0.0,\"#0d0887\"],[0.1111111111111111,\"#46039f\"],[0.2222222222222222,\"#7201a8\"],[0.3333333333333333,\"#9c179e\"],[0.4444444444444444,\"#bd3786\"],[0.5555555555555556,\"#d8576b\"],[0.6666666666666666,\"#ed7953\"],[0.7777777777777778,\"#fb9f3a\"],[0.8888888888888888,\"#fdca26\"],[1.0,\"#f0f921\"]],\"type\":\"histogram2dcontour\"}],\"histogram2d\":[{\"colorbar\":{\"outlinewidth\":0,\"ticks\":\"\"},\"colorscale\":[[0.0,\"#0d0887\"],[0.1111111111111111,\"#46039f\"],[0.2222222222222222,\"#7201a8\"],[0.3333333333333333,\"#9c179e\"],[0.4444444444444444,\"#bd3786\"],[0.5555555555555556,\"#d8576b\"],[0.6666666666666666,\"#ed7953\"],[0.7777777777777778,\"#fb9f3a\"],[0.8888888888888888,\"#fdca26\"],[1.0,\"#f0f921\"]],\"type\":\"histogram2d\"}],\"histogram\":[{\"marker\":{\"pattern\":{\"fillmode\":\"overlay\",\"size\":10,\"solidity\":0.2}},\"type\":\"histogram\"}],\"mesh3d\":[{\"colorbar\":{\"outlinewidth\":0,\"ticks\":\"\"},\"type\":\"mesh3d\"}],\"parcoords\":[{\"line\":{\"colorbar\":{\"outlinewidth\":0,\"ticks\":\"\"}},\"type\":\"parcoords\"}],\"pie\":[{\"automargin\":true,\"type\":\"pie\"}],\"scatter3d\":[{\"line\":{\"colorbar\":{\"outlinewidth\":0,\"ticks\":\"\"}},\"marker\":{\"colorbar\":{\"outlinewidth\":0,\"ticks\":\"\"}},\"type\":\"scatter3d\"}],\"scattercarpet\":[{\"marker\":{\"colorbar\":{\"outlinewidth\":0,\"ticks\":\"\"}},\"type\":\"scattercarpet\"}],\"scattergeo\":[{\"marker\":{\"colorbar\":{\"outlinewidth\":0,\"ticks\":\"\"}},\"type\":\"scattergeo\"}],\"scattergl\":[{\"marker\":{\"colorbar\":{\"outlinewidth\":0,\"ticks\":\"\"}},\"type\":\"scattergl\"}],\"scattermapbox\":[{\"marker\":{\"colorbar\":{\"outlinewidth\":0,\"ticks\":\"\"}},\"type\":\"scattermapbox\"}],\"scatterpolargl\":[{\"marker\":{\"colorbar\":{\"outlinewidth\":0,\"ticks\":\"\"}},\"type\":\"scatterpolargl\"}],\"scatterpolar\":[{\"marker\":{\"colorbar\":{\"outlinewidth\":0,\"ticks\":\"\"}},\"type\":\"scatterpolar\"}],\"scatter\":[{\"fillpattern\":{\"fillmode\":\"overlay\",\"size\":10,\"solidity\":0.2},\"type\":\"scatter\"}],\"scatterternary\":[{\"marker\":{\"colorbar\":{\"outlinewidth\":0,\"ticks\":\"\"}},\"type\":\"scatterternary\"}],\"surface\":[{\"colorbar\":{\"outlinewidth\":0,\"ticks\":\"\"},\"colorscale\":[[0.0,\"#0d0887\"],[0.1111111111111111,\"#46039f\"],[0.2222222222222222,\"#7201a8\"],[0.3333333333333333,\"#9c179e\"],[0.4444444444444444,\"#bd3786\"],[0.5555555555555556,\"#d8576b\"],[0.6666666666666666,\"#ed7953\"],[0.7777777777777778,\"#fb9f3a\"],[0.8888888888888888,\"#fdca26\"],[1.0,\"#f0f921\"]],\"type\":\"surface\"}],\"table\":[{\"cells\":{\"fill\":{\"color\":\"#EBF0F8\"},\"line\":{\"color\":\"white\"}},\"header\":{\"fill\":{\"color\":\"#C8D4E3\"},\"line\":{\"color\":\"white\"}},\"type\":\"table\"}]},\"layout\":{\"annotationdefaults\":{\"arrowcolor\":\"#2a3f5f\",\"arrowhead\":0,\"arrowwidth\":1},\"autotypenumbers\":\"strict\",\"coloraxis\":{\"colorbar\":{\"outlinewidth\":0,\"ticks\":\"\"}},\"colorscale\":{\"diverging\":[[0,\"#8e0152\"],[0.1,\"#c51b7d\"],[0.2,\"#de77ae\"],[0.3,\"#f1b6da\"],[0.4,\"#fde0ef\"],[0.5,\"#f7f7f7\"],[0.6,\"#e6f5d0\"],[0.7,\"#b8e186\"],[0.8,\"#7fbc41\"],[0.9,\"#4d9221\"],[1,\"#276419\"]],\"sequential\":[[0.0,\"#0d0887\"],[0.1111111111111111,\"#46039f\"],[0.2222222222222222,\"#7201a8\"],[0.3333333333333333,\"#9c179e\"],[0.4444444444444444,\"#bd3786\"],[0.5555555555555556,\"#d8576b\"],[0.6666666666666666,\"#ed7953\"],[0.7777777777777778,\"#fb9f3a\"],[0.8888888888888888,\"#fdca26\"],[1.0,\"#f0f921\"]],\"sequentialminus\":[[0.0,\"#0d0887\"],[0.1111111111111111,\"#46039f\"],[0.2222222222222222,\"#7201a8\"],[0.3333333333333333,\"#9c179e\"],[0.4444444444444444,\"#bd3786\"],[0.5555555555555556,\"#d8576b\"],[0.6666666666666666,\"#ed7953\"],[0.7777777777777778,\"#fb9f3a\"],[0.8888888888888888,\"#fdca26\"],[1.0,\"#f0f921\"]]},\"colorway\":[\"#636efa\",\"#EF553B\",\"#00cc96\",\"#ab63fa\",\"#FFA15A\",\"#19d3f3\",\"#FF6692\",\"#B6E880\",\"#FF97FF\",\"#FECB52\"],\"font\":{\"color\":\"#2a3f5f\"},\"geo\":{\"bgcolor\":\"white\",\"lakecolor\":\"white\",\"landcolor\":\"#E5ECF6\",\"showlakes\":true,\"showland\":true,\"subunitcolor\":\"white\"},\"hoverlabel\":{\"align\":\"left\"},\"hovermode\":\"closest\",\"mapbox\":{\"style\":\"light\"},\"paper_bgcolor\":\"white\",\"plot_bgcolor\":\"#E5ECF6\",\"polar\":{\"angularaxis\":{\"gridcolor\":\"white\",\"linecolor\":\"white\",\"ticks\":\"\"},\"bgcolor\":\"#E5ECF6\",\"radialaxis\":{\"gridcolor\":\"white\",\"linecolor\":\"white\",\"ticks\":\"\"}},\"scene\":{\"xaxis\":{\"backgroundcolor\":\"#E5ECF6\",\"gridcolor\":\"white\",\"gridwidth\":2,\"linecolor\":\"white\",\"showbackground\":true,\"ticks\":\"\",\"zerolinecolor\":\"white\"},\"yaxis\":{\"backgroundcolor\":\"#E5ECF6\",\"gridcolor\":\"white\",\"gridwidth\":2,\"linecolor\":\"white\",\"showbackground\":true,\"ticks\":\"\",\"zerolinecolor\":\"white\"},\"zaxis\":{\"backgroundcolor\":\"#E5ECF6\",\"gridcolor\":\"white\",\"gridwidth\":2,\"linecolor\":\"white\",\"showbackground\":true,\"ticks\":\"\",\"zerolinecolor\":\"white\"}},\"shapedefaults\":{\"line\":{\"color\":\"#2a3f5f\"}},\"ternary\":{\"aaxis\":{\"gridcolor\":\"white\",\"linecolor\":\"white\",\"ticks\":\"\"},\"baxis\":{\"gridcolor\":\"white\",\"linecolor\":\"white\",\"ticks\":\"\"},\"bgcolor\":\"#E5ECF6\",\"caxis\":{\"gridcolor\":\"white\",\"linecolor\":\"white\",\"ticks\":\"\"}},\"title\":{\"x\":0.05},\"xaxis\":{\"automargin\":true,\"gridcolor\":\"white\",\"linecolor\":\"white\",\"ticks\":\"\",\"title\":{\"standoff\":15},\"zerolinecolor\":\"white\",\"zerolinewidth\":2},\"yaxis\":{\"automargin\":true,\"gridcolor\":\"white\",\"linecolor\":\"white\",\"ticks\":\"\",\"title\":{\"standoff\":15},\"zerolinecolor\":\"white\",\"zerolinewidth\":2}}},\"title\":{\"font\":{\"color\":\"#4D5663\"}},\"xaxis\":{\"gridcolor\":\"#E1E5ED\",\"showgrid\":true,\"tickfont\":{\"color\":\"#4D5663\"},\"title\":{\"font\":{\"color\":\"#4D5663\"},\"text\":\"\"},\"zerolinecolor\":\"#E1E5ED\"},\"yaxis\":{\"gridcolor\":\"#E1E5ED\",\"showgrid\":true,\"tickfont\":{\"color\":\"#4D5663\"},\"title\":{\"font\":{\"color\":\"#4D5663\"},\"text\":\"\"},\"zerolinecolor\":\"#E1E5ED\"}},                        {\"showLink\": true, \"linkText\": \"Export to plot.ly\", \"plotlyServerURL\": \"https://plot.ly\", \"responsive\": true}                    ).then(function(){\n",
       "                            \n",
       "var gd = document.getElementById('0be0646b-4169-4f51-bcaa-87cb017b7266');\n",
       "var x = new MutationObserver(function (mutations, observer) {{\n",
       "        var display = window.getComputedStyle(gd).display;\n",
       "        if (!display || display === 'none') {{\n",
       "            console.log([gd, 'removed!']);\n",
       "            Plotly.purge(gd);\n",
       "            observer.disconnect();\n",
       "        }}\n",
       "}});\n",
       "\n",
       "// Listen for the removal of the full notebook cells\n",
       "var notebookContainer = gd.closest('#notebook-container');\n",
       "if (notebookContainer) {{\n",
       "    x.observe(notebookContainer, {childList: true});\n",
       "}}\n",
       "\n",
       "// Listen for the clearing of the current output cell\n",
       "var outputEl = gd.closest('.output');\n",
       "if (outputEl) {{\n",
       "    x.observe(outputEl, {childList: true});\n",
       "}}\n",
       "\n",
       "                        })                };                });            </script>        </div>"
      ]
     },
     "metadata": {},
     "output_type": "display_data"
    }
   ],
   "source": [
    "df.iplot(kind='bubble',x='A',y='B',size='C')"
   ]
  },
  {
   "cell_type": "code",
   "execution_count": 17,
   "id": "c77c19d6-c2ed-4352-bd71-4922df796f87",
   "metadata": {},
   "outputs": [
    {
     "data": {
      "application/vnd.plotly.v1+json": {
       "config": {
        "linkText": "Export to plot.ly",
        "plotlyServerURL": "https://plot.ly",
        "showLink": true
       },
       "data": [
        {
         "histfunc": "count",
         "histnorm": "",
         "marker": {
          "color": "rgba(255, 153, 51, 1.0)",
          "line": {
           "color": "#4D5663",
           "width": 1.3
          }
         },
         "name": "A",
         "nbinsx": 10,
         "opacity": 0.8,
         "orientation": "v",
         "type": "histogram",
         "x": [
          0.29925552254576165,
          -1.011041779205554,
          -0.5186900863586638,
          -0.3828217817492648,
          -0.30927380397760446,
          0.6652818442678666,
          -0.22391389891936955,
          -0.24552960736839285,
          -1.9729621488923037,
          -0.1270387319252311,
          0.7747801811502151,
          0.09795908528664474,
          0.8929236677497698,
          0.20187969491046906,
          -0.8188495086655256,
          -0.12106198188240833,
          -0.6988584323192542,
          0.9050943018885463,
          0.49840793884265266,
          -0.9287052444313292,
          -0.4739277566927989,
          2.8207058994017054,
          -1.1300495739122436,
          1.7922738360878419,
          -0.3722204804935097,
          0.6196710190455824,
          0.42286628491220846,
          -0.08201217140566631,
          -0.822929168212544,
          2.2132431936258605,
          -0.07338177118678733,
          -0.7110858990763125,
          -0.2845400209239793,
          1.7102445886679856,
          -0.25360285658795656,
          1.373955494233924,
          0.1573245211525778,
          0.9179588000871358,
          1.4501656733343136,
          -0.3387058812164145,
          0.12752580527569551,
          0.09335592361703186,
          0.46755752620666796,
          -0.07728801968237105,
          -0.9010152681152521,
          -1.591414215809626,
          -1.539602646535873,
          -0.15053439886828743,
          -0.19059529732657582,
          0.28721444365992915,
          -0.42865126117404906,
          0.8253179141257997,
          -0.11172062284287053,
          0.6540991103515579,
          0.13745318590332364,
          1.7416753476030007,
          0.9540371329646546,
          0.5056558817518302,
          -0.90976828526663,
          0.9779440865005324,
          0.2226888697654056,
          -0.8123423017698557,
          0.8714764920706584,
          0.9597275072579795,
          1.3064080640044275,
          0.20089689763769625,
          0.6570047504187573,
          1.7712950311135016,
          0.758540342623224,
          -0.6999542696208285,
          -0.5296140031022785,
          -1.6278767145392647,
          0.52167480285576,
          -0.7262821978900574,
          0.43170230912564883,
          -1.9501271155499578,
          -0.15320748824202288,
          0.37342241042171925,
          0.02937078492454944,
          -0.7474020628442967,
          -0.8206850171791942,
          -0.9731997454172197,
          -0.8574662943143303,
          1.3631115358844874,
          -0.7325551730875081,
          0.32377382134675764,
          0.5837719300271894,
          -0.02981233759013717,
          0.07775300634035513,
          0.04632126687899852,
          0.8207828952495825,
          0.8663286865331438,
          -0.251598688319945,
          0.3853995691958181,
          0.8375831493796876,
          0.5066547754126097,
          0.8275361547809248,
          0.03135518353477385,
          0.4371432677710562,
          -1.0527954649016038
         ],
         "xaxis": "x",
         "yaxis": "y"
        },
        {
         "line": {
          "color": "rgba(128, 128, 128, 1.0)",
          "dash": "solid",
          "shape": "linear",
          "width": 1.3
         },
         "marker": {
          "size": 2,
          "symbol": "circle"
         },
         "mode": "markers",
         "name": "A",
         "text": "",
         "type": "scatter",
         "x": [
          -1.713173337968297,
          0.16463881583930215,
          -0.34641472283923375,
          -0.7595751733051315,
          1.8457908877737206,
          -0.21433429456110126,
          0.5124726487289849,
          1.437139990683677,
          0.6547777163218743,
          -0.013712678511071783,
          1.195708708470215,
          -0.19338978575811494,
          1.0102460462298848,
          -0.21334392761340226,
          0.19559412341150936,
          -0.8752839354002775,
          0.4096257270108291,
          -0.22866927545330804,
          -0.6069472783316819,
          0.12373879396409523,
          -1.2276604990058457,
          0.6010948363729458,
          0.4486512408929953,
          -0.49226693659304877,
          1.1159469633589956,
          -0.2133286556842512,
          -0.14082002882471792,
          1.0232543671980927,
          1.0487421873111291,
          -2.4058895957897612,
          -0.6263467808267238,
          -0.0535980194419228,
          -0.9697997059269032,
          -0.15393169598037867,
          -1.337531465339447,
          -1.8931093783678372,
          0.6531828644393675,
          0.1389289985343312,
          -1.2541133575089387,
          0.4075596248250558,
          0.28298950142601137,
          1.0159265252281,
          -0.5224631731621188,
          -0.732919324083606,
          0.953776621920564,
          -0.13175696682988694,
          0.4423720801760704,
          -2.0600703856891096,
          -0.2634038014696138,
          1.7969489763358557,
          -1.9328347947417628,
          0.12617300283094043,
          -0.06565066349539632,
          -0.255661121065549,
          -0.6753136577711945,
          -0.07234099887043406,
          0.7673623555981366,
          0.4959852463397566,
          -0.18199980527914109,
          0.389248533735029,
          -0.7478685197683522,
          0.012026132107050867,
          -1.8575220704136997,
          1.3694473521161734,
          -1.3884475997112322,
          0.01901705187140966,
          -1.0233698840410335,
          -0.7350923368030766,
          -0.18320340477385902,
          -0.3313476869735953,
          0.9446094346728854,
          0.13984453539392488,
          0.17647290803347712,
          -1.0722859198372872,
          -1.711183803392291,
          0.23813046063428772,
          0.18938486313991962,
          -1.0485551278432355,
          -0.4328810726807365,
          -0.7535732326589286,
          0.7408847778271608,
          -1.089504315225977,
          0.8192744630098808,
          -0.2562666205721067,
          0.007890140272847193,
          0.6257507665227129,
          -0.5629911840117975,
          -0.03906926625490238,
          0.148686082542415,
          0.2810631813885742,
          1.9243785137765812,
          0.17187484975152728,
          1.0688283176452438,
          -0.3163367926495648,
          1.9130406772984856,
          0.8787427413449688,
          -1.2205222953409034,
          -1.200783415119851,
          0.18552969644269862,
          -0.2549852401407603
         ],
         "xaxis": "x2",
         "y": [
          0.29925552254576165,
          -1.011041779205554,
          -0.5186900863586638,
          -0.3828217817492648,
          -0.30927380397760446,
          0.6652818442678666,
          -0.22391389891936955,
          -0.24552960736839285,
          -1.9729621488923037,
          -0.1270387319252311,
          0.7747801811502151,
          0.09795908528664474,
          0.8929236677497698,
          0.20187969491046906,
          -0.8188495086655256,
          -0.12106198188240833,
          -0.6988584323192542,
          0.9050943018885463,
          0.49840793884265266,
          -0.9287052444313292,
          -0.4739277566927989,
          2.8207058994017054,
          -1.1300495739122436,
          1.7922738360878419,
          -0.3722204804935097,
          0.6196710190455824,
          0.42286628491220846,
          -0.08201217140566631,
          -0.822929168212544,
          2.2132431936258605,
          -0.07338177118678733,
          -0.7110858990763125,
          -0.2845400209239793,
          1.7102445886679856,
          -0.25360285658795656,
          1.373955494233924,
          0.1573245211525778,
          0.9179588000871358,
          1.4501656733343136,
          -0.3387058812164145,
          0.12752580527569551,
          0.09335592361703186,
          0.46755752620666796,
          -0.07728801968237105,
          -0.9010152681152521,
          -1.591414215809626,
          -1.539602646535873,
          -0.15053439886828743,
          -0.19059529732657582,
          0.28721444365992915,
          -0.42865126117404906,
          0.8253179141257997,
          -0.11172062284287053,
          0.6540991103515579,
          0.13745318590332364,
          1.7416753476030007,
          0.9540371329646546,
          0.5056558817518302,
          -0.90976828526663,
          0.9779440865005324,
          0.2226888697654056,
          -0.8123423017698557,
          0.8714764920706584,
          0.9597275072579795,
          1.3064080640044275,
          0.20089689763769625,
          0.6570047504187573,
          1.7712950311135016,
          0.758540342623224,
          -0.6999542696208285,
          -0.5296140031022785,
          -1.6278767145392647,
          0.52167480285576,
          -0.7262821978900574,
          0.43170230912564883,
          -1.9501271155499578,
          -0.15320748824202288,
          0.37342241042171925,
          0.02937078492454944,
          -0.7474020628442967,
          -0.8206850171791942,
          -0.9731997454172197,
          -0.8574662943143303,
          1.3631115358844874,
          -0.7325551730875081,
          0.32377382134675764,
          0.5837719300271894,
          -0.02981233759013717,
          0.07775300634035513,
          0.04632126687899852,
          0.8207828952495825,
          0.8663286865331438,
          -0.251598688319945,
          0.3853995691958181,
          0.8375831493796876,
          0.5066547754126097,
          0.8275361547809248,
          0.03135518353477385,
          0.4371432677710562,
          -1.0527954649016038
         ],
         "yaxis": "y2"
        },
        {
         "line": {
          "color": "rgba(128, 128, 128, 1.0)",
          "dash": "solid",
          "shape": "linear",
          "width": 1.3
         },
         "marker": {
          "size": 2,
          "symbol": "circle"
         },
         "mode": "markers",
         "name": "A",
         "text": "",
         "type": "scatter",
         "x": [
          -1.3456606846294052,
          0.5895284155409911,
          -2.265446518321988,
          -0.3040595612451563,
          -1.4352207544271658,
          -0.900233739695578,
          0.2162329410392335,
          -0.8477553578869945,
          0.2199210890787251,
          0.029451150741701033,
          -2.1232035122256065,
          -0.7462854444893672,
          -0.06063410968953736,
          1.6985610322895328,
          -0.43729148945683866,
          0.05692436109507748,
          -1.8601493453303881,
          -0.0821997875255117,
          0.9154310436792841,
          -0.04630079631360709,
          1.4957572236847312,
          0.35774376913988176,
          1.3566638106896118,
          -0.3371424200641299,
          -0.609928733221454,
          0.2731175633992837,
          0.42852321505384566,
          -1.6866996078440353,
          -0.12465581181358817,
          0.5086419424337107,
          -1.227366268616366,
          0.23516570538076914,
          0.2603848247467958,
          -0.23941587472391318,
          0.03551607940517475,
          0.609387497857241,
          1.1003249486167004,
          -0.7362914284027954,
          0.059538871798452984,
          0.3888650743485843,
          -0.24389289870559744,
          1.13397444768638,
          0.8546797398974391,
          0.4201180657802193,
          -0.940622379712996,
          0.16391072978601387,
          -0.5110314596332228,
          -0.9884283249768397,
          -0.6081389626173525,
          -1.1340186063111575,
          0.35115508702523274,
          -0.6588447416539652,
          -1.342505089624679,
          -0.3869472070011788,
          -0.32639287152988083,
          -0.6499099996505723,
          -0.27366491962982475,
          -0.13612146575669448,
          0.8809269012902251,
          -1.1912491505326692,
          -0.24890064399062667,
          -0.2971728436040609,
          0.11836273075569706,
          -1.057972900788718,
          0.5146961907508886,
          0.20038098168860446,
          -0.5891722371838476,
          0.23244888139948644,
          0.21750620069341245,
          -0.5795740883100473,
          0.09018573850734177,
          0.853853240509046,
          1.9983666464685519,
          -1.8954822060989658,
          1.754852594725883,
          0.19084986352255978,
          -0.3845387497075328,
          -1.3009328500240576,
          0.2221088951254746,
          0.5984788054752173,
          0.14639374465444555,
          1.8882970920972084,
          -2.008401893338328,
          0.1386097248602371,
          0.7463479297934115,
          -0.8215597933432001,
          -1.1664854245190575,
          -0.3031386235822503,
          -0.36055129288817067,
          -0.40820099716418895,
          -0.5763988054209849,
          -0.683343180022325,
          -1.3024687462502815,
          -0.746834906444901,
          1.4597363890696786,
          0.6946900721683419,
          0.8739381406764574,
          0.6819793726595158,
          0.5083759650529504,
          1.344830395710999
         ],
         "xaxis": "x3",
         "y": [
          0.29925552254576165,
          -1.011041779205554,
          -0.5186900863586638,
          -0.3828217817492648,
          -0.30927380397760446,
          0.6652818442678666,
          -0.22391389891936955,
          -0.24552960736839285,
          -1.9729621488923037,
          -0.1270387319252311,
          0.7747801811502151,
          0.09795908528664474,
          0.8929236677497698,
          0.20187969491046906,
          -0.8188495086655256,
          -0.12106198188240833,
          -0.6988584323192542,
          0.9050943018885463,
          0.49840793884265266,
          -0.9287052444313292,
          -0.4739277566927989,
          2.8207058994017054,
          -1.1300495739122436,
          1.7922738360878419,
          -0.3722204804935097,
          0.6196710190455824,
          0.42286628491220846,
          -0.08201217140566631,
          -0.822929168212544,
          2.2132431936258605,
          -0.07338177118678733,
          -0.7110858990763125,
          -0.2845400209239793,
          1.7102445886679856,
          -0.25360285658795656,
          1.373955494233924,
          0.1573245211525778,
          0.9179588000871358,
          1.4501656733343136,
          -0.3387058812164145,
          0.12752580527569551,
          0.09335592361703186,
          0.46755752620666796,
          -0.07728801968237105,
          -0.9010152681152521,
          -1.591414215809626,
          -1.539602646535873,
          -0.15053439886828743,
          -0.19059529732657582,
          0.28721444365992915,
          -0.42865126117404906,
          0.8253179141257997,
          -0.11172062284287053,
          0.6540991103515579,
          0.13745318590332364,
          1.7416753476030007,
          0.9540371329646546,
          0.5056558817518302,
          -0.90976828526663,
          0.9779440865005324,
          0.2226888697654056,
          -0.8123423017698557,
          0.8714764920706584,
          0.9597275072579795,
          1.3064080640044275,
          0.20089689763769625,
          0.6570047504187573,
          1.7712950311135016,
          0.758540342623224,
          -0.6999542696208285,
          -0.5296140031022785,
          -1.6278767145392647,
          0.52167480285576,
          -0.7262821978900574,
          0.43170230912564883,
          -1.9501271155499578,
          -0.15320748824202288,
          0.37342241042171925,
          0.02937078492454944,
          -0.7474020628442967,
          -0.8206850171791942,
          -0.9731997454172197,
          -0.8574662943143303,
          1.3631115358844874,
          -0.7325551730875081,
          0.32377382134675764,
          0.5837719300271894,
          -0.02981233759013717,
          0.07775300634035513,
          0.04632126687899852,
          0.8207828952495825,
          0.8663286865331438,
          -0.251598688319945,
          0.3853995691958181,
          0.8375831493796876,
          0.5066547754126097,
          0.8275361547809248,
          0.03135518353477385,
          0.4371432677710562,
          -1.0527954649016038
         ],
         "yaxis": "y3"
        },
        {
         "line": {
          "color": "rgba(128, 128, 128, 1.0)",
          "dash": "solid",
          "shape": "linear",
          "width": 1.3
         },
         "marker": {
          "size": 2,
          "symbol": "circle"
         },
         "mode": "markers",
         "name": "A",
         "text": "",
         "type": "scatter",
         "x": [
          0.5018574017192605,
          1.0782535393916226,
          0.568796709596952,
          0.2036950006341363,
          0.7849892146214591,
          0.48000959289378786,
          0.35986046736783805,
          -1.7852691538744756,
          -0.2996915848722144,
          1.1564475612125333,
          0.051074214076615394,
          0.7764321290143538,
          -1.1175759248652855,
          -0.24728856214895104,
          1.3263796290507757,
          -0.4285467267650269,
          1.2759321118878388,
          0.8037925173987338,
          0.7819492351647368,
          1.0758735654743308,
          0.7210606328024203,
          1.2186361220101716,
          2.1935562180463783,
          -0.49896896310831407,
          0.4013548560430032,
          0.31810165737317614,
          -0.27796953078475395,
          -1.8636293228563015,
          0.4454398176844966,
          1.195401658277943,
          -0.6855060852970423,
          0.47980609849661626,
          -1.5479540549228206,
          -1.4552426939733916,
          1.4267657816278758,
          -0.7138382584873416,
          0.018015418224353635,
          0.42110384749845214,
          1.4602094381806838,
          0.07530742660165404,
          -0.08961578610340556,
          -1.1639856851403072,
          -0.02043964563297272,
          -1.3641386341120363,
          -0.5835699836049469,
          -0.9351175483694667,
          -0.29919151126586724,
          0.7624712006312411,
          0.7795623114147803,
          1.721763603194762,
          -1.2383947221719818,
          -0.6427103737886317,
          0.75396647684985,
          -0.6493305403245406,
          -0.7078129681664773,
          -0.3494909468608757,
          1.4332248236304639,
          0.6142940980344876,
          1.8070893325778903,
          0.3719354406321682,
          0.8209978346959457,
          1.1666299159634204,
          1.455625270563245,
          -1.140093644273744,
          -1.0953246514602062,
          -0.6321257689543668,
          -0.4867141786339963,
          0.1963880824590929,
          -0.4395719045967569,
          0.2917038736535683,
          -0.4584554130364333,
          1.3629703496255239,
          -0.2894619174101874,
          -0.27767288153057923,
          0.5367489163509358,
          1.3273492637955242,
          1.0088329659389959,
          0.19882769884916407,
          -0.028662307732223887,
          0.40582195716123337,
          2.4817132056762805,
          -1.1251494514493936,
          -1.3785355854205101,
          0.5578289475062926,
          1.0691795038626253,
          -0.1256942625051536,
          0.6934436037097989,
          0.2637781887356134,
          -0.17709883287935585,
          -1.2182972741350941,
          0.19909941833152142,
          0.8349788934312267,
          -2.4793737612709754,
          -0.5213544012324818,
          0.5484162102334881,
          -0.784792661670148,
          -0.9136347038700877,
          0.8300695566817942,
          1.407054346021127,
          -1.141741760605707
         ],
         "xaxis": "x4",
         "y": [
          0.29925552254576165,
          -1.011041779205554,
          -0.5186900863586638,
          -0.3828217817492648,
          -0.30927380397760446,
          0.6652818442678666,
          -0.22391389891936955,
          -0.24552960736839285,
          -1.9729621488923037,
          -0.1270387319252311,
          0.7747801811502151,
          0.09795908528664474,
          0.8929236677497698,
          0.20187969491046906,
          -0.8188495086655256,
          -0.12106198188240833,
          -0.6988584323192542,
          0.9050943018885463,
          0.49840793884265266,
          -0.9287052444313292,
          -0.4739277566927989,
          2.8207058994017054,
          -1.1300495739122436,
          1.7922738360878419,
          -0.3722204804935097,
          0.6196710190455824,
          0.42286628491220846,
          -0.08201217140566631,
          -0.822929168212544,
          2.2132431936258605,
          -0.07338177118678733,
          -0.7110858990763125,
          -0.2845400209239793,
          1.7102445886679856,
          -0.25360285658795656,
          1.373955494233924,
          0.1573245211525778,
          0.9179588000871358,
          1.4501656733343136,
          -0.3387058812164145,
          0.12752580527569551,
          0.09335592361703186,
          0.46755752620666796,
          -0.07728801968237105,
          -0.9010152681152521,
          -1.591414215809626,
          -1.539602646535873,
          -0.15053439886828743,
          -0.19059529732657582,
          0.28721444365992915,
          -0.42865126117404906,
          0.8253179141257997,
          -0.11172062284287053,
          0.6540991103515579,
          0.13745318590332364,
          1.7416753476030007,
          0.9540371329646546,
          0.5056558817518302,
          -0.90976828526663,
          0.9779440865005324,
          0.2226888697654056,
          -0.8123423017698557,
          0.8714764920706584,
          0.9597275072579795,
          1.3064080640044275,
          0.20089689763769625,
          0.6570047504187573,
          1.7712950311135016,
          0.758540342623224,
          -0.6999542696208285,
          -0.5296140031022785,
          -1.6278767145392647,
          0.52167480285576,
          -0.7262821978900574,
          0.43170230912564883,
          -1.9501271155499578,
          -0.15320748824202288,
          0.37342241042171925,
          0.02937078492454944,
          -0.7474020628442967,
          -0.8206850171791942,
          -0.9731997454172197,
          -0.8574662943143303,
          1.3631115358844874,
          -0.7325551730875081,
          0.32377382134675764,
          0.5837719300271894,
          -0.02981233759013717,
          0.07775300634035513,
          0.04632126687899852,
          0.8207828952495825,
          0.8663286865331438,
          -0.251598688319945,
          0.3853995691958181,
          0.8375831493796876,
          0.5066547754126097,
          0.8275361547809248,
          0.03135518353477385,
          0.4371432677710562,
          -1.0527954649016038
         ],
         "yaxis": "y4"
        },
        {
         "line": {
          "color": "rgba(128, 128, 128, 1.0)",
          "dash": "solid",
          "shape": "linear",
          "width": 1.3
         },
         "marker": {
          "size": 2,
          "symbol": "circle"
         },
         "mode": "markers",
         "name": "B",
         "text": "",
         "type": "scatter",
         "x": [
          0.29925552254576165,
          -1.011041779205554,
          -0.5186900863586638,
          -0.3828217817492648,
          -0.30927380397760446,
          0.6652818442678666,
          -0.22391389891936955,
          -0.24552960736839285,
          -1.9729621488923037,
          -0.1270387319252311,
          0.7747801811502151,
          0.09795908528664474,
          0.8929236677497698,
          0.20187969491046906,
          -0.8188495086655256,
          -0.12106198188240833,
          -0.6988584323192542,
          0.9050943018885463,
          0.49840793884265266,
          -0.9287052444313292,
          -0.4739277566927989,
          2.8207058994017054,
          -1.1300495739122436,
          1.7922738360878419,
          -0.3722204804935097,
          0.6196710190455824,
          0.42286628491220846,
          -0.08201217140566631,
          -0.822929168212544,
          2.2132431936258605,
          -0.07338177118678733,
          -0.7110858990763125,
          -0.2845400209239793,
          1.7102445886679856,
          -0.25360285658795656,
          1.373955494233924,
          0.1573245211525778,
          0.9179588000871358,
          1.4501656733343136,
          -0.3387058812164145,
          0.12752580527569551,
          0.09335592361703186,
          0.46755752620666796,
          -0.07728801968237105,
          -0.9010152681152521,
          -1.591414215809626,
          -1.539602646535873,
          -0.15053439886828743,
          -0.19059529732657582,
          0.28721444365992915,
          -0.42865126117404906,
          0.8253179141257997,
          -0.11172062284287053,
          0.6540991103515579,
          0.13745318590332364,
          1.7416753476030007,
          0.9540371329646546,
          0.5056558817518302,
          -0.90976828526663,
          0.9779440865005324,
          0.2226888697654056,
          -0.8123423017698557,
          0.8714764920706584,
          0.9597275072579795,
          1.3064080640044275,
          0.20089689763769625,
          0.6570047504187573,
          1.7712950311135016,
          0.758540342623224,
          -0.6999542696208285,
          -0.5296140031022785,
          -1.6278767145392647,
          0.52167480285576,
          -0.7262821978900574,
          0.43170230912564883,
          -1.9501271155499578,
          -0.15320748824202288,
          0.37342241042171925,
          0.02937078492454944,
          -0.7474020628442967,
          -0.8206850171791942,
          -0.9731997454172197,
          -0.8574662943143303,
          1.3631115358844874,
          -0.7325551730875081,
          0.32377382134675764,
          0.5837719300271894,
          -0.02981233759013717,
          0.07775300634035513,
          0.04632126687899852,
          0.8207828952495825,
          0.8663286865331438,
          -0.251598688319945,
          0.3853995691958181,
          0.8375831493796876,
          0.5066547754126097,
          0.8275361547809248,
          0.03135518353477385,
          0.4371432677710562,
          -1.0527954649016038
         ],
         "xaxis": "x5",
         "y": [
          -1.713173337968297,
          0.16463881583930215,
          -0.34641472283923375,
          -0.7595751733051315,
          1.8457908877737206,
          -0.21433429456110126,
          0.5124726487289849,
          1.437139990683677,
          0.6547777163218743,
          -0.013712678511071783,
          1.195708708470215,
          -0.19338978575811494,
          1.0102460462298848,
          -0.21334392761340226,
          0.19559412341150936,
          -0.8752839354002775,
          0.4096257270108291,
          -0.22866927545330804,
          -0.6069472783316819,
          0.12373879396409523,
          -1.2276604990058457,
          0.6010948363729458,
          0.4486512408929953,
          -0.49226693659304877,
          1.1159469633589956,
          -0.2133286556842512,
          -0.14082002882471792,
          1.0232543671980927,
          1.0487421873111291,
          -2.4058895957897612,
          -0.6263467808267238,
          -0.0535980194419228,
          -0.9697997059269032,
          -0.15393169598037867,
          -1.337531465339447,
          -1.8931093783678372,
          0.6531828644393675,
          0.1389289985343312,
          -1.2541133575089387,
          0.4075596248250558,
          0.28298950142601137,
          1.0159265252281,
          -0.5224631731621188,
          -0.732919324083606,
          0.953776621920564,
          -0.13175696682988694,
          0.4423720801760704,
          -2.0600703856891096,
          -0.2634038014696138,
          1.7969489763358557,
          -1.9328347947417628,
          0.12617300283094043,
          -0.06565066349539632,
          -0.255661121065549,
          -0.6753136577711945,
          -0.07234099887043406,
          0.7673623555981366,
          0.4959852463397566,
          -0.18199980527914109,
          0.389248533735029,
          -0.7478685197683522,
          0.012026132107050867,
          -1.8575220704136997,
          1.3694473521161734,
          -1.3884475997112322,
          0.01901705187140966,
          -1.0233698840410335,
          -0.7350923368030766,
          -0.18320340477385902,
          -0.3313476869735953,
          0.9446094346728854,
          0.13984453539392488,
          0.17647290803347712,
          -1.0722859198372872,
          -1.711183803392291,
          0.23813046063428772,
          0.18938486313991962,
          -1.0485551278432355,
          -0.4328810726807365,
          -0.7535732326589286,
          0.7408847778271608,
          -1.089504315225977,
          0.8192744630098808,
          -0.2562666205721067,
          0.007890140272847193,
          0.6257507665227129,
          -0.5629911840117975,
          -0.03906926625490238,
          0.148686082542415,
          0.2810631813885742,
          1.9243785137765812,
          0.17187484975152728,
          1.0688283176452438,
          -0.3163367926495648,
          1.9130406772984856,
          0.8787427413449688,
          -1.2205222953409034,
          -1.200783415119851,
          0.18552969644269862,
          -0.2549852401407603
         ],
         "yaxis": "y5"
        },
        {
         "histfunc": "count",
         "histnorm": "",
         "marker": {
          "color": "rgba(55, 128, 191, 1.0)",
          "line": {
           "color": "#4D5663",
           "width": 1.3
          }
         },
         "name": "B",
         "nbinsx": 10,
         "opacity": 0.8,
         "orientation": "v",
         "type": "histogram",
         "x": [
          -1.713173337968297,
          0.16463881583930215,
          -0.34641472283923375,
          -0.7595751733051315,
          1.8457908877737206,
          -0.21433429456110126,
          0.5124726487289849,
          1.437139990683677,
          0.6547777163218743,
          -0.013712678511071783,
          1.195708708470215,
          -0.19338978575811494,
          1.0102460462298848,
          -0.21334392761340226,
          0.19559412341150936,
          -0.8752839354002775,
          0.4096257270108291,
          -0.22866927545330804,
          -0.6069472783316819,
          0.12373879396409523,
          -1.2276604990058457,
          0.6010948363729458,
          0.4486512408929953,
          -0.49226693659304877,
          1.1159469633589956,
          -0.2133286556842512,
          -0.14082002882471792,
          1.0232543671980927,
          1.0487421873111291,
          -2.4058895957897612,
          -0.6263467808267238,
          -0.0535980194419228,
          -0.9697997059269032,
          -0.15393169598037867,
          -1.337531465339447,
          -1.8931093783678372,
          0.6531828644393675,
          0.1389289985343312,
          -1.2541133575089387,
          0.4075596248250558,
          0.28298950142601137,
          1.0159265252281,
          -0.5224631731621188,
          -0.732919324083606,
          0.953776621920564,
          -0.13175696682988694,
          0.4423720801760704,
          -2.0600703856891096,
          -0.2634038014696138,
          1.7969489763358557,
          -1.9328347947417628,
          0.12617300283094043,
          -0.06565066349539632,
          -0.255661121065549,
          -0.6753136577711945,
          -0.07234099887043406,
          0.7673623555981366,
          0.4959852463397566,
          -0.18199980527914109,
          0.389248533735029,
          -0.7478685197683522,
          0.012026132107050867,
          -1.8575220704136997,
          1.3694473521161734,
          -1.3884475997112322,
          0.01901705187140966,
          -1.0233698840410335,
          -0.7350923368030766,
          -0.18320340477385902,
          -0.3313476869735953,
          0.9446094346728854,
          0.13984453539392488,
          0.17647290803347712,
          -1.0722859198372872,
          -1.711183803392291,
          0.23813046063428772,
          0.18938486313991962,
          -1.0485551278432355,
          -0.4328810726807365,
          -0.7535732326589286,
          0.7408847778271608,
          -1.089504315225977,
          0.8192744630098808,
          -0.2562666205721067,
          0.007890140272847193,
          0.6257507665227129,
          -0.5629911840117975,
          -0.03906926625490238,
          0.148686082542415,
          0.2810631813885742,
          1.9243785137765812,
          0.17187484975152728,
          1.0688283176452438,
          -0.3163367926495648,
          1.9130406772984856,
          0.8787427413449688,
          -1.2205222953409034,
          -1.200783415119851,
          0.18552969644269862,
          -0.2549852401407603
         ],
         "xaxis": "x6",
         "yaxis": "y6"
        },
        {
         "line": {
          "color": "rgba(128, 128, 128, 1.0)",
          "dash": "solid",
          "shape": "linear",
          "width": 1.3
         },
         "marker": {
          "size": 2,
          "symbol": "circle"
         },
         "mode": "markers",
         "name": "B",
         "text": "",
         "type": "scatter",
         "x": [
          -1.3456606846294052,
          0.5895284155409911,
          -2.265446518321988,
          -0.3040595612451563,
          -1.4352207544271658,
          -0.900233739695578,
          0.2162329410392335,
          -0.8477553578869945,
          0.2199210890787251,
          0.029451150741701033,
          -2.1232035122256065,
          -0.7462854444893672,
          -0.06063410968953736,
          1.6985610322895328,
          -0.43729148945683866,
          0.05692436109507748,
          -1.8601493453303881,
          -0.0821997875255117,
          0.9154310436792841,
          -0.04630079631360709,
          1.4957572236847312,
          0.35774376913988176,
          1.3566638106896118,
          -0.3371424200641299,
          -0.609928733221454,
          0.2731175633992837,
          0.42852321505384566,
          -1.6866996078440353,
          -0.12465581181358817,
          0.5086419424337107,
          -1.227366268616366,
          0.23516570538076914,
          0.2603848247467958,
          -0.23941587472391318,
          0.03551607940517475,
          0.609387497857241,
          1.1003249486167004,
          -0.7362914284027954,
          0.059538871798452984,
          0.3888650743485843,
          -0.24389289870559744,
          1.13397444768638,
          0.8546797398974391,
          0.4201180657802193,
          -0.940622379712996,
          0.16391072978601387,
          -0.5110314596332228,
          -0.9884283249768397,
          -0.6081389626173525,
          -1.1340186063111575,
          0.35115508702523274,
          -0.6588447416539652,
          -1.342505089624679,
          -0.3869472070011788,
          -0.32639287152988083,
          -0.6499099996505723,
          -0.27366491962982475,
          -0.13612146575669448,
          0.8809269012902251,
          -1.1912491505326692,
          -0.24890064399062667,
          -0.2971728436040609,
          0.11836273075569706,
          -1.057972900788718,
          0.5146961907508886,
          0.20038098168860446,
          -0.5891722371838476,
          0.23244888139948644,
          0.21750620069341245,
          -0.5795740883100473,
          0.09018573850734177,
          0.853853240509046,
          1.9983666464685519,
          -1.8954822060989658,
          1.754852594725883,
          0.19084986352255978,
          -0.3845387497075328,
          -1.3009328500240576,
          0.2221088951254746,
          0.5984788054752173,
          0.14639374465444555,
          1.8882970920972084,
          -2.008401893338328,
          0.1386097248602371,
          0.7463479297934115,
          -0.8215597933432001,
          -1.1664854245190575,
          -0.3031386235822503,
          -0.36055129288817067,
          -0.40820099716418895,
          -0.5763988054209849,
          -0.683343180022325,
          -1.3024687462502815,
          -0.746834906444901,
          1.4597363890696786,
          0.6946900721683419,
          0.8739381406764574,
          0.6819793726595158,
          0.5083759650529504,
          1.344830395710999
         ],
         "xaxis": "x7",
         "y": [
          -1.713173337968297,
          0.16463881583930215,
          -0.34641472283923375,
          -0.7595751733051315,
          1.8457908877737206,
          -0.21433429456110126,
          0.5124726487289849,
          1.437139990683677,
          0.6547777163218743,
          -0.013712678511071783,
          1.195708708470215,
          -0.19338978575811494,
          1.0102460462298848,
          -0.21334392761340226,
          0.19559412341150936,
          -0.8752839354002775,
          0.4096257270108291,
          -0.22866927545330804,
          -0.6069472783316819,
          0.12373879396409523,
          -1.2276604990058457,
          0.6010948363729458,
          0.4486512408929953,
          -0.49226693659304877,
          1.1159469633589956,
          -0.2133286556842512,
          -0.14082002882471792,
          1.0232543671980927,
          1.0487421873111291,
          -2.4058895957897612,
          -0.6263467808267238,
          -0.0535980194419228,
          -0.9697997059269032,
          -0.15393169598037867,
          -1.337531465339447,
          -1.8931093783678372,
          0.6531828644393675,
          0.1389289985343312,
          -1.2541133575089387,
          0.4075596248250558,
          0.28298950142601137,
          1.0159265252281,
          -0.5224631731621188,
          -0.732919324083606,
          0.953776621920564,
          -0.13175696682988694,
          0.4423720801760704,
          -2.0600703856891096,
          -0.2634038014696138,
          1.7969489763358557,
          -1.9328347947417628,
          0.12617300283094043,
          -0.06565066349539632,
          -0.255661121065549,
          -0.6753136577711945,
          -0.07234099887043406,
          0.7673623555981366,
          0.4959852463397566,
          -0.18199980527914109,
          0.389248533735029,
          -0.7478685197683522,
          0.012026132107050867,
          -1.8575220704136997,
          1.3694473521161734,
          -1.3884475997112322,
          0.01901705187140966,
          -1.0233698840410335,
          -0.7350923368030766,
          -0.18320340477385902,
          -0.3313476869735953,
          0.9446094346728854,
          0.13984453539392488,
          0.17647290803347712,
          -1.0722859198372872,
          -1.711183803392291,
          0.23813046063428772,
          0.18938486313991962,
          -1.0485551278432355,
          -0.4328810726807365,
          -0.7535732326589286,
          0.7408847778271608,
          -1.089504315225977,
          0.8192744630098808,
          -0.2562666205721067,
          0.007890140272847193,
          0.6257507665227129,
          -0.5629911840117975,
          -0.03906926625490238,
          0.148686082542415,
          0.2810631813885742,
          1.9243785137765812,
          0.17187484975152728,
          1.0688283176452438,
          -0.3163367926495648,
          1.9130406772984856,
          0.8787427413449688,
          -1.2205222953409034,
          -1.200783415119851,
          0.18552969644269862,
          -0.2549852401407603
         ],
         "yaxis": "y7"
        },
        {
         "line": {
          "color": "rgba(128, 128, 128, 1.0)",
          "dash": "solid",
          "shape": "linear",
          "width": 1.3
         },
         "marker": {
          "size": 2,
          "symbol": "circle"
         },
         "mode": "markers",
         "name": "B",
         "text": "",
         "type": "scatter",
         "x": [
          0.5018574017192605,
          1.0782535393916226,
          0.568796709596952,
          0.2036950006341363,
          0.7849892146214591,
          0.48000959289378786,
          0.35986046736783805,
          -1.7852691538744756,
          -0.2996915848722144,
          1.1564475612125333,
          0.051074214076615394,
          0.7764321290143538,
          -1.1175759248652855,
          -0.24728856214895104,
          1.3263796290507757,
          -0.4285467267650269,
          1.2759321118878388,
          0.8037925173987338,
          0.7819492351647368,
          1.0758735654743308,
          0.7210606328024203,
          1.2186361220101716,
          2.1935562180463783,
          -0.49896896310831407,
          0.4013548560430032,
          0.31810165737317614,
          -0.27796953078475395,
          -1.8636293228563015,
          0.4454398176844966,
          1.195401658277943,
          -0.6855060852970423,
          0.47980609849661626,
          -1.5479540549228206,
          -1.4552426939733916,
          1.4267657816278758,
          -0.7138382584873416,
          0.018015418224353635,
          0.42110384749845214,
          1.4602094381806838,
          0.07530742660165404,
          -0.08961578610340556,
          -1.1639856851403072,
          -0.02043964563297272,
          -1.3641386341120363,
          -0.5835699836049469,
          -0.9351175483694667,
          -0.29919151126586724,
          0.7624712006312411,
          0.7795623114147803,
          1.721763603194762,
          -1.2383947221719818,
          -0.6427103737886317,
          0.75396647684985,
          -0.6493305403245406,
          -0.7078129681664773,
          -0.3494909468608757,
          1.4332248236304639,
          0.6142940980344876,
          1.8070893325778903,
          0.3719354406321682,
          0.8209978346959457,
          1.1666299159634204,
          1.455625270563245,
          -1.140093644273744,
          -1.0953246514602062,
          -0.6321257689543668,
          -0.4867141786339963,
          0.1963880824590929,
          -0.4395719045967569,
          0.2917038736535683,
          -0.4584554130364333,
          1.3629703496255239,
          -0.2894619174101874,
          -0.27767288153057923,
          0.5367489163509358,
          1.3273492637955242,
          1.0088329659389959,
          0.19882769884916407,
          -0.028662307732223887,
          0.40582195716123337,
          2.4817132056762805,
          -1.1251494514493936,
          -1.3785355854205101,
          0.5578289475062926,
          1.0691795038626253,
          -0.1256942625051536,
          0.6934436037097989,
          0.2637781887356134,
          -0.17709883287935585,
          -1.2182972741350941,
          0.19909941833152142,
          0.8349788934312267,
          -2.4793737612709754,
          -0.5213544012324818,
          0.5484162102334881,
          -0.784792661670148,
          -0.9136347038700877,
          0.8300695566817942,
          1.407054346021127,
          -1.141741760605707
         ],
         "xaxis": "x8",
         "y": [
          -1.713173337968297,
          0.16463881583930215,
          -0.34641472283923375,
          -0.7595751733051315,
          1.8457908877737206,
          -0.21433429456110126,
          0.5124726487289849,
          1.437139990683677,
          0.6547777163218743,
          -0.013712678511071783,
          1.195708708470215,
          -0.19338978575811494,
          1.0102460462298848,
          -0.21334392761340226,
          0.19559412341150936,
          -0.8752839354002775,
          0.4096257270108291,
          -0.22866927545330804,
          -0.6069472783316819,
          0.12373879396409523,
          -1.2276604990058457,
          0.6010948363729458,
          0.4486512408929953,
          -0.49226693659304877,
          1.1159469633589956,
          -0.2133286556842512,
          -0.14082002882471792,
          1.0232543671980927,
          1.0487421873111291,
          -2.4058895957897612,
          -0.6263467808267238,
          -0.0535980194419228,
          -0.9697997059269032,
          -0.15393169598037867,
          -1.337531465339447,
          -1.8931093783678372,
          0.6531828644393675,
          0.1389289985343312,
          -1.2541133575089387,
          0.4075596248250558,
          0.28298950142601137,
          1.0159265252281,
          -0.5224631731621188,
          -0.732919324083606,
          0.953776621920564,
          -0.13175696682988694,
          0.4423720801760704,
          -2.0600703856891096,
          -0.2634038014696138,
          1.7969489763358557,
          -1.9328347947417628,
          0.12617300283094043,
          -0.06565066349539632,
          -0.255661121065549,
          -0.6753136577711945,
          -0.07234099887043406,
          0.7673623555981366,
          0.4959852463397566,
          -0.18199980527914109,
          0.389248533735029,
          -0.7478685197683522,
          0.012026132107050867,
          -1.8575220704136997,
          1.3694473521161734,
          -1.3884475997112322,
          0.01901705187140966,
          -1.0233698840410335,
          -0.7350923368030766,
          -0.18320340477385902,
          -0.3313476869735953,
          0.9446094346728854,
          0.13984453539392488,
          0.17647290803347712,
          -1.0722859198372872,
          -1.711183803392291,
          0.23813046063428772,
          0.18938486313991962,
          -1.0485551278432355,
          -0.4328810726807365,
          -0.7535732326589286,
          0.7408847778271608,
          -1.089504315225977,
          0.8192744630098808,
          -0.2562666205721067,
          0.007890140272847193,
          0.6257507665227129,
          -0.5629911840117975,
          -0.03906926625490238,
          0.148686082542415,
          0.2810631813885742,
          1.9243785137765812,
          0.17187484975152728,
          1.0688283176452438,
          -0.3163367926495648,
          1.9130406772984856,
          0.8787427413449688,
          -1.2205222953409034,
          -1.200783415119851,
          0.18552969644269862,
          -0.2549852401407603
         ],
         "yaxis": "y8"
        },
        {
         "line": {
          "color": "rgba(128, 128, 128, 1.0)",
          "dash": "solid",
          "shape": "linear",
          "width": 1.3
         },
         "marker": {
          "size": 2,
          "symbol": "circle"
         },
         "mode": "markers",
         "name": "C",
         "text": "",
         "type": "scatter",
         "x": [
          0.29925552254576165,
          -1.011041779205554,
          -0.5186900863586638,
          -0.3828217817492648,
          -0.30927380397760446,
          0.6652818442678666,
          -0.22391389891936955,
          -0.24552960736839285,
          -1.9729621488923037,
          -0.1270387319252311,
          0.7747801811502151,
          0.09795908528664474,
          0.8929236677497698,
          0.20187969491046906,
          -0.8188495086655256,
          -0.12106198188240833,
          -0.6988584323192542,
          0.9050943018885463,
          0.49840793884265266,
          -0.9287052444313292,
          -0.4739277566927989,
          2.8207058994017054,
          -1.1300495739122436,
          1.7922738360878419,
          -0.3722204804935097,
          0.6196710190455824,
          0.42286628491220846,
          -0.08201217140566631,
          -0.822929168212544,
          2.2132431936258605,
          -0.07338177118678733,
          -0.7110858990763125,
          -0.2845400209239793,
          1.7102445886679856,
          -0.25360285658795656,
          1.373955494233924,
          0.1573245211525778,
          0.9179588000871358,
          1.4501656733343136,
          -0.3387058812164145,
          0.12752580527569551,
          0.09335592361703186,
          0.46755752620666796,
          -0.07728801968237105,
          -0.9010152681152521,
          -1.591414215809626,
          -1.539602646535873,
          -0.15053439886828743,
          -0.19059529732657582,
          0.28721444365992915,
          -0.42865126117404906,
          0.8253179141257997,
          -0.11172062284287053,
          0.6540991103515579,
          0.13745318590332364,
          1.7416753476030007,
          0.9540371329646546,
          0.5056558817518302,
          -0.90976828526663,
          0.9779440865005324,
          0.2226888697654056,
          -0.8123423017698557,
          0.8714764920706584,
          0.9597275072579795,
          1.3064080640044275,
          0.20089689763769625,
          0.6570047504187573,
          1.7712950311135016,
          0.758540342623224,
          -0.6999542696208285,
          -0.5296140031022785,
          -1.6278767145392647,
          0.52167480285576,
          -0.7262821978900574,
          0.43170230912564883,
          -1.9501271155499578,
          -0.15320748824202288,
          0.37342241042171925,
          0.02937078492454944,
          -0.7474020628442967,
          -0.8206850171791942,
          -0.9731997454172197,
          -0.8574662943143303,
          1.3631115358844874,
          -0.7325551730875081,
          0.32377382134675764,
          0.5837719300271894,
          -0.02981233759013717,
          0.07775300634035513,
          0.04632126687899852,
          0.8207828952495825,
          0.8663286865331438,
          -0.251598688319945,
          0.3853995691958181,
          0.8375831493796876,
          0.5066547754126097,
          0.8275361547809248,
          0.03135518353477385,
          0.4371432677710562,
          -1.0527954649016038
         ],
         "xaxis": "x9",
         "y": [
          -1.3456606846294052,
          0.5895284155409911,
          -2.265446518321988,
          -0.3040595612451563,
          -1.4352207544271658,
          -0.900233739695578,
          0.2162329410392335,
          -0.8477553578869945,
          0.2199210890787251,
          0.029451150741701033,
          -2.1232035122256065,
          -0.7462854444893672,
          -0.06063410968953736,
          1.6985610322895328,
          -0.43729148945683866,
          0.05692436109507748,
          -1.8601493453303881,
          -0.0821997875255117,
          0.9154310436792841,
          -0.04630079631360709,
          1.4957572236847312,
          0.35774376913988176,
          1.3566638106896118,
          -0.3371424200641299,
          -0.609928733221454,
          0.2731175633992837,
          0.42852321505384566,
          -1.6866996078440353,
          -0.12465581181358817,
          0.5086419424337107,
          -1.227366268616366,
          0.23516570538076914,
          0.2603848247467958,
          -0.23941587472391318,
          0.03551607940517475,
          0.609387497857241,
          1.1003249486167004,
          -0.7362914284027954,
          0.059538871798452984,
          0.3888650743485843,
          -0.24389289870559744,
          1.13397444768638,
          0.8546797398974391,
          0.4201180657802193,
          -0.940622379712996,
          0.16391072978601387,
          -0.5110314596332228,
          -0.9884283249768397,
          -0.6081389626173525,
          -1.1340186063111575,
          0.35115508702523274,
          -0.6588447416539652,
          -1.342505089624679,
          -0.3869472070011788,
          -0.32639287152988083,
          -0.6499099996505723,
          -0.27366491962982475,
          -0.13612146575669448,
          0.8809269012902251,
          -1.1912491505326692,
          -0.24890064399062667,
          -0.2971728436040609,
          0.11836273075569706,
          -1.057972900788718,
          0.5146961907508886,
          0.20038098168860446,
          -0.5891722371838476,
          0.23244888139948644,
          0.21750620069341245,
          -0.5795740883100473,
          0.09018573850734177,
          0.853853240509046,
          1.9983666464685519,
          -1.8954822060989658,
          1.754852594725883,
          0.19084986352255978,
          -0.3845387497075328,
          -1.3009328500240576,
          0.2221088951254746,
          0.5984788054752173,
          0.14639374465444555,
          1.8882970920972084,
          -2.008401893338328,
          0.1386097248602371,
          0.7463479297934115,
          -0.8215597933432001,
          -1.1664854245190575,
          -0.3031386235822503,
          -0.36055129288817067,
          -0.40820099716418895,
          -0.5763988054209849,
          -0.683343180022325,
          -1.3024687462502815,
          -0.746834906444901,
          1.4597363890696786,
          0.6946900721683419,
          0.8739381406764574,
          0.6819793726595158,
          0.5083759650529504,
          1.344830395710999
         ],
         "yaxis": "y9"
        },
        {
         "line": {
          "color": "rgba(128, 128, 128, 1.0)",
          "dash": "solid",
          "shape": "linear",
          "width": 1.3
         },
         "marker": {
          "size": 2,
          "symbol": "circle"
         },
         "mode": "markers",
         "name": "C",
         "text": "",
         "type": "scatter",
         "x": [
          -1.713173337968297,
          0.16463881583930215,
          -0.34641472283923375,
          -0.7595751733051315,
          1.8457908877737206,
          -0.21433429456110126,
          0.5124726487289849,
          1.437139990683677,
          0.6547777163218743,
          -0.013712678511071783,
          1.195708708470215,
          -0.19338978575811494,
          1.0102460462298848,
          -0.21334392761340226,
          0.19559412341150936,
          -0.8752839354002775,
          0.4096257270108291,
          -0.22866927545330804,
          -0.6069472783316819,
          0.12373879396409523,
          -1.2276604990058457,
          0.6010948363729458,
          0.4486512408929953,
          -0.49226693659304877,
          1.1159469633589956,
          -0.2133286556842512,
          -0.14082002882471792,
          1.0232543671980927,
          1.0487421873111291,
          -2.4058895957897612,
          -0.6263467808267238,
          -0.0535980194419228,
          -0.9697997059269032,
          -0.15393169598037867,
          -1.337531465339447,
          -1.8931093783678372,
          0.6531828644393675,
          0.1389289985343312,
          -1.2541133575089387,
          0.4075596248250558,
          0.28298950142601137,
          1.0159265252281,
          -0.5224631731621188,
          -0.732919324083606,
          0.953776621920564,
          -0.13175696682988694,
          0.4423720801760704,
          -2.0600703856891096,
          -0.2634038014696138,
          1.7969489763358557,
          -1.9328347947417628,
          0.12617300283094043,
          -0.06565066349539632,
          -0.255661121065549,
          -0.6753136577711945,
          -0.07234099887043406,
          0.7673623555981366,
          0.4959852463397566,
          -0.18199980527914109,
          0.389248533735029,
          -0.7478685197683522,
          0.012026132107050867,
          -1.8575220704136997,
          1.3694473521161734,
          -1.3884475997112322,
          0.01901705187140966,
          -1.0233698840410335,
          -0.7350923368030766,
          -0.18320340477385902,
          -0.3313476869735953,
          0.9446094346728854,
          0.13984453539392488,
          0.17647290803347712,
          -1.0722859198372872,
          -1.711183803392291,
          0.23813046063428772,
          0.18938486313991962,
          -1.0485551278432355,
          -0.4328810726807365,
          -0.7535732326589286,
          0.7408847778271608,
          -1.089504315225977,
          0.8192744630098808,
          -0.2562666205721067,
          0.007890140272847193,
          0.6257507665227129,
          -0.5629911840117975,
          -0.03906926625490238,
          0.148686082542415,
          0.2810631813885742,
          1.9243785137765812,
          0.17187484975152728,
          1.0688283176452438,
          -0.3163367926495648,
          1.9130406772984856,
          0.8787427413449688,
          -1.2205222953409034,
          -1.200783415119851,
          0.18552969644269862,
          -0.2549852401407603
         ],
         "xaxis": "x10",
         "y": [
          -1.3456606846294052,
          0.5895284155409911,
          -2.265446518321988,
          -0.3040595612451563,
          -1.4352207544271658,
          -0.900233739695578,
          0.2162329410392335,
          -0.8477553578869945,
          0.2199210890787251,
          0.029451150741701033,
          -2.1232035122256065,
          -0.7462854444893672,
          -0.06063410968953736,
          1.6985610322895328,
          -0.43729148945683866,
          0.05692436109507748,
          -1.8601493453303881,
          -0.0821997875255117,
          0.9154310436792841,
          -0.04630079631360709,
          1.4957572236847312,
          0.35774376913988176,
          1.3566638106896118,
          -0.3371424200641299,
          -0.609928733221454,
          0.2731175633992837,
          0.42852321505384566,
          -1.6866996078440353,
          -0.12465581181358817,
          0.5086419424337107,
          -1.227366268616366,
          0.23516570538076914,
          0.2603848247467958,
          -0.23941587472391318,
          0.03551607940517475,
          0.609387497857241,
          1.1003249486167004,
          -0.7362914284027954,
          0.059538871798452984,
          0.3888650743485843,
          -0.24389289870559744,
          1.13397444768638,
          0.8546797398974391,
          0.4201180657802193,
          -0.940622379712996,
          0.16391072978601387,
          -0.5110314596332228,
          -0.9884283249768397,
          -0.6081389626173525,
          -1.1340186063111575,
          0.35115508702523274,
          -0.6588447416539652,
          -1.342505089624679,
          -0.3869472070011788,
          -0.32639287152988083,
          -0.6499099996505723,
          -0.27366491962982475,
          -0.13612146575669448,
          0.8809269012902251,
          -1.1912491505326692,
          -0.24890064399062667,
          -0.2971728436040609,
          0.11836273075569706,
          -1.057972900788718,
          0.5146961907508886,
          0.20038098168860446,
          -0.5891722371838476,
          0.23244888139948644,
          0.21750620069341245,
          -0.5795740883100473,
          0.09018573850734177,
          0.853853240509046,
          1.9983666464685519,
          -1.8954822060989658,
          1.754852594725883,
          0.19084986352255978,
          -0.3845387497075328,
          -1.3009328500240576,
          0.2221088951254746,
          0.5984788054752173,
          0.14639374465444555,
          1.8882970920972084,
          -2.008401893338328,
          0.1386097248602371,
          0.7463479297934115,
          -0.8215597933432001,
          -1.1664854245190575,
          -0.3031386235822503,
          -0.36055129288817067,
          -0.40820099716418895,
          -0.5763988054209849,
          -0.683343180022325,
          -1.3024687462502815,
          -0.746834906444901,
          1.4597363890696786,
          0.6946900721683419,
          0.8739381406764574,
          0.6819793726595158,
          0.5083759650529504,
          1.344830395710999
         ],
         "yaxis": "y10"
        },
        {
         "histfunc": "count",
         "histnorm": "",
         "marker": {
          "color": "rgba(50, 171, 96, 1.0)",
          "line": {
           "color": "#4D5663",
           "width": 1.3
          }
         },
         "name": "C",
         "nbinsx": 10,
         "opacity": 0.8,
         "orientation": "v",
         "type": "histogram",
         "x": [
          -1.3456606846294052,
          0.5895284155409911,
          -2.265446518321988,
          -0.3040595612451563,
          -1.4352207544271658,
          -0.900233739695578,
          0.2162329410392335,
          -0.8477553578869945,
          0.2199210890787251,
          0.029451150741701033,
          -2.1232035122256065,
          -0.7462854444893672,
          -0.06063410968953736,
          1.6985610322895328,
          -0.43729148945683866,
          0.05692436109507748,
          -1.8601493453303881,
          -0.0821997875255117,
          0.9154310436792841,
          -0.04630079631360709,
          1.4957572236847312,
          0.35774376913988176,
          1.3566638106896118,
          -0.3371424200641299,
          -0.609928733221454,
          0.2731175633992837,
          0.42852321505384566,
          -1.6866996078440353,
          -0.12465581181358817,
          0.5086419424337107,
          -1.227366268616366,
          0.23516570538076914,
          0.2603848247467958,
          -0.23941587472391318,
          0.03551607940517475,
          0.609387497857241,
          1.1003249486167004,
          -0.7362914284027954,
          0.059538871798452984,
          0.3888650743485843,
          -0.24389289870559744,
          1.13397444768638,
          0.8546797398974391,
          0.4201180657802193,
          -0.940622379712996,
          0.16391072978601387,
          -0.5110314596332228,
          -0.9884283249768397,
          -0.6081389626173525,
          -1.1340186063111575,
          0.35115508702523274,
          -0.6588447416539652,
          -1.342505089624679,
          -0.3869472070011788,
          -0.32639287152988083,
          -0.6499099996505723,
          -0.27366491962982475,
          -0.13612146575669448,
          0.8809269012902251,
          -1.1912491505326692,
          -0.24890064399062667,
          -0.2971728436040609,
          0.11836273075569706,
          -1.057972900788718,
          0.5146961907508886,
          0.20038098168860446,
          -0.5891722371838476,
          0.23244888139948644,
          0.21750620069341245,
          -0.5795740883100473,
          0.09018573850734177,
          0.853853240509046,
          1.9983666464685519,
          -1.8954822060989658,
          1.754852594725883,
          0.19084986352255978,
          -0.3845387497075328,
          -1.3009328500240576,
          0.2221088951254746,
          0.5984788054752173,
          0.14639374465444555,
          1.8882970920972084,
          -2.008401893338328,
          0.1386097248602371,
          0.7463479297934115,
          -0.8215597933432001,
          -1.1664854245190575,
          -0.3031386235822503,
          -0.36055129288817067,
          -0.40820099716418895,
          -0.5763988054209849,
          -0.683343180022325,
          -1.3024687462502815,
          -0.746834906444901,
          1.4597363890696786,
          0.6946900721683419,
          0.8739381406764574,
          0.6819793726595158,
          0.5083759650529504,
          1.344830395710999
         ],
         "xaxis": "x11",
         "yaxis": "y11"
        },
        {
         "line": {
          "color": "rgba(128, 128, 128, 1.0)",
          "dash": "solid",
          "shape": "linear",
          "width": 1.3
         },
         "marker": {
          "size": 2,
          "symbol": "circle"
         },
         "mode": "markers",
         "name": "C",
         "text": "",
         "type": "scatter",
         "x": [
          0.5018574017192605,
          1.0782535393916226,
          0.568796709596952,
          0.2036950006341363,
          0.7849892146214591,
          0.48000959289378786,
          0.35986046736783805,
          -1.7852691538744756,
          -0.2996915848722144,
          1.1564475612125333,
          0.051074214076615394,
          0.7764321290143538,
          -1.1175759248652855,
          -0.24728856214895104,
          1.3263796290507757,
          -0.4285467267650269,
          1.2759321118878388,
          0.8037925173987338,
          0.7819492351647368,
          1.0758735654743308,
          0.7210606328024203,
          1.2186361220101716,
          2.1935562180463783,
          -0.49896896310831407,
          0.4013548560430032,
          0.31810165737317614,
          -0.27796953078475395,
          -1.8636293228563015,
          0.4454398176844966,
          1.195401658277943,
          -0.6855060852970423,
          0.47980609849661626,
          -1.5479540549228206,
          -1.4552426939733916,
          1.4267657816278758,
          -0.7138382584873416,
          0.018015418224353635,
          0.42110384749845214,
          1.4602094381806838,
          0.07530742660165404,
          -0.08961578610340556,
          -1.1639856851403072,
          -0.02043964563297272,
          -1.3641386341120363,
          -0.5835699836049469,
          -0.9351175483694667,
          -0.29919151126586724,
          0.7624712006312411,
          0.7795623114147803,
          1.721763603194762,
          -1.2383947221719818,
          -0.6427103737886317,
          0.75396647684985,
          -0.6493305403245406,
          -0.7078129681664773,
          -0.3494909468608757,
          1.4332248236304639,
          0.6142940980344876,
          1.8070893325778903,
          0.3719354406321682,
          0.8209978346959457,
          1.1666299159634204,
          1.455625270563245,
          -1.140093644273744,
          -1.0953246514602062,
          -0.6321257689543668,
          -0.4867141786339963,
          0.1963880824590929,
          -0.4395719045967569,
          0.2917038736535683,
          -0.4584554130364333,
          1.3629703496255239,
          -0.2894619174101874,
          -0.27767288153057923,
          0.5367489163509358,
          1.3273492637955242,
          1.0088329659389959,
          0.19882769884916407,
          -0.028662307732223887,
          0.40582195716123337,
          2.4817132056762805,
          -1.1251494514493936,
          -1.3785355854205101,
          0.5578289475062926,
          1.0691795038626253,
          -0.1256942625051536,
          0.6934436037097989,
          0.2637781887356134,
          -0.17709883287935585,
          -1.2182972741350941,
          0.19909941833152142,
          0.8349788934312267,
          -2.4793737612709754,
          -0.5213544012324818,
          0.5484162102334881,
          -0.784792661670148,
          -0.9136347038700877,
          0.8300695566817942,
          1.407054346021127,
          -1.141741760605707
         ],
         "xaxis": "x12",
         "y": [
          -1.3456606846294052,
          0.5895284155409911,
          -2.265446518321988,
          -0.3040595612451563,
          -1.4352207544271658,
          -0.900233739695578,
          0.2162329410392335,
          -0.8477553578869945,
          0.2199210890787251,
          0.029451150741701033,
          -2.1232035122256065,
          -0.7462854444893672,
          -0.06063410968953736,
          1.6985610322895328,
          -0.43729148945683866,
          0.05692436109507748,
          -1.8601493453303881,
          -0.0821997875255117,
          0.9154310436792841,
          -0.04630079631360709,
          1.4957572236847312,
          0.35774376913988176,
          1.3566638106896118,
          -0.3371424200641299,
          -0.609928733221454,
          0.2731175633992837,
          0.42852321505384566,
          -1.6866996078440353,
          -0.12465581181358817,
          0.5086419424337107,
          -1.227366268616366,
          0.23516570538076914,
          0.2603848247467958,
          -0.23941587472391318,
          0.03551607940517475,
          0.609387497857241,
          1.1003249486167004,
          -0.7362914284027954,
          0.059538871798452984,
          0.3888650743485843,
          -0.24389289870559744,
          1.13397444768638,
          0.8546797398974391,
          0.4201180657802193,
          -0.940622379712996,
          0.16391072978601387,
          -0.5110314596332228,
          -0.9884283249768397,
          -0.6081389626173525,
          -1.1340186063111575,
          0.35115508702523274,
          -0.6588447416539652,
          -1.342505089624679,
          -0.3869472070011788,
          -0.32639287152988083,
          -0.6499099996505723,
          -0.27366491962982475,
          -0.13612146575669448,
          0.8809269012902251,
          -1.1912491505326692,
          -0.24890064399062667,
          -0.2971728436040609,
          0.11836273075569706,
          -1.057972900788718,
          0.5146961907508886,
          0.20038098168860446,
          -0.5891722371838476,
          0.23244888139948644,
          0.21750620069341245,
          -0.5795740883100473,
          0.09018573850734177,
          0.853853240509046,
          1.9983666464685519,
          -1.8954822060989658,
          1.754852594725883,
          0.19084986352255978,
          -0.3845387497075328,
          -1.3009328500240576,
          0.2221088951254746,
          0.5984788054752173,
          0.14639374465444555,
          1.8882970920972084,
          -2.008401893338328,
          0.1386097248602371,
          0.7463479297934115,
          -0.8215597933432001,
          -1.1664854245190575,
          -0.3031386235822503,
          -0.36055129288817067,
          -0.40820099716418895,
          -0.5763988054209849,
          -0.683343180022325,
          -1.3024687462502815,
          -0.746834906444901,
          1.4597363890696786,
          0.6946900721683419,
          0.8739381406764574,
          0.6819793726595158,
          0.5083759650529504,
          1.344830395710999
         ],
         "yaxis": "y12"
        },
        {
         "line": {
          "color": "rgba(128, 128, 128, 1.0)",
          "dash": "solid",
          "shape": "linear",
          "width": 1.3
         },
         "marker": {
          "size": 2,
          "symbol": "circle"
         },
         "mode": "markers",
         "name": "D",
         "text": "",
         "type": "scatter",
         "x": [
          0.29925552254576165,
          -1.011041779205554,
          -0.5186900863586638,
          -0.3828217817492648,
          -0.30927380397760446,
          0.6652818442678666,
          -0.22391389891936955,
          -0.24552960736839285,
          -1.9729621488923037,
          -0.1270387319252311,
          0.7747801811502151,
          0.09795908528664474,
          0.8929236677497698,
          0.20187969491046906,
          -0.8188495086655256,
          -0.12106198188240833,
          -0.6988584323192542,
          0.9050943018885463,
          0.49840793884265266,
          -0.9287052444313292,
          -0.4739277566927989,
          2.8207058994017054,
          -1.1300495739122436,
          1.7922738360878419,
          -0.3722204804935097,
          0.6196710190455824,
          0.42286628491220846,
          -0.08201217140566631,
          -0.822929168212544,
          2.2132431936258605,
          -0.07338177118678733,
          -0.7110858990763125,
          -0.2845400209239793,
          1.7102445886679856,
          -0.25360285658795656,
          1.373955494233924,
          0.1573245211525778,
          0.9179588000871358,
          1.4501656733343136,
          -0.3387058812164145,
          0.12752580527569551,
          0.09335592361703186,
          0.46755752620666796,
          -0.07728801968237105,
          -0.9010152681152521,
          -1.591414215809626,
          -1.539602646535873,
          -0.15053439886828743,
          -0.19059529732657582,
          0.28721444365992915,
          -0.42865126117404906,
          0.8253179141257997,
          -0.11172062284287053,
          0.6540991103515579,
          0.13745318590332364,
          1.7416753476030007,
          0.9540371329646546,
          0.5056558817518302,
          -0.90976828526663,
          0.9779440865005324,
          0.2226888697654056,
          -0.8123423017698557,
          0.8714764920706584,
          0.9597275072579795,
          1.3064080640044275,
          0.20089689763769625,
          0.6570047504187573,
          1.7712950311135016,
          0.758540342623224,
          -0.6999542696208285,
          -0.5296140031022785,
          -1.6278767145392647,
          0.52167480285576,
          -0.7262821978900574,
          0.43170230912564883,
          -1.9501271155499578,
          -0.15320748824202288,
          0.37342241042171925,
          0.02937078492454944,
          -0.7474020628442967,
          -0.8206850171791942,
          -0.9731997454172197,
          -0.8574662943143303,
          1.3631115358844874,
          -0.7325551730875081,
          0.32377382134675764,
          0.5837719300271894,
          -0.02981233759013717,
          0.07775300634035513,
          0.04632126687899852,
          0.8207828952495825,
          0.8663286865331438,
          -0.251598688319945,
          0.3853995691958181,
          0.8375831493796876,
          0.5066547754126097,
          0.8275361547809248,
          0.03135518353477385,
          0.4371432677710562,
          -1.0527954649016038
         ],
         "xaxis": "x13",
         "y": [
          0.5018574017192605,
          1.0782535393916226,
          0.568796709596952,
          0.2036950006341363,
          0.7849892146214591,
          0.48000959289378786,
          0.35986046736783805,
          -1.7852691538744756,
          -0.2996915848722144,
          1.1564475612125333,
          0.051074214076615394,
          0.7764321290143538,
          -1.1175759248652855,
          -0.24728856214895104,
          1.3263796290507757,
          -0.4285467267650269,
          1.2759321118878388,
          0.8037925173987338,
          0.7819492351647368,
          1.0758735654743308,
          0.7210606328024203,
          1.2186361220101716,
          2.1935562180463783,
          -0.49896896310831407,
          0.4013548560430032,
          0.31810165737317614,
          -0.27796953078475395,
          -1.8636293228563015,
          0.4454398176844966,
          1.195401658277943,
          -0.6855060852970423,
          0.47980609849661626,
          -1.5479540549228206,
          -1.4552426939733916,
          1.4267657816278758,
          -0.7138382584873416,
          0.018015418224353635,
          0.42110384749845214,
          1.4602094381806838,
          0.07530742660165404,
          -0.08961578610340556,
          -1.1639856851403072,
          -0.02043964563297272,
          -1.3641386341120363,
          -0.5835699836049469,
          -0.9351175483694667,
          -0.29919151126586724,
          0.7624712006312411,
          0.7795623114147803,
          1.721763603194762,
          -1.2383947221719818,
          -0.6427103737886317,
          0.75396647684985,
          -0.6493305403245406,
          -0.7078129681664773,
          -0.3494909468608757,
          1.4332248236304639,
          0.6142940980344876,
          1.8070893325778903,
          0.3719354406321682,
          0.8209978346959457,
          1.1666299159634204,
          1.455625270563245,
          -1.140093644273744,
          -1.0953246514602062,
          -0.6321257689543668,
          -0.4867141786339963,
          0.1963880824590929,
          -0.4395719045967569,
          0.2917038736535683,
          -0.4584554130364333,
          1.3629703496255239,
          -0.2894619174101874,
          -0.27767288153057923,
          0.5367489163509358,
          1.3273492637955242,
          1.0088329659389959,
          0.19882769884916407,
          -0.028662307732223887,
          0.40582195716123337,
          2.4817132056762805,
          -1.1251494514493936,
          -1.3785355854205101,
          0.5578289475062926,
          1.0691795038626253,
          -0.1256942625051536,
          0.6934436037097989,
          0.2637781887356134,
          -0.17709883287935585,
          -1.2182972741350941,
          0.19909941833152142,
          0.8349788934312267,
          -2.4793737612709754,
          -0.5213544012324818,
          0.5484162102334881,
          -0.784792661670148,
          -0.9136347038700877,
          0.8300695566817942,
          1.407054346021127,
          -1.141741760605707
         ],
         "yaxis": "y13"
        },
        {
         "line": {
          "color": "rgba(128, 128, 128, 1.0)",
          "dash": "solid",
          "shape": "linear",
          "width": 1.3
         },
         "marker": {
          "size": 2,
          "symbol": "circle"
         },
         "mode": "markers",
         "name": "D",
         "text": "",
         "type": "scatter",
         "x": [
          -1.713173337968297,
          0.16463881583930215,
          -0.34641472283923375,
          -0.7595751733051315,
          1.8457908877737206,
          -0.21433429456110126,
          0.5124726487289849,
          1.437139990683677,
          0.6547777163218743,
          -0.013712678511071783,
          1.195708708470215,
          -0.19338978575811494,
          1.0102460462298848,
          -0.21334392761340226,
          0.19559412341150936,
          -0.8752839354002775,
          0.4096257270108291,
          -0.22866927545330804,
          -0.6069472783316819,
          0.12373879396409523,
          -1.2276604990058457,
          0.6010948363729458,
          0.4486512408929953,
          -0.49226693659304877,
          1.1159469633589956,
          -0.2133286556842512,
          -0.14082002882471792,
          1.0232543671980927,
          1.0487421873111291,
          -2.4058895957897612,
          -0.6263467808267238,
          -0.0535980194419228,
          -0.9697997059269032,
          -0.15393169598037867,
          -1.337531465339447,
          -1.8931093783678372,
          0.6531828644393675,
          0.1389289985343312,
          -1.2541133575089387,
          0.4075596248250558,
          0.28298950142601137,
          1.0159265252281,
          -0.5224631731621188,
          -0.732919324083606,
          0.953776621920564,
          -0.13175696682988694,
          0.4423720801760704,
          -2.0600703856891096,
          -0.2634038014696138,
          1.7969489763358557,
          -1.9328347947417628,
          0.12617300283094043,
          -0.06565066349539632,
          -0.255661121065549,
          -0.6753136577711945,
          -0.07234099887043406,
          0.7673623555981366,
          0.4959852463397566,
          -0.18199980527914109,
          0.389248533735029,
          -0.7478685197683522,
          0.012026132107050867,
          -1.8575220704136997,
          1.3694473521161734,
          -1.3884475997112322,
          0.01901705187140966,
          -1.0233698840410335,
          -0.7350923368030766,
          -0.18320340477385902,
          -0.3313476869735953,
          0.9446094346728854,
          0.13984453539392488,
          0.17647290803347712,
          -1.0722859198372872,
          -1.711183803392291,
          0.23813046063428772,
          0.18938486313991962,
          -1.0485551278432355,
          -0.4328810726807365,
          -0.7535732326589286,
          0.7408847778271608,
          -1.089504315225977,
          0.8192744630098808,
          -0.2562666205721067,
          0.007890140272847193,
          0.6257507665227129,
          -0.5629911840117975,
          -0.03906926625490238,
          0.148686082542415,
          0.2810631813885742,
          1.9243785137765812,
          0.17187484975152728,
          1.0688283176452438,
          -0.3163367926495648,
          1.9130406772984856,
          0.8787427413449688,
          -1.2205222953409034,
          -1.200783415119851,
          0.18552969644269862,
          -0.2549852401407603
         ],
         "xaxis": "x14",
         "y": [
          0.5018574017192605,
          1.0782535393916226,
          0.568796709596952,
          0.2036950006341363,
          0.7849892146214591,
          0.48000959289378786,
          0.35986046736783805,
          -1.7852691538744756,
          -0.2996915848722144,
          1.1564475612125333,
          0.051074214076615394,
          0.7764321290143538,
          -1.1175759248652855,
          -0.24728856214895104,
          1.3263796290507757,
          -0.4285467267650269,
          1.2759321118878388,
          0.8037925173987338,
          0.7819492351647368,
          1.0758735654743308,
          0.7210606328024203,
          1.2186361220101716,
          2.1935562180463783,
          -0.49896896310831407,
          0.4013548560430032,
          0.31810165737317614,
          -0.27796953078475395,
          -1.8636293228563015,
          0.4454398176844966,
          1.195401658277943,
          -0.6855060852970423,
          0.47980609849661626,
          -1.5479540549228206,
          -1.4552426939733916,
          1.4267657816278758,
          -0.7138382584873416,
          0.018015418224353635,
          0.42110384749845214,
          1.4602094381806838,
          0.07530742660165404,
          -0.08961578610340556,
          -1.1639856851403072,
          -0.02043964563297272,
          -1.3641386341120363,
          -0.5835699836049469,
          -0.9351175483694667,
          -0.29919151126586724,
          0.7624712006312411,
          0.7795623114147803,
          1.721763603194762,
          -1.2383947221719818,
          -0.6427103737886317,
          0.75396647684985,
          -0.6493305403245406,
          -0.7078129681664773,
          -0.3494909468608757,
          1.4332248236304639,
          0.6142940980344876,
          1.8070893325778903,
          0.3719354406321682,
          0.8209978346959457,
          1.1666299159634204,
          1.455625270563245,
          -1.140093644273744,
          -1.0953246514602062,
          -0.6321257689543668,
          -0.4867141786339963,
          0.1963880824590929,
          -0.4395719045967569,
          0.2917038736535683,
          -0.4584554130364333,
          1.3629703496255239,
          -0.2894619174101874,
          -0.27767288153057923,
          0.5367489163509358,
          1.3273492637955242,
          1.0088329659389959,
          0.19882769884916407,
          -0.028662307732223887,
          0.40582195716123337,
          2.4817132056762805,
          -1.1251494514493936,
          -1.3785355854205101,
          0.5578289475062926,
          1.0691795038626253,
          -0.1256942625051536,
          0.6934436037097989,
          0.2637781887356134,
          -0.17709883287935585,
          -1.2182972741350941,
          0.19909941833152142,
          0.8349788934312267,
          -2.4793737612709754,
          -0.5213544012324818,
          0.5484162102334881,
          -0.784792661670148,
          -0.9136347038700877,
          0.8300695566817942,
          1.407054346021127,
          -1.141741760605707
         ],
         "yaxis": "y14"
        },
        {
         "line": {
          "color": "rgba(128, 128, 128, 1.0)",
          "dash": "solid",
          "shape": "linear",
          "width": 1.3
         },
         "marker": {
          "size": 2,
          "symbol": "circle"
         },
         "mode": "markers",
         "name": "D",
         "text": "",
         "type": "scatter",
         "x": [
          -1.3456606846294052,
          0.5895284155409911,
          -2.265446518321988,
          -0.3040595612451563,
          -1.4352207544271658,
          -0.900233739695578,
          0.2162329410392335,
          -0.8477553578869945,
          0.2199210890787251,
          0.029451150741701033,
          -2.1232035122256065,
          -0.7462854444893672,
          -0.06063410968953736,
          1.6985610322895328,
          -0.43729148945683866,
          0.05692436109507748,
          -1.8601493453303881,
          -0.0821997875255117,
          0.9154310436792841,
          -0.04630079631360709,
          1.4957572236847312,
          0.35774376913988176,
          1.3566638106896118,
          -0.3371424200641299,
          -0.609928733221454,
          0.2731175633992837,
          0.42852321505384566,
          -1.6866996078440353,
          -0.12465581181358817,
          0.5086419424337107,
          -1.227366268616366,
          0.23516570538076914,
          0.2603848247467958,
          -0.23941587472391318,
          0.03551607940517475,
          0.609387497857241,
          1.1003249486167004,
          -0.7362914284027954,
          0.059538871798452984,
          0.3888650743485843,
          -0.24389289870559744,
          1.13397444768638,
          0.8546797398974391,
          0.4201180657802193,
          -0.940622379712996,
          0.16391072978601387,
          -0.5110314596332228,
          -0.9884283249768397,
          -0.6081389626173525,
          -1.1340186063111575,
          0.35115508702523274,
          -0.6588447416539652,
          -1.342505089624679,
          -0.3869472070011788,
          -0.32639287152988083,
          -0.6499099996505723,
          -0.27366491962982475,
          -0.13612146575669448,
          0.8809269012902251,
          -1.1912491505326692,
          -0.24890064399062667,
          -0.2971728436040609,
          0.11836273075569706,
          -1.057972900788718,
          0.5146961907508886,
          0.20038098168860446,
          -0.5891722371838476,
          0.23244888139948644,
          0.21750620069341245,
          -0.5795740883100473,
          0.09018573850734177,
          0.853853240509046,
          1.9983666464685519,
          -1.8954822060989658,
          1.754852594725883,
          0.19084986352255978,
          -0.3845387497075328,
          -1.3009328500240576,
          0.2221088951254746,
          0.5984788054752173,
          0.14639374465444555,
          1.8882970920972084,
          -2.008401893338328,
          0.1386097248602371,
          0.7463479297934115,
          -0.8215597933432001,
          -1.1664854245190575,
          -0.3031386235822503,
          -0.36055129288817067,
          -0.40820099716418895,
          -0.5763988054209849,
          -0.683343180022325,
          -1.3024687462502815,
          -0.746834906444901,
          1.4597363890696786,
          0.6946900721683419,
          0.8739381406764574,
          0.6819793726595158,
          0.5083759650529504,
          1.344830395710999
         ],
         "xaxis": "x15",
         "y": [
          0.5018574017192605,
          1.0782535393916226,
          0.568796709596952,
          0.2036950006341363,
          0.7849892146214591,
          0.48000959289378786,
          0.35986046736783805,
          -1.7852691538744756,
          -0.2996915848722144,
          1.1564475612125333,
          0.051074214076615394,
          0.7764321290143538,
          -1.1175759248652855,
          -0.24728856214895104,
          1.3263796290507757,
          -0.4285467267650269,
          1.2759321118878388,
          0.8037925173987338,
          0.7819492351647368,
          1.0758735654743308,
          0.7210606328024203,
          1.2186361220101716,
          2.1935562180463783,
          -0.49896896310831407,
          0.4013548560430032,
          0.31810165737317614,
          -0.27796953078475395,
          -1.8636293228563015,
          0.4454398176844966,
          1.195401658277943,
          -0.6855060852970423,
          0.47980609849661626,
          -1.5479540549228206,
          -1.4552426939733916,
          1.4267657816278758,
          -0.7138382584873416,
          0.018015418224353635,
          0.42110384749845214,
          1.4602094381806838,
          0.07530742660165404,
          -0.08961578610340556,
          -1.1639856851403072,
          -0.02043964563297272,
          -1.3641386341120363,
          -0.5835699836049469,
          -0.9351175483694667,
          -0.29919151126586724,
          0.7624712006312411,
          0.7795623114147803,
          1.721763603194762,
          -1.2383947221719818,
          -0.6427103737886317,
          0.75396647684985,
          -0.6493305403245406,
          -0.7078129681664773,
          -0.3494909468608757,
          1.4332248236304639,
          0.6142940980344876,
          1.8070893325778903,
          0.3719354406321682,
          0.8209978346959457,
          1.1666299159634204,
          1.455625270563245,
          -1.140093644273744,
          -1.0953246514602062,
          -0.6321257689543668,
          -0.4867141786339963,
          0.1963880824590929,
          -0.4395719045967569,
          0.2917038736535683,
          -0.4584554130364333,
          1.3629703496255239,
          -0.2894619174101874,
          -0.27767288153057923,
          0.5367489163509358,
          1.3273492637955242,
          1.0088329659389959,
          0.19882769884916407,
          -0.028662307732223887,
          0.40582195716123337,
          2.4817132056762805,
          -1.1251494514493936,
          -1.3785355854205101,
          0.5578289475062926,
          1.0691795038626253,
          -0.1256942625051536,
          0.6934436037097989,
          0.2637781887356134,
          -0.17709883287935585,
          -1.2182972741350941,
          0.19909941833152142,
          0.8349788934312267,
          -2.4793737612709754,
          -0.5213544012324818,
          0.5484162102334881,
          -0.784792661670148,
          -0.9136347038700877,
          0.8300695566817942,
          1.407054346021127,
          -1.141741760605707
         ],
         "yaxis": "y15"
        },
        {
         "histfunc": "count",
         "histnorm": "",
         "marker": {
          "color": "rgba(128, 0, 128, 1.0)",
          "line": {
           "color": "#4D5663",
           "width": 1.3
          }
         },
         "name": "D",
         "nbinsx": 10,
         "opacity": 0.8,
         "orientation": "v",
         "type": "histogram",
         "x": [
          0.5018574017192605,
          1.0782535393916226,
          0.568796709596952,
          0.2036950006341363,
          0.7849892146214591,
          0.48000959289378786,
          0.35986046736783805,
          -1.7852691538744756,
          -0.2996915848722144,
          1.1564475612125333,
          0.051074214076615394,
          0.7764321290143538,
          -1.1175759248652855,
          -0.24728856214895104,
          1.3263796290507757,
          -0.4285467267650269,
          1.2759321118878388,
          0.8037925173987338,
          0.7819492351647368,
          1.0758735654743308,
          0.7210606328024203,
          1.2186361220101716,
          2.1935562180463783,
          -0.49896896310831407,
          0.4013548560430032,
          0.31810165737317614,
          -0.27796953078475395,
          -1.8636293228563015,
          0.4454398176844966,
          1.195401658277943,
          -0.6855060852970423,
          0.47980609849661626,
          -1.5479540549228206,
          -1.4552426939733916,
          1.4267657816278758,
          -0.7138382584873416,
          0.018015418224353635,
          0.42110384749845214,
          1.4602094381806838,
          0.07530742660165404,
          -0.08961578610340556,
          -1.1639856851403072,
          -0.02043964563297272,
          -1.3641386341120363,
          -0.5835699836049469,
          -0.9351175483694667,
          -0.29919151126586724,
          0.7624712006312411,
          0.7795623114147803,
          1.721763603194762,
          -1.2383947221719818,
          -0.6427103737886317,
          0.75396647684985,
          -0.6493305403245406,
          -0.7078129681664773,
          -0.3494909468608757,
          1.4332248236304639,
          0.6142940980344876,
          1.8070893325778903,
          0.3719354406321682,
          0.8209978346959457,
          1.1666299159634204,
          1.455625270563245,
          -1.140093644273744,
          -1.0953246514602062,
          -0.6321257689543668,
          -0.4867141786339963,
          0.1963880824590929,
          -0.4395719045967569,
          0.2917038736535683,
          -0.4584554130364333,
          1.3629703496255239,
          -0.2894619174101874,
          -0.27767288153057923,
          0.5367489163509358,
          1.3273492637955242,
          1.0088329659389959,
          0.19882769884916407,
          -0.028662307732223887,
          0.40582195716123337,
          2.4817132056762805,
          -1.1251494514493936,
          -1.3785355854205101,
          0.5578289475062926,
          1.0691795038626253,
          -0.1256942625051536,
          0.6934436037097989,
          0.2637781887356134,
          -0.17709883287935585,
          -1.2182972741350941,
          0.19909941833152142,
          0.8349788934312267,
          -2.4793737612709754,
          -0.5213544012324818,
          0.5484162102334881,
          -0.784792661670148,
          -0.9136347038700877,
          0.8300695566817942,
          1.407054346021127,
          -1.141741760605707
         ],
         "xaxis": "x16",
         "yaxis": "y16"
        }
       ],
       "layout": {
        "autosize": true,
        "bargap": 0.02,
        "legend": {
         "bgcolor": "#F5F6F9",
         "font": {
          "color": "#4D5663"
         }
        },
        "paper_bgcolor": "#F5F6F9",
        "plot_bgcolor": "#F5F6F9",
        "showlegend": false,
        "template": {
         "data": {
          "bar": [
           {
            "error_x": {
             "color": "#2a3f5f"
            },
            "error_y": {
             "color": "#2a3f5f"
            },
            "marker": {
             "line": {
              "color": "#E5ECF6",
              "width": 0.5
             },
             "pattern": {
              "fillmode": "overlay",
              "size": 10,
              "solidity": 0.2
             }
            },
            "type": "bar"
           }
          ],
          "barpolar": [
           {
            "marker": {
             "line": {
              "color": "#E5ECF6",
              "width": 0.5
             },
             "pattern": {
              "fillmode": "overlay",
              "size": 10,
              "solidity": 0.2
             }
            },
            "type": "barpolar"
           }
          ],
          "carpet": [
           {
            "aaxis": {
             "endlinecolor": "#2a3f5f",
             "gridcolor": "white",
             "linecolor": "white",
             "minorgridcolor": "white",
             "startlinecolor": "#2a3f5f"
            },
            "baxis": {
             "endlinecolor": "#2a3f5f",
             "gridcolor": "white",
             "linecolor": "white",
             "minorgridcolor": "white",
             "startlinecolor": "#2a3f5f"
            },
            "type": "carpet"
           }
          ],
          "choropleth": [
           {
            "colorbar": {
             "outlinewidth": 0,
             "ticks": ""
            },
            "type": "choropleth"
           }
          ],
          "contour": [
           {
            "colorbar": {
             "outlinewidth": 0,
             "ticks": ""
            },
            "colorscale": [
             [
              0,
              "#0d0887"
             ],
             [
              0.1111111111111111,
              "#46039f"
             ],
             [
              0.2222222222222222,
              "#7201a8"
             ],
             [
              0.3333333333333333,
              "#9c179e"
             ],
             [
              0.4444444444444444,
              "#bd3786"
             ],
             [
              0.5555555555555556,
              "#d8576b"
             ],
             [
              0.6666666666666666,
              "#ed7953"
             ],
             [
              0.7777777777777778,
              "#fb9f3a"
             ],
             [
              0.8888888888888888,
              "#fdca26"
             ],
             [
              1,
              "#f0f921"
             ]
            ],
            "type": "contour"
           }
          ],
          "contourcarpet": [
           {
            "colorbar": {
             "outlinewidth": 0,
             "ticks": ""
            },
            "type": "contourcarpet"
           }
          ],
          "heatmap": [
           {
            "colorbar": {
             "outlinewidth": 0,
             "ticks": ""
            },
            "colorscale": [
             [
              0,
              "#0d0887"
             ],
             [
              0.1111111111111111,
              "#46039f"
             ],
             [
              0.2222222222222222,
              "#7201a8"
             ],
             [
              0.3333333333333333,
              "#9c179e"
             ],
             [
              0.4444444444444444,
              "#bd3786"
             ],
             [
              0.5555555555555556,
              "#d8576b"
             ],
             [
              0.6666666666666666,
              "#ed7953"
             ],
             [
              0.7777777777777778,
              "#fb9f3a"
             ],
             [
              0.8888888888888888,
              "#fdca26"
             ],
             [
              1,
              "#f0f921"
             ]
            ],
            "type": "heatmap"
           }
          ],
          "heatmapgl": [
           {
            "colorbar": {
             "outlinewidth": 0,
             "ticks": ""
            },
            "colorscale": [
             [
              0,
              "#0d0887"
             ],
             [
              0.1111111111111111,
              "#46039f"
             ],
             [
              0.2222222222222222,
              "#7201a8"
             ],
             [
              0.3333333333333333,
              "#9c179e"
             ],
             [
              0.4444444444444444,
              "#bd3786"
             ],
             [
              0.5555555555555556,
              "#d8576b"
             ],
             [
              0.6666666666666666,
              "#ed7953"
             ],
             [
              0.7777777777777778,
              "#fb9f3a"
             ],
             [
              0.8888888888888888,
              "#fdca26"
             ],
             [
              1,
              "#f0f921"
             ]
            ],
            "type": "heatmapgl"
           }
          ],
          "histogram": [
           {
            "marker": {
             "pattern": {
              "fillmode": "overlay",
              "size": 10,
              "solidity": 0.2
             }
            },
            "type": "histogram"
           }
          ],
          "histogram2d": [
           {
            "colorbar": {
             "outlinewidth": 0,
             "ticks": ""
            },
            "colorscale": [
             [
              0,
              "#0d0887"
             ],
             [
              0.1111111111111111,
              "#46039f"
             ],
             [
              0.2222222222222222,
              "#7201a8"
             ],
             [
              0.3333333333333333,
              "#9c179e"
             ],
             [
              0.4444444444444444,
              "#bd3786"
             ],
             [
              0.5555555555555556,
              "#d8576b"
             ],
             [
              0.6666666666666666,
              "#ed7953"
             ],
             [
              0.7777777777777778,
              "#fb9f3a"
             ],
             [
              0.8888888888888888,
              "#fdca26"
             ],
             [
              1,
              "#f0f921"
             ]
            ],
            "type": "histogram2d"
           }
          ],
          "histogram2dcontour": [
           {
            "colorbar": {
             "outlinewidth": 0,
             "ticks": ""
            },
            "colorscale": [
             [
              0,
              "#0d0887"
             ],
             [
              0.1111111111111111,
              "#46039f"
             ],
             [
              0.2222222222222222,
              "#7201a8"
             ],
             [
              0.3333333333333333,
              "#9c179e"
             ],
             [
              0.4444444444444444,
              "#bd3786"
             ],
             [
              0.5555555555555556,
              "#d8576b"
             ],
             [
              0.6666666666666666,
              "#ed7953"
             ],
             [
              0.7777777777777778,
              "#fb9f3a"
             ],
             [
              0.8888888888888888,
              "#fdca26"
             ],
             [
              1,
              "#f0f921"
             ]
            ],
            "type": "histogram2dcontour"
           }
          ],
          "mesh3d": [
           {
            "colorbar": {
             "outlinewidth": 0,
             "ticks": ""
            },
            "type": "mesh3d"
           }
          ],
          "parcoords": [
           {
            "line": {
             "colorbar": {
              "outlinewidth": 0,
              "ticks": ""
             }
            },
            "type": "parcoords"
           }
          ],
          "pie": [
           {
            "automargin": true,
            "type": "pie"
           }
          ],
          "scatter": [
           {
            "fillpattern": {
             "fillmode": "overlay",
             "size": 10,
             "solidity": 0.2
            },
            "type": "scatter"
           }
          ],
          "scatter3d": [
           {
            "line": {
             "colorbar": {
              "outlinewidth": 0,
              "ticks": ""
             }
            },
            "marker": {
             "colorbar": {
              "outlinewidth": 0,
              "ticks": ""
             }
            },
            "type": "scatter3d"
           }
          ],
          "scattercarpet": [
           {
            "marker": {
             "colorbar": {
              "outlinewidth": 0,
              "ticks": ""
             }
            },
            "type": "scattercarpet"
           }
          ],
          "scattergeo": [
           {
            "marker": {
             "colorbar": {
              "outlinewidth": 0,
              "ticks": ""
             }
            },
            "type": "scattergeo"
           }
          ],
          "scattergl": [
           {
            "marker": {
             "colorbar": {
              "outlinewidth": 0,
              "ticks": ""
             }
            },
            "type": "scattergl"
           }
          ],
          "scattermapbox": [
           {
            "marker": {
             "colorbar": {
              "outlinewidth": 0,
              "ticks": ""
             }
            },
            "type": "scattermapbox"
           }
          ],
          "scatterpolar": [
           {
            "marker": {
             "colorbar": {
              "outlinewidth": 0,
              "ticks": ""
             }
            },
            "type": "scatterpolar"
           }
          ],
          "scatterpolargl": [
           {
            "marker": {
             "colorbar": {
              "outlinewidth": 0,
              "ticks": ""
             }
            },
            "type": "scatterpolargl"
           }
          ],
          "scatterternary": [
           {
            "marker": {
             "colorbar": {
              "outlinewidth": 0,
              "ticks": ""
             }
            },
            "type": "scatterternary"
           }
          ],
          "surface": [
           {
            "colorbar": {
             "outlinewidth": 0,
             "ticks": ""
            },
            "colorscale": [
             [
              0,
              "#0d0887"
             ],
             [
              0.1111111111111111,
              "#46039f"
             ],
             [
              0.2222222222222222,
              "#7201a8"
             ],
             [
              0.3333333333333333,
              "#9c179e"
             ],
             [
              0.4444444444444444,
              "#bd3786"
             ],
             [
              0.5555555555555556,
              "#d8576b"
             ],
             [
              0.6666666666666666,
              "#ed7953"
             ],
             [
              0.7777777777777778,
              "#fb9f3a"
             ],
             [
              0.8888888888888888,
              "#fdca26"
             ],
             [
              1,
              "#f0f921"
             ]
            ],
            "type": "surface"
           }
          ],
          "table": [
           {
            "cells": {
             "fill": {
              "color": "#EBF0F8"
             },
             "line": {
              "color": "white"
             }
            },
            "header": {
             "fill": {
              "color": "#C8D4E3"
             },
             "line": {
              "color": "white"
             }
            },
            "type": "table"
           }
          ]
         },
         "layout": {
          "annotationdefaults": {
           "arrowcolor": "#2a3f5f",
           "arrowhead": 0,
           "arrowwidth": 1
          },
          "autotypenumbers": "strict",
          "coloraxis": {
           "colorbar": {
            "outlinewidth": 0,
            "ticks": ""
           }
          },
          "colorscale": {
           "diverging": [
            [
             0,
             "#8e0152"
            ],
            [
             0.1,
             "#c51b7d"
            ],
            [
             0.2,
             "#de77ae"
            ],
            [
             0.3,
             "#f1b6da"
            ],
            [
             0.4,
             "#fde0ef"
            ],
            [
             0.5,
             "#f7f7f7"
            ],
            [
             0.6,
             "#e6f5d0"
            ],
            [
             0.7,
             "#b8e186"
            ],
            [
             0.8,
             "#7fbc41"
            ],
            [
             0.9,
             "#4d9221"
            ],
            [
             1,
             "#276419"
            ]
           ],
           "sequential": [
            [
             0,
             "#0d0887"
            ],
            [
             0.1111111111111111,
             "#46039f"
            ],
            [
             0.2222222222222222,
             "#7201a8"
            ],
            [
             0.3333333333333333,
             "#9c179e"
            ],
            [
             0.4444444444444444,
             "#bd3786"
            ],
            [
             0.5555555555555556,
             "#d8576b"
            ],
            [
             0.6666666666666666,
             "#ed7953"
            ],
            [
             0.7777777777777778,
             "#fb9f3a"
            ],
            [
             0.8888888888888888,
             "#fdca26"
            ],
            [
             1,
             "#f0f921"
            ]
           ],
           "sequentialminus": [
            [
             0,
             "#0d0887"
            ],
            [
             0.1111111111111111,
             "#46039f"
            ],
            [
             0.2222222222222222,
             "#7201a8"
            ],
            [
             0.3333333333333333,
             "#9c179e"
            ],
            [
             0.4444444444444444,
             "#bd3786"
            ],
            [
             0.5555555555555556,
             "#d8576b"
            ],
            [
             0.6666666666666666,
             "#ed7953"
            ],
            [
             0.7777777777777778,
             "#fb9f3a"
            ],
            [
             0.8888888888888888,
             "#fdca26"
            ],
            [
             1,
             "#f0f921"
            ]
           ]
          },
          "colorway": [
           "#636efa",
           "#EF553B",
           "#00cc96",
           "#ab63fa",
           "#FFA15A",
           "#19d3f3",
           "#FF6692",
           "#B6E880",
           "#FF97FF",
           "#FECB52"
          ],
          "font": {
           "color": "#2a3f5f"
          },
          "geo": {
           "bgcolor": "white",
           "lakecolor": "white",
           "landcolor": "#E5ECF6",
           "showlakes": true,
           "showland": true,
           "subunitcolor": "white"
          },
          "hoverlabel": {
           "align": "left"
          },
          "hovermode": "closest",
          "mapbox": {
           "style": "light"
          },
          "paper_bgcolor": "white",
          "plot_bgcolor": "#E5ECF6",
          "polar": {
           "angularaxis": {
            "gridcolor": "white",
            "linecolor": "white",
            "ticks": ""
           },
           "bgcolor": "#E5ECF6",
           "radialaxis": {
            "gridcolor": "white",
            "linecolor": "white",
            "ticks": ""
           }
          },
          "scene": {
           "xaxis": {
            "backgroundcolor": "#E5ECF6",
            "gridcolor": "white",
            "gridwidth": 2,
            "linecolor": "white",
            "showbackground": true,
            "ticks": "",
            "zerolinecolor": "white"
           },
           "yaxis": {
            "backgroundcolor": "#E5ECF6",
            "gridcolor": "white",
            "gridwidth": 2,
            "linecolor": "white",
            "showbackground": true,
            "ticks": "",
            "zerolinecolor": "white"
           },
           "zaxis": {
            "backgroundcolor": "#E5ECF6",
            "gridcolor": "white",
            "gridwidth": 2,
            "linecolor": "white",
            "showbackground": true,
            "ticks": "",
            "zerolinecolor": "white"
           }
          },
          "shapedefaults": {
           "line": {
            "color": "#2a3f5f"
           }
          },
          "ternary": {
           "aaxis": {
            "gridcolor": "white",
            "linecolor": "white",
            "ticks": ""
           },
           "baxis": {
            "gridcolor": "white",
            "linecolor": "white",
            "ticks": ""
           },
           "bgcolor": "#E5ECF6",
           "caxis": {
            "gridcolor": "white",
            "linecolor": "white",
            "ticks": ""
           }
          },
          "title": {
           "x": 0.05
          },
          "xaxis": {
           "automargin": true,
           "gridcolor": "white",
           "linecolor": "white",
           "ticks": "",
           "title": {
            "standoff": 15
           },
           "zerolinecolor": "white",
           "zerolinewidth": 2
          },
          "yaxis": {
           "automargin": true,
           "gridcolor": "white",
           "linecolor": "white",
           "ticks": "",
           "title": {
            "standoff": 15
           },
           "zerolinecolor": "white",
           "zerolinewidth": 2
          }
         }
        },
        "title": {
         "font": {
          "color": "#4D5663"
         }
        },
        "xaxis": {
         "anchor": "y",
         "autorange": true,
         "domain": [
          0,
          0.2125
         ],
         "gridcolor": "#E1E5ED",
         "range": [
          -2,
          3
         ],
         "showgrid": false,
         "tickfont": {
          "color": "#4D5663"
         },
         "title": {
          "font": {
           "color": "#4D5663"
          },
          "text": ""
         },
         "type": "linear",
         "zerolinecolor": "#E1E5ED"
        },
        "xaxis10": {
         "anchor": "y10",
         "autorange": true,
         "domain": [
          0.2625,
          0.475
         ],
         "gridcolor": "#E1E5ED",
         "range": [
          -2.7452949983947494,
          2.2637839163815694
         ],
         "showgrid": false,
         "tickfont": {
          "color": "#4D5663"
         },
         "title": {
          "font": {
           "color": "#4D5663"
          },
          "text": ""
         },
         "type": "linear",
         "zerolinecolor": "#E1E5ED"
        },
        "xaxis11": {
         "anchor": "y11",
         "autorange": true,
         "domain": [
          0.525,
          0.7375
         ],
         "gridcolor": "#E1E5ED",
         "range": [
          -2.75,
          2.25
         ],
         "showgrid": false,
         "tickfont": {
          "color": "#4D5663"
         },
         "title": {
          "font": {
           "color": "#4D5663"
          },
          "text": ""
         },
         "type": "linear",
         "zerolinecolor": "#E1E5ED"
        },
        "xaxis12": {
         "anchor": "y12",
         "autorange": true,
         "domain": [
          0.7875,
          1
         ],
         "gridcolor": "#E1E5ED",
         "range": [
          -2.8682225985185426,
          2.8705620429238476
         ],
         "showgrid": false,
         "tickfont": {
          "color": "#4D5663"
         },
         "title": {
          "font": {
           "color": "#4D5663"
          },
          "text": ""
         },
         "type": "linear",
         "zerolinecolor": "#E1E5ED"
        },
        "xaxis13": {
         "anchor": "y13",
         "autorange": true,
         "domain": [
          0,
          0.2125
         ],
         "gridcolor": "#E1E5ED",
         "range": [
          -2.3486887304154123,
          3.196432480924814
         ],
         "showgrid": false,
         "tickfont": {
          "color": "#4D5663"
         },
         "title": {
          "font": {
           "color": "#4D5663"
          },
          "text": ""
         },
         "type": "linear",
         "zerolinecolor": "#E1E5ED"
        },
        "xaxis14": {
         "anchor": "y14",
         "autorange": true,
         "domain": [
          0.2625,
          0.475
         ],
         "gridcolor": "#E1E5ED",
         "range": [
          -2.7452949983947494,
          2.2637839163815694
         ],
         "showgrid": false,
         "tickfont": {
          "color": "#4D5663"
         },
         "title": {
          "font": {
           "color": "#4D5663"
          },
          "text": ""
         },
         "type": "linear",
         "zerolinecolor": "#E1E5ED"
        },
        "xaxis15": {
         "anchor": "y15",
         "autorange": true,
         "domain": [
          0.525,
          0.7375
         ],
         "gridcolor": "#E1E5ED",
         "range": [
          -2.5996431978835006,
          2.3325633260300647
         ],
         "showgrid": false,
         "tickfont": {
          "color": "#4D5663"
         },
         "title": {
          "font": {
           "color": "#4D5663"
          },
          "text": ""
         },
         "type": "linear",
         "zerolinecolor": "#E1E5ED"
        },
        "xaxis16": {
         "anchor": "y16",
         "autorange": true,
         "domain": [
          0.7875,
          1
         ],
         "gridcolor": "#E1E5ED",
         "range": [
          -2.5,
          2.5
         ],
         "showgrid": false,
         "tickfont": {
          "color": "#4D5663"
         },
         "title": {
          "font": {
           "color": "#4D5663"
          },
          "text": ""
         },
         "type": "linear",
         "zerolinecolor": "#E1E5ED"
        },
        "xaxis2": {
         "anchor": "y2",
         "autorange": true,
         "domain": [
          0.2625,
          0.475
         ],
         "gridcolor": "#E1E5ED",
         "range": [
          -2.7452949983947494,
          2.2637839163815694
         ],
         "showgrid": false,
         "tickfont": {
          "color": "#4D5663"
         },
         "title": {
          "font": {
           "color": "#4D5663"
          },
          "text": ""
         },
         "type": "linear",
         "zerolinecolor": "#E1E5ED"
        },
        "xaxis3": {
         "anchor": "y3",
         "autorange": true,
         "domain": [
          0.525,
          0.7375
         ],
         "gridcolor": "#E1E5ED",
         "range": [
          -2.5996431978835006,
          2.3325633260300647
         ],
         "showgrid": false,
         "tickfont": {
          "color": "#4D5663"
         },
         "title": {
          "font": {
           "color": "#4D5663"
          },
          "text": ""
         },
         "type": "linear",
         "zerolinecolor": "#E1E5ED"
        },
        "xaxis4": {
         "anchor": "y4",
         "autorange": true,
         "domain": [
          0.7875,
          1
         ],
         "gridcolor": "#E1E5ED",
         "range": [
          -2.8682225985185426,
          2.8705620429238476
         ],
         "showgrid": false,
         "tickfont": {
          "color": "#4D5663"
         },
         "title": {
          "font": {
           "color": "#4D5663"
          },
          "text": ""
         },
         "type": "linear",
         "zerolinecolor": "#E1E5ED"
        },
        "xaxis5": {
         "anchor": "y5",
         "autorange": true,
         "domain": [
          0,
          0.2125
         ],
         "gridcolor": "#E1E5ED",
         "range": [
          -2.3486887304154123,
          3.196432480924814
         ],
         "showgrid": false,
         "tickfont": {
          "color": "#4D5663"
         },
         "title": {
          "font": {
           "color": "#4D5663"
          },
          "text": ""
         },
         "type": "linear",
         "zerolinecolor": "#E1E5ED"
        },
        "xaxis6": {
         "anchor": "y6",
         "autorange": true,
         "domain": [
          0.2625,
          0.475
         ],
         "gridcolor": "#E1E5ED",
         "range": [
          -2.5,
          2
         ],
         "showgrid": false,
         "tickfont": {
          "color": "#4D5663"
         },
         "title": {
          "font": {
           "color": "#4D5663"
          },
          "text": ""
         },
         "type": "linear",
         "zerolinecolor": "#E1E5ED"
        },
        "xaxis7": {
         "anchor": "y7",
         "autorange": true,
         "domain": [
          0.525,
          0.7375
         ],
         "gridcolor": "#E1E5ED",
         "range": [
          -2.5996431978835006,
          2.3325633260300647
         ],
         "showgrid": false,
         "tickfont": {
          "color": "#4D5663"
         },
         "title": {
          "font": {
           "color": "#4D5663"
          },
          "text": ""
         },
         "type": "linear",
         "zerolinecolor": "#E1E5ED"
        },
        "xaxis8": {
         "anchor": "y8",
         "autorange": true,
         "domain": [
          0.7875,
          1
         ],
         "gridcolor": "#E1E5ED",
         "range": [
          -2.8682225985185426,
          2.8705620429238476
         ],
         "showgrid": false,
         "tickfont": {
          "color": "#4D5663"
         },
         "title": {
          "font": {
           "color": "#4D5663"
          },
          "text": ""
         },
         "type": "linear",
         "zerolinecolor": "#E1E5ED"
        },
        "xaxis9": {
         "anchor": "y9",
         "autorange": true,
         "domain": [
          0,
          0.2125
         ],
         "gridcolor": "#E1E5ED",
         "range": [
          -2.3486887304154123,
          3.196432480924814
         ],
         "showgrid": false,
         "tickfont": {
          "color": "#4D5663"
         },
         "title": {
          "font": {
           "color": "#4D5663"
          },
          "text": ""
         },
         "type": "linear",
         "zerolinecolor": "#E1E5ED"
        },
        "yaxis": {
         "anchor": "x",
         "autorange": true,
         "domain": [
          0.8025,
          1
         ],
         "gridcolor": "#E1E5ED",
         "range": [
          0,
          23.157894736842106
         ],
         "showgrid": false,
         "tickfont": {
          "color": "#4D5663"
         },
         "title": {
          "font": {
           "color": "#4D5663"
          },
          "text": ""
         },
         "zerolinecolor": "#E1E5ED"
        },
        "yaxis10": {
         "anchor": "x10",
         "autorange": true,
         "domain": [
          0.2675,
          0.465
         ],
         "gridcolor": "#E1E5ED",
         "range": [
          -3.0490728847304047,
          2.7819930128769688
         ],
         "showgrid": false,
         "tickfont": {
          "color": "#4D5663"
         },
         "title": {
          "font": {
           "color": "#4D5663"
          },
          "text": ""
         },
         "type": "linear",
         "zerolinecolor": "#E1E5ED"
        },
        "yaxis11": {
         "anchor": "x11",
         "autorange": true,
         "domain": [
          0.2675,
          0.465
         ],
         "gridcolor": "#E1E5ED",
         "range": [
          0,
          26.315789473684212
         ],
         "showgrid": false,
         "tickfont": {
          "color": "#4D5663"
         },
         "title": {
          "font": {
           "color": "#4D5663"
          },
          "text": ""
         },
         "zerolinecolor": "#E1E5ED"
        },
        "yaxis12": {
         "anchor": "x12",
         "autorange": true,
         "domain": [
          0.2675,
          0.465
         ],
         "gridcolor": "#E1E5ED",
         "range": [
          -3.0490728847304047,
          2.7819930128769688
         ],
         "showgrid": false,
         "tickfont": {
          "color": "#4D5663"
         },
         "title": {
          "font": {
           "color": "#4D5663"
          },
          "text": ""
         },
         "type": "linear",
         "zerolinecolor": "#E1E5ED"
        },
        "yaxis13": {
         "anchor": "x13",
         "autorange": true,
         "domain": [
          0,
          0.1975
         ],
         "gridcolor": "#E1E5ED",
         "range": [
          -3.3911488328074446,
          3.3934882772127493
         ],
         "showgrid": false,
         "tickfont": {
          "color": "#4D5663"
         },
         "title": {
          "font": {
           "color": "#4D5663"
          },
          "text": ""
         },
         "type": "linear",
         "zerolinecolor": "#E1E5ED"
        },
        "yaxis14": {
         "anchor": "x14",
         "autorange": true,
         "domain": [
          0,
          0.1975
         ],
         "gridcolor": "#E1E5ED",
         "range": [
          -3.3911488328074446,
          3.3934882772127493
         ],
         "showgrid": false,
         "tickfont": {
          "color": "#4D5663"
         },
         "title": {
          "font": {
           "color": "#4D5663"
          },
          "text": ""
         },
         "type": "linear",
         "zerolinecolor": "#E1E5ED"
        },
        "yaxis15": {
         "anchor": "x15",
         "autorange": true,
         "domain": [
          0,
          0.1975
         ],
         "gridcolor": "#E1E5ED",
         "range": [
          -3.3911488328074446,
          3.3934882772127493
         ],
         "showgrid": false,
         "tickfont": {
          "color": "#4D5663"
         },
         "title": {
          "font": {
           "color": "#4D5663"
          },
          "text": ""
         },
         "type": "linear",
         "zerolinecolor": "#E1E5ED"
        },
        "yaxis16": {
         "anchor": "x16",
         "autorange": true,
         "domain": [
          0,
          0.1975
         ],
         "gridcolor": "#E1E5ED",
         "range": [
          0,
          18.94736842105263
         ],
         "showgrid": false,
         "tickfont": {
          "color": "#4D5663"
         },
         "title": {
          "font": {
           "color": "#4D5663"
          },
          "text": ""
         },
         "zerolinecolor": "#E1E5ED"
        },
        "yaxis2": {
         "anchor": "x2",
         "autorange": true,
         "domain": [
          0.8025,
          1
         ],
         "gridcolor": "#E1E5ED",
         "range": [
          -2.8539680769832683,
          3.70171182749267
         ],
         "showgrid": false,
         "tickfont": {
          "color": "#4D5663"
         },
         "title": {
          "font": {
           "color": "#4D5663"
          },
          "text": ""
         },
         "type": "linear",
         "zerolinecolor": "#E1E5ED"
        },
        "yaxis3": {
         "anchor": "x3",
         "autorange": true,
         "domain": [
          0.8025,
          1
         ],
         "gridcolor": "#E1E5ED",
         "range": [
          -2.8539680769832683,
          3.70171182749267
         ],
         "showgrid": false,
         "tickfont": {
          "color": "#4D5663"
         },
         "title": {
          "font": {
           "color": "#4D5663"
          },
          "text": ""
         },
         "type": "linear",
         "zerolinecolor": "#E1E5ED"
        },
        "yaxis4": {
         "anchor": "x4",
         "autorange": true,
         "domain": [
          0.8025,
          1
         ],
         "gridcolor": "#E1E5ED",
         "range": [
          -2.8539680769832683,
          3.70171182749267
         ],
         "showgrid": false,
         "tickfont": {
          "color": "#4D5663"
         },
         "title": {
          "font": {
           "color": "#4D5663"
          },
          "text": ""
         },
         "type": "linear",
         "zerolinecolor": "#E1E5ED"
        },
        "yaxis5": {
         "anchor": "x5",
         "autorange": true,
         "domain": [
          0.535,
          0.7325
         ],
         "gridcolor": "#E1E5ED",
         "range": [
          -3.2017294070401245,
          2.7202183250269445
         ],
         "showgrid": false,
         "tickfont": {
          "color": "#4D5663"
         },
         "title": {
          "font": {
           "color": "#4D5663"
          },
          "text": ""
         },
         "type": "linear",
         "zerolinecolor": "#E1E5ED"
        },
        "yaxis6": {
         "anchor": "x6",
         "autorange": true,
         "domain": [
          0.535,
          0.7325
         ],
         "gridcolor": "#E1E5ED",
         "range": [
          0,
          25.263157894736842
         ],
         "showgrid": false,
         "tickfont": {
          "color": "#4D5663"
         },
         "title": {
          "font": {
           "color": "#4D5663"
          },
          "text": ""
         },
         "zerolinecolor": "#E1E5ED"
        },
        "yaxis7": {
         "anchor": "x7",
         "autorange": true,
         "domain": [
          0.535,
          0.7325
         ],
         "gridcolor": "#E1E5ED",
         "range": [
          -3.2017294070401245,
          2.7202183250269445
         ],
         "showgrid": false,
         "tickfont": {
          "color": "#4D5663"
         },
         "title": {
          "font": {
           "color": "#4D5663"
          },
          "text": ""
         },
         "type": "linear",
         "zerolinecolor": "#E1E5ED"
        },
        "yaxis8": {
         "anchor": "x8",
         "autorange": true,
         "domain": [
          0.535,
          0.7325
         ],
         "gridcolor": "#E1E5ED",
         "range": [
          -3.2017294070401245,
          2.7202183250269445
         ],
         "showgrid": false,
         "tickfont": {
          "color": "#4D5663"
         },
         "title": {
          "font": {
           "color": "#4D5663"
          },
          "text": ""
         },
         "type": "linear",
         "zerolinecolor": "#E1E5ED"
        },
        "yaxis9": {
         "anchor": "x9",
         "autorange": true,
         "domain": [
          0.2675,
          0.465
         ],
         "gridcolor": "#E1E5ED",
         "range": [
          -3.0490728847304047,
          2.7819930128769688
         ],
         "showgrid": false,
         "tickfont": {
          "color": "#4D5663"
         },
         "title": {
          "font": {
           "color": "#4D5663"
          },
          "text": ""
         },
         "type": "linear",
         "zerolinecolor": "#E1E5ED"
        }
       }
      },
      "image/png": "[encoded data removed]",
      "text/html": [
       "<div>                            <div id=\"cd49f6bb-2263-45bb-8fdd-64b24cc4360a\" class=\"plotly-graph-div\" style=\"height:525px; width:100%;\"></div>            <script type=\"text/javascript\">                require([\"plotly\"], function(Plotly) {                    window.PLOTLYENV=window.PLOTLYENV || {};\n",
       "                    window.PLOTLYENV.BASE_URL='https://plot.ly';                                    if (document.getElementById(\"cd49f6bb-2263-45bb-8fdd-64b24cc4360a\")) {                    Plotly.newPlot(                        \"cd49f6bb-2263-45bb-8fdd-64b24cc4360a\",                        [{\"histfunc\":\"count\",\"histnorm\":\"\",\"marker\":{\"color\":\"rgba(255, 153, 51, 1.0)\",\"line\":{\"color\":\"#4D5663\",\"width\":1.3}},\"name\":\"A\",\"nbinsx\":10,\"opacity\":0.8,\"orientation\":\"v\",\"x\":[0.29925552254576165,-1.011041779205554,-0.5186900863586638,-0.3828217817492648,-0.30927380397760446,0.6652818442678666,-0.22391389891936955,-0.24552960736839285,-1.9729621488923037,-0.1270387319252311,0.7747801811502151,0.09795908528664474,0.8929236677497698,0.20187969491046906,-0.8188495086655256,-0.12106198188240833,-0.6988584323192542,0.9050943018885463,0.49840793884265266,-0.9287052444313292,-0.4739277566927989,2.8207058994017054,-1.1300495739122436,1.7922738360878419,-0.3722204804935097,0.6196710190455824,0.42286628491220846,-0.08201217140566631,-0.822929168212544,2.2132431936258605,-0.07338177118678733,-0.7110858990763125,-0.2845400209239793,1.7102445886679856,-0.25360285658795656,1.373955494233924,0.1573245211525778,0.9179588000871358,1.4501656733343136,-0.3387058812164145,0.12752580527569551,0.09335592361703186,0.46755752620666796,-0.07728801968237105,-0.9010152681152521,-1.591414215809626,-1.539602646535873,-0.15053439886828743,-0.19059529732657582,0.28721444365992915,-0.42865126117404906,0.8253179141257997,-0.11172062284287053,0.6540991103515579,0.13745318590332364,1.7416753476030007,0.9540371329646546,0.5056558817518302,-0.90976828526663,0.9779440865005324,0.2226888697654056,-0.8123423017698557,0.8714764920706584,0.9597275072579795,1.3064080640044275,0.20089689763769625,0.6570047504187573,1.7712950311135016,0.758540342623224,-0.6999542696208285,-0.5296140031022785,-1.6278767145392647,0.52167480285576,-0.7262821978900574,0.43170230912564883,-1.9501271155499578,-0.15320748824202288,0.37342241042171925,0.02937078492454944,-0.7474020628442967,-0.8206850171791942,-0.9731997454172197,-0.8574662943143303,1.3631115358844874,-0.7325551730875081,0.32377382134675764,0.5837719300271894,-0.02981233759013717,0.07775300634035513,0.04632126687899852,0.8207828952495825,0.8663286865331438,-0.251598688319945,0.3853995691958181,0.8375831493796876,0.5066547754126097,0.8275361547809248,0.03135518353477385,0.4371432677710562,-1.0527954649016038],\"xaxis\":\"x\",\"yaxis\":\"y\",\"type\":\"histogram\"},{\"line\":{\"color\":\"rgba(128, 128, 128, 1.0)\",\"dash\":\"solid\",\"shape\":\"linear\",\"width\":1.3},\"marker\":{\"size\":2,\"symbol\":\"circle\"},\"mode\":\"markers\",\"name\":\"A\",\"text\":\"\",\"x\":[-1.713173337968297,0.16463881583930215,-0.34641472283923375,-0.7595751733051315,1.8457908877737206,-0.21433429456110126,0.5124726487289849,1.437139990683677,0.6547777163218743,-0.013712678511071783,1.195708708470215,-0.19338978575811494,1.0102460462298848,-0.21334392761340226,0.19559412341150936,-0.8752839354002775,0.4096257270108291,-0.22866927545330804,-0.6069472783316819,0.12373879396409523,-1.2276604990058457,0.6010948363729458,0.4486512408929953,-0.49226693659304877,1.1159469633589956,-0.2133286556842512,-0.14082002882471792,1.0232543671980927,1.0487421873111291,-2.4058895957897612,-0.6263467808267238,-0.0535980194419228,-0.9697997059269032,-0.15393169598037867,-1.337531465339447,-1.8931093783678372,0.6531828644393675,0.1389289985343312,-1.2541133575089387,0.4075596248250558,0.28298950142601137,1.0159265252281,-0.5224631731621188,-0.732919324083606,0.953776621920564,-0.13175696682988694,0.4423720801760704,-2.0600703856891096,-0.2634038014696138,1.7969489763358557,-1.9328347947417628,0.12617300283094043,-0.06565066349539632,-0.255661121065549,-0.6753136577711945,-0.07234099887043406,0.7673623555981366,0.4959852463397566,-0.18199980527914109,0.389248533735029,-0.7478685197683522,0.012026132107050867,-1.8575220704136997,1.3694473521161734,-1.3884475997112322,0.01901705187140966,-1.0233698840410335,-0.7350923368030766,-0.18320340477385902,-0.3313476869735953,0.9446094346728854,0.13984453539392488,0.17647290803347712,-1.0722859198372872,-1.711183803392291,0.23813046063428772,0.18938486313991962,-1.0485551278432355,-0.4328810726807365,-0.7535732326589286,0.7408847778271608,-1.089504315225977,0.8192744630098808,-0.2562666205721067,0.007890140272847193,0.6257507665227129,-0.5629911840117975,-0.03906926625490238,0.148686082542415,0.2810631813885742,1.9243785137765812,0.17187484975152728,1.0688283176452438,-0.3163367926495648,1.9130406772984856,0.8787427413449688,-1.2205222953409034,-1.200783415119851,0.18552969644269862,-0.2549852401407603],\"xaxis\":\"x2\",\"y\":[0.29925552254576165,-1.011041779205554,-0.5186900863586638,-0.3828217817492648,-0.30927380397760446,0.6652818442678666,-0.22391389891936955,-0.24552960736839285,-1.9729621488923037,-0.1270387319252311,0.7747801811502151,0.09795908528664474,0.8929236677497698,0.20187969491046906,-0.8188495086655256,-0.12106198188240833,-0.6988584323192542,0.9050943018885463,0.49840793884265266,-0.9287052444313292,-0.4739277566927989,2.8207058994017054,-1.1300495739122436,1.7922738360878419,-0.3722204804935097,0.6196710190455824,0.42286628491220846,-0.08201217140566631,-0.822929168212544,2.2132431936258605,-0.07338177118678733,-0.7110858990763125,-0.2845400209239793,1.7102445886679856,-0.25360285658795656,1.373955494233924,0.1573245211525778,0.9179588000871358,1.4501656733343136,-0.3387058812164145,0.12752580527569551,0.09335592361703186,0.46755752620666796,-0.07728801968237105,-0.9010152681152521,-1.591414215809626,-1.539602646535873,-0.15053439886828743,-0.19059529732657582,0.28721444365992915,-0.42865126117404906,0.8253179141257997,-0.11172062284287053,0.6540991103515579,0.13745318590332364,1.7416753476030007,0.9540371329646546,0.5056558817518302,-0.90976828526663,0.9779440865005324,0.2226888697654056,-0.8123423017698557,0.8714764920706584,0.9597275072579795,1.3064080640044275,0.20089689763769625,0.6570047504187573,1.7712950311135016,0.758540342623224,-0.6999542696208285,-0.5296140031022785,-1.6278767145392647,0.52167480285576,-0.7262821978900574,0.43170230912564883,-1.9501271155499578,-0.15320748824202288,0.37342241042171925,0.02937078492454944,-0.7474020628442967,-0.8206850171791942,-0.9731997454172197,-0.8574662943143303,1.3631115358844874,-0.7325551730875081,0.32377382134675764,0.5837719300271894,-0.02981233759013717,0.07775300634035513,0.04632126687899852,0.8207828952495825,0.8663286865331438,-0.251598688319945,0.3853995691958181,0.8375831493796876,0.5066547754126097,0.8275361547809248,0.03135518353477385,0.4371432677710562,-1.0527954649016038],\"yaxis\":\"y2\",\"type\":\"scatter\"},{\"line\":{\"color\":\"rgba(128, 128, 128, 1.0)\",\"dash\":\"solid\",\"shape\":\"linear\",\"width\":1.3},\"marker\":{\"size\":2,\"symbol\":\"circle\"},\"mode\":\"markers\",\"name\":\"A\",\"text\":\"\",\"x\":[-1.3456606846294052,0.5895284155409911,-2.265446518321988,-0.3040595612451563,-1.4352207544271658,-0.900233739695578,0.2162329410392335,-0.8477553578869945,0.2199210890787251,0.029451150741701033,-2.1232035122256065,-0.7462854444893672,-0.06063410968953736,1.6985610322895328,-0.43729148945683866,0.05692436109507748,-1.8601493453303881,-0.0821997875255117,0.9154310436792841,-0.04630079631360709,1.4957572236847312,0.35774376913988176,1.3566638106896118,-0.3371424200641299,-0.609928733221454,0.2731175633992837,0.42852321505384566,-1.6866996078440353,-0.12465581181358817,0.5086419424337107,-1.227366268616366,0.23516570538076914,0.2603848247467958,-0.23941587472391318,0.03551607940517475,0.609387497857241,1.1003249486167004,-0.7362914284027954,0.059538871798452984,0.3888650743485843,-0.24389289870559744,1.13397444768638,0.8546797398974391,0.4201180657802193,-0.940622379712996,0.16391072978601387,-0.5110314596332228,-0.9884283249768397,-0.6081389626173525,-1.1340186063111575,0.35115508702523274,-0.6588447416539652,-1.342505089624679,-0.3869472070011788,-0.32639287152988083,-0.6499099996505723,-0.27366491962982475,-0.13612146575669448,0.8809269012902251,-1.1912491505326692,-0.24890064399062667,-0.2971728436040609,0.11836273075569706,-1.057972900788718,0.5146961907508886,0.20038098168860446,-0.5891722371838476,0.23244888139948644,0.21750620069341245,-0.5795740883100473,0.09018573850734177,0.853853240509046,1.9983666464685519,-1.8954822060989658,1.754852594725883,0.19084986352255978,-0.3845387497075328,-1.3009328500240576,0.2221088951254746,0.5984788054752173,0.14639374465444555,1.8882970920972084,-2.008401893338328,0.1386097248602371,0.7463479297934115,-0.8215597933432001,-1.1664854245190575,-0.3031386235822503,-0.36055129288817067,-0.40820099716418895,-0.5763988054209849,-0.683343180022325,-1.3024687462502815,-0.746834906444901,1.4597363890696786,0.6946900721683419,0.8739381406764574,0.6819793726595158,0.5083759650529504,1.344830395710999],\"xaxis\":\"x3\",\"y\":[0.29925552254576165,-1.011041779205554,-0.5186900863586638,-0.3828217817492648,-0.30927380397760446,0.6652818442678666,-0.22391389891936955,-0.24552960736839285,-1.9729621488923037,-0.1270387319252311,0.7747801811502151,0.09795908528664474,0.8929236677497698,0.20187969491046906,-0.8188495086655256,-0.12106198188240833,-0.6988584323192542,0.9050943018885463,0.49840793884265266,-0.9287052444313292,-0.4739277566927989,2.8207058994017054,-1.1300495739122436,1.7922738360878419,-0.3722204804935097,0.6196710190455824,0.42286628491220846,-0.08201217140566631,-0.822929168212544,2.2132431936258605,-0.07338177118678733,-0.7110858990763125,-0.2845400209239793,1.7102445886679856,-0.25360285658795656,1.373955494233924,0.1573245211525778,0.9179588000871358,1.4501656733343136,-0.3387058812164145,0.12752580527569551,0.09335592361703186,0.46755752620666796,-0.07728801968237105,-0.9010152681152521,-1.591414215809626,-1.539602646535873,-0.15053439886828743,-0.19059529732657582,0.28721444365992915,-0.42865126117404906,0.8253179141257997,-0.11172062284287053,0.6540991103515579,0.13745318590332364,1.7416753476030007,0.9540371329646546,0.5056558817518302,-0.90976828526663,0.9779440865005324,0.2226888697654056,-0.8123423017698557,0.8714764920706584,0.9597275072579795,1.3064080640044275,0.20089689763769625,0.6570047504187573,1.7712950311135016,0.758540342623224,-0.6999542696208285,-0.5296140031022785,-1.6278767145392647,0.52167480285576,-0.7262821978900574,0.43170230912564883,-1.9501271155499578,-0.15320748824202288,0.37342241042171925,0.02937078492454944,-0.7474020628442967,-0.8206850171791942,-0.9731997454172197,-0.8574662943143303,1.3631115358844874,-0.7325551730875081,0.32377382134675764,0.5837719300271894,-0.02981233759013717,0.07775300634035513,0.04632126687899852,0.8207828952495825,0.8663286865331438,-0.251598688319945,0.3853995691958181,0.8375831493796876,0.5066547754126097,0.8275361547809248,0.03135518353477385,0.4371432677710562,-1.0527954649016038],\"yaxis\":\"y3\",\"type\":\"scatter\"},{\"line\":{\"color\":\"rgba(128, 128, 128, 1.0)\",\"dash\":\"solid\",\"shape\":\"linear\",\"width\":1.3},\"marker\":{\"size\":2,\"symbol\":\"circle\"},\"mode\":\"markers\",\"name\":\"A\",\"text\":\"\",\"x\":[0.5018574017192605,1.0782535393916226,0.568796709596952,0.2036950006341363,0.7849892146214591,0.48000959289378786,0.35986046736783805,-1.7852691538744756,-0.2996915848722144,1.1564475612125333,0.051074214076615394,0.7764321290143538,-1.1175759248652855,-0.24728856214895104,1.3263796290507757,-0.4285467267650269,1.2759321118878388,0.8037925173987338,0.7819492351647368,1.0758735654743308,0.7210606328024203,1.2186361220101716,2.1935562180463783,-0.49896896310831407,0.4013548560430032,0.31810165737317614,-0.27796953078475395,-1.8636293228563015,0.4454398176844966,1.195401658277943,-0.6855060852970423,0.47980609849661626,-1.5479540549228206,-1.4552426939733916,1.4267657816278758,-0.7138382584873416,0.018015418224353635,0.42110384749845214,1.4602094381806838,0.07530742660165404,-0.08961578610340556,-1.1639856851403072,-0.02043964563297272,-1.3641386341120363,-0.5835699836049469,-0.9351175483694667,-0.29919151126586724,0.7624712006312411,0.7795623114147803,1.721763603194762,-1.2383947221719818,-0.6427103737886317,0.75396647684985,-0.6493305403245406,-0.7078129681664773,-0.3494909468608757,1.4332248236304639,0.6142940980344876,1.8070893325778903,0.3719354406321682,0.8209978346959457,1.1666299159634204,1.455625270563245,-1.140093644273744,-1.0953246514602062,-0.6321257689543668,-0.4867141786339963,0.1963880824590929,-0.4395719045967569,0.2917038736535683,-0.4584554130364333,1.3629703496255239,-0.2894619174101874,-0.27767288153057923,0.5367489163509358,1.3273492637955242,1.0088329659389959,0.19882769884916407,-0.028662307732223887,0.40582195716123337,2.4817132056762805,-1.1251494514493936,-1.3785355854205101,0.5578289475062926,1.0691795038626253,-0.1256942625051536,0.6934436037097989,0.2637781887356134,-0.17709883287935585,-1.2182972741350941,0.19909941833152142,0.8349788934312267,-2.4793737612709754,-0.5213544012324818,0.5484162102334881,-0.784792661670148,-0.9136347038700877,0.8300695566817942,1.407054346021127,-1.141741760605707],\"xaxis\":\"x4\",\"y\":[0.29925552254576165,-1.011041779205554,-0.5186900863586638,-0.3828217817492648,-0.30927380397760446,0.6652818442678666,-0.22391389891936955,-0.24552960736839285,-1.9729621488923037,-0.1270387319252311,0.7747801811502151,0.09795908528664474,0.8929236677497698,0.20187969491046906,-0.8188495086655256,-0.12106198188240833,-0.6988584323192542,0.9050943018885463,0.49840793884265266,-0.9287052444313292,-0.4739277566927989,2.8207058994017054,-1.1300495739122436,1.7922738360878419,-0.3722204804935097,0.6196710190455824,0.42286628491220846,-0.08201217140566631,-0.822929168212544,2.2132431936258605,-0.07338177118678733,-0.7110858990763125,-0.2845400209239793,1.7102445886679856,-0.25360285658795656,1.373955494233924,0.1573245211525778,0.9179588000871358,1.4501656733343136,-0.3387058812164145,0.12752580527569551,0.09335592361703186,0.46755752620666796,-0.07728801968237105,-0.9010152681152521,-1.591414215809626,-1.539602646535873,-0.15053439886828743,-0.19059529732657582,0.28721444365992915,-0.42865126117404906,0.8253179141257997,-0.11172062284287053,0.6540991103515579,0.13745318590332364,1.7416753476030007,0.9540371329646546,0.5056558817518302,-0.90976828526663,0.9779440865005324,0.2226888697654056,-0.8123423017698557,0.8714764920706584,0.9597275072579795,1.3064080640044275,0.20089689763769625,0.6570047504187573,1.7712950311135016,0.758540342623224,-0.6999542696208285,-0.5296140031022785,-1.6278767145392647,0.52167480285576,-0.7262821978900574,0.43170230912564883,-1.9501271155499578,-0.15320748824202288,0.37342241042171925,0.02937078492454944,-0.7474020628442967,-0.8206850171791942,-0.9731997454172197,-0.8574662943143303,1.3631115358844874,-0.7325551730875081,0.32377382134675764,0.5837719300271894,-0.02981233759013717,0.07775300634035513,0.04632126687899852,0.8207828952495825,0.8663286865331438,-0.251598688319945,0.3853995691958181,0.8375831493796876,0.5066547754126097,0.8275361547809248,0.03135518353477385,0.4371432677710562,-1.0527954649016038],\"yaxis\":\"y4\",\"type\":\"scatter\"},{\"line\":{\"color\":\"rgba(128, 128, 128, 1.0)\",\"dash\":\"solid\",\"shape\":\"linear\",\"width\":1.3},\"marker\":{\"size\":2,\"symbol\":\"circle\"},\"mode\":\"markers\",\"name\":\"B\",\"text\":\"\",\"x\":[0.29925552254576165,-1.011041779205554,-0.5186900863586638,-0.3828217817492648,-0.30927380397760446,0.6652818442678666,-0.22391389891936955,-0.24552960736839285,-1.9729621488923037,-0.1270387319252311,0.7747801811502151,0.09795908528664474,0.8929236677497698,0.20187969491046906,-0.8188495086655256,-0.12106198188240833,-0.6988584323192542,0.9050943018885463,0.49840793884265266,-0.9287052444313292,-0.4739277566927989,2.8207058994017054,-1.1300495739122436,1.7922738360878419,-0.3722204804935097,0.6196710190455824,0.42286628491220846,-0.08201217140566631,-0.822929168212544,2.2132431936258605,-0.07338177118678733,-0.7110858990763125,-0.2845400209239793,1.7102445886679856,-0.25360285658795656,1.373955494233924,0.1573245211525778,0.9179588000871358,1.4501656733343136,-0.3387058812164145,0.12752580527569551,0.09335592361703186,0.46755752620666796,-0.07728801968237105,-0.9010152681152521,-1.591414215809626,-1.539602646535873,-0.15053439886828743,-0.19059529732657582,0.28721444365992915,-0.42865126117404906,0.8253179141257997,-0.11172062284287053,0.6540991103515579,0.13745318590332364,1.7416753476030007,0.9540371329646546,0.5056558817518302,-0.90976828526663,0.9779440865005324,0.2226888697654056,-0.8123423017698557,0.8714764920706584,0.9597275072579795,1.3064080640044275,0.20089689763769625,0.6570047504187573,1.7712950311135016,0.758540342623224,-0.6999542696208285,-0.5296140031022785,-1.6278767145392647,0.52167480285576,-0.7262821978900574,0.43170230912564883,-1.9501271155499578,-0.15320748824202288,0.37342241042171925,0.02937078492454944,-0.7474020628442967,-0.8206850171791942,-0.9731997454172197,-0.8574662943143303,1.3631115358844874,-0.7325551730875081,0.32377382134675764,0.5837719300271894,-0.02981233759013717,0.07775300634035513,0.04632126687899852,0.8207828952495825,0.8663286865331438,-0.251598688319945,0.3853995691958181,0.8375831493796876,0.5066547754126097,0.8275361547809248,0.03135518353477385,0.4371432677710562,-1.0527954649016038],\"xaxis\":\"x5\",\"y\":[-1.713173337968297,0.16463881583930215,-0.34641472283923375,-0.7595751733051315,1.8457908877737206,-0.21433429456110126,0.5124726487289849,1.437139990683677,0.6547777163218743,-0.013712678511071783,1.195708708470215,-0.19338978575811494,1.0102460462298848,-0.21334392761340226,0.19559412341150936,-0.8752839354002775,0.4096257270108291,-0.22866927545330804,-0.6069472783316819,0.12373879396409523,-1.2276604990058457,0.6010948363729458,0.4486512408929953,-0.49226693659304877,1.1159469633589956,-0.2133286556842512,-0.14082002882471792,1.0232543671980927,1.0487421873111291,-2.4058895957897612,-0.6263467808267238,-0.0535980194419228,-0.9697997059269032,-0.15393169598037867,-1.337531465339447,-1.8931093783678372,0.6531828644393675,0.1389289985343312,-1.2541133575089387,0.4075596248250558,0.28298950142601137,1.0159265252281,-0.5224631731621188,-0.732919324083606,0.953776621920564,-0.13175696682988694,0.4423720801760704,-2.0600703856891096,-0.2634038014696138,1.7969489763358557,-1.9328347947417628,0.12617300283094043,-0.06565066349539632,-0.255661121065549,-0.6753136577711945,-0.07234099887043406,0.7673623555981366,0.4959852463397566,-0.18199980527914109,0.389248533735029,-0.7478685197683522,0.012026132107050867,-1.8575220704136997,1.3694473521161734,-1.3884475997112322,0.01901705187140966,-1.0233698840410335,-0.7350923368030766,-0.18320340477385902,-0.3313476869735953,0.9446094346728854,0.13984453539392488,0.17647290803347712,-1.0722859198372872,-1.711183803392291,0.23813046063428772,0.18938486313991962,-1.0485551278432355,-0.4328810726807365,-0.7535732326589286,0.7408847778271608,-1.089504315225977,0.8192744630098808,-0.2562666205721067,0.007890140272847193,0.6257507665227129,-0.5629911840117975,-0.03906926625490238,0.148686082542415,0.2810631813885742,1.9243785137765812,0.17187484975152728,1.0688283176452438,-0.3163367926495648,1.9130406772984856,0.8787427413449688,-1.2205222953409034,-1.200783415119851,0.18552969644269862,-0.2549852401407603],\"yaxis\":\"y5\",\"type\":\"scatter\"},{\"histfunc\":\"count\",\"histnorm\":\"\",\"marker\":{\"color\":\"rgba(55, 128, 191, 1.0)\",\"line\":{\"color\":\"#4D5663\",\"width\":1.3}},\"name\":\"B\",\"nbinsx\":10,\"opacity\":0.8,\"orientation\":\"v\",\"x\":[-1.713173337968297,0.16463881583930215,-0.34641472283923375,-0.7595751733051315,1.8457908877737206,-0.21433429456110126,0.5124726487289849,1.437139990683677,0.6547777163218743,-0.013712678511071783,1.195708708470215,-0.19338978575811494,1.0102460462298848,-0.21334392761340226,0.19559412341150936,-0.8752839354002775,0.4096257270108291,-0.22866927545330804,-0.6069472783316819,0.12373879396409523,-1.2276604990058457,0.6010948363729458,0.4486512408929953,-0.49226693659304877,1.1159469633589956,-0.2133286556842512,-0.14082002882471792,1.0232543671980927,1.0487421873111291,-2.4058895957897612,-0.6263467808267238,-0.0535980194419228,-0.9697997059269032,-0.15393169598037867,-1.337531465339447,-1.8931093783678372,0.6531828644393675,0.1389289985343312,-1.2541133575089387,0.4075596248250558,0.28298950142601137,1.0159265252281,-0.5224631731621188,-0.732919324083606,0.953776621920564,-0.13175696682988694,0.4423720801760704,-2.0600703856891096,-0.2634038014696138,1.7969489763358557,-1.9328347947417628,0.12617300283094043,-0.06565066349539632,-0.255661121065549,-0.6753136577711945,-0.07234099887043406,0.7673623555981366,0.4959852463397566,-0.18199980527914109,0.389248533735029,-0.7478685197683522,0.012026132107050867,-1.8575220704136997,1.3694473521161734,-1.3884475997112322,0.01901705187140966,-1.0233698840410335,-0.7350923368030766,-0.18320340477385902,-0.3313476869735953,0.9446094346728854,0.13984453539392488,0.17647290803347712,-1.0722859198372872,-1.711183803392291,0.23813046063428772,0.18938486313991962,-1.0485551278432355,-0.4328810726807365,-0.7535732326589286,0.7408847778271608,-1.089504315225977,0.8192744630098808,-0.2562666205721067,0.007890140272847193,0.6257507665227129,-0.5629911840117975,-0.03906926625490238,0.148686082542415,0.2810631813885742,1.9243785137765812,0.17187484975152728,1.0688283176452438,-0.3163367926495648,1.9130406772984856,0.8787427413449688,-1.2205222953409034,-1.200783415119851,0.18552969644269862,-0.2549852401407603],\"xaxis\":\"x6\",\"yaxis\":\"y6\",\"type\":\"histogram\"},{\"line\":{\"color\":\"rgba(128, 128, 128, 1.0)\",\"dash\":\"solid\",\"shape\":\"linear\",\"width\":1.3},\"marker\":{\"size\":2,\"symbol\":\"circle\"},\"mode\":\"markers\",\"name\":\"B\",\"text\":\"\",\"x\":[-1.3456606846294052,0.5895284155409911,-2.265446518321988,-0.3040595612451563,-1.4352207544271658,-0.900233739695578,0.2162329410392335,-0.8477553578869945,0.2199210890787251,0.029451150741701033,-2.1232035122256065,-0.7462854444893672,-0.06063410968953736,1.6985610322895328,-0.43729148945683866,0.05692436109507748,-1.8601493453303881,-0.0821997875255117,0.9154310436792841,-0.04630079631360709,1.4957572236847312,0.35774376913988176,1.3566638106896118,-0.3371424200641299,-0.609928733221454,0.2731175633992837,0.42852321505384566,-1.6866996078440353,-0.12465581181358817,0.5086419424337107,-1.227366268616366,0.23516570538076914,0.2603848247467958,-0.23941587472391318,0.03551607940517475,0.609387497857241,1.1003249486167004,-0.7362914284027954,0.059538871798452984,0.3888650743485843,-0.24389289870559744,1.13397444768638,0.8546797398974391,0.4201180657802193,-0.940622379712996,0.16391072978601387,-0.5110314596332228,-0.9884283249768397,-0.6081389626173525,-1.1340186063111575,0.35115508702523274,-0.6588447416539652,-1.342505089624679,-0.3869472070011788,-0.32639287152988083,-0.6499099996505723,-0.27366491962982475,-0.13612146575669448,0.8809269012902251,-1.1912491505326692,-0.24890064399062667,-0.2971728436040609,0.11836273075569706,-1.057972900788718,0.5146961907508886,0.20038098168860446,-0.5891722371838476,0.23244888139948644,0.21750620069341245,-0.5795740883100473,0.09018573850734177,0.853853240509046,1.9983666464685519,-1.8954822060989658,1.754852594725883,0.19084986352255978,-0.3845387497075328,-1.3009328500240576,0.2221088951254746,0.5984788054752173,0.14639374465444555,1.8882970920972084,-2.008401893338328,0.1386097248602371,0.7463479297934115,-0.8215597933432001,-1.1664854245190575,-0.3031386235822503,-0.36055129288817067,-0.40820099716418895,-0.5763988054209849,-0.683343180022325,-1.3024687462502815,-0.746834906444901,1.4597363890696786,0.6946900721683419,0.8739381406764574,0.6819793726595158,0.5083759650529504,1.344830395710999],\"xaxis\":\"x7\",\"y\":[-1.713173337968297,0.16463881583930215,-0.34641472283923375,-0.7595751733051315,1.8457908877737206,-0.21433429456110126,0.5124726487289849,1.437139990683677,0.6547777163218743,-0.013712678511071783,1.195708708470215,-0.19338978575811494,1.0102460462298848,-0.21334392761340226,0.19559412341150936,-0.8752839354002775,0.4096257270108291,-0.22866927545330804,-0.6069472783316819,0.12373879396409523,-1.2276604990058457,0.6010948363729458,0.4486512408929953,-0.49226693659304877,1.1159469633589956,-0.2133286556842512,-0.14082002882471792,1.0232543671980927,1.0487421873111291,-2.4058895957897612,-0.6263467808267238,-0.0535980194419228,-0.9697997059269032,-0.15393169598037867,-1.337531465339447,-1.8931093783678372,0.6531828644393675,0.1389289985343312,-1.2541133575089387,0.4075596248250558,0.28298950142601137,1.0159265252281,-0.5224631731621188,-0.732919324083606,0.953776621920564,-0.13175696682988694,0.4423720801760704,-2.0600703856891096,-0.2634038014696138,1.7969489763358557,-1.9328347947417628,0.12617300283094043,-0.06565066349539632,-0.255661121065549,-0.6753136577711945,-0.07234099887043406,0.7673623555981366,0.4959852463397566,-0.18199980527914109,0.389248533735029,-0.7478685197683522,0.012026132107050867,-1.8575220704136997,1.3694473521161734,-1.3884475997112322,0.01901705187140966,-1.0233698840410335,-0.7350923368030766,-0.18320340477385902,-0.3313476869735953,0.9446094346728854,0.13984453539392488,0.17647290803347712,-1.0722859198372872,-1.711183803392291,0.23813046063428772,0.18938486313991962,-1.0485551278432355,-0.4328810726807365,-0.7535732326589286,0.7408847778271608,-1.089504315225977,0.8192744630098808,-0.2562666205721067,0.007890140272847193,0.6257507665227129,-0.5629911840117975,-0.03906926625490238,0.148686082542415,0.2810631813885742,1.9243785137765812,0.17187484975152728,1.0688283176452438,-0.3163367926495648,1.9130406772984856,0.8787427413449688,-1.2205222953409034,-1.200783415119851,0.18552969644269862,-0.2549852401407603],\"yaxis\":\"y7\",\"type\":\"scatter\"},{\"line\":{\"color\":\"rgba(128, 128, 128, 1.0)\",\"dash\":\"solid\",\"shape\":\"linear\",\"width\":1.3},\"marker\":{\"size\":2,\"symbol\":\"circle\"},\"mode\":\"markers\",\"name\":\"B\",\"text\":\"\",\"x\":[0.5018574017192605,1.0782535393916226,0.568796709596952,0.2036950006341363,0.7849892146214591,0.48000959289378786,0.35986046736783805,-1.7852691538744756,-0.2996915848722144,1.1564475612125333,0.051074214076615394,0.7764321290143538,-1.1175759248652855,-0.24728856214895104,1.3263796290507757,-0.4285467267650269,1.2759321118878388,0.8037925173987338,0.7819492351647368,1.0758735654743308,0.7210606328024203,1.2186361220101716,2.1935562180463783,-0.49896896310831407,0.4013548560430032,0.31810165737317614,-0.27796953078475395,-1.8636293228563015,0.4454398176844966,1.195401658277943,-0.6855060852970423,0.47980609849661626,-1.5479540549228206,-1.4552426939733916,1.4267657816278758,-0.7138382584873416,0.018015418224353635,0.42110384749845214,1.4602094381806838,0.07530742660165404,-0.08961578610340556,-1.1639856851403072,-0.02043964563297272,-1.3641386341120363,-0.5835699836049469,-0.9351175483694667,-0.29919151126586724,0.7624712006312411,0.7795623114147803,1.721763603194762,-1.2383947221719818,-0.6427103737886317,0.75396647684985,-0.6493305403245406,-0.7078129681664773,-0.3494909468608757,1.4332248236304639,0.6142940980344876,1.8070893325778903,0.3719354406321682,0.8209978346959457,1.1666299159634204,1.455625270563245,-1.140093644273744,-1.0953246514602062,-0.6321257689543668,-0.4867141786339963,0.1963880824590929,-0.4395719045967569,0.2917038736535683,-0.4584554130364333,1.3629703496255239,-0.2894619174101874,-0.27767288153057923,0.5367489163509358,1.3273492637955242,1.0088329659389959,0.19882769884916407,-0.028662307732223887,0.40582195716123337,2.4817132056762805,-1.1251494514493936,-1.3785355854205101,0.5578289475062926,1.0691795038626253,-0.1256942625051536,0.6934436037097989,0.2637781887356134,-0.17709883287935585,-1.2182972741350941,0.19909941833152142,0.8349788934312267,-2.4793737612709754,-0.5213544012324818,0.5484162102334881,-0.784792661670148,-0.9136347038700877,0.8300695566817942,1.407054346021127,-1.141741760605707],\"xaxis\":\"x8\",\"y\":[-1.713173337968297,0.16463881583930215,-0.34641472283923375,-0.7595751733051315,1.8457908877737206,-0.21433429456110126,0.5124726487289849,1.437139990683677,0.6547777163218743,-0.013712678511071783,1.195708708470215,-0.19338978575811494,1.0102460462298848,-0.21334392761340226,0.19559412341150936,-0.8752839354002775,0.4096257270108291,-0.22866927545330804,-0.6069472783316819,0.12373879396409523,-1.2276604990058457,0.6010948363729458,0.4486512408929953,-0.49226693659304877,1.1159469633589956,-0.2133286556842512,-0.14082002882471792,1.0232543671980927,1.0487421873111291,-2.4058895957897612,-0.6263467808267238,-0.0535980194419228,-0.9697997059269032,-0.15393169598037867,-1.337531465339447,-1.8931093783678372,0.6531828644393675,0.1389289985343312,-1.2541133575089387,0.4075596248250558,0.28298950142601137,1.0159265252281,-0.5224631731621188,-0.732919324083606,0.953776621920564,-0.13175696682988694,0.4423720801760704,-2.0600703856891096,-0.2634038014696138,1.7969489763358557,-1.9328347947417628,0.12617300283094043,-0.06565066349539632,-0.255661121065549,-0.6753136577711945,-0.07234099887043406,0.7673623555981366,0.4959852463397566,-0.18199980527914109,0.389248533735029,-0.7478685197683522,0.012026132107050867,-1.8575220704136997,1.3694473521161734,-1.3884475997112322,0.01901705187140966,-1.0233698840410335,-0.7350923368030766,-0.18320340477385902,-0.3313476869735953,0.9446094346728854,0.13984453539392488,0.17647290803347712,-1.0722859198372872,-1.711183803392291,0.23813046063428772,0.18938486313991962,-1.0485551278432355,-0.4328810726807365,-0.7535732326589286,0.7408847778271608,-1.089504315225977,0.8192744630098808,-0.2562666205721067,0.007890140272847193,0.6257507665227129,-0.5629911840117975,-0.03906926625490238,0.148686082542415,0.2810631813885742,1.9243785137765812,0.17187484975152728,1.0688283176452438,-0.3163367926495648,1.9130406772984856,0.8787427413449688,-1.2205222953409034,-1.200783415119851,0.18552969644269862,-0.2549852401407603],\"yaxis\":\"y8\",\"type\":\"scatter\"},{\"line\":{\"color\":\"rgba(128, 128, 128, 1.0)\",\"dash\":\"solid\",\"shape\":\"linear\",\"width\":1.3},\"marker\":{\"size\":2,\"symbol\":\"circle\"},\"mode\":\"markers\",\"name\":\"C\",\"text\":\"\",\"x\":[0.29925552254576165,-1.011041779205554,-0.5186900863586638,-0.3828217817492648,-0.30927380397760446,0.6652818442678666,-0.22391389891936955,-0.24552960736839285,-1.9729621488923037,-0.1270387319252311,0.7747801811502151,0.09795908528664474,0.8929236677497698,0.20187969491046906,-0.8188495086655256,-0.12106198188240833,-0.6988584323192542,0.9050943018885463,0.49840793884265266,-0.9287052444313292,-0.4739277566927989,2.8207058994017054,-1.1300495739122436,1.7922738360878419,-0.3722204804935097,0.6196710190455824,0.42286628491220846,-0.08201217140566631,-0.822929168212544,2.2132431936258605,-0.07338177118678733,-0.7110858990763125,-0.2845400209239793,1.7102445886679856,-0.25360285658795656,1.373955494233924,0.1573245211525778,0.9179588000871358,1.4501656733343136,-0.3387058812164145,0.12752580527569551,0.09335592361703186,0.46755752620666796,-0.07728801968237105,-0.9010152681152521,-1.591414215809626,-1.539602646535873,-0.15053439886828743,-0.19059529732657582,0.28721444365992915,-0.42865126117404906,0.8253179141257997,-0.11172062284287053,0.6540991103515579,0.13745318590332364,1.7416753476030007,0.9540371329646546,0.5056558817518302,-0.90976828526663,0.9779440865005324,0.2226888697654056,-0.8123423017698557,0.8714764920706584,0.9597275072579795,1.3064080640044275,0.20089689763769625,0.6570047504187573,1.7712950311135016,0.758540342623224,-0.6999542696208285,-0.5296140031022785,-1.6278767145392647,0.52167480285576,-0.7262821978900574,0.43170230912564883,-1.9501271155499578,-0.15320748824202288,0.37342241042171925,0.02937078492454944,-0.7474020628442967,-0.8206850171791942,-0.9731997454172197,-0.8574662943143303,1.3631115358844874,-0.7325551730875081,0.32377382134675764,0.5837719300271894,-0.02981233759013717,0.07775300634035513,0.04632126687899852,0.8207828952495825,0.8663286865331438,-0.251598688319945,0.3853995691958181,0.8375831493796876,0.5066547754126097,0.8275361547809248,0.03135518353477385,0.4371432677710562,-1.0527954649016038],\"xaxis\":\"x9\",\"y\":[-1.3456606846294052,0.5895284155409911,-2.265446518321988,-0.3040595612451563,-1.4352207544271658,-0.900233739695578,0.2162329410392335,-0.8477553578869945,0.2199210890787251,0.029451150741701033,-2.1232035122256065,-0.7462854444893672,-0.06063410968953736,1.6985610322895328,-0.43729148945683866,0.05692436109507748,-1.8601493453303881,-0.0821997875255117,0.9154310436792841,-0.04630079631360709,1.4957572236847312,0.35774376913988176,1.3566638106896118,-0.3371424200641299,-0.609928733221454,0.2731175633992837,0.42852321505384566,-1.6866996078440353,-0.12465581181358817,0.5086419424337107,-1.227366268616366,0.23516570538076914,0.2603848247467958,-0.23941587472391318,0.03551607940517475,0.609387497857241,1.1003249486167004,-0.7362914284027954,0.059538871798452984,0.3888650743485843,-0.24389289870559744,1.13397444768638,0.8546797398974391,0.4201180657802193,-0.940622379712996,0.16391072978601387,-0.5110314596332228,-0.9884283249768397,-0.6081389626173525,-1.1340186063111575,0.35115508702523274,-0.6588447416539652,-1.342505089624679,-0.3869472070011788,-0.32639287152988083,-0.6499099996505723,-0.27366491962982475,-0.13612146575669448,0.8809269012902251,-1.1912491505326692,-0.24890064399062667,-0.2971728436040609,0.11836273075569706,-1.057972900788718,0.5146961907508886,0.20038098168860446,-0.5891722371838476,0.23244888139948644,0.21750620069341245,-0.5795740883100473,0.09018573850734177,0.853853240509046,1.9983666464685519,-1.8954822060989658,1.754852594725883,0.19084986352255978,-0.3845387497075328,-1.3009328500240576,0.2221088951254746,0.5984788054752173,0.14639374465444555,1.8882970920972084,-2.008401893338328,0.1386097248602371,0.7463479297934115,-0.8215597933432001,-1.1664854245190575,-0.3031386235822503,-0.36055129288817067,-0.40820099716418895,-0.5763988054209849,-0.683343180022325,-1.3024687462502815,-0.746834906444901,1.4597363890696786,0.6946900721683419,0.8739381406764574,0.6819793726595158,0.5083759650529504,1.344830395710999],\"yaxis\":\"y9\",\"type\":\"scatter\"},{\"line\":{\"color\":\"rgba(128, 128, 128, 1.0)\",\"dash\":\"solid\",\"shape\":\"linear\",\"width\":1.3},\"marker\":{\"size\":2,\"symbol\":\"circle\"},\"mode\":\"markers\",\"name\":\"C\",\"text\":\"\",\"x\":[-1.713173337968297,0.16463881583930215,-0.34641472283923375,-0.7595751733051315,1.8457908877737206,-0.21433429456110126,0.5124726487289849,1.437139990683677,0.6547777163218743,-0.013712678511071783,1.195708708470215,-0.19338978575811494,1.0102460462298848,-0.21334392761340226,0.19559412341150936,-0.8752839354002775,0.4096257270108291,-0.22866927545330804,-0.6069472783316819,0.12373879396409523,-1.2276604990058457,0.6010948363729458,0.4486512408929953,-0.49226693659304877,1.1159469633589956,-0.2133286556842512,-0.14082002882471792,1.0232543671980927,1.0487421873111291,-2.4058895957897612,-0.6263467808267238,-0.0535980194419228,-0.9697997059269032,-0.15393169598037867,-1.337531465339447,-1.8931093783678372,0.6531828644393675,0.1389289985343312,-1.2541133575089387,0.4075596248250558,0.28298950142601137,1.0159265252281,-0.5224631731621188,-0.732919324083606,0.953776621920564,-0.13175696682988694,0.4423720801760704,-2.0600703856891096,-0.2634038014696138,1.7969489763358557,-1.9328347947417628,0.12617300283094043,-0.06565066349539632,-0.255661121065549,-0.6753136577711945,-0.07234099887043406,0.7673623555981366,0.4959852463397566,-0.18199980527914109,0.389248533735029,-0.7478685197683522,0.012026132107050867,-1.8575220704136997,1.3694473521161734,-1.3884475997112322,0.01901705187140966,-1.0233698840410335,-0.7350923368030766,-0.18320340477385902,-0.3313476869735953,0.9446094346728854,0.13984453539392488,0.17647290803347712,-1.0722859198372872,-1.711183803392291,0.23813046063428772,0.18938486313991962,-1.0485551278432355,-0.4328810726807365,-0.7535732326589286,0.7408847778271608,-1.089504315225977,0.8192744630098808,-0.2562666205721067,0.007890140272847193,0.6257507665227129,-0.5629911840117975,-0.03906926625490238,0.148686082542415,0.2810631813885742,1.9243785137765812,0.17187484975152728,1.0688283176452438,-0.3163367926495648,1.9130406772984856,0.8787427413449688,-1.2205222953409034,-1.200783415119851,0.18552969644269862,-0.2549852401407603],\"xaxis\":\"x10\",\"y\":[-1.3456606846294052,0.5895284155409911,-2.265446518321988,-0.3040595612451563,-1.4352207544271658,-0.900233739695578,0.2162329410392335,-0.8477553578869945,0.2199210890787251,0.029451150741701033,-2.1232035122256065,-0.7462854444893672,-0.06063410968953736,1.6985610322895328,-0.43729148945683866,0.05692436109507748,-1.8601493453303881,-0.0821997875255117,0.9154310436792841,-0.04630079631360709,1.4957572236847312,0.35774376913988176,1.3566638106896118,-0.3371424200641299,-0.609928733221454,0.2731175633992837,0.42852321505384566,-1.6866996078440353,-0.12465581181358817,0.5086419424337107,-1.227366268616366,0.23516570538076914,0.2603848247467958,-0.23941587472391318,0.03551607940517475,0.609387497857241,1.1003249486167004,-0.7362914284027954,0.059538871798452984,0.3888650743485843,-0.24389289870559744,1.13397444768638,0.8546797398974391,0.4201180657802193,-0.940622379712996,0.16391072978601387,-0.5110314596332228,-0.9884283249768397,-0.6081389626173525,-1.1340186063111575,0.35115508702523274,-0.6588447416539652,-1.342505089624679,-0.3869472070011788,-0.32639287152988083,-0.6499099996505723,-0.27366491962982475,-0.13612146575669448,0.8809269012902251,-1.1912491505326692,-0.24890064399062667,-0.2971728436040609,0.11836273075569706,-1.057972900788718,0.5146961907508886,0.20038098168860446,-0.5891722371838476,0.23244888139948644,0.21750620069341245,-0.5795740883100473,0.09018573850734177,0.853853240509046,1.9983666464685519,-1.8954822060989658,1.754852594725883,0.19084986352255978,-0.3845387497075328,-1.3009328500240576,0.2221088951254746,0.5984788054752173,0.14639374465444555,1.8882970920972084,-2.008401893338328,0.1386097248602371,0.7463479297934115,-0.8215597933432001,-1.1664854245190575,-0.3031386235822503,-0.36055129288817067,-0.40820099716418895,-0.5763988054209849,-0.683343180022325,-1.3024687462502815,-0.746834906444901,1.4597363890696786,0.6946900721683419,0.8739381406764574,0.6819793726595158,0.5083759650529504,1.344830395710999],\"yaxis\":\"y10\",\"type\":\"scatter\"},{\"histfunc\":\"count\",\"histnorm\":\"\",\"marker\":{\"color\":\"rgba(50, 171, 96, 1.0)\",\"line\":{\"color\":\"#4D5663\",\"width\":1.3}},\"name\":\"C\",\"nbinsx\":10,\"opacity\":0.8,\"orientation\":\"v\",\"x\":[-1.3456606846294052,0.5895284155409911,-2.265446518321988,-0.3040595612451563,-1.4352207544271658,-0.900233739695578,0.2162329410392335,-0.8477553578869945,0.2199210890787251,0.029451150741701033,-2.1232035122256065,-0.7462854444893672,-0.06063410968953736,1.6985610322895328,-0.43729148945683866,0.05692436109507748,-1.8601493453303881,-0.0821997875255117,0.9154310436792841,-0.04630079631360709,1.4957572236847312,0.35774376913988176,1.3566638106896118,-0.3371424200641299,-0.609928733221454,0.2731175633992837,0.42852321505384566,-1.6866996078440353,-0.12465581181358817,0.5086419424337107,-1.227366268616366,0.23516570538076914,0.2603848247467958,-0.23941587472391318,0.03551607940517475,0.609387497857241,1.1003249486167004,-0.7362914284027954,0.059538871798452984,0.3888650743485843,-0.24389289870559744,1.13397444768638,0.8546797398974391,0.4201180657802193,-0.940622379712996,0.16391072978601387,-0.5110314596332228,-0.9884283249768397,-0.6081389626173525,-1.1340186063111575,0.35115508702523274,-0.6588447416539652,-1.342505089624679,-0.3869472070011788,-0.32639287152988083,-0.6499099996505723,-0.27366491962982475,-0.13612146575669448,0.8809269012902251,-1.1912491505326692,-0.24890064399062667,-0.2971728436040609,0.11836273075569706,-1.057972900788718,0.5146961907508886,0.20038098168860446,-0.5891722371838476,0.23244888139948644,0.21750620069341245,-0.5795740883100473,0.09018573850734177,0.853853240509046,1.9983666464685519,-1.8954822060989658,1.754852594725883,0.19084986352255978,-0.3845387497075328,-1.3009328500240576,0.2221088951254746,0.5984788054752173,0.14639374465444555,1.8882970920972084,-2.008401893338328,0.1386097248602371,0.7463479297934115,-0.8215597933432001,-1.1664854245190575,-0.3031386235822503,-0.36055129288817067,-0.40820099716418895,-0.5763988054209849,-0.683343180022325,-1.3024687462502815,-0.746834906444901,1.4597363890696786,0.6946900721683419,0.8739381406764574,0.6819793726595158,0.5083759650529504,1.344830395710999],\"xaxis\":\"x11\",\"yaxis\":\"y11\",\"type\":\"histogram\"},{\"line\":{\"color\":\"rgba(128, 128, 128, 1.0)\",\"dash\":\"solid\",\"shape\":\"linear\",\"width\":1.3},\"marker\":{\"size\":2,\"symbol\":\"circle\"},\"mode\":\"markers\",\"name\":\"C\",\"text\":\"\",\"x\":[0.5018574017192605,1.0782535393916226,0.568796709596952,0.2036950006341363,0.7849892146214591,0.48000959289378786,0.35986046736783805,-1.7852691538744756,-0.2996915848722144,1.1564475612125333,0.051074214076615394,0.7764321290143538,-1.1175759248652855,-0.24728856214895104,1.3263796290507757,-0.4285467267650269,1.2759321118878388,0.8037925173987338,0.7819492351647368,1.0758735654743308,0.7210606328024203,1.2186361220101716,2.1935562180463783,-0.49896896310831407,0.4013548560430032,0.31810165737317614,-0.27796953078475395,-1.8636293228563015,0.4454398176844966,1.195401658277943,-0.6855060852970423,0.47980609849661626,-1.5479540549228206,-1.4552426939733916,1.4267657816278758,-0.7138382584873416,0.018015418224353635,0.42110384749845214,1.4602094381806838,0.07530742660165404,-0.08961578610340556,-1.1639856851403072,-0.02043964563297272,-1.3641386341120363,-0.5835699836049469,-0.9351175483694667,-0.29919151126586724,0.7624712006312411,0.7795623114147803,1.721763603194762,-1.2383947221719818,-0.6427103737886317,0.75396647684985,-0.6493305403245406,-0.7078129681664773,-0.3494909468608757,1.4332248236304639,0.6142940980344876,1.8070893325778903,0.3719354406321682,0.8209978346959457,1.1666299159634204,1.455625270563245,-1.140093644273744,-1.0953246514602062,-0.6321257689543668,-0.4867141786339963,0.1963880824590929,-0.4395719045967569,0.2917038736535683,-0.4584554130364333,1.3629703496255239,-0.2894619174101874,-0.27767288153057923,0.5367489163509358,1.3273492637955242,1.0088329659389959,0.19882769884916407,-0.028662307732223887,0.40582195716123337,2.4817132056762805,-1.1251494514493936,-1.3785355854205101,0.5578289475062926,1.0691795038626253,-0.1256942625051536,0.6934436037097989,0.2637781887356134,-0.17709883287935585,-1.2182972741350941,0.19909941833152142,0.8349788934312267,-2.4793737612709754,-0.5213544012324818,0.5484162102334881,-0.784792661670148,-0.9136347038700877,0.8300695566817942,1.407054346021127,-1.141741760605707],\"xaxis\":\"x12\",\"y\":[-1.3456606846294052,0.5895284155409911,-2.265446518321988,-0.3040595612451563,-1.4352207544271658,-0.900233739695578,0.2162329410392335,-0.8477553578869945,0.2199210890787251,0.029451150741701033,-2.1232035122256065,-0.7462854444893672,-0.06063410968953736,1.6985610322895328,-0.43729148945683866,0.05692436109507748,-1.8601493453303881,-0.0821997875255117,0.9154310436792841,-0.04630079631360709,1.4957572236847312,0.35774376913988176,1.3566638106896118,-0.3371424200641299,-0.609928733221454,0.2731175633992837,0.42852321505384566,-1.6866996078440353,-0.12465581181358817,0.5086419424337107,-1.227366268616366,0.23516570538076914,0.2603848247467958,-0.23941587472391318,0.03551607940517475,0.609387497857241,1.1003249486167004,-0.7362914284027954,0.059538871798452984,0.3888650743485843,-0.24389289870559744,1.13397444768638,0.8546797398974391,0.4201180657802193,-0.940622379712996,0.16391072978601387,-0.5110314596332228,-0.9884283249768397,-0.6081389626173525,-1.1340186063111575,0.35115508702523274,-0.6588447416539652,-1.342505089624679,-0.3869472070011788,-0.32639287152988083,-0.6499099996505723,-0.27366491962982475,-0.13612146575669448,0.8809269012902251,-1.1912491505326692,-0.24890064399062667,-0.2971728436040609,0.11836273075569706,-1.057972900788718,0.5146961907508886,0.20038098168860446,-0.5891722371838476,0.23244888139948644,0.21750620069341245,-0.5795740883100473,0.09018573850734177,0.853853240509046,1.9983666464685519,-1.8954822060989658,1.754852594725883,0.19084986352255978,-0.3845387497075328,-1.3009328500240576,0.2221088951254746,0.5984788054752173,0.14639374465444555,1.8882970920972084,-2.008401893338328,0.1386097248602371,0.7463479297934115,-0.8215597933432001,-1.1664854245190575,-0.3031386235822503,-0.36055129288817067,-0.40820099716418895,-0.5763988054209849,-0.683343180022325,-1.3024687462502815,-0.746834906444901,1.4597363890696786,0.6946900721683419,0.8739381406764574,0.6819793726595158,0.5083759650529504,1.344830395710999],\"yaxis\":\"y12\",\"type\":\"scatter\"},{\"line\":{\"color\":\"rgba(128, 128, 128, 1.0)\",\"dash\":\"solid\",\"shape\":\"linear\",\"width\":1.3},\"marker\":{\"size\":2,\"symbol\":\"circle\"},\"mode\":\"markers\",\"name\":\"D\",\"text\":\"\",\"x\":[0.29925552254576165,-1.011041779205554,-0.5186900863586638,-0.3828217817492648,-0.30927380397760446,0.6652818442678666,-0.22391389891936955,-0.24552960736839285,-1.9729621488923037,-0.1270387319252311,0.7747801811502151,0.09795908528664474,0.8929236677497698,0.20187969491046906,-0.8188495086655256,-0.12106198188240833,-0.6988584323192542,0.9050943018885463,0.49840793884265266,-0.9287052444313292,-0.4739277566927989,2.8207058994017054,-1.1300495739122436,1.7922738360878419,-0.3722204804935097,0.6196710190455824,0.42286628491220846,-0.08201217140566631,-0.822929168212544,2.2132431936258605,-0.07338177118678733,-0.7110858990763125,-0.2845400209239793,1.7102445886679856,-0.25360285658795656,1.373955494233924,0.1573245211525778,0.9179588000871358,1.4501656733343136,-0.3387058812164145,0.12752580527569551,0.09335592361703186,0.46755752620666796,-0.07728801968237105,-0.9010152681152521,-1.591414215809626,-1.539602646535873,-0.15053439886828743,-0.19059529732657582,0.28721444365992915,-0.42865126117404906,0.8253179141257997,-0.11172062284287053,0.6540991103515579,0.13745318590332364,1.7416753476030007,0.9540371329646546,0.5056558817518302,-0.90976828526663,0.9779440865005324,0.2226888697654056,-0.8123423017698557,0.8714764920706584,0.9597275072579795,1.3064080640044275,0.20089689763769625,0.6570047504187573,1.7712950311135016,0.758540342623224,-0.6999542696208285,-0.5296140031022785,-1.6278767145392647,0.52167480285576,-0.7262821978900574,0.43170230912564883,-1.9501271155499578,-0.15320748824202288,0.37342241042171925,0.02937078492454944,-0.7474020628442967,-0.8206850171791942,-0.9731997454172197,-0.8574662943143303,1.3631115358844874,-0.7325551730875081,0.32377382134675764,0.5837719300271894,-0.02981233759013717,0.07775300634035513,0.04632126687899852,0.8207828952495825,0.8663286865331438,-0.251598688319945,0.3853995691958181,0.8375831493796876,0.5066547754126097,0.8275361547809248,0.03135518353477385,0.4371432677710562,-1.0527954649016038],\"xaxis\":\"x13\",\"y\":[0.5018574017192605,1.0782535393916226,0.568796709596952,0.2036950006341363,0.7849892146214591,0.48000959289378786,0.35986046736783805,-1.7852691538744756,-0.2996915848722144,1.1564475612125333,0.051074214076615394,0.7764321290143538,-1.1175759248652855,-0.24728856214895104,1.3263796290507757,-0.4285467267650269,1.2759321118878388,0.8037925173987338,0.7819492351647368,1.0758735654743308,0.7210606328024203,1.2186361220101716,2.1935562180463783,-0.49896896310831407,0.4013548560430032,0.31810165737317614,-0.27796953078475395,-1.8636293228563015,0.4454398176844966,1.195401658277943,-0.6855060852970423,0.47980609849661626,-1.5479540549228206,-1.4552426939733916,1.4267657816278758,-0.7138382584873416,0.018015418224353635,0.42110384749845214,1.4602094381806838,0.07530742660165404,-0.08961578610340556,-1.1639856851403072,-0.02043964563297272,-1.3641386341120363,-0.5835699836049469,-0.9351175483694667,-0.29919151126586724,0.7624712006312411,0.7795623114147803,1.721763603194762,-1.2383947221719818,-0.6427103737886317,0.75396647684985,-0.6493305403245406,-0.7078129681664773,-0.3494909468608757,1.4332248236304639,0.6142940980344876,1.8070893325778903,0.3719354406321682,0.8209978346959457,1.1666299159634204,1.455625270563245,-1.140093644273744,-1.0953246514602062,-0.6321257689543668,-0.4867141786339963,0.1963880824590929,-0.4395719045967569,0.2917038736535683,-0.4584554130364333,1.3629703496255239,-0.2894619174101874,-0.27767288153057923,0.5367489163509358,1.3273492637955242,1.0088329659389959,0.19882769884916407,-0.028662307732223887,0.40582195716123337,2.4817132056762805,-1.1251494514493936,-1.3785355854205101,0.5578289475062926,1.0691795038626253,-0.1256942625051536,0.6934436037097989,0.2637781887356134,-0.17709883287935585,-1.2182972741350941,0.19909941833152142,0.8349788934312267,-2.4793737612709754,-0.5213544012324818,0.5484162102334881,-0.784792661670148,-0.9136347038700877,0.8300695566817942,1.407054346021127,-1.141741760605707],\"yaxis\":\"y13\",\"type\":\"scatter\"},{\"line\":{\"color\":\"rgba(128, 128, 128, 1.0)\",\"dash\":\"solid\",\"shape\":\"linear\",\"width\":1.3},\"marker\":{\"size\":2,\"symbol\":\"circle\"},\"mode\":\"markers\",\"name\":\"D\",\"text\":\"\",\"x\":[-1.713173337968297,0.16463881583930215,-0.34641472283923375,-0.7595751733051315,1.8457908877737206,-0.21433429456110126,0.5124726487289849,1.437139990683677,0.6547777163218743,-0.013712678511071783,1.195708708470215,-0.19338978575811494,1.0102460462298848,-0.21334392761340226,0.19559412341150936,-0.8752839354002775,0.4096257270108291,-0.22866927545330804,-0.6069472783316819,0.12373879396409523,-1.2276604990058457,0.6010948363729458,0.4486512408929953,-0.49226693659304877,1.1159469633589956,-0.2133286556842512,-0.14082002882471792,1.0232543671980927,1.0487421873111291,-2.4058895957897612,-0.6263467808267238,-0.0535980194419228,-0.9697997059269032,-0.15393169598037867,-1.337531465339447,-1.8931093783678372,0.6531828644393675,0.1389289985343312,-1.2541133575089387,0.4075596248250558,0.28298950142601137,1.0159265252281,-0.5224631731621188,-0.732919324083606,0.953776621920564,-0.13175696682988694,0.4423720801760704,-2.0600703856891096,-0.2634038014696138,1.7969489763358557,-1.9328347947417628,0.12617300283094043,-0.06565066349539632,-0.255661121065549,-0.6753136577711945,-0.07234099887043406,0.7673623555981366,0.4959852463397566,-0.18199980527914109,0.389248533735029,-0.7478685197683522,0.012026132107050867,-1.8575220704136997,1.3694473521161734,-1.3884475997112322,0.01901705187140966,-1.0233698840410335,-0.7350923368030766,-0.18320340477385902,-0.3313476869735953,0.9446094346728854,0.13984453539392488,0.17647290803347712,-1.0722859198372872,-1.711183803392291,0.23813046063428772,0.18938486313991962,-1.0485551278432355,-0.4328810726807365,-0.7535732326589286,0.7408847778271608,-1.089504315225977,0.8192744630098808,-0.2562666205721067,0.007890140272847193,0.6257507665227129,-0.5629911840117975,-0.03906926625490238,0.148686082542415,0.2810631813885742,1.9243785137765812,0.17187484975152728,1.0688283176452438,-0.3163367926495648,1.9130406772984856,0.8787427413449688,-1.2205222953409034,-1.200783415119851,0.18552969644269862,-0.2549852401407603],\"xaxis\":\"x14\",\"y\":[0.5018574017192605,1.0782535393916226,0.568796709596952,0.2036950006341363,0.7849892146214591,0.48000959289378786,0.35986046736783805,-1.7852691538744756,-0.2996915848722144,1.1564475612125333,0.051074214076615394,0.7764321290143538,-1.1175759248652855,-0.24728856214895104,1.3263796290507757,-0.4285467267650269,1.2759321118878388,0.8037925173987338,0.7819492351647368,1.0758735654743308,0.7210606328024203,1.2186361220101716,2.1935562180463783,-0.49896896310831407,0.4013548560430032,0.31810165737317614,-0.27796953078475395,-1.8636293228563015,0.4454398176844966,1.195401658277943,-0.6855060852970423,0.47980609849661626,-1.5479540549228206,-1.4552426939733916,1.4267657816278758,-0.7138382584873416,0.018015418224353635,0.42110384749845214,1.4602094381806838,0.07530742660165404,-0.08961578610340556,-1.1639856851403072,-0.02043964563297272,-1.3641386341120363,-0.5835699836049469,-0.9351175483694667,-0.29919151126586724,0.7624712006312411,0.7795623114147803,1.721763603194762,-1.2383947221719818,-0.6427103737886317,0.75396647684985,-0.6493305403245406,-0.7078129681664773,-0.3494909468608757,1.4332248236304639,0.6142940980344876,1.8070893325778903,0.3719354406321682,0.8209978346959457,1.1666299159634204,1.455625270563245,-1.140093644273744,-1.0953246514602062,-0.6321257689543668,-0.4867141786339963,0.1963880824590929,-0.4395719045967569,0.2917038736535683,-0.4584554130364333,1.3629703496255239,-0.2894619174101874,-0.27767288153057923,0.5367489163509358,1.3273492637955242,1.0088329659389959,0.19882769884916407,-0.028662307732223887,0.40582195716123337,2.4817132056762805,-1.1251494514493936,-1.3785355854205101,0.5578289475062926,1.0691795038626253,-0.1256942625051536,0.6934436037097989,0.2637781887356134,-0.17709883287935585,-1.2182972741350941,0.19909941833152142,0.8349788934312267,-2.4793737612709754,-0.5213544012324818,0.5484162102334881,-0.784792661670148,-0.9136347038700877,0.8300695566817942,1.407054346021127,-1.141741760605707],\"yaxis\":\"y14\",\"type\":\"scatter\"},{\"line\":{\"color\":\"rgba(128, 128, 128, 1.0)\",\"dash\":\"solid\",\"shape\":\"linear\",\"width\":1.3},\"marker\":{\"size\":2,\"symbol\":\"circle\"},\"mode\":\"markers\",\"name\":\"D\",\"text\":\"\",\"x\":[-1.3456606846294052,0.5895284155409911,-2.265446518321988,-0.3040595612451563,-1.4352207544271658,-0.900233739695578,0.2162329410392335,-0.8477553578869945,0.2199210890787251,0.029451150741701033,-2.1232035122256065,-0.7462854444893672,-0.06063410968953736,1.6985610322895328,-0.43729148945683866,0.05692436109507748,-1.8601493453303881,-0.0821997875255117,0.9154310436792841,-0.04630079631360709,1.4957572236847312,0.35774376913988176,1.3566638106896118,-0.3371424200641299,-0.609928733221454,0.2731175633992837,0.42852321505384566,-1.6866996078440353,-0.12465581181358817,0.5086419424337107,-1.227366268616366,0.23516570538076914,0.2603848247467958,-0.23941587472391318,0.03551607940517475,0.609387497857241,1.1003249486167004,-0.7362914284027954,0.059538871798452984,0.3888650743485843,-0.24389289870559744,1.13397444768638,0.8546797398974391,0.4201180657802193,-0.940622379712996,0.16391072978601387,-0.5110314596332228,-0.9884283249768397,-0.6081389626173525,-1.1340186063111575,0.35115508702523274,-0.6588447416539652,-1.342505089624679,-0.3869472070011788,-0.32639287152988083,-0.6499099996505723,-0.27366491962982475,-0.13612146575669448,0.8809269012902251,-1.1912491505326692,-0.24890064399062667,-0.2971728436040609,0.11836273075569706,-1.057972900788718,0.5146961907508886,0.20038098168860446,-0.5891722371838476,0.23244888139948644,0.21750620069341245,-0.5795740883100473,0.09018573850734177,0.853853240509046,1.9983666464685519,-1.8954822060989658,1.754852594725883,0.19084986352255978,-0.3845387497075328,-1.3009328500240576,0.2221088951254746,0.5984788054752173,0.14639374465444555,1.8882970920972084,-2.008401893338328,0.1386097248602371,0.7463479297934115,-0.8215597933432001,-1.1664854245190575,-0.3031386235822503,-0.36055129288817067,-0.40820099716418895,-0.5763988054209849,-0.683343180022325,-1.3024687462502815,-0.746834906444901,1.4597363890696786,0.6946900721683419,0.8739381406764574,0.6819793726595158,0.5083759650529504,1.344830395710999],\"xaxis\":\"x15\",\"y\":[0.5018574017192605,1.0782535393916226,0.568796709596952,0.2036950006341363,0.7849892146214591,0.48000959289378786,0.35986046736783805,-1.7852691538744756,-0.2996915848722144,1.1564475612125333,0.051074214076615394,0.7764321290143538,-1.1175759248652855,-0.24728856214895104,1.3263796290507757,-0.4285467267650269,1.2759321118878388,0.8037925173987338,0.7819492351647368,1.0758735654743308,0.7210606328024203,1.2186361220101716,2.1935562180463783,-0.49896896310831407,0.4013548560430032,0.31810165737317614,-0.27796953078475395,-1.8636293228563015,0.4454398176844966,1.195401658277943,-0.6855060852970423,0.47980609849661626,-1.5479540549228206,-1.4552426939733916,1.4267657816278758,-0.7138382584873416,0.018015418224353635,0.42110384749845214,1.4602094381806838,0.07530742660165404,-0.08961578610340556,-1.1639856851403072,-0.02043964563297272,-1.3641386341120363,-0.5835699836049469,-0.9351175483694667,-0.29919151126586724,0.7624712006312411,0.7795623114147803,1.721763603194762,-1.2383947221719818,-0.6427103737886317,0.75396647684985,-0.6493305403245406,-0.7078129681664773,-0.3494909468608757,1.4332248236304639,0.6142940980344876,1.8070893325778903,0.3719354406321682,0.8209978346959457,1.1666299159634204,1.455625270563245,-1.140093644273744,-1.0953246514602062,-0.6321257689543668,-0.4867141786339963,0.1963880824590929,-0.4395719045967569,0.2917038736535683,-0.4584554130364333,1.3629703496255239,-0.2894619174101874,-0.27767288153057923,0.5367489163509358,1.3273492637955242,1.0088329659389959,0.19882769884916407,-0.028662307732223887,0.40582195716123337,2.4817132056762805,-1.1251494514493936,-1.3785355854205101,0.5578289475062926,1.0691795038626253,-0.1256942625051536,0.6934436037097989,0.2637781887356134,-0.17709883287935585,-1.2182972741350941,0.19909941833152142,0.8349788934312267,-2.4793737612709754,-0.5213544012324818,0.5484162102334881,-0.784792661670148,-0.9136347038700877,0.8300695566817942,1.407054346021127,-1.141741760605707],\"yaxis\":\"y15\",\"type\":\"scatter\"},{\"histfunc\":\"count\",\"histnorm\":\"\",\"marker\":{\"color\":\"rgba(128, 0, 128, 1.0)\",\"line\":{\"color\":\"#4D5663\",\"width\":1.3}},\"name\":\"D\",\"nbinsx\":10,\"opacity\":0.8,\"orientation\":\"v\",\"x\":[0.5018574017192605,1.0782535393916226,0.568796709596952,0.2036950006341363,0.7849892146214591,0.48000959289378786,0.35986046736783805,-1.7852691538744756,-0.2996915848722144,1.1564475612125333,0.051074214076615394,0.7764321290143538,-1.1175759248652855,-0.24728856214895104,1.3263796290507757,-0.4285467267650269,1.2759321118878388,0.8037925173987338,0.7819492351647368,1.0758735654743308,0.7210606328024203,1.2186361220101716,2.1935562180463783,-0.49896896310831407,0.4013548560430032,0.31810165737317614,-0.27796953078475395,-1.8636293228563015,0.4454398176844966,1.195401658277943,-0.6855060852970423,0.47980609849661626,-1.5479540549228206,-1.4552426939733916,1.4267657816278758,-0.7138382584873416,0.018015418224353635,0.42110384749845214,1.4602094381806838,0.07530742660165404,-0.08961578610340556,-1.1639856851403072,-0.02043964563297272,-1.3641386341120363,-0.5835699836049469,-0.9351175483694667,-0.29919151126586724,0.7624712006312411,0.7795623114147803,1.721763603194762,-1.2383947221719818,-0.6427103737886317,0.75396647684985,-0.6493305403245406,-0.7078129681664773,-0.3494909468608757,1.4332248236304639,0.6142940980344876,1.8070893325778903,0.3719354406321682,0.8209978346959457,1.1666299159634204,1.455625270563245,-1.140093644273744,-1.0953246514602062,-0.6321257689543668,-0.4867141786339963,0.1963880824590929,-0.4395719045967569,0.2917038736535683,-0.4584554130364333,1.3629703496255239,-0.2894619174101874,-0.27767288153057923,0.5367489163509358,1.3273492637955242,1.0088329659389959,0.19882769884916407,-0.028662307732223887,0.40582195716123337,2.4817132056762805,-1.1251494514493936,-1.3785355854205101,0.5578289475062926,1.0691795038626253,-0.1256942625051536,0.6934436037097989,0.2637781887356134,-0.17709883287935585,-1.2182972741350941,0.19909941833152142,0.8349788934312267,-2.4793737612709754,-0.5213544012324818,0.5484162102334881,-0.784792661670148,-0.9136347038700877,0.8300695566817942,1.407054346021127,-1.141741760605707],\"xaxis\":\"x16\",\"yaxis\":\"y16\",\"type\":\"histogram\"}],                        {\"bargap\":0.02,\"legend\":{\"bgcolor\":\"#F5F6F9\",\"font\":{\"color\":\"#4D5663\"}},\"paper_bgcolor\":\"#F5F6F9\",\"plot_bgcolor\":\"#F5F6F9\",\"showlegend\":false,\"template\":{\"data\":{\"barpolar\":[{\"marker\":{\"line\":{\"color\":\"#E5ECF6\",\"width\":0.5},\"pattern\":{\"fillmode\":\"overlay\",\"size\":10,\"solidity\":0.2}},\"type\":\"barpolar\"}],\"bar\":[{\"error_x\":{\"color\":\"#2a3f5f\"},\"error_y\":{\"color\":\"#2a3f5f\"},\"marker\":{\"line\":{\"color\":\"#E5ECF6\",\"width\":0.5},\"pattern\":{\"fillmode\":\"overlay\",\"size\":10,\"solidity\":0.2}},\"type\":\"bar\"}],\"carpet\":[{\"aaxis\":{\"endlinecolor\":\"#2a3f5f\",\"gridcolor\":\"white\",\"linecolor\":\"white\",\"minorgridcolor\":\"white\",\"startlinecolor\":\"#2a3f5f\"},\"baxis\":{\"endlinecolor\":\"#2a3f5f\",\"gridcolor\":\"white\",\"linecolor\":\"white\",\"minorgridcolor\":\"white\",\"startlinecolor\":\"#2a3f5f\"},\"type\":\"carpet\"}],\"choropleth\":[{\"colorbar\":{\"outlinewidth\":0,\"ticks\":\"\"},\"type\":\"choropleth\"}],\"contourcarpet\":[{\"colorbar\":{\"outlinewidth\":0,\"ticks\":\"\"},\"type\":\"contourcarpet\"}],\"contour\":[{\"colorbar\":{\"outlinewidth\":0,\"ticks\":\"\"},\"colorscale\":[[0.0,\"#0d0887\"],[0.1111111111111111,\"#46039f\"],[0.2222222222222222,\"#7201a8\"],[0.3333333333333333,\"#9c179e\"],[0.4444444444444444,\"#bd3786\"],[0.5555555555555556,\"#d8576b\"],[0.6666666666666666,\"#ed7953\"],[0.7777777777777778,\"#fb9f3a\"],[0.8888888888888888,\"#fdca26\"],[1.0,\"#f0f921\"]],\"type\":\"contour\"}],\"heatmapgl\":[{\"colorbar\":{\"outlinewidth\":0,\"ticks\":\"\"},\"colorscale\":[[0.0,\"#0d0887\"],[0.1111111111111111,\"#46039f\"],[0.2222222222222222,\"#7201a8\"],[0.3333333333333333,\"#9c179e\"],[0.4444444444444444,\"#bd3786\"],[0.5555555555555556,\"#d8576b\"],[0.6666666666666666,\"#ed7953\"],[0.7777777777777778,\"#fb9f3a\"],[0.8888888888888888,\"#fdca26\"],[1.0,\"#f0f921\"]],\"type\":\"heatmapgl\"}],\"heatmap\":[{\"colorbar\":{\"outlinewidth\":0,\"ticks\":\"\"},\"colorscale\":[[0.0,\"#0d0887\"],[0.1111111111111111,\"#46039f\"],[0.2222222222222222,\"#7201a8\"],[0.3333333333333333,\"#9c179e\"],[0.4444444444444444,\"#bd3786\"],[0.5555555555555556,\"#d8576b\"],[0.6666666666666666,\"#ed7953\"],[0.7777777777777778,\"#fb9f3a\"],[0.8888888888888888,\"#fdca26\"],[1.0,\"#f0f921\"]],\"type\":\"heatmap\"}],\"histogram2dcontour\":[{\"colorbar\":{\"outlinewidth\":0,\"ticks\":\"\"},\"colorscale\":[[0.0,\"#0d0887\"],[0.1111111111111111,\"#46039f\"],[0.2222222222222222,\"#7201a8\"],[0.3333333333333333,\"#9c179e\"],[0.4444444444444444,\"#bd3786\"],[0.5555555555555556,\"#d8576b\"],[0.6666666666666666,\"#ed7953\"],[0.7777777777777778,\"#fb9f3a\"],[0.8888888888888888,\"#fdca26\"],[1.0,\"#f0f921\"]],\"type\":\"histogram2dcontour\"}],\"histogram2d\":[{\"colorbar\":{\"outlinewidth\":0,\"ticks\":\"\"},\"colorscale\":[[0.0,\"#0d0887\"],[0.1111111111111111,\"#46039f\"],[0.2222222222222222,\"#7201a8\"],[0.3333333333333333,\"#9c179e\"],[0.4444444444444444,\"#bd3786\"],[0.5555555555555556,\"#d8576b\"],[0.6666666666666666,\"#ed7953\"],[0.7777777777777778,\"#fb9f3a\"],[0.8888888888888888,\"#fdca26\"],[1.0,\"#f0f921\"]],\"type\":\"histogram2d\"}],\"histogram\":[{\"marker\":{\"pattern\":{\"fillmode\":\"overlay\",\"size\":10,\"solidity\":0.2}},\"type\":\"histogram\"}],\"mesh3d\":[{\"colorbar\":{\"outlinewidth\":0,\"ticks\":\"\"},\"type\":\"mesh3d\"}],\"parcoords\":[{\"line\":{\"colorbar\":{\"outlinewidth\":0,\"ticks\":\"\"}},\"type\":\"parcoords\"}],\"pie\":[{\"automargin\":true,\"type\":\"pie\"}],\"scatter3d\":[{\"line\":{\"colorbar\":{\"outlinewidth\":0,\"ticks\":\"\"}},\"marker\":{\"colorbar\":{\"outlinewidth\":0,\"ticks\":\"\"}},\"type\":\"scatter3d\"}],\"scattercarpet\":[{\"marker\":{\"colorbar\":{\"outlinewidth\":0,\"ticks\":\"\"}},\"type\":\"scattercarpet\"}],\"scattergeo\":[{\"marker\":{\"colorbar\":{\"outlinewidth\":0,\"ticks\":\"\"}},\"type\":\"scattergeo\"}],\"scattergl\":[{\"marker\":{\"colorbar\":{\"outlinewidth\":0,\"ticks\":\"\"}},\"type\":\"scattergl\"}],\"scattermapbox\":[{\"marker\":{\"colorbar\":{\"outlinewidth\":0,\"ticks\":\"\"}},\"type\":\"scattermapbox\"}],\"scatterpolargl\":[{\"marker\":{\"colorbar\":{\"outlinewidth\":0,\"ticks\":\"\"}},\"type\":\"scatterpolargl\"}],\"scatterpolar\":[{\"marker\":{\"colorbar\":{\"outlinewidth\":0,\"ticks\":\"\"}},\"type\":\"scatterpolar\"}],\"scatter\":[{\"fillpattern\":{\"fillmode\":\"overlay\",\"size\":10,\"solidity\":0.2},\"type\":\"scatter\"}],\"scatterternary\":[{\"marker\":{\"colorbar\":{\"outlinewidth\":0,\"ticks\":\"\"}},\"type\":\"scatterternary\"}],\"surface\":[{\"colorbar\":{\"outlinewidth\":0,\"ticks\":\"\"},\"colorscale\":[[0.0,\"#0d0887\"],[0.1111111111111111,\"#46039f\"],[0.2222222222222222,\"#7201a8\"],[0.3333333333333333,\"#9c179e\"],[0.4444444444444444,\"#bd3786\"],[0.5555555555555556,\"#d8576b\"],[0.6666666666666666,\"#ed7953\"],[0.7777777777777778,\"#fb9f3a\"],[0.8888888888888888,\"#fdca26\"],[1.0,\"#f0f921\"]],\"type\":\"surface\"}],\"table\":[{\"cells\":{\"fill\":{\"color\":\"#EBF0F8\"},\"line\":{\"color\":\"white\"}},\"header\":{\"fill\":{\"color\":\"#C8D4E3\"},\"line\":{\"color\":\"white\"}},\"type\":\"table\"}]},\"layout\":{\"annotationdefaults\":{\"arrowcolor\":\"#2a3f5f\",\"arrowhead\":0,\"arrowwidth\":1},\"autotypenumbers\":\"strict\",\"coloraxis\":{\"colorbar\":{\"outlinewidth\":0,\"ticks\":\"\"}},\"colorscale\":{\"diverging\":[[0,\"#8e0152\"],[0.1,\"#c51b7d\"],[0.2,\"#de77ae\"],[0.3,\"#f1b6da\"],[0.4,\"#fde0ef\"],[0.5,\"#f7f7f7\"],[0.6,\"#e6f5d0\"],[0.7,\"#b8e186\"],[0.8,\"#7fbc41\"],[0.9,\"#4d9221\"],[1,\"#276419\"]],\"sequential\":[[0.0,\"#0d0887\"],[0.1111111111111111,\"#46039f\"],[0.2222222222222222,\"#7201a8\"],[0.3333333333333333,\"#9c179e\"],[0.4444444444444444,\"#bd3786\"],[0.5555555555555556,\"#d8576b\"],[0.6666666666666666,\"#ed7953\"],[0.7777777777777778,\"#fb9f3a\"],[0.8888888888888888,\"#fdca26\"],[1.0,\"#f0f921\"]],\"sequentialminus\":[[0.0,\"#0d0887\"],[0.1111111111111111,\"#46039f\"],[0.2222222222222222,\"#7201a8\"],[0.3333333333333333,\"#9c179e\"],[0.4444444444444444,\"#bd3786\"],[0.5555555555555556,\"#d8576b\"],[0.6666666666666666,\"#ed7953\"],[0.7777777777777778,\"#fb9f3a\"],[0.8888888888888888,\"#fdca26\"],[1.0,\"#f0f921\"]]},\"colorway\":[\"#636efa\",\"#EF553B\",\"#00cc96\",\"#ab63fa\",\"#FFA15A\",\"#19d3f3\",\"#FF6692\",\"#B6E880\",\"#FF97FF\",\"#FECB52\"],\"font\":{\"color\":\"#2a3f5f\"},\"geo\":{\"bgcolor\":\"white\",\"lakecolor\":\"white\",\"landcolor\":\"#E5ECF6\",\"showlakes\":true,\"showland\":true,\"subunitcolor\":\"white\"},\"hoverlabel\":{\"align\":\"left\"},\"hovermode\":\"closest\",\"mapbox\":{\"style\":\"light\"},\"paper_bgcolor\":\"white\",\"plot_bgcolor\":\"#E5ECF6\",\"polar\":{\"angularaxis\":{\"gridcolor\":\"white\",\"linecolor\":\"white\",\"ticks\":\"\"},\"bgcolor\":\"#E5ECF6\",\"radialaxis\":{\"gridcolor\":\"white\",\"linecolor\":\"white\",\"ticks\":\"\"}},\"scene\":{\"xaxis\":{\"backgroundcolor\":\"#E5ECF6\",\"gridcolor\":\"white\",\"gridwidth\":2,\"linecolor\":\"white\",\"showbackground\":true,\"ticks\":\"\",\"zerolinecolor\":\"white\"},\"yaxis\":{\"backgroundcolor\":\"#E5ECF6\",\"gridcolor\":\"white\",\"gridwidth\":2,\"linecolor\":\"white\",\"showbackground\":true,\"ticks\":\"\",\"zerolinecolor\":\"white\"},\"zaxis\":{\"backgroundcolor\":\"#E5ECF6\",\"gridcolor\":\"white\",\"gridwidth\":2,\"linecolor\":\"white\",\"showbackground\":true,\"ticks\":\"\",\"zerolinecolor\":\"white\"}},\"shapedefaults\":{\"line\":{\"color\":\"#2a3f5f\"}},\"ternary\":{\"aaxis\":{\"gridcolor\":\"white\",\"linecolor\":\"white\",\"ticks\":\"\"},\"baxis\":{\"gridcolor\":\"white\",\"linecolor\":\"white\",\"ticks\":\"\"},\"bgcolor\":\"#E5ECF6\",\"caxis\":{\"gridcolor\":\"white\",\"linecolor\":\"white\",\"ticks\":\"\"}},\"title\":{\"x\":0.05},\"xaxis\":{\"automargin\":true,\"gridcolor\":\"white\",\"linecolor\":\"white\",\"ticks\":\"\",\"title\":{\"standoff\":15},\"zerolinecolor\":\"white\",\"zerolinewidth\":2},\"yaxis\":{\"automargin\":true,\"gridcolor\":\"white\",\"linecolor\":\"white\",\"ticks\":\"\",\"title\":{\"standoff\":15},\"zerolinecolor\":\"white\",\"zerolinewidth\":2}}},\"title\":{\"font\":{\"color\":\"#4D5663\"}},\"xaxis\":{\"anchor\":\"y\",\"domain\":[0.0,0.2125],\"gridcolor\":\"#E1E5ED\",\"showgrid\":false,\"tickfont\":{\"color\":\"#4D5663\"},\"title\":{\"font\":{\"color\":\"#4D5663\"},\"text\":\"\"},\"zerolinecolor\":\"#E1E5ED\"},\"yaxis\":{\"anchor\":\"x\",\"domain\":[0.8025,1.0],\"gridcolor\":\"#E1E5ED\",\"showgrid\":false,\"tickfont\":{\"color\":\"#4D5663\"},\"title\":{\"font\":{\"color\":\"#4D5663\"},\"text\":\"\"},\"zerolinecolor\":\"#E1E5ED\"},\"xaxis2\":{\"anchor\":\"y2\",\"domain\":[0.2625,0.475],\"gridcolor\":\"#E1E5ED\",\"showgrid\":false,\"tickfont\":{\"color\":\"#4D5663\"},\"title\":{\"font\":{\"color\":\"#4D5663\"},\"text\":\"\"},\"zerolinecolor\":\"#E1E5ED\"},\"yaxis2\":{\"anchor\":\"x2\",\"domain\":[0.8025,1.0],\"gridcolor\":\"#E1E5ED\",\"showgrid\":false,\"tickfont\":{\"color\":\"#4D5663\"},\"title\":{\"font\":{\"color\":\"#4D5663\"},\"text\":\"\"},\"zerolinecolor\":\"#E1E5ED\"},\"xaxis3\":{\"anchor\":\"y3\",\"domain\":[0.525,0.7375],\"gridcolor\":\"#E1E5ED\",\"showgrid\":false,\"tickfont\":{\"color\":\"#4D5663\"},\"title\":{\"font\":{\"color\":\"#4D5663\"},\"text\":\"\"},\"zerolinecolor\":\"#E1E5ED\"},\"yaxis3\":{\"anchor\":\"x3\",\"domain\":[0.8025,1.0],\"gridcolor\":\"#E1E5ED\",\"showgrid\":false,\"tickfont\":{\"color\":\"#4D5663\"},\"title\":{\"font\":{\"color\":\"#4D5663\"},\"text\":\"\"},\"zerolinecolor\":\"#E1E5ED\"},\"xaxis4\":{\"anchor\":\"y4\",\"domain\":[0.7875,1.0],\"gridcolor\":\"#E1E5ED\",\"showgrid\":false,\"tickfont\":{\"color\":\"#4D5663\"},\"title\":{\"font\":{\"color\":\"#4D5663\"},\"text\":\"\"},\"zerolinecolor\":\"#E1E5ED\"},\"yaxis4\":{\"anchor\":\"x4\",\"domain\":[0.8025,1.0],\"gridcolor\":\"#E1E5ED\",\"showgrid\":false,\"tickfont\":{\"color\":\"#4D5663\"},\"title\":{\"font\":{\"color\":\"#4D5663\"},\"text\":\"\"},\"zerolinecolor\":\"#E1E5ED\"},\"xaxis5\":{\"anchor\":\"y5\",\"domain\":[0.0,0.2125],\"gridcolor\":\"#E1E5ED\",\"showgrid\":false,\"tickfont\":{\"color\":\"#4D5663\"},\"title\":{\"font\":{\"color\":\"#4D5663\"},\"text\":\"\"},\"zerolinecolor\":\"#E1E5ED\"},\"yaxis5\":{\"anchor\":\"x5\",\"domain\":[0.535,0.7325],\"gridcolor\":\"#E1E5ED\",\"showgrid\":false,\"tickfont\":{\"color\":\"#4D5663\"},\"title\":{\"font\":{\"color\":\"#4D5663\"},\"text\":\"\"},\"zerolinecolor\":\"#E1E5ED\"},\"xaxis6\":{\"anchor\":\"y6\",\"domain\":[0.2625,0.475],\"gridcolor\":\"#E1E5ED\",\"showgrid\":false,\"tickfont\":{\"color\":\"#4D5663\"},\"title\":{\"font\":{\"color\":\"#4D5663\"},\"text\":\"\"},\"zerolinecolor\":\"#E1E5ED\"},\"yaxis6\":{\"anchor\":\"x6\",\"domain\":[0.535,0.7325],\"gridcolor\":\"#E1E5ED\",\"showgrid\":false,\"tickfont\":{\"color\":\"#4D5663\"},\"title\":{\"font\":{\"color\":\"#4D5663\"},\"text\":\"\"},\"zerolinecolor\":\"#E1E5ED\"},\"xaxis7\":{\"anchor\":\"y7\",\"domain\":[0.525,0.7375],\"gridcolor\":\"#E1E5ED\",\"showgrid\":false,\"tickfont\":{\"color\":\"#4D5663\"},\"title\":{\"font\":{\"color\":\"#4D5663\"},\"text\":\"\"},\"zerolinecolor\":\"#E1E5ED\"},\"yaxis7\":{\"anchor\":\"x7\",\"domain\":[0.535,0.7325],\"gridcolor\":\"#E1E5ED\",\"showgrid\":false,\"tickfont\":{\"color\":\"#4D5663\"},\"title\":{\"font\":{\"color\":\"#4D5663\"},\"text\":\"\"},\"zerolinecolor\":\"#E1E5ED\"},\"xaxis8\":{\"anchor\":\"y8\",\"domain\":[0.7875,1.0],\"gridcolor\":\"#E1E5ED\",\"showgrid\":false,\"tickfont\":{\"color\":\"#4D5663\"},\"title\":{\"font\":{\"color\":\"#4D5663\"},\"text\":\"\"},\"zerolinecolor\":\"#E1E5ED\"},\"yaxis8\":{\"anchor\":\"x8\",\"domain\":[0.535,0.7325],\"gridcolor\":\"#E1E5ED\",\"showgrid\":false,\"tickfont\":{\"color\":\"#4D5663\"},\"title\":{\"font\":{\"color\":\"#4D5663\"},\"text\":\"\"},\"zerolinecolor\":\"#E1E5ED\"},\"xaxis9\":{\"anchor\":\"y9\",\"domain\":[0.0,0.2125],\"gridcolor\":\"#E1E5ED\",\"showgrid\":false,\"tickfont\":{\"color\":\"#4D5663\"},\"title\":{\"font\":{\"color\":\"#4D5663\"},\"text\":\"\"},\"zerolinecolor\":\"#E1E5ED\"},\"yaxis9\":{\"anchor\":\"x9\",\"domain\":[0.2675,0.465],\"gridcolor\":\"#E1E5ED\",\"showgrid\":false,\"tickfont\":{\"color\":\"#4D5663\"},\"title\":{\"font\":{\"color\":\"#4D5663\"},\"text\":\"\"},\"zerolinecolor\":\"#E1E5ED\"},\"xaxis10\":{\"anchor\":\"y10\",\"domain\":[0.2625,0.475],\"gridcolor\":\"#E1E5ED\",\"showgrid\":false,\"tickfont\":{\"color\":\"#4D5663\"},\"title\":{\"font\":{\"color\":\"#4D5663\"},\"text\":\"\"},\"zerolinecolor\":\"#E1E5ED\"},\"yaxis10\":{\"anchor\":\"x10\",\"domain\":[0.2675,0.465],\"gridcolor\":\"#E1E5ED\",\"showgrid\":false,\"tickfont\":{\"color\":\"#4D5663\"},\"title\":{\"font\":{\"color\":\"#4D5663\"},\"text\":\"\"},\"zerolinecolor\":\"#E1E5ED\"},\"xaxis11\":{\"anchor\":\"y11\",\"domain\":[0.525,0.7375],\"gridcolor\":\"#E1E5ED\",\"showgrid\":false,\"tickfont\":{\"color\":\"#4D5663\"},\"title\":{\"font\":{\"color\":\"#4D5663\"},\"text\":\"\"},\"zerolinecolor\":\"#E1E5ED\"},\"yaxis11\":{\"anchor\":\"x11\",\"domain\":[0.2675,0.465],\"gridcolor\":\"#E1E5ED\",\"showgrid\":false,\"tickfont\":{\"color\":\"#4D5663\"},\"title\":{\"font\":{\"color\":\"#4D5663\"},\"text\":\"\"},\"zerolinecolor\":\"#E1E5ED\"},\"xaxis12\":{\"anchor\":\"y12\",\"domain\":[0.7875,1.0],\"gridcolor\":\"#E1E5ED\",\"showgrid\":false,\"tickfont\":{\"color\":\"#4D5663\"},\"title\":{\"font\":{\"color\":\"#4D5663\"},\"text\":\"\"},\"zerolinecolor\":\"#E1E5ED\"},\"yaxis12\":{\"anchor\":\"x12\",\"domain\":[0.2675,0.465],\"gridcolor\":\"#E1E5ED\",\"showgrid\":false,\"tickfont\":{\"color\":\"#4D5663\"},\"title\":{\"font\":{\"color\":\"#4D5663\"},\"text\":\"\"},\"zerolinecolor\":\"#E1E5ED\"},\"xaxis13\":{\"anchor\":\"y13\",\"domain\":[0.0,0.2125],\"gridcolor\":\"#E1E5ED\",\"showgrid\":false,\"tickfont\":{\"color\":\"#4D5663\"},\"title\":{\"font\":{\"color\":\"#4D5663\"},\"text\":\"\"},\"zerolinecolor\":\"#E1E5ED\"},\"yaxis13\":{\"anchor\":\"x13\",\"domain\":[0.0,0.1975],\"gridcolor\":\"#E1E5ED\",\"showgrid\":false,\"tickfont\":{\"color\":\"#4D5663\"},\"title\":{\"font\":{\"color\":\"#4D5663\"},\"text\":\"\"},\"zerolinecolor\":\"#E1E5ED\"},\"xaxis14\":{\"anchor\":\"y14\",\"domain\":[0.2625,0.475],\"gridcolor\":\"#E1E5ED\",\"showgrid\":false,\"tickfont\":{\"color\":\"#4D5663\"},\"title\":{\"font\":{\"color\":\"#4D5663\"},\"text\":\"\"},\"zerolinecolor\":\"#E1E5ED\"},\"yaxis14\":{\"anchor\":\"x14\",\"domain\":[0.0,0.1975],\"gridcolor\":\"#E1E5ED\",\"showgrid\":false,\"tickfont\":{\"color\":\"#4D5663\"},\"title\":{\"font\":{\"color\":\"#4D5663\"},\"text\":\"\"},\"zerolinecolor\":\"#E1E5ED\"},\"xaxis15\":{\"anchor\":\"y15\",\"domain\":[0.525,0.7375],\"gridcolor\":\"#E1E5ED\",\"showgrid\":false,\"tickfont\":{\"color\":\"#4D5663\"},\"title\":{\"font\":{\"color\":\"#4D5663\"},\"text\":\"\"},\"zerolinecolor\":\"#E1E5ED\"},\"yaxis15\":{\"anchor\":\"x15\",\"domain\":[0.0,0.1975],\"gridcolor\":\"#E1E5ED\",\"showgrid\":false,\"tickfont\":{\"color\":\"#4D5663\"},\"title\":{\"font\":{\"color\":\"#4D5663\"},\"text\":\"\"},\"zerolinecolor\":\"#E1E5ED\"},\"xaxis16\":{\"anchor\":\"y16\",\"domain\":[0.7875,1.0],\"gridcolor\":\"#E1E5ED\",\"showgrid\":false,\"tickfont\":{\"color\":\"#4D5663\"},\"title\":{\"font\":{\"color\":\"#4D5663\"},\"text\":\"\"},\"zerolinecolor\":\"#E1E5ED\"},\"yaxis16\":{\"anchor\":\"x16\",\"domain\":[0.0,0.1975],\"gridcolor\":\"#E1E5ED\",\"showgrid\":false,\"tickfont\":{\"color\":\"#4D5663\"},\"title\":{\"font\":{\"color\":\"#4D5663\"},\"text\":\"\"},\"zerolinecolor\":\"#E1E5ED\"}},                        {\"showLink\": true, \"linkText\": \"Export to plot.ly\", \"plotlyServerURL\": \"https://plot.ly\", \"responsive\": true}                    ).then(function(){\n",
       "                            \n",
       "var gd = document.getElementById('cd49f6bb-2263-45bb-8fdd-64b24cc4360a');\n",
       "var x = new MutationObserver(function (mutations, observer) {{\n",
       "        var display = window.getComputedStyle(gd).display;\n",
       "        if (!display || display === 'none') {{\n",
       "            console.log([gd, 'removed!']);\n",
       "            Plotly.purge(gd);\n",
       "            observer.disconnect();\n",
       "        }}\n",
       "}});\n",
       "\n",
       "// Listen for the removal of the full notebook cells\n",
       "var notebookContainer = gd.closest('#notebook-container');\n",
       "if (notebookContainer) {{\n",
       "    x.observe(notebookContainer, {childList: true});\n",
       "}}\n",
       "\n",
       "// Listen for the clearing of the current output cell\n",
       "var outputEl = gd.closest('.output');\n",
       "if (outputEl) {{\n",
       "    x.observe(outputEl, {childList: true});\n",
       "}}\n",
       "\n",
       "                        })                };                });            </script>        </div>"
      ]
     },
     "metadata": {},
     "output_type": "display_data"
    }
   ],
   "source": [
    "df.scatter_matrix()"
   ]
  },
  {
   "cell_type": "code",
   "execution_count": null,
   "id": "9f3664a7-1c6c-4b1e-b70b-3eb0544a9359",
   "metadata": {},
   "outputs": [],
   "source": []
  }
 ],
 "metadata": {
  "kernelspec": {
   "display_name": "Python [conda env:base] *",
   "language": "python",
   "name": "conda-base-py"
  },
  "language_info": {
   "codemirror_mode": {
    "name": "ipython",
    "version": 3
   },
   "file_extension": ".py",
   "mimetype": "text/x-python",
   "name": "python",
   "nbconvert_exporter": "python",
   "pygments_lexer": "ipython3",
   "version": "3.12.7"
  }
 },
 "nbformat": 4,
 "nbformat_minor": 5
}
